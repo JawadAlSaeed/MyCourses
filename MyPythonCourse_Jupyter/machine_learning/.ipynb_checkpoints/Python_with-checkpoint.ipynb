{
 "cells": [
  {
   "cell_type": "code",
   "execution_count": 3,
   "metadata": {},
   "outputs": [],
   "source": [
    "# resource are finite: file handles, sockets, locks, etc.\n",
    "# must be sure resources are not leaked.\n",
    "# with statement automatically manages resources using a context manager\n",
    "# with is easier than to aquire in try and release in finally\n",
    "\n",
    "class File(): # context manager\n",
    "  def __init__(self, filename, mode):\n",
    "    self.filename = filename\n",
    "    self.mode = mode\n",
    "  def __enter__(self):\n",
    "    self.open_file = open(self.filename, self.mode)\n",
    "    return self.open_file\n",
    "  def __exit__(self, *args):\n",
    "    self.open_file.close()\n",
    "\n",
    "files = []\n",
    "for _ in range(10000):\n",
    "    with File('foo.txt', 'w') as myfile:\n",
    "        myfile.write('foo')\n",
    "        files.append(myfile)\n",
    "\n",
    "# You should now see file named 'foo' written to file system"
   ]
  },
  {
   "cell_type": "code",
   "execution_count": null,
   "metadata": {},
   "outputs": [],
   "source": []
  }
 ],
 "metadata": {
  "kernelspec": {
   "display_name": "Python 3",
   "language": "python",
   "name": "python3"
  },
  "language_info": {
   "codemirror_mode": {
    "name": "ipython",
    "version": 3
   },
   "file_extension": ".py",
   "mimetype": "text/x-python",
   "name": "python",
   "nbconvert_exporter": "python",
   "pygments_lexer": "ipython3",
   "version": "3.6.8"
  }
 },
 "nbformat": 4,
 "nbformat_minor": 2
}
