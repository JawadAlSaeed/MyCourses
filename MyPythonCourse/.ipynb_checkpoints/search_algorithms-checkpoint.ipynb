{
 "cells": [
  {
   "cell_type": "markdown",
   "metadata": {},
   "source": [
    "# Search Algorithms"
   ]
  },
  {
   "cell_type": "code",
   "execution_count": 5,
   "metadata": {},
   "outputs": [
    {
     "name": "stdout",
     "output_type": "stream",
     "text": [
      "2\n",
      "5\n",
      "-1\n"
     ]
    }
   ],
   "source": [
    "# String find Method\n",
    "# str.find(str, beg=0, end=len(string))\n",
    "# str − string to be searched.\n",
    "# beg − starting index, by default its 0.\n",
    "# end − ending index, by default its equal to the length of the string.\n",
    "# Index if found and -1 if not found.\n",
    "\n",
    "str = \"This is a string to be searched\"\n",
    "position = str.find(\"is\")\n",
    "print(position)                       # 2\n",
    "position = str.find(\"is\", position+1)\n",
    "print(position)                       # 5\n",
    "position = str.find(\"zebra\")\n",
    "print(position)                       # -1"
   ]
  },
  {
   "cell_type": "code",
   "execution_count": null,
   "metadata": {},
   "outputs": [],
   "source": []
  }
 ],
 "metadata": {
  "kernelspec": {
   "display_name": "Python 3",
   "language": "python",
   "name": "python3"
  },
  "language_info": {
   "codemirror_mode": {
    "name": "ipython",
    "version": 3
   },
   "file_extension": ".py",
   "mimetype": "text/x-python",
   "name": "python",
   "nbconvert_exporter": "python",
   "pygments_lexer": "ipython3",
   "version": "3.7.6"
  }
 },
 "nbformat": 4,
 "nbformat_minor": 4
}
