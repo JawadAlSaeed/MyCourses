{
 "cells": [
  {
   "cell_type": "markdown",
   "metadata": {},
   "source": [
    "# The R Language\n",
    "\n",
    "- R Documentation\n",
    "- R Characteristics\n",
    "- R Impementations and IDEs\n",
    "- Download and Install GNU R-Core\n",
    "- Simple Interactive R Session\n",
    "- Download and Install RStudio\n",
    "- Simple RStudio Session\n",
    "- Try Jupyter Notebook with R\n",
    "- Install Jupyter Notebook with R\n",
    "- Microsoft R Open\n",
    "- Getting Help\n",
    "- Some Simple Linear Algebra\n",
    "- Some Simple Statistical Distributions\n",
    "- Some Simple Trigonometry\n",
    "- Some Simple Linear Regression\n",
    "- Some Simple Matrix Multiplication"
   ]
  },
  {
   "cell_type": "markdown",
   "metadata": {},
   "source": [
    "## R Documentation\n",
    "\n",
    "- [CRAN - An Introduction to R](https://cran.r-project.org/doc/manuals/r-release/R-intro.html)\n",
    "- [CRAN - R Language Definition](https://cran.r-project.org/doc/manuals/r-release/R-lang.html)\n",
    "- [Wikibooks - R Programming](https://en.wikibooks.org/wiki/R_Programming)"
   ]
  },
  {
   "cell_type": "markdown",
   "metadata": {},
   "source": [
    "## R Characteristics\n",
    "\n",
    "- Statistical analysis\n",
    "- Matrix algebra\n",
    "- Cross platform (Linux, Mac, Windows)\n",
    "- Open source (GNU)\n",
    "- Interpreted and dynamically typed\n",
    "- Object oriented\n",
    "- Functional\n",
    "- Case sensitive\n",
    "- Commands separated by semi-colon (‘;’) or newline\n",
    "- Assignment opeperators: <-, =, ->, assign()\n",
    "- Comments begin with #\n",
    "- Lexical scoping\n",
    "- Data structures (vectors, matrices, arrays, lists, data frames)\n",
    "- Scalar is represented as a vector with length one\n",
    "- Atomic data types: \"logical\", \"integer\", \"double\", \"complex\", \"character\"\n",
    "- Arrays stored in column-major order\n",
    "- Base package (https://stat.ethz.ch/R-manual/R-devel/library/base/html/00Index.html)\n",
    "- Package repositories (CRAN, Bioconductor, GitHub, etc.)\n",
    "- R, Rgui, RStudio, Jupyter, Visual Studio Code, Microsoft R Open, etc.\n",
    "\n",
    "See: https://cran.r-project.org/doc/manuals/r-release/R-intro.html#R-commands_003b-case-sensitivity-etc"
   ]
  },
  {
   "cell_type": "markdown",
   "metadata": {},
   "source": [
    "## R Impementations and IDEs\n",
    "\n",
    "- GNU R-Core (www.r-project.org)\n",
    "- Interactive R console\n",
    "- RGui\n",
    "- RStudio https://www.rstudio.com/products/rstudio/download\n",
    "- Jupyter Notebook with R Essentials Environment https://anaconda.org/chdoig/jupyter-and-conda-for-r/notebook\n",
    "- Microsoft R Open https://mran.microsoft.com/download\n",
    "- R Tools for Visual Studio (RTVS) https://www.visualstudio.com/vs/features/rtvs\n",
    "- Visual Studio Code (R extensions available) https://code.visualstudio.com/download"
   ]
  },
  {
   "cell_type": "markdown",
   "metadata": {},
   "source": [
    "## Download and Install GNU R-Core\n",
    "\n",
    "- R is cross-platform: Linux, Mac, Windows (32-bit and 64-bit)\n",
    "- R is available as pre-compiled binaries or as source code\n",
    "- For learning purposes use pre-compiled binaries\n",
    "- Download R: https://cloud.r-project.org\n",
    "- Also available on CRAN mirror sites: https://cran.r-project.org/mirrors.html"
   ]
  },
  {
   "cell_type": "markdown",
   "metadata": {},
   "source": [
    "## Simple Interactive R Session\n",
    "\n",
    "See: https://cran.r-project.org/doc/manuals/r-release/R-intro.html#Using-R-interactively\n",
    "\n",
    "1. Add path to the R executable in the PATH environment variable.\n",
    "2. Open OS command prompt and run a few test commands:\n",
    "\n",
    "```\n",
    "mkdir work\n",
    "cd work\n",
    "R\n",
    "1+2\n",
    "```\n",
    "\n",
    "To quit the interactive R session, type quit() or q() and answer y."
   ]
  },
  {
   "cell_type": "markdown",
   "metadata": {},
   "source": [
    "## Download and Install RStudio\n",
    "\n",
    "1. Download and Install R as described above\n",
    "2. Download and Install R See: https://www.rstudio.com/products/rstudio/download\n",
    "\n",
    "## Simple RStudio Session\n",
    "\n",
    "- ```x <- rnorm(50)```\n",
    "- ```y <- rnorm(x)```\n",
    "- ```plot(x, y)```\n",
    "\n",
    "See: https://cran.r-project.org/doc/manuals/r-release/R-intro.html#A-sample-session"
   ]
  },
  {
   "cell_type": "code",
   "execution_count": 7,
   "metadata": {},
   "outputs": [],
   "source": [
    "help(rnorm)"
   ]
  },
  {
   "cell_type": "code",
   "execution_count": 8,
   "metadata": {},
   "outputs": [],
   "source": [
    "help(plot)"
   ]
  },
  {
   "cell_type": "code",
   "execution_count": 1,
   "metadata": {},
   "outputs": [
    {
     "data": {
      "image/png": "[encoded data removed]",
      "text/plain": [
       "plot without title"
      ]
     },
     "metadata": {},
     "output_type": "display_data"
    }
   ],
   "source": [
    "x = rnorm(100)\n",
    "plot(x)"
   ]
  },
  {
   "cell_type": "code",
   "execution_count": 9,
   "metadata": {},
   "outputs": [
    {
     "data": {
      "text/html": [
       "50"
      ],
      "text/latex": [
       "50"
      ],
      "text/markdown": [
       "50"
      ],
      "text/plain": [
       "[1] 50"
      ]
     },
     "metadata": {},
     "output_type": "display_data"
    },
    {
     "data": {
      "text/html": [
       "50"
      ],
      "text/latex": [
       "50"
      ],
      "text/markdown": [
       "50"
      ],
      "text/plain": [
       "[1] 50"
      ]
     },
     "metadata": {},
     "output_type": "display_data"
    },
    {
     "data": {
      "image/png": "[encoded data removed]",
      "text/plain": [
       "plot without title"
      ]
     },
     "metadata": {},
     "output_type": "display_data"
    }
   ],
   "source": [
    "# Simple RStudio Session\n",
    "# See: https://cran.r-project.org/doc/manuals/r-release/R-intro.html#A-sample-session\n",
    "\n",
    "x <- rnorm(50) # generate n=50 values from normal distribution with mean=0, sd=1\n",
    "y <- rnorm(x)  # since length(n) > 1, the length of x is used for the length of y (50)\n",
    "length(x)\n",
    "length(y)\n",
    "plot(x, y)"
   ]
  },
  {
   "cell_type": "markdown",
   "metadata": {
    "collapsed": true
   },
   "source": [
    "## Try Jupyter Notebook with R\n",
    "See: http://jupyter.org/try\n",
    "\n",
    "## Install Jupyter Notebook with R\n",
    "\n",
    "Note: Anaconda Distribution includes Jupyter Notebook and Python\n",
    "\n",
    "1. Download and install Anaconda: https://www.anaconda.com/download\n",
    "2. Open Anaconda prompt (not OS or R command prompt) and run the following commands https://anaconda.org/chdoig/jupyter-and-conda-for-r/notebook\n",
    "\n",
    "```\n",
    "conda install -c r r-essentials\n",
    "jupyter notebook\n",
    " ```"
   ]
  },
  {
   "cell_type": "markdown",
   "metadata": {},
   "source": [
    "## Microsoft R Open\n",
    "\n",
    "- Parallelization\n",
    "- Performance enhancements\n",
    "- Multi-threaded math libraries\n",
    "- Cross platform\n",
    "- RevoScaleR package\n",
    "- Microsoft R Client \n",
    "- Machine Learning Server\n",
    "- RxSpark\n",
    "- RxHadoopMR\n",
    "- RxInSqlServer\n",
    "- RStudio or R Tools for Visual Studio (RTVS)\n",
    "\n",
    "See: https://mran.microsoft.com/open"
   ]
  },
  {
   "cell_type": "markdown",
   "metadata": {},
   "source": [
    "## Getting Help\n",
    "\n",
    "- ```help(summary)```\n",
    "- ```?summary```\n",
    "- ```help.start()```\n",
    "\n",
    "https://cran.r-project.org/doc/manuals/r-release/R-intro.html#Getting-help"
   ]
  },
  {
   "cell_type": "code",
   "execution_count": 19,
   "metadata": {},
   "outputs": [
    {
     "data": {
      "text/plain": [
       "      mpg             cyl             disp             hp       \n",
       " Min.   :10.40   Min.   :4.000   Min.   : 71.1   Min.   : 52.0  \n",
       " 1st Qu.:15.43   1st Qu.:4.000   1st Qu.:120.8   1st Qu.: 96.5  \n",
       " Median :19.20   Median :6.000   Median :196.3   Median :123.0  \n",
       " Mean   :20.09   Mean   :6.188   Mean   :230.7   Mean   :146.7  \n",
       " 3rd Qu.:22.80   3rd Qu.:8.000   3rd Qu.:326.0   3rd Qu.:180.0  \n",
       " Max.   :33.90   Max.   :8.000   Max.   :472.0   Max.   :335.0  \n",
       "      drat             wt             qsec             vs        \n",
       " Min.   :2.760   Min.   :1.513   Min.   :14.50   Min.   :0.0000  \n",
       " 1st Qu.:3.080   1st Qu.:2.581   1st Qu.:16.89   1st Qu.:0.0000  \n",
       " Median :3.695   Median :3.325   Median :17.71   Median :0.0000  \n",
       " Mean   :3.597   Mean   :3.217   Mean   :17.85   Mean   :0.4375  \n",
       " 3rd Qu.:3.920   3rd Qu.:3.610   3rd Qu.:18.90   3rd Qu.:1.0000  \n",
       " Max.   :4.930   Max.   :5.424   Max.   :22.90   Max.   :1.0000  \n",
       "       am              gear            carb      \n",
       " Min.   :0.0000   Min.   :3.000   Min.   :1.000  \n",
       " 1st Qu.:0.0000   1st Qu.:3.000   1st Qu.:2.000  \n",
       " Median :0.0000   Median :4.000   Median :2.000  \n",
       " Mean   :0.4062   Mean   :3.688   Mean   :2.812  \n",
       " 3rd Qu.:1.0000   3rd Qu.:4.000   3rd Qu.:4.000  \n",
       " Max.   :1.0000   Max.   :5.000   Max.   :8.000  "
      ]
     },
     "metadata": {},
     "output_type": "display_data"
    }
   ],
   "source": [
    "help(summary)\n",
    "summary(mtcars)"
   ]
  },
  {
   "cell_type": "markdown",
   "metadata": {},
   "source": [
    "## Some Simple Linear Algebra\n",
    "\n",
    "help(solve)"
   ]
  },
  {
   "cell_type": "code",
   "execution_count": 10,
   "metadata": {},
   "outputs": [],
   "source": [
    "help(solve)"
   ]
  },
  {
   "cell_type": "markdown",
   "metadata": {},
   "source": [
    "## The solve() Function: One Dimensional Linear Equation\n",
    "\n",
    "See: https://en.wikipedia.org/wiki/Linear_equation#One_variable\n",
    "\n",
    "A linear equation in one unknown x:\n",
    "\n",
    "$ax = b$\n",
    "\n",
    "Solve for $x$\n",
    "\n",
    "$x = \\frac{b}{a}$\n",
    "\n",
    "Let $a = 5$, $b = 10$, then find $x$\n",
    "\n",
    "$x = \\frac{10}{5}$\n",
    "\n",
    "$x = 2$"
   ]
  },
  {
   "cell_type": "code",
   "execution_count": 6,
   "metadata": {},
   "outputs": [
    {
     "name": "stdout",
     "output_type": "stream",
     "text": [
      "[1] 2\n"
     ]
    },
    {
     "data": {
      "image/png": "[encoded data removed]",
      "text/plain": [
       "plot without title"
      ]
     },
     "metadata": {},
     "output_type": "display_data"
    }
   ],
   "source": [
    "# The solve() Function: One Dimensional Linear Equation\n",
    "# See: https://en.wikipedia.org/wiki/Linear_equation#One_variable\n",
    "\n",
    "# plot line\n",
    "# y = ax - b\n",
    "# let a=5 , b=10\n",
    "# y = 5x - 10\n",
    "\n",
    "a <- 5\n",
    "b <- 10\n",
    "x <- c(0, 10)\n",
    "y <- a*x - b\n",
    "plot(0, 0, xlim = c(-10,10), ylim = c(-10,10), type=\"n\")\n",
    "lines(x, y, type=\"l\", main=\"y = 5x - 10\")\n",
    "\n",
    "# solve for x at y = 0\n",
    "# ax - b = 0\n",
    "# 5x - 10 = 0\n",
    "y_0 <- solve(5, 10)\n",
    "abline(h=0)\n",
    "abline(v=y_0)\n",
    "print(y_0)"
   ]
  },
  {
   "cell_type": "markdown",
   "metadata": {},
   "source": [
    "## The solve() Function: Two Dimensional Linear Equations\n",
    "\n",
    "See: https://en.wikipedia.org/wiki/Linear_equation#Two_variables\n",
    "\n",
    "$a_1x + b_1y = c_1$  \n",
    "$a_2x + b_2y = c_2$  \n",
    "\n",
    "where  \n",
    "$a_1 = 3$, $b_1 = 2$, $c_1 = 8$\n",
    "$a_2 = 1$, $b_2 = 1$, $c_2 = 2$\n",
    "\n",
    "or\n",
    "\n",
    "$\n",
    "\\begin{bmatrix}\n",
    "3 & 2 \\\\\n",
    "1 & 1 \\\\\n",
    "\\end{bmatrix}\n",
    "$$\n",
    "\\begin{bmatrix}\n",
    "x \\\\ y \\\\\n",
    "\\end{bmatrix}\n",
    "$=$\n",
    "\\begin{bmatrix}\n",
    "8 \\\\ 2 \\\\\n",
    "\\end{bmatrix}\n",
    "$"
   ]
  },
  {
   "cell_type": "code",
   "execution_count": 5,
   "metadata": {},
   "outputs": [
    {
     "data": {
      "text/html": [
       "<table>\n",
       "<tbody>\n",
       "\t<tr><td>3</td><td>2</td></tr>\n",
       "\t<tr><td>1</td><td>1</td></tr>\n",
       "</tbody>\n",
       "</table>\n"
      ],
      "text/latex": [
       "\\begin{tabular}{ll}\n",
       "\t 3 & 2\\\\\n",
       "\t 1 & 1\\\\\n",
       "\\end{tabular}\n"
      ],
      "text/markdown": [
       "\n",
       "| 3 | 2 | \n",
       "| 1 | 1 | \n",
       "\n",
       "\n"
      ],
      "text/plain": [
       "     [,1] [,2]\n",
       "[1,] 3    2   \n",
       "[2,] 1    1   "
      ]
     },
     "metadata": {},
     "output_type": "display_data"
    },
    {
     "data": {
      "text/html": [
       "<table>\n",
       "<tbody>\n",
       "\t<tr><td>8</td></tr>\n",
       "\t<tr><td>2</td></tr>\n",
       "</tbody>\n",
       "</table>\n"
      ],
      "text/latex": [
       "\\begin{tabular}{l}\n",
       "\t 8\\\\\n",
       "\t 2\\\\\n",
       "\\end{tabular}\n"
      ],
      "text/markdown": [
       "\n",
       "| 8 | \n",
       "| 2 | \n",
       "\n",
       "\n"
      ],
      "text/plain": [
       "     [,1]\n",
       "[1,] 8   \n",
       "[2,] 2   "
      ]
     },
     "metadata": {},
     "output_type": "display_data"
    },
    {
     "name": "stdout",
     "output_type": "stream",
     "text": [
      "     [,1]\n",
      "[1,]    4\n",
      "[2,]   -2\n"
     ]
    },
    {
     "data": {
      "image/png": "[encoded data removed]",
      "text/plain": [
       "plot without title"
      ]
     },
     "metadata": {},
     "output_type": "display_data"
    }
   ],
   "source": [
    "# The solve() Function: Two Dimensional Linear Equations\n",
    "# See: https://en.wikipedia.org/wiki/Linear_equation#Two_variables\n",
    "\n",
    "# 3*x + 2*y - 8 = 0\n",
    "# 1*x + 1*y - 2 = 0\n",
    "\n",
    "# y = (-3*x + 8)/2\n",
    "# y = (-x + 2)\n",
    "\n",
    "x <- c(-10, 10)\n",
    "\n",
    "plot(0, 0, xlim = c(-10,10), ylim = c(-10,10), type=\"n\")\n",
    "\n",
    "y <- (-3*x + 8)/2\n",
    "lines(x, y, type=\"l\", col=\"red\")\n",
    "\n",
    "y <- (-x + 2)\n",
    "lines(x, y, type=\"l\", col=\"green\")\n",
    "\n",
    "\n",
    "a <- matrix(c(3,1,2,1), nrow=2, ncol=2)\n",
    "a\n",
    "\n",
    "b <- matrix(c(8,2), nrow=2, ncol=1)\n",
    "b\n",
    "\n",
    "# solve for intersection\n",
    "sol <- solve(a, b)\n",
    "abline(v=sol[1])\n",
    "abline(h=sol[2])\n",
    "print(sol)"
   ]
  },
  {
   "cell_type": "markdown",
   "metadata": {},
   "source": [
    "## Some Simple Statistical Distributions\n",
    "\n",
    "```\n",
    "help(rnorm)\n",
    "help(rinif)\n",
    "help(hist)\n",
    "```"
   ]
  },
  {
   "cell_type": "code",
   "execution_count": 11,
   "metadata": {},
   "outputs": [],
   "source": [
    "help(rnorm)"
   ]
  },
  {
   "cell_type": "code",
   "execution_count": 12,
   "metadata": {},
   "outputs": [],
   "source": [
    "help(runif)"
   ]
  },
  {
   "cell_type": "code",
   "execution_count": 13,
   "metadata": {},
   "outputs": [],
   "source": [
    "help(hist)"
   ]
  },
  {
   "cell_type": "code",
   "execution_count": 24,
   "metadata": {},
   "outputs": [
    {
     "data": {
      "image/png": "[encoded data removed]",
      "text/plain": [
       "Plot with title \"Histogram of rnorm Distribution\""
      ]
     },
     "metadata": {},
     "output_type": "display_data"
    }
   ],
   "source": [
    "rnorm_Distribution <- rnorm(n=1000, m=10.0, sd=2.0)\n",
    "hist(rnorm_Distribution, xlim=c(0, 20), main=\"Histogram of rnorm Distribution\")"
   ]
  },
  {
   "cell_type": "code",
   "execution_count": 4,
   "metadata": {},
   "outputs": [
    {
     "data": {
      "image/png": "[encoded data removed]",
      "text/plain": [
       "Plot with title \"Histogram of runif Distribution\""
      ]
     },
     "metadata": {},
     "output_type": "display_data"
    }
   ],
   "source": [
    "runif_Distribution <- runif(n=1000, min=0.0, max=20.0)\n",
    "hist(runif_Distribution, xlim=c(0, 20), main=\"Histogram of runif Distribution\")"
   ]
  },
  {
   "cell_type": "markdown",
   "metadata": {},
   "source": [
    "## Some Simple Trigonometry\n",
    "\n",
    "```\n",
    "help(sin)\n",
    "help(tan)\n",
    "help(curve)\n",
    "```"
   ]
  },
  {
   "cell_type": "code",
   "execution_count": 14,
   "metadata": {},
   "outputs": [],
   "source": [
    "help(sin)"
   ]
  },
  {
   "cell_type": "code",
   "execution_count": 15,
   "metadata": {},
   "outputs": [],
   "source": [
    "help(tan)"
   ]
  },
  {
   "cell_type": "code",
   "execution_count": 16,
   "metadata": {},
   "outputs": [],
   "source": [
    "help(curve)"
   ]
  },
  {
   "cell_type": "code",
   "execution_count": 6,
   "metadata": {},
   "outputs": [
    {
     "data": {
      "image/png": "[encoded data removed]",
      "text/plain": [
       "plot without title"
      ]
     },
     "metadata": {},
     "output_type": "display_data"
    }
   ],
   "source": [
    "curve(sin, -2*pi, 2*pi, xname = \"t\")"
   ]
  },
  {
   "cell_type": "code",
   "execution_count": 17,
   "metadata": {},
   "outputs": [
    {
     "data": {
      "image/png": "[encoded data removed]",
      "text/plain": [
       "plot without title"
      ]
     },
     "metadata": {},
     "output_type": "display_data"
    }
   ],
   "source": [
    "curve(tan, -2*pi, 2*pi, xname = \"t\")"
   ]
  },
  {
   "cell_type": "markdown",
   "metadata": {},
   "source": [
    "## Some Simple Linear Regression"
   ]
  },
  {
   "cell_type": "code",
   "execution_count": 27,
   "metadata": {},
   "outputs": [],
   "source": [
    "help(plot)"
   ]
  },
  {
   "cell_type": "code",
   "execution_count": 28,
   "metadata": {},
   "outputs": [],
   "source": [
    "help(lm)"
   ]
  },
  {
   "cell_type": "code",
   "execution_count": 29,
   "metadata": {},
   "outputs": [],
   "source": [
    "help(abline)"
   ]
  },
  {
   "cell_type": "code",
   "execution_count": 30,
   "metadata": {},
   "outputs": [
    {
     "data": {
      "text/plain": [
       "\n",
       "Call:\n",
       "lm(formula = mpg ~ wt, data = mtcars)\n",
       "\n",
       "Coefficients:\n",
       "(Intercept)           wt  \n",
       "     37.285       -5.344  \n"
      ]
     },
     "metadata": {},
     "output_type": "display_data"
    },
    {
     "data": {
      "image/png": "[encoded data removed]",
      "text/plain": [
       "Plot with title \"Simple Linear Regression\""
      ]
     },
     "metadata": {},
     "output_type": "display_data"
    }
   ],
   "source": [
    "plot(mtcars$mpg ~ mtcars$wt, main=\"Simple Linear Regression\", xlab=\"Weight (lbs/1000)\", ylab=\"MPG\", pch=19);\n",
    "\n",
    "mtcars.lm <- lm(mpg ~ wt, data=mtcars)\n",
    "mtcars.lm\n",
    "\n",
    "abline(mtcars.lm)"
   ]
  },
  {
   "cell_type": "markdown",
   "metadata": {},
   "source": [
    "## Some Simple Matrix Multiplication"
   ]
  },
  {
   "cell_type": "code",
   "execution_count": 50,
   "metadata": {},
   "outputs": [
    {
     "data": {
      "text/html": [
       "<table>\n",
       "<tbody>\n",
       "\t<tr><td>30</td></tr>\n",
       "</tbody>\n",
       "</table>\n"
      ],
      "text/latex": [
       "\\begin{tabular}{l}\n",
       "\t 30\\\\\n",
       "\\end{tabular}\n"
      ],
      "text/markdown": [
       "\n",
       "| 30 | \n",
       "\n",
       "\n"
      ],
      "text/plain": [
       "     [,1]\n",
       "[1,] 30  "
      ]
     },
     "metadata": {},
     "output_type": "display_data"
    },
    {
     "data": {
      "text/html": [
       "30"
      ],
      "text/latex": [
       "30"
      ],
      "text/markdown": [
       "30"
      ],
      "text/plain": [
       "[1] 30"
      ]
     },
     "metadata": {},
     "output_type": "display_data"
    }
   ],
   "source": [
    "x <- 1:4\n",
    "(z <- x %*% x)    # scalar (\"inner\") product (1 x 1 matrix)\n",
    "drop(z)           # as scalar"
   ]
  },
  {
   "cell_type": "code",
   "execution_count": 52,
   "metadata": {},
   "outputs": [
    {
     "name": "stdout",
     "output_type": "stream",
     "text": [
      "           [,1]      [,2]\n",
      "[1,]  0.8660254 0.5000000\n",
      "[2,] -0.5000000 0.8660254\n"
     ]
    },
    {
     "data": {
      "text/html": [
       "<table>\n",
       "<tbody>\n",
       "\t<tr><td>1.3660254</td></tr>\n",
       "\t<tr><td>0.3660254</td></tr>\n",
       "</tbody>\n",
       "</table>\n"
      ],
      "text/latex": [
       "\\begin{tabular}{l}\n",
       "\t 1.3660254\\\\\n",
       "\t 0.3660254\\\\\n",
       "\\end{tabular}\n"
      ],
      "text/markdown": [
       "\n",
       "| 1.3660254 | \n",
       "| 0.3660254 | \n",
       "\n",
       "\n"
      ],
      "text/plain": [
       "     [,1]     \n",
       "[1,] 1.3660254\n",
       "[2,] 0.3660254"
      ]
     },
     "metadata": {},
     "output_type": "display_data"
    }
   ],
   "source": [
    "rotate <- function(point, theta) {\n",
    "    mat <- matrix(c(cos(theta), -sin(theta), sin(theta), cos(theta)), ncol = 2, nrow = 2)\n",
    "    print(mat)\n",
    "    result <- mat %*% point\n",
    "    result\n",
    "}\n",
    "\n",
    "theta <- pi/6  # pi/6 radians == 90 degrees\n",
    "point <- c(1,1)\n",
    "result <- rotate(point, theta)\n",
    "result"
   ]
  },
  {
   "cell_type": "code",
   "execution_count": 53,
   "metadata": {},
   "outputs": [
    {
     "data": {
      "text/html": [
       "<ol>\n",
       "\t<li><ol class=list-inline>\n",
       "\t<li>1</li>\n",
       "\t<li>1</li>\n",
       "</ol>\n",
       "</li>\n",
       "\t<li><ol class=list-inline>\n",
       "\t<li>-1</li>\n",
       "\t<li>1</li>\n",
       "</ol>\n",
       "</li>\n",
       "\t<li><ol class=list-inline>\n",
       "\t<li>-1</li>\n",
       "\t<li>-1</li>\n",
       "</ol>\n",
       "</li>\n",
       "\t<li><ol class=list-inline>\n",
       "\t<li>1</li>\n",
       "\t<li>-1</li>\n",
       "</ol>\n",
       "</li>\n",
       "\t<li><ol class=list-inline>\n",
       "\t<li>1</li>\n",
       "\t<li>1</li>\n",
       "</ol>\n",
       "</li>\n",
       "</ol>\n"
      ],
      "text/latex": [
       "\\begin{enumerate}\n",
       "\\item \\begin{enumerate*}\n",
       "\\item 1\n",
       "\\item 1\n",
       "\\end{enumerate*}\n",
       "\n",
       "\\item \\begin{enumerate*}\n",
       "\\item -1\n",
       "\\item 1\n",
       "\\end{enumerate*}\n",
       "\n",
       "\\item \\begin{enumerate*}\n",
       "\\item -1\n",
       "\\item -1\n",
       "\\end{enumerate*}\n",
       "\n",
       "\\item \\begin{enumerate*}\n",
       "\\item 1\n",
       "\\item -1\n",
       "\\end{enumerate*}\n",
       "\n",
       "\\item \\begin{enumerate*}\n",
       "\\item 1\n",
       "\\item 1\n",
       "\\end{enumerate*}\n",
       "\n",
       "\\end{enumerate}\n"
      ],
      "text/markdown": [
       "1. 1. 1\n",
       "2. 1\n",
       "\n",
       "\n",
       "\n",
       "2. 1. -1\n",
       "2. 1\n",
       "\n",
       "\n",
       "\n",
       "3. 1. -1\n",
       "2. -1\n",
       "\n",
       "\n",
       "\n",
       "4. 1. 1\n",
       "2. -1\n",
       "\n",
       "\n",
       "\n",
       "5. 1. 1\n",
       "2. 1\n",
       "\n",
       "\n",
       "\n",
       "\n",
       "\n"
      ],
      "text/plain": [
       "[[1]]\n",
       "[1] 1 1\n",
       "\n",
       "[[2]]\n",
       "[1] -1  1\n",
       "\n",
       "[[3]]\n",
       "[1] -1 -1\n",
       "\n",
       "[[4]]\n",
       "[1]  1 -1\n",
       "\n",
       "[[5]]\n",
       "[1] 1 1\n"
      ]
     },
     "metadata": {},
     "output_type": "display_data"
    },
    {
     "name": "stdout",
     "output_type": "stream",
     "text": [
      "           [,1]      [,2]\n",
      "[1,]  0.8660254 0.5000000\n",
      "[2,] -0.5000000 0.8660254\n",
      "           [,1]      [,2]\n",
      "[1,]  0.8660254 0.5000000\n",
      "[2,] -0.5000000 0.8660254\n",
      "           [,1]      [,2]\n",
      "[1,]  0.8660254 0.5000000\n",
      "[2,] -0.5000000 0.8660254\n",
      "           [,1]      [,2]\n",
      "[1,]  0.8660254 0.5000000\n",
      "[2,] -0.5000000 0.8660254\n",
      "           [,1]      [,2]\n",
      "[1,]  0.8660254 0.5000000\n",
      "[2,] -0.5000000 0.8660254\n"
     ]
    },
    {
     "data": {
      "text/html": [
       "<ol>\n",
       "\t<li><table>\n",
       "<tbody>\n",
       "\t<tr><td>1.3660254</td></tr>\n",
       "\t<tr><td>0.3660254</td></tr>\n",
       "</tbody>\n",
       "</table>\n",
       "</li>\n",
       "\t<li><table>\n",
       "<tbody>\n",
       "\t<tr><td>-0.3660254</td></tr>\n",
       "\t<tr><td> 1.3660254</td></tr>\n",
       "</tbody>\n",
       "</table>\n",
       "</li>\n",
       "\t<li><table>\n",
       "<tbody>\n",
       "\t<tr><td>-1.3660254</td></tr>\n",
       "\t<tr><td>-0.3660254</td></tr>\n",
       "</tbody>\n",
       "</table>\n",
       "</li>\n",
       "\t<li><table>\n",
       "<tbody>\n",
       "\t<tr><td> 0.3660254</td></tr>\n",
       "\t<tr><td>-1.3660254</td></tr>\n",
       "</tbody>\n",
       "</table>\n",
       "</li>\n",
       "\t<li><table>\n",
       "<tbody>\n",
       "\t<tr><td>1.3660254</td></tr>\n",
       "\t<tr><td>0.3660254</td></tr>\n",
       "</tbody>\n",
       "</table>\n",
       "</li>\n",
       "</ol>\n"
      ],
      "text/latex": [
       "\\begin{enumerate}\n",
       "\\item \\begin{tabular}{l}\n",
       "\t 1.3660254\\\\\n",
       "\t 0.3660254\\\\\n",
       "\\end{tabular}\n",
       "\n",
       "\\item \\begin{tabular}{l}\n",
       "\t -0.3660254\\\\\n",
       "\t  1.3660254\\\\\n",
       "\\end{tabular}\n",
       "\n",
       "\\item \\begin{tabular}{l}\n",
       "\t -1.3660254\\\\\n",
       "\t -0.3660254\\\\\n",
       "\\end{tabular}\n",
       "\n",
       "\\item \\begin{tabular}{l}\n",
       "\t  0.3660254\\\\\n",
       "\t -1.3660254\\\\\n",
       "\\end{tabular}\n",
       "\n",
       "\\item \\begin{tabular}{l}\n",
       "\t 1.3660254\\\\\n",
       "\t 0.3660254\\\\\n",
       "\\end{tabular}\n",
       "\n",
       "\\end{enumerate}\n"
      ],
      "text/markdown": [
       "1. \n",
       "| 1.3660254 | \n",
       "| 0.3660254 | \n",
       "\n",
       "\n",
       "\n",
       "2. \n",
       "| -0.3660254 | \n",
       "|  1.3660254 | \n",
       "\n",
       "\n",
       "\n",
       "3. \n",
       "| -1.3660254 | \n",
       "| -0.3660254 | \n",
       "\n",
       "\n",
       "\n",
       "4. \n",
       "|  0.3660254 | \n",
       "| -1.3660254 | \n",
       "\n",
       "\n",
       "\n",
       "5. \n",
       "| 1.3660254 | \n",
       "| 0.3660254 | \n",
       "\n",
       "\n",
       "\n",
       "\n",
       "\n"
      ],
      "text/plain": [
       "[[1]]\n",
       "          [,1]\n",
       "[1,] 1.3660254\n",
       "[2,] 0.3660254\n",
       "\n",
       "[[2]]\n",
       "           [,1]\n",
       "[1,] -0.3660254\n",
       "[2,]  1.3660254\n",
       "\n",
       "[[3]]\n",
       "           [,1]\n",
       "[1,] -1.3660254\n",
       "[2,] -0.3660254\n",
       "\n",
       "[[4]]\n",
       "           [,1]\n",
       "[1,]  0.3660254\n",
       "[2,] -1.3660254\n",
       "\n",
       "[[5]]\n",
       "          [,1]\n",
       "[1,] 1.3660254\n",
       "[2,] 0.3660254\n"
      ]
     },
     "metadata": {},
     "output_type": "display_data"
    },
    {
     "data": {
      "image/png": "[encoded data removed]",
      "text/plain": [
       "Plot with title \"Rotate counter-clockwise 30 degrees\""
      ]
     },
     "metadata": {},
     "output_type": "display_data"
    }
   ],
   "source": [
    "rotate <- function(point, theta) {\n",
    "    mat <- matrix(c(cos(theta), -sin(theta), sin(theta), cos(theta)), ncol = 2, nrow = 2)\n",
    "    print(mat)\n",
    "    result <- mat %*% point\n",
    "    result\n",
    "}\n",
    "\n",
    "theta <- pi/6  # pi/6 radians == 90 degrees\n",
    "originalPoints <- list(c(1,1), c(-1,1), c(-1,-1), c(1,-1), c(1,1))\n",
    "originalPoints\n",
    "finalPoints <- lapply(originalPoints, rotate, theta)\n",
    "finalPoints\n",
    "plot(1, type=\"n\", xlab=\"\", ylab=\"\", xlim=c(-2, 2), ylim=c(-2, 2), main=\"Rotate counter-clockwise 30 degrees\")\n",
    "lines(t(as.data.frame(originalPoints)), type=\"l\", col=\"blue\")\n",
    "lines(t(as.data.frame(finalPoints)), type=\"l\", col=\"red\")"
   ]
  },
  {
   "cell_type": "code",
   "execution_count": null,
   "metadata": {},
   "outputs": [],
   "source": []
  }
 ],
 "metadata": {
  "kernelspec": {
   "display_name": "R",
   "language": "R",
   "name": "ir"
  },
  "language_info": {
   "codemirror_mode": "r",
   "file_extension": ".r",
   "mimetype": "text/x-r-source",
   "name": "R",
   "pygments_lexer": "r",
   "version": "4.0.2"
  }
 },
 "nbformat": 4,
 "nbformat_minor": 2
}
