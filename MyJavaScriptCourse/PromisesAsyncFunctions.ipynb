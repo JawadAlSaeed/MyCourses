{
 "cells": [
  {
   "cell_type": "markdown",
   "metadata": {},
   "source": [
    "# Promises and Async Functions\n",
    "\n",
    "* JavaScript executes in a single threaded process (Web Workers run in seperate processes)\n",
    "* A single thread executes in sequence, not in parallel (contrast with threads in C# or Java)\n",
    "* Asynchronous JavaScript mechanisms:\n",
    "    - Asynchronous callbacks (```addEventListener```, ```setInterval```, ```setTimeout```, ```XMLHttpRequest```, etc.)\n",
    "    - Asynchronous ```Promise``` objects\n",
    "    - The ```async```/```await``` Keywords\n",
    "\n",
    "* Asynchronous Callbacks\n",
    "    - One way of doing async programming is to provide a callback function (called back on completion)\n",
    "    - Asynchronous operations that depend on each other must be nested\n",
    "    - Callback nesting can get messy (\"callback hell\")\n",
    "\n",
    "    ```javascript\n",
    "    someAsyncOperation(someParams, someCallback); // calls provided callback function\n",
    "    function someCallback(someResult) {\n",
    "        // Do something when called back\n",
    "    }\n",
    "    ```\n",
    "    \n",
    "* Asynchronous Promises\n",
    "    - Allows asynchronous operations that depend on each other without \"callback hell\"\n",
    "    - Instead of nesting callbacks in callbacks in callbacks, you just chain .then() calls\n",
    "    - A Promise object wraps an asynchronous operation and notifies when it is done\n",
    "    - Promise object represents eventual completion (or failure) of an asynchronous operation\n",
    "    - Promise object also provides access to the resulting value of the asynchronous operation\n",
    "    - Promise provides ```then()``` for success result and ```catch()``` for failure result\n",
    "    - Promise states: ```pending``` (initial), ```fulfilled``` (success), ```rejected``` (failed)\n",
    "    \n",
    "    ```javascript\n",
    "    someAsyncOperation(someParams) // returns a Promise object\n",
    "    .then(function(result) {\n",
    "        // Do something with success result\n",
    "    })\n",
    "    .catch(function(error) {\n",
    "        // Handle error on failure result\n",
    "    });\n",
    "    ```\n",
    "    \n",
    "* The ```async```/```await``` Keywords\n",
    "    - Async/Await is a language feature that is a part of the ES8 standard (Node.Js version 7.6)\n",
    "    - Async function is impemented with ```async``` keyword and called with ```await``` keyword\n",
    "    - The ```await``` keyword can only be used inside a function marked as ```async```\n",
    "    \n",
    "    ```javascript\n",
    "    async function getSomeAsyncData(value){\n",
    "        const result = await fetchTheData(someUrl, value);\n",
    "        return result;\n",
    "    }\n",
    "    ```"
   ]
  },
  {
   "cell_type": "markdown",
   "metadata": {},
   "source": [
    "## Promises\n",
    "\n",
    "* Promise provides then() for success result and catch() for failure result\n",
    "* Promise states: pending (initial), fulfilled (success), rejected (failed)"
   ]
  },
  {
   "cell_type": "code",
   "execution_count": 7,
   "metadata": {},
   "outputs": [
    {
     "name": "stdout",
     "output_type": "stream",
     "text": [
      "Starting: Promise { <pending> }\n",
      "Pending: Promise { <pending> }\n",
      "1 Promise { <pending> } 'busy with other stuff'\n",
      "2 Promise { <pending> } 'busy with other stuff'\n",
      "3 Promise { <pending> } 'busy with other stuff'\n",
      "4 Promise { <pending> } 'busy with other stuff'\n",
      "5 Promise { <pending> } 'busy with other stuff'\n",
      "6 Promise { <pending> } 'busy with other stuff'\n",
      "7 Promise { <pending> } 'busy with other stuff'\n",
      "8 Promise { <pending> } 'busy with other stuff'\n",
      "9 Promise { <pending> } 'busy with other stuff'\n",
      "successResult: Our work here is done!\n",
      "10 Promise { 'Our work here is done!' } 'busy with other stuff'\n",
      "11 Promise { 'Our work here is done!' } 'busy with other stuff'\n",
      "12 Promise { 'Our work here is done!' } 'busy with other stuff'\n",
      "13 Promise { 'Our work here is done!' } 'busy with other stuff'\n",
      "14 Promise { 'Our work here is done!' } 'busy with other stuff'\n",
      "15 Promise { 'Our work here is done!' } 'busy with other stuff'\n"
     ]
    }
   ],
   "source": [
    "{\n",
    "var myPromise = new Promise(function(resolve, reject) {\n",
    "  setTimeout(resolve, 1000, 'Our work here is done!');\n",
    "});\n",
    "\n",
    "console.log(\"Starting:\", myPromise); // output: Promise { <pending> }\n",
    "\n",
    "myPromise.then(function(successResult) { // set up callback for eventual result\n",
    "    console.log(\"successResult:\", successResult);\n",
    "});\n",
    "\n",
    "console.log(\"Pending:\", myPromise); // Promise { <pending> }\n",
    "\n",
    "var counter = 0;\n",
    "var id = setInterval(function() {\n",
    "    counter++;\n",
    "    if (counter > 15)\n",
    "        clearInterval(id);\n",
    "    else\n",
    "        console.log(counter, myPromise, 'busy with other stuff');\n",
    "}, 100)\n",
    "}"
   ]
  },
  {
   "cell_type": "markdown",
   "metadata": {},
   "source": [
    "## The ```async``` and ```await``` Keywords\n",
    "\n",
    "* The ```async``` and ```await``` keywords support promises using a simplified syntax\n",
    "* An ```async``` before a function means that it returns a promise rather than an immediate value\n",
    "* The ```await``` keyword is only permitted inside async functions\n",
    "* The ```await``` keyword makes the fucntion wait until promise reolves and then returns the result\n",
    "* If the function rejects the promise it throws an error\n",
    "* If the function rejects the promise we can append ```.catch()``` to handle it"
   ]
  },
  {
   "cell_type": "code",
   "execution_count": 20,
   "metadata": {},
   "outputs": [
    {
     "name": "stdout",
     "output_type": "stream",
     "text": [
      "Promise { 1 }\n",
      "then: 1\n"
     ]
    }
   ],
   "source": [
    "{\n",
    "async function f() {\n",
    "    return 1;\n",
    "}\n",
    "console.log(f());                                     // Promise { 1 }\n",
    "f().then(result => console.log(\"then: \" +  result));  // then: 1\n",
    "}"
   ]
  },
  {
   "cell_type": "code",
   "execution_count": 24,
   "metadata": {},
   "outputs": [
    {
     "name": "stdout",
     "output_type": "stream",
     "text": [
      "resolve: done!\n"
     ]
    }
   ],
   "source": [
    "{\n",
    "async function f() {\n",
    "  let promise = new Promise((resolve, reject) => {\n",
    "    setTimeout(() => resolve(\"resolve: done!\"), 1000)\n",
    "  });\n",
    "  let result = await promise; // wait until the promise resolves\n",
    "  console.log(result);        // resolve: done! (after one second delay)\n",
    "}\n",
    "f();\n",
    "}"
   ]
  },
  {
   "cell_type": "code",
   "execution_count": 22,
   "metadata": {},
   "outputs": [
    {
     "name": "stdout",
     "output_type": "stream",
     "text": [
      "catch: Error: oops!\n"
     ]
    }
   ],
   "source": [
    "{\n",
    "async function f() {\n",
    "    await Promise.reject(new Error(\"oops!\"));        // same as -> throw new Error(\"oops!\");\n",
    "}\n",
    "f().then(result => console.log(\"then: \" + result))\n",
    "    .catch(err => console.log(\"catch: \" + err));     // catch: Error: oops!\n",
    "}"
   ]
  },
  {
   "cell_type": "code",
   "execution_count": 28,
   "metadata": {},
   "outputs": [
    {
     "name": "stdout",
     "output_type": "stream",
     "text": [
      "10\n"
     ]
    }
   ],
   "source": [
    "async function wait() {\n",
    "    await new Promise(resolve => setTimeout(resolve, 1000));\n",
    "    return 10;\n",
    "}\n",
    "function f() {\n",
    "    wait().then(result => console.log(result)); // 10 (after 1 second)\n",
    "}\n",
    "f();"
   ]
  },
  {
   "cell_type": "code",
   "execution_count": null,
   "metadata": {},
   "outputs": [],
   "source": []
  }
 ],
 "metadata": {
  "kernelspec": {
   "display_name": "Javascript (Node.js)",
   "language": "javascript",
   "name": "javascript"
  },
  "language_info": {
   "file_extension": ".js",
   "mimetype": "application/javascript",
   "name": "javascript",
   "version": "10.13.0"
  }
 },
 "nbformat": 4,
 "nbformat_minor": 2
}
