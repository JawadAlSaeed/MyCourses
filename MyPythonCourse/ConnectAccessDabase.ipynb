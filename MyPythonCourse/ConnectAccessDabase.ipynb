{
 "cells": [
  {
   "cell_type": "markdown",
   "metadata": {},
   "source": [
    "# Connect Access Dabase\n",
    "\n",
    "1. Download ```baseballdatabank-master.zip``` (https://datatofish.com/how-to-connect-python-to-ms-access-database-using-pyodbc)\n",
    "2. Unzip ```lahman_2019.mdb``` from baseballdatabank-master.zip\n",
    "3. Put ```lahman_2019.mdb``` into data subfolder\n",
    "4. Install ```AccessDatabaseEngine_X64.exe``` (https://www.microsoft.com/en-US/download/details.aspx?id=13255)\n",
    "5. Check that ```['Microsoft Access Driver (*.mdb, *.accdb)']``` is installed in Python code in next cell"
   ]
  },
  {
   "cell_type": "code",
   "execution_count": 4,
   "metadata": {},
   "outputs": [
    {
     "data": {
      "text/plain": [
       "['SQL Server',\n",
       " 'SQL Server Native Client 11.0',\n",
       " 'ODBC Driver 17 for SQL Server',\n",
       " 'Microsoft Access Driver (*.mdb, *.accdb)',\n",
       " 'Microsoft Excel Driver (*.xls, *.xlsx, *.xlsm, *.xlsb)',\n",
       " 'Microsoft Access dBASE Driver (*.dbf, *.ndx, *.mdx)',\n",
       " 'Microsoft Access Text Driver (*.txt, *.csv)']"
      ]
     },
     "execution_count": 4,
     "metadata": {},
     "output_type": "execute_result"
    }
   ],
   "source": [
    "import pyodbc\n",
    "\n",
    "[x for x in pyodbc.drivers()]"
   ]
  },
  {
   "cell_type": "code",
   "execution_count": 5,
   "metadata": {},
   "outputs": [
    {
     "name": "stdout",
     "output_type": "stream",
     "text": [
      "('aardsda01', 2004, 1, 'SFN', 'NL', 11, None, 0, 0, 0, 0, 0, 0, 0, 0, 0, 0, 0, 0, 0, 0, 0, 0, None)\n",
      "('aardsda01', 2006, 1, 'CHN', 'NL', 45, None, 2, 0, 0, 0, 0, 0, 0, 0, 0, 0, 0, 0, 0, 1, 0, 0, None)\n",
      "('aardsda01', 2007, 1, 'CHA', 'AL', 25, None, 0, 0, 0, 0, 0, 0, 0, 0, 0, 0, 0, 0, 0, 0, 0, 0, None)\n",
      "('aardsda01', 2008, 1, 'BOS', 'AL', 47, None, 1, 0, 0, 0, 0, 0, 0, 0, 0, 0, 1, 0, 0, 0, 0, 0, None)\n",
      "('aardsda01', 2009, 1, 'SEA', 'AL', 73, None, 0, 0, 0, 0, 0, 0, 0, 0, 0, 0, 0, 0, 0, 0, 0, 0, None)\n",
      "('aardsda01', 2010, 1, 'SEA', 'AL', 53, None, 0, 0, 0, 0, 0, 0, 0, 0, 0, 0, 0, 0, 0, 0, 0, 0, None)\n",
      "('aardsda01', 2012, 1, 'NYA', 'AL', 1, None, 0, 0, 0, 0, 0, 0, 0, 0, 0, 0, 0, 0, 0, 0, 0, 0, None)\n",
      "('aardsda01', 2013, 1, 'NYN', 'NL', 43, None, 0, 0, 0, 0, 0, 0, 0, 0, 0, 0, 0, 0, 0, 0, 0, 0, None)\n",
      "('aardsda01', 2015, 1, 'ATL', 'NL', 33, None, 1, 0, 0, 0, 0, 0, 0, 0, 0, 0, 1, 0, 0, 0, 0, 0, None)\n",
      "('aaronha01', 1954, 1, 'ML1', 'NL', 122, None, 468, 58, 131, 27, 6, 13, 69, 2, 2, 28, 39, None, 3, 6, 4, 13, None)\n"
     ]
    }
   ],
   "source": [
    "import pyodbc\n",
    "\n",
    "conn_str = r'Driver={Microsoft Access Driver (*.mdb, *.accdb)};DBQ=.\\data\\lahman_2019.mdb;'\n",
    "conn = pyodbc.connect(conn_str)\n",
    "cursor = conn.cursor()\n",
    "cursor.execute('SELECT TOP 10 * from Batting')\n",
    "   \n",
    "for row in cursor.fetchall():\n",
    "    print (row)"
   ]
  },
  {
   "cell_type": "code",
   "execution_count": null,
   "metadata": {},
   "outputs": [],
   "source": []
  }
 ],
 "metadata": {
  "kernelspec": {
   "display_name": "Python 3",
   "language": "python",
   "name": "python3"
  },
  "language_info": {
   "codemirror_mode": {
    "name": "ipython",
    "version": 3
   },
   "file_extension": ".py",
   "mimetype": "text/x-python",
   "name": "python",
   "nbconvert_exporter": "python",
   "pygments_lexer": "ipython3",
   "version": "3.7.6"
  }
 },
 "nbformat": 4,
 "nbformat_minor": 4
}
