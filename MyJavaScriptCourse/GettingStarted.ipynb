{
 "cells": [
  {
   "cell_type": "markdown",
   "metadata": {},
   "source": [
    "# Getting Started\n",
    "\n",
    "* JavaScript was created by Brendan Eich at Netscape in 1995\n",
    "* JavaScript is a trademark currently owned by Oracle (previously owned by Sun)\n",
    "* JavaScript is the common name of the programming language\n",
    "* ECMAScript is the name used by the language specification standard\n",
    "* Supports dynamic typing, prototype-based object-orientation, and first-class functions\n",
    "* See: https://developer.mozilla.org/en-US/docs/Learn/Getting_started_with_the_web/JavaScript_basics\n",
    "* Install Node.js: https://nodejs.org\n",
    "\n",
    "## JavaScript Everywhere\n",
    "* Client-side web (virtually all web browsers)\n",
    "* Server-side web (NodeJS, along with Express.js, etc.)\n",
    "* Embedded mobile device app frameworks: Electron, Cordova, NativeScript, etc.\n",
    "* Dev toolchain (NodeJS, along with VisualStudio Code, Babel, Webpack, etc.)\n",
    "* Database scripting environments (MongoDB, CouchDB, etc.)\n",
    "\n",
    "## JavaScript APIs, Libraries, and Frameworks\n",
    "* Browser APIs: File, IndexedDB, Web Audio, Web Sockets, WebGL, Web Storage, Web Workers, Canvas, etc.\n",
    "* Node APIs: HTTP, REST, MongoDB, socket.io, axios, etc.\n",
    "* Client-side libraries and frameworks: Angular, React.js, Vue.js, etc.\n",
    "* Server-side libraries and frameworks: Node.js, Express.js, etc.\n",
    "* Node.js-based development tools: npm, babel, webpack, VS code, etc.\n",
    "* Thousands more\n",
    "\n",
    "## JavaScript Runtime Environment\n",
    "* JavaScript code is just text that is interpreted dynamically at runtime like Python\n",
    "* JavaScript is not compiled into native binary code prior to execution like C++\n",
    "* JavaScript engine implements (some version of) the standard ECMAScript language specification\n",
    "\n",
    "## Examples of JavaScript Engines\n",
    "* Chrome V8 – Google Chrome, Opera, NodeJS, and Couchbase\n",
    "* SpiderMonkey – Mozilla Firefox\n",
    "* Nitro – Apple Safari\n",
    "* Chakra – Microsoft Edge\n",
    "\n",
    "## JavaScript is Single Threaded\n",
    "* JavaScript engine instance runs all JavaScript code in a single thread\n",
    "* Single threaded event loop dispatches events in the event queue to handler functions (callbacks)\n",
    "* When a callback function runs, it blocks others from running.\n",
    "* No context switching, all callbacks in event queue must wait to be dispatched\n",
    "\n",
    "## NodeJS\n",
    "\n",
    "* Developed initially by Ryan Dahl in 2009\n",
    "* Open-source cross-platform JavaScript runtime (V8) outside of web browser\n",
    "* Single-thread event loop\n",
    "* Non-blocking I/O calls\n",
    "* Built-in npm package manager\n",
    "* For developing command line tools and server-side scripting\n",
    "* [The official Node.js website and installation instructions](https://nodejs.org)\n",
    "* [Node.js Documentation](https://nodejs.org/api/)"
   ]
  },
  {
   "cell_type": "markdown",
   "metadata": {},
   "source": [
    "## Examples of JavaScript Usage Scenarios\n",
    "\n",
    "* The ```window.alert()``` and ```window.prompt()``` Functions: Browser Only\n",
    "* The ```console.log()``` Function: Browser F12 Dev Tools and Node.js console output\n",
    "* The ```readline``` Module: Node.js console input\n",
    "* Simple Static File HTTP Server\n"
   ]
  },
  {
   "cell_type": "markdown",
   "metadata": {},
   "source": [
    "### The ```window.alert()``` and ```window.prompt()``` Functions: Browser Only\n",
    "Copy/past to .js file and run in Node.js\n",
    "```javascript\n",
    "<script>\n",
    "    var input = window.prompt(\"yourName: \", \"default\");\n",
    "    if (input != null) {\n",
    "        window.alert(input);\n",
    "    }\n",
    "</script>\n",
    "```"
   ]
  },
  {
   "cell_type": "markdown",
   "metadata": {},
   "source": [
    "### The ```console.log()``` Function: Browser F12 Dev Tools and Node.js console output"
   ]
  },
  {
   "cell_type": "code",
   "execution_count": 1,
   "metadata": {},
   "outputs": [
    {
     "name": "stdout",
     "output_type": "stream",
     "text": [
      "3 + 4 =  7\n"
     ]
    }
   ],
   "source": [
    "console.log(\"3 + 4 = \", 3 + 4);"
   ]
  },
  {
   "cell_type": "markdown",
   "metadata": {},
   "source": [
    "### The ```readline``` Module: Node.js console input (copy/paste .js file and run node)\n",
    "```javascript\n",
    "const readline = require('readline').createInterface({\n",
    "    input: process.stdin,\n",
    "    output: process.stdout\n",
    "});\n",
    "\n",
    "readline.question('Enter name: ', (name) => {\n",
    "    console.log(`Hello ${name}`);\n",
    "    readline.close();\n",
    "});\n",
    "```"
   ]
  },
  {
   "cell_type": "markdown",
   "metadata": {},
   "source": [
    "### Simple Static File HTTP Server"
   ]
  },
  {
   "cell_type": "code",
   "execution_count": 23,
   "metadata": {},
   "outputs": [
    {
     "name": "stdout",
     "output_type": "stream",
     "text": [
      "Click -> http://localhost:8080\n"
     ]
    }
   ],
   "source": [
    "var http = require('http');\n",
    "http.createServer(function (req, res) {\n",
    "  res.writeHead(200, {'Content-Type': 'text/html'});\n",
    "  res.end('Hello World!');\n",
    "}).listen(8080);\n",
    "\n",
    "console.log('Click -> http://localhost:8080');"
   ]
  },
  {
   "cell_type": "code",
   "execution_count": null,
   "metadata": {},
   "outputs": [],
   "source": []
  }
 ],
 "metadata": {
  "kernelspec": {
   "display_name": "Javascript (Node.js)",
   "language": "javascript",
   "name": "javascript"
  },
  "language_info": {
   "file_extension": ".js",
   "mimetype": "application/javascript",
   "name": "javascript",
   "version": "10.13.0"
  }
 },
 "nbformat": 4,
 "nbformat_minor": 2
}
