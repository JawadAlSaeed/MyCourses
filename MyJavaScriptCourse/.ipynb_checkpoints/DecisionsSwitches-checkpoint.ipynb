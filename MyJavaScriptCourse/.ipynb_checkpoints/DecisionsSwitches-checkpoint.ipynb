{
 "cells": [
  {
   "cell_type": "markdown",
   "metadata": {},
   "source": [
    "# Decisions and Switches\n",
    "\n",
    "* Boolean Conversions (truthy and falsy)\n",
    "* The ```&&```, ```||```, and ```!``` Logical Operators\n",
    "* Short Circuit Logical Expression Evaluation\n",
    "* The ```?:``` Conditional Operator\n",
    "* The ```if``` and ``````else`````` Keywords\n",
    "* The ```switch```, ```case```, ```break```, and ```default``` Keywords"
   ]
  },
  {
   "cell_type": "markdown",
   "metadata": {},
   "source": [
    "## Boolean Conversions (truthy and falsy)\n",
    "\n",
    "* Falsy: zero ```0```, empty string ```\"\"```, non-values ```null```, ```undefined```, and not-a-number ```NaN```\n",
    "* Truthy: All other values"
   ]
  },
  {
   "cell_type": "code",
   "execution_count": 4,
   "metadata": {},
   "outputs": [
    {
     "name": "stdout",
     "output_type": "stream",
     "text": [
      "Not positive\n",
      "Not positive\n",
      "Positive\n"
     ]
    }
   ],
   "source": [
    "// if statement\n",
    "function testNum1(num) {\n",
    "    if (num > 0) {\n",
    "        return \"Positive\";\n",
    "    }\n",
    "    return \"Not positive\";\n",
    "}\n",
    "console.log(testNum1(-5));\n",
    "console.log(testNum1(0));\n",
    "console.log(testNum1(5));"
   ]
  },
  {
   "cell_type": "code",
   "execution_count": 5,
   "metadata": {},
   "outputs": [
    {
     "name": "stdout",
     "output_type": "stream",
     "text": [
      "Not positive\n",
      "Not positive\n",
      "Positive\n"
     ]
    }
   ],
   "source": [
    "// if-else statement\n",
    "function testNum2(num) {\n",
    "    if (num > 0) {\n",
    "        result = \"Positive\";\n",
    "    } else {\n",
    "        result =  \"Not positive\";\n",
    "    }\n",
    "    return result;\n",
    "}\n",
    "console.log(testNum2(-5));\n",
    "console.log(testNum2(0));\n",
    "console.log(testNum2(5));"
   ]
  },
  {
   "cell_type": "code",
   "execution_count": 6,
   "metadata": {},
   "outputs": [
    {
     "name": "stdout",
     "output_type": "stream",
     "text": [
      "Negative\n",
      "Neutral\n",
      "Positive\n"
     ]
    }
   ],
   "source": [
    "// if-else-if-else statement\n",
    "function testNum3(num) {\n",
    "    if (num > 0) {\n",
    "        result = \"Positive\";\n",
    "    }\n",
    "    else if (num< 0) {\n",
    "        result = \"Negative\";\n",
    "    }\n",
    "    else {\n",
    "        result = \"Neutral\";\n",
    "    }\n",
    "    return result;\n",
    "}\n",
    "console.log(testNum3(-5));\n",
    "console.log(testNum3(0));\n",
    "console.log(testNum3(5));"
   ]
  },
  {
   "cell_type": "markdown",
   "metadata": {},
   "source": [
    "## Short Circuit Logical Expression Evaluation"
   ]
  },
  {
   "cell_type": "code",
   "execution_count": 7,
   "metadata": {},
   "outputs": [
    {
     "name": "stdout",
     "output_type": "stream",
     "text": [
      "1\n",
      "0\n",
      "0\n",
      "1\n"
     ]
    }
   ],
   "source": [
    "let g = 0;\n",
    "if (false || ++g == 1) {  // second part of logical expression is forced to execute and g is incremented\n",
    "}\n",
    "console.log(g);       // 1\n",
    "\n",
    "g = 0;\n",
    "if (true || ++g == 1) {   // second part of logical expression is short circuited out and g is not incremented\n",
    "}\n",
    "console.log(g);       // 0\n",
    "\n",
    "g = 0;\n",
    "if (false && ++g == 1) {  // second part of logical expression is short circuited out and g is not incremented\n",
    "}\n",
    "console.log(g);       // 0\n",
    "\n",
    "g = 0;\n",
    "if (true && ++g == 1) {   // second part of logical expression is forced to execute and g is incremented\n",
    "}\n",
    "console.log(g);       // 1"
   ]
  },
  {
   "cell_type": "markdown",
   "metadata": {},
   "source": [
    "## Conditional Operator ?:"
   ]
  },
  {
   "cell_type": "code",
   "execution_count": 8,
   "metadata": {},
   "outputs": [
    {
     "name": "stdout",
     "output_type": "stream",
     "text": [
      "heads\n",
      "tails\n",
      "tails\n",
      "tails\n",
      "heads\n",
      "heads\n"
     ]
    }
   ],
   "source": [
    "function randomBoolean() {\n",
    "    return Math.random() >= 0.5;\n",
    "}\n",
    "\n",
    "console.log(randomBoolean() ? 'heads': 'tails');\n",
    "console.log(randomBoolean() ? 'heads': 'tails');\n",
    "console.log(randomBoolean() ? 'heads': 'tails');\n",
    "console.log(randomBoolean() ? 'heads': 'tails');\n",
    "console.log(randomBoolean() ? 'heads': 'tails');\n",
    "console.log(randomBoolean() ? 'heads': 'tails');"
   ]
  },
  {
   "cell_type": "markdown",
   "metadata": {},
   "source": [
    "## Switch Statements\n",
    "\n",
    "* xxx"
   ]
  },
  {
   "cell_type": "code",
   "execution_count": 8,
   "metadata": {},
   "outputs": [
    {
     "name": "stdout",
     "output_type": "stream",
     "text": [
      "0 is not 2 or 3 or 4\n",
      "1 is not 2 or 3 or 4\n",
      "2 is 2\n",
      "3 is not 2 or 3 or 4\n",
      "4 is 4\n",
      "5 is not 2 or 3 or 4\n",
      "6 is 6\n",
      "7 is not 2 or 3 or 4\n",
      "8 is not 2 or 3 or 4\n",
      "9 is not 2 or 3 or 4\n"
     ]
    }
   ],
   "source": [
    "// switch statement switching on numeric type\n",
    "function testSwitchOnNumbers(n) {\n",
    "    switch (n) {\n",
    "      case 2:\n",
    "        console.log(n + ' is 2' );\n",
    "        break;\n",
    "      case 4:\n",
    "        console.log(n + ' is 4' );\n",
    "        break;\n",
    "      case 6:\n",
    "        console.log(n + ' is 6' );\n",
    "        break;\n",
    "      default:\n",
    "        console.log(n + ' is not 2 or 3 or 4' );\n",
    "    }\n",
    "}\n",
    "for (i=0; i<10; i++) {\n",
    "    testSwitchOnNumbers(i);\n",
    "}"
   ]
  },
  {
   "cell_type": "code",
   "execution_count": 10,
   "metadata": {},
   "outputs": [
    {
     "name": "stdout",
     "output_type": "stream",
     "text": [
      "tiny is not small or medium or large\n",
      "small is small\n",
      "medium is medium\n",
      "large is large\n",
      "huge is not small or medium or large\n"
     ]
    }
   ],
   "source": [
    "// switch statement switching on string type\n",
    "function testSwitchOnStrings(str) {\n",
    "    switch (str) {\n",
    "      case \"small\":\n",
    "        console.log(str + ' is small' );\n",
    "        break;\n",
    "      case \"medium\":\n",
    "        console.log(str + ' is medium' );\n",
    "        break;\n",
    "      case \"large\":\n",
    "        console.log(str + ' is large' );\n",
    "        break;\n",
    "      default:\n",
    "        console.log(str + ' is not small or medium or large' );\n",
    "    }\n",
    "}\n",
    "sizes = ['tiny', 'small', 'medium', 'large', 'huge']\n",
    "for (i in sizes) {\n",
    "    testSwitchOnStrings(sizes[i]);\n",
    "}"
   ]
  },
  {
   "cell_type": "code",
   "execution_count": 11,
   "metadata": {},
   "outputs": [
    {
     "name": "stdout",
     "output_type": "stream",
     "text": [
      "0 is not 2 or 3 or 4\n",
      "\n",
      "1 is not 2 or 3 or 4\n",
      "\n",
      "2 is 2\n",
      "2 is 4\n",
      "2 is 6\n",
      "2 is not 2 or 3 or 4\n",
      "\n",
      "3 is not 2 or 3 or 4\n",
      "\n",
      "4 is 4\n",
      "4 is 6\n",
      "4 is not 2 or 3 or 4\n",
      "\n",
      "5 is not 2 or 3 or 4\n",
      "\n",
      "6 is 6\n",
      "6 is not 2 or 3 or 4\n",
      "\n",
      "7 is not 2 or 3 or 4\n",
      "\n",
      "8 is not 2 or 3 or 4\n",
      "\n",
      "9 is not 2 or 3 or 4\n",
      "\n"
     ]
    }
   ],
   "source": [
    "// switch statement without breaks\n",
    "function testSwitchWithoutBreaks(n) {\n",
    "    switch (n) {\n",
    "      case 2:\n",
    "        console.log(n + ' is 2' );\n",
    "      case 4:\n",
    "        console.log(n + ' is 4' );\n",
    "      case 6:\n",
    "        console.log(n + ' is 6' );\n",
    "      default:\n",
    "        console.log(n + ' is not 2 or 3 or 4' );\n",
    "    }\n",
    "}\n",
    "for (i=0; i<10; i++) {\n",
    "    testSwitchWithoutBreaks(i);\n",
    "    console.log();\n",
    "}"
   ]
  },
  {
   "cell_type": "code",
   "execution_count": null,
   "metadata": {},
   "outputs": [],
   "source": []
  }
 ],
 "metadata": {
  "kernelspec": {
   "display_name": "Javascript (Node.js)",
   "language": "javascript",
   "name": "javascript"
  },
  "language_info": {
   "file_extension": ".js",
   "mimetype": "application/javascript",
   "name": "javascript",
   "version": "10.13.0"
  }
 },
 "nbformat": 4,
 "nbformat_minor": 2
}
