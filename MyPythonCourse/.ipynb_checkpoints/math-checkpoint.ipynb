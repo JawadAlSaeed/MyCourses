{
 "cells": [
  {
   "cell_type": "markdown",
   "metadata": {},
   "source": [
    "# Math\n",
    "\n",
    "* [Math module docs](https://docs.python.org/3/library/math.html)"
   ]
  },
  {
   "cell_type": "code",
   "execution_count": 1,
   "metadata": {},
   "outputs": [
    {
     "name": "stdout",
     "output_type": "stream",
     "text": [
      "5.0\n",
      "3.141592653589793\n",
      "0.5000000000000001\n",
      "6.123233995736766e-17\n",
      "1.0\n",
      "360.0\n",
      "3.141592653589793\n",
      "2.718281828459045\n",
      "8\n",
      "8.0\n",
      "5.0\n",
      "5.0\n",
      "4.0\n",
      "2.9999999999999996\n",
      "5.0\n",
      "4\n",
      "120\n",
      "inf\n",
      "nan\n"
     ]
    }
   ],
   "source": [
    "import math\n",
    "print(math.sqrt(25))           # 5.0\n",
    "print(math.pi)                 # pi = 3.141592653589793\n",
    "print(math.cos(math.pi/3))     # pi/3 radians = 60 degrees so cosine is 0.5 ~= 0.5000000000000001\n",
    "print(math.cos(math.pi/2))     # pi/2 radians = 90 degrees so cosine is 0.0 ~= 6.123233995736766e-17\n",
    "print(math.sin(math.pi/2))     # pi/2 radians = 90 degrees so sine is 1.0\n",
    "print(math.degrees(2*math.pi)) # 2*pi radians = 360 degrees\n",
    "print(math.radians(180))       # 180 degrees = pi radians = 3.141592653589793\n",
    "print(math.e)                  # 2.718281828459045\n",
    "print(2**3)                    # 8\n",
    "print(math.pow(2, 3))          # 8.0\n",
    "print(25**0.5)                 # 5.0\n",
    "print(math.pow(25, 0.5))       # 5.0\n",
    "print(math.log(math.e**4))     # 4\n",
    "print(math.log(1000, 10))      # 3 ~= 2.9999999999999996\n",
    "print(math.log(32, 2))         # 5.0\n",
    "print(math.gcd(32, 84))        # 4\n",
    "print(math.factorial(5))       # 120\n",
    "print(math.inf)                # inf\n",
    "print(math.nan)                # nan"
   ]
  },
  {
   "cell_type": "code",
   "execution_count": null,
   "metadata": {},
   "outputs": [],
   "source": []
  }
 ],
 "metadata": {
  "kernelspec": {
   "display_name": "Python 3",
   "language": "python",
   "name": "python3"
  },
  "language_info": {
   "codemirror_mode": {
    "name": "ipython",
    "version": 3
   },
   "file_extension": ".py",
   "mimetype": "text/x-python",
   "name": "python",
   "nbconvert_exporter": "python",
   "pygments_lexer": "ipython3",
   "version": "3.7.6"
  }
 },
 "nbformat": 4,
 "nbformat_minor": 4
}
