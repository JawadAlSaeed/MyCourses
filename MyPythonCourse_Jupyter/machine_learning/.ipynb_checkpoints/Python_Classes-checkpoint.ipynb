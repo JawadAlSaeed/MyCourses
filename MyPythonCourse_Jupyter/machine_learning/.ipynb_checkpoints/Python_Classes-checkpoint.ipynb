{
 "cells": [
  {
   "cell_type": "code",
   "execution_count": 3,
   "metadata": {},
   "outputs": [
    {
     "name": "stdout",
     "output_type": "stream",
     "text": [
      "---Class MyClass---\n",
      "A simple example class\n",
      "MyClass.i ->  12345\n",
      "MyClass.f ->  <function MyClass.f at 0x0000016874AC1950>\n"
     ]
    }
   ],
   "source": [
    "print('---Class MyClass---')\n",
    "class MyClass:\n",
    "    \"\"\"A simple example class\"\"\"\n",
    "    i = 12345\n",
    "    def f(self):\n",
    "        return 'hello world'\n",
    "print(MyClass.__doc__)\n",
    "print(\"MyClass.i -> \", MyClass.i)\n",
    "print(\"MyClass.f -> \", MyClass.f)"
   ]
  },
  {
   "cell_type": "code",
   "execution_count": 4,
   "metadata": {},
   "outputs": [
    {
     "name": "stdout",
     "output_type": "stream",
     "text": [
      "---Class Complex---\n",
      "re: 3.0 im: -4.5\n"
     ]
    }
   ],
   "source": [
    "print('---Class Complex---')\n",
    "class Complex:\n",
    "    def __init__(self, realpart, imagpart):\n",
    "        self.r = realpart\n",
    "        self.i = imagpart\n",
    "x = Complex(3.0, -4.5)\n",
    "print(\"re:\", x.r, \"im:\", x.i) # re: 3.0 im: -4.5"
   ]
  },
  {
   "cell_type": "code",
   "execution_count": 6,
   "metadata": {},
   "outputs": [
    {
     "name": "stdout",
     "output_type": "stream",
     "text": [
      "---Class Dog---\n",
      "Fido\n",
      "canine\n",
      "['roll over']\n",
      "Buddy\n",
      "canine\n",
      "['play dead', 'shake paw']\n"
     ]
    }
   ],
   "source": [
    "print('---Class Dog---')\n",
    "class Dog:\n",
    "    kind = 'canine'         # class variable shared by all instances\n",
    "    def __init__(self, name):\n",
    "        self.name = name    # instance variable unique to each instance\n",
    "        self.tricks = []    # creates a new empty list for each dog\n",
    "    def add_trick(self, trick):\n",
    "        self.tricks.append(trick)\n",
    "fido = Dog('Fido')\n",
    "print(fido.name)\n",
    "print(fido.kind)\n",
    "fido.add_trick('roll over')\n",
    "print(fido.tricks)\n",
    "buddy = Dog('Buddy')\n",
    "print(buddy.name)\n",
    "print(buddy.kind)\n",
    "buddy.add_trick('play dead')\n",
    "buddy.add_trick('shake paw')\n",
    "print(buddy.tricks)"
   ]
  },
  {
   "cell_type": "code",
   "execution_count": 4,
   "metadata": {},
   "outputs": [
    {
     "name": "stdout",
     "output_type": "stream",
     "text": [
      "---Class Inheritance---\n",
      "John Doe\n",
      "John Doe\n",
      "Welcome John Doe to the class of 2019\n"
     ]
    }
   ],
   "source": [
    "print('---Class Inheritance---')\n",
    "class Person:\n",
    "  def __init__(self, fname, lname):\n",
    "    self.firstname = fname\n",
    "    self.lastname = lname\n",
    "  def printname(self):\n",
    "    print(self.firstname, self.lastname)\n",
    "person = Person(\"John\", \"Doe\")\n",
    "person.printname() \n",
    "class Student(Person):\n",
    "  def __init__(self, fname, lname, year):\n",
    "    Person.__init__(self, fname, lname)\n",
    "    self.graduationyear = year\n",
    "  def welcome(self):\n",
    "    print(\"Welcome\",\n",
    "    self.firstname, self.lastname,\n",
    "    \"to the class of\", self.graduationyear)\n",
    "student = Student(\"John\", \"Doe\", 2019)\n",
    "student.printname()\n",
    "student.welcome()"
   ]
  },
  {
   "cell_type": "code",
   "execution_count": 11,
   "metadata": {},
   "outputs": [
    {
     "name": "stdout",
     "output_type": "stream",
     "text": [
      "---Abstract Base Classes (ABCs)---\n"
     ]
    },
    {
     "ename": "TypeError",
     "evalue": "Can't instantiate abstract class Concrete with abstract methods bar",
     "output_type": "error",
     "traceback": [
      "\u001b[1;31m---------------------------------------------------------------------------\u001b[0m",
      "\u001b[1;31mTypeError\u001b[0m                                 Traceback (most recent call last)",
      "\u001b[1;32m<ipython-input-11-fe85d401f7eb>\u001b[0m in \u001b[0;36m<module>\u001b[1;34m\u001b[0m\n\u001b[0;32m     18\u001b[0m     \u001b[1;31m#def bar(self):\u001b[0m\u001b[1;33m\u001b[0m\u001b[1;33m\u001b[0m\u001b[1;33m\u001b[0m\u001b[0m\n\u001b[0;32m     19\u001b[0m     \u001b[1;31m#    pass\u001b[0m\u001b[1;33m\u001b[0m\u001b[1;33m\u001b[0m\u001b[1;33m\u001b[0m\u001b[0m\n\u001b[1;32m---> 20\u001b[1;33m \u001b[0mc\u001b[0m \u001b[1;33m=\u001b[0m \u001b[0mConcrete\u001b[0m\u001b[1;33m(\u001b[0m\u001b[1;33m)\u001b[0m \u001b[1;31m#TypeError: Can't instantiate abstract class Concrete with abstract methods bar\u001b[0m\u001b[1;33m\u001b[0m\u001b[1;33m\u001b[0m\u001b[0m\n\u001b[0m",
      "\u001b[1;31mTypeError\u001b[0m: Can't instantiate abstract class Concrete with abstract methods bar"
     ]
    }
   ],
   "source": [
    "print('---Abstract Base Classes (ABCs)---')\n",
    "# Abstract Base Classes (ABCs) ensure that derived classes implement\n",
    "# particular methods from the base class at instantiation time.\n",
    "# Using ABCs can help avoid bugs and make class hierarchies\n",
    "# easier to maintain.\n",
    "from abc import ABCMeta, abstractmethod\n",
    "class MyAbstractBaseClass(metaclass=ABCMeta):\n",
    "    @abstractmethod\n",
    "    def foo(self):\n",
    "        pass\n",
    "    @abstractmethod\n",
    "    def bar(self):\n",
    "        pass\n",
    "class Concrete(MyAbstractBaseClass):\n",
    "    def foo(self):\n",
    "        pass\n",
    "    # We forget to declare bar()\n",
    "    #def bar(self):\n",
    "    #    pass\n",
    "c = Concrete() #TypeError: Can't instantiate abstract class Concrete with abstract methods bar"
   ]
  },
  {
   "cell_type": "code",
   "execution_count": null,
   "metadata": {},
   "outputs": [],
   "source": []
  }
 ],
 "metadata": {
  "kernelspec": {
   "display_name": "Python 3",
   "language": "python",
   "name": "python3"
  },
  "language_info": {
   "codemirror_mode": {
    "name": "ipython",
    "version": 3
   },
   "file_extension": ".py",
   "mimetype": "text/x-python",
   "name": "python",
   "nbconvert_exporter": "python",
   "pygments_lexer": "ipython3",
   "version": "3.6.8"
  }
 },
 "nbformat": 4,
 "nbformat_minor": 2
}
