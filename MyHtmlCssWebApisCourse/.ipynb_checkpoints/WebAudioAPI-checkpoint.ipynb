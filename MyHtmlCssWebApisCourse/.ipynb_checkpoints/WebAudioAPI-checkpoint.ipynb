{
 "cells": [
  {
   "cell_type": "markdown",
   "metadata": {},
   "source": [
    "# Web Audio API\n",
    "\n",
    "## Using the Web Audio API  \n",
    "https://developer.mozilla.org/en-US/docs/Web/API/Web_Audio_API/Using_Web_Audio_API  \n",
    "https://codepen.io/Rumyra/pen/qyMzqN  \n",
    "\n",
    "## Web Audio API Docs  \n",
    "https://developer.mozilla.org/en-US/docs/Web/API/Web_Audio_API  \n",
    "\n",
    "## Web Audio API: Why Compose When You Can Code?  \n",
    "https://www.toptal.com/web/web-audio-api-tutorial  \n",
    "\n",
    "## Getting Started with Web Audio API  \n",
    "https://www.html5rocks.com/en/tutorials/webaudio/intro  "
   ]
  },
  {
   "cell_type": "code",
   "execution_count": 5,
   "metadata": {},
   "outputs": [
    {
     "data": {
      "text/html": [
       "\n",
       "<p>Using the Web Audio API (codepen)</p>\n",
       "<iframe width=\"900\" height=\"800\" src=\"https://codepen.io/Rumyra/pen/qyMzqN\"></iframe\n"
      ],
      "text/plain": [
       "<IPython.core.display.HTML object>"
      ]
     },
     "metadata": {},
     "output_type": "display_data"
    }
   ],
   "source": [
    "%%html\n",
    "\n",
    "<p>Using the Web Audio API (codepen)</p>\n",
    "<iframe width=\"900\" height=\"800\" src=\"https://codepen.io/Rumyra/pen/qyMzqN\"></iframe"
   ]
  },
  {
   "cell_type": "code",
   "execution_count": null,
   "metadata": {},
   "outputs": [],
   "source": []
  }
 ],
 "metadata": {
  "kernelspec": {
   "display_name": "Python 3",
   "language": "python",
   "name": "python3"
  },
  "language_info": {
   "codemirror_mode": {
    "name": "ipython",
    "version": 3
   },
   "file_extension": ".py",
   "mimetype": "text/x-python",
   "name": "python",
   "nbconvert_exporter": "python",
   "pygments_lexer": "ipython3",
   "version": "3.7.6"
  }
 },
 "nbformat": 4,
 "nbformat_minor": 4
}
