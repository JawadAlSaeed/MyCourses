{
 "cells": [
  {
   "cell_type": "markdown",
   "metadata": {},
   "source": [
    "# My JavaScript Course"
   ]
  },
  {
   "cell_type": "markdown",
   "metadata": {},
   "source": [
    "## Git\n",
    "* [Git](git.ipynb)"
   ]
  },
  {
   "cell_type": "markdown",
   "metadata": {},
   "source": [
    "## Free JavaScript and NodeJS Books\n",
    "\n",
    "* [Eloquent JavaScript](https://eloquentjavascript.net)\n",
    "* [Speaking JavaScript](http://speakingjs.com/es5/index.html)\n",
    "* [JavaScript for impatient programmers](https://exploringjs.com/impatient-js)\n",
    "* [Exploring ES6](https://exploringjs.com/es6.html)\n",
    "* [The Modern JavaScript Tutorial](https://javascript.info)\n",
    "* [Learn JavaScript](https://gitbookio.gitbooks.io/javascript)\n",
    "* [JavaScript Garden](https://bonsaiden.github.io/JavaScript-Garden)\n",
    "* [JavaScript Allongé](https://leanpub.com/javascript-allonge/read)\n",
    "* [Learning JavaScript Design Patterns](https://addyosmani.com/resources/essentialjsdesignpatterns/book)\n",
    "* [Understanding ECMAScript 6](https://leanpub.com/understandinges6/read)\n",
    "* [Human JavaScript](http://read.humanjavascript.com)\n",
    "* [Mozilla reintroduction to JS tutorial](https://developer.mozilla.org/en-US/docs/Web/JavaScript/A_re-introduction_to_JavaScrip)\n",
    "* [freeCodeCamp: Introduction to JavaScript](https://www.freecodecamp.org/learn/javascript-algorithms-and-data-structures/basic-javascript)\n",
    "* [freeCodeCamp: Introduction to the ES6 Challenges](https://www.freecodecamp.org/learn/javascript-algorithms-and-data-structures/es6)\n",
    "* [HTML 5 Shoot 'em Up in an Afternoon](https://leanpub.com/html5shootemupinanafternoon/read)\n",
    "* [Introduction to Node.js](https://nodejs.dev)\n",
    "* [NodeJSNotesForProfessionals](https://books.goalkicker.com/NodeJSBook/NodeJSNotesForProfessionals.pdf)"
   ]
  },
  {
   "cell_type": "markdown",
   "metadata": {},
   "source": [
    "## JavaScript Language\n",
    "\n",
    "* [Getting Started](GettingStarted.ipynb)\n",
    "* [Node and NPM]()\n",
    "* [Fundamental Syntax](FundamentalSyntax.ipynb)\n",
    "* [Data Types](DataTypes.ipynb)\n",
    "* [Operators]()\n",
    "* [Booleans]()\n",
    "* [Numbers]()\n",
    "* [Strings]()\n",
    "* [Unicode]()\n",
    "* [Dates]()\n",
    "* [Variables and Dynamic Type]()\n",
    "* [Object Literals](Object_Literals.ipynb)\n",
    "* [Enhanced Object Literals]()\n",
    "* [Statements]()\n",
    "* [Expressions and Operators]()\n",
    "* [Conditions and Comparisons]()\n",
    "* [Conditionals and Decisions](ConditionalsDecisions.ipynb)\n",
    "* [Loops and Iteration]()\n",
    "* [Type Conversion]()\n",
    "* [Custom Objects]()\n",
    "* [Closures](Closures.ipynb)\n",
    "* [Object Prototype Inheritance]()\n",
    "* [Classes](Classes.ipynb)\n",
    "* [JSON]()\n",
    "* [Arrays](Arrays.ipynb)\n",
    "* [Functions](Functions.ipynb)\n",
    "* [Scope and Hoisting]()\n",
    "* [Block Scope](BlockScope.ipynb)\n",
    "* [IIFEs](IIFEs.ipynb)\n",
    "* [Strict Mode]()\n",
    "* [Exceptions]()\n",
    "* [Math]()\n",
    "* [MathJS](MathJS.ipynb)\n",
    "* [Regular Expressions]()\n",
    "* [Destructuring Assignments](DestructuringAssignments.ipynb)\n",
    "* [Multi Line Strings](MultiLineStrings.ipynb)\n",
    "* [Template Literals](TemplateLiterals.ipynb)\n",
    "* [Promises](Promises.ipynb)\n",
    "* [Modules](Modules.ipynb)\n",
    "* [Standard IO]()\n",
    "* [Generators]()\n",
    "* [Asynchronous Programming]()\n",
    "* [Debugging]()\n",
    "* [Destructuring, Spread, and Rest Syntax]()\n",
    "* [Unit Testing]()\n",
    "* [Functional Programming]()\n",
    "* [Data Structures & Algorithms]()"
   ]
  },
  {
   "cell_type": "markdown",
   "metadata": {},
   "source": [
    "## Server-Side JavaScript Topics\n",
    "* NodeJS\n",
    "* xxx"
   ]
  },
  {
   "cell_type": "markdown",
   "metadata": {},
   "source": [
    "### HTML5\n",
    "* Elements and Attributes\n",
    "* Block-level vs Inline Elements\n",
    "* Divisions and Spans\n",
    "* Links\n",
    "* Images\n",
    "* Lists\n",
    "* Tables\n",
    "* Semantic Elements\n",
    "* Scripts\n",
    "* DOM\n",
    "* Forms\n",
    "* Grid Layouts\n",
    "* Fluid Layouts\n",
    "* Animations and Transitions\n",
    "* Video and Audio\n",
    "* Canvas\n",
    "* SVG\n",
    "* Drag and Drop\n",
    "* WebGL\n",
    "* Local and Session Storage\n",
    "* IndexedDB\n",
    "* Touch Events\n",
    "* MediaDevices\n",
    "* Device Orientation\n",
    "* Viewport Meta Tag\n",
    "* Web Workers\n",
    "* Web Sockets\n",
    "* WebRTC\n",
    "* Web Assembly\n",
    "* Babel and Webpack\n",
    "* HTML5 Responsive Design\n",
    "* HTML5 Accessibility"
   ]
  },
  {
   "cell_type": "markdown",
   "metadata": {},
   "source": [
    "### CSS3\n",
    "* Selectors\n",
    "* Color\n",
    "* Gradient\n",
    "* Text\n",
    "* Font\n",
    "* Pseudo Classes and Pseudo Elements\n",
    "* Media Queries\n",
    "* Box Model\n",
    "* Multiple Column Layout\n",
    "* Grid Layout\n",
    "* Flexbox\n",
    "* Transforms\n",
    "* Transitions\n",
    "* Keyframe Ani"
   ]
  },
  {
   "cell_type": "code",
   "execution_count": null,
   "metadata": {},
   "outputs": [],
   "source": []
  },
  {
   "cell_type": "markdown",
   "metadata": {},
   "source": [
    "### HTML, CSS, and JavaScript Topics\n",
    "\n",
    "* [DOM Events]()\n",
    "* [HTML, CSS, and JavaScript](HTML_CSS_JavaScript.ipynb)"
   ]
  },
  {
   "cell_type": "code",
   "execution_count": null,
   "metadata": {},
   "outputs": [],
   "source": []
  },
  {
   "cell_type": "markdown",
   "metadata": {},
   "source": [
    "### Browser APIs\n",
    "\n",
    "* DOM, AJAX, SPA, and CORS\n",
    "* Audio and Video\n",
    "* Cache\n",
    "* Fullscreen\n",
    "* Geolocation\n",
    "* Graphics\n",
    "* Notifications\n",
    "* Pointer Lock\n",
    "* Web Storage \n",
    "* IndexDB"
   ]
  },
  {
   "cell_type": "code",
   "execution_count": null,
   "metadata": {},
   "outputs": [],
   "source": []
  }
 ],
 "metadata": {
  "kernelspec": {
   "display_name": "Javascript (Node.js)",
   "language": "javascript",
   "name": "javascript"
  },
  "language_info": {
   "file_extension": ".js",
   "mimetype": "application/javascript",
   "name": "javascript",
   "version": "10.13.0"
  }
 },
 "nbformat": 4,
 "nbformat_minor": 2
}
