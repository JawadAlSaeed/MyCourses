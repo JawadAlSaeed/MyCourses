{
 "cells": [
  {
   "cell_type": "markdown",
   "metadata": {},
   "source": [
    "# Getting Started"
   ]
  },
  {
   "cell_type": "markdown",
   "metadata": {},
   "source": [
    "## JavaScript Background\n",
    "* JavaScript was created by Brendan Eich at Netscape in 1995\n",
    "* JavaScript is a trademark currently owned by Oracle (previously owned by Sun)\n",
    "* JavaScript is the common name of the programming language\n",
    "* ECMAScript is the name used by the language specification standard\n",
    "* Supports dynamic typing, prototype-based object-orientation, and first-class functions\n",
    "\n",
    "## JavaScript Everywhere\n",
    "* Client-side web (virtually all web browsers)\n",
    "* Server-side web (NodeJS, along with Express.js, etc.)\n",
    "* Embedded mobile device app frameworks: Electron, Cordova, NativeScript, etc.\n",
    "* Dev toolchain (NodeJS, along with VisualStudio Code, Babel, Webpack, etc.)\n",
    "* Database scripting environments (MongoDB, CouchDB, etc.)\n",
    "\n",
    "## JavaScript APIs, Libraries, and Frameworks\n",
    "* Browser APIs: File, IndexedDB, Web Audio, Web Sockets, WebGL, Web Storage, Web Workers, Canvas, etc.\n",
    "* Node APIs: HTTP, REST, MongoDB, socket.io, axios, etc.\n",
    "* Client-side libraries and frameworks: Angular, React.js, Vue.js, etc.\n",
    "* Server-side libraries and frameworks: Node.js, Express.js, etc.\n",
    "* Node.js-based development tools: npm, babel, webpack, VS code, etc.\n",
    "* Thousands more"
   ]
  },
  {
   "cell_type": "markdown",
   "metadata": {},
   "source": [
    "## JavaScript Runtime Environment\n",
    "* JavaScript code is just text that is interpreted dynamically at runtime like Python\n",
    "* JavaScript is not compiled into native binary code prior to execution like C++\n",
    "* JavaScript engine implements (some version of) the standard ECMAScript language specification\n",
    "\n",
    "## Examples of JavaScript Engines\n",
    "* Chrome V8 – Google Chrome, Opera, NodeJS, and Couchbase\n",
    "* SpiderMonkey – Mozilla Firefox\n",
    "* Nitro – Apple Safari\n",
    "* Chakra – Microsoft Edge\n",
    "\n",
    "## JavaScript is Single Threaded\n",
    "* JavaScript engine instance runs all JavaScript code in a single thread\n",
    "* Single threaded event loop dispatches events in the event queue to handler functions (callbacks)\n",
    "* When a callback function runs, it blocks others from running.\n",
    "* No context switching, all callbacks in event queue must wait to be dispatched\n"
   ]
  },
  {
   "cell_type": "markdown",
   "metadata": {},
   "source": [
    "## NodeJS\n",
    "* Developed initially by Ryan Dahl in 2009\n",
    "* Open-source cross-platform JavaScript runtime (V8) outside of web browser\n",
    "* Single-thread event loop\n",
    "* Non-blocking I/O calls\n",
    "* Built-in npm package manager\n",
    "* For developing command line tools and server-side scripting\n",
    "* [The official Node.js website and installation instructions](https://nodejs.org)\n",
    "* [Node.js Documentation](https://nodejs.org/api/)\n"
   ]
  },
  {
   "cell_type": "markdown",
   "metadata": {},
   "source": [
    "## A couple of examples..."
   ]
  },
  {
   "cell_type": "markdown",
   "metadata": {},
   "source": [
    "### Using ```console.log()``` Function"
   ]
  },
  {
   "cell_type": "code",
   "execution_count": 2,
   "metadata": {},
   "outputs": [
    {
     "name": "stdout",
     "output_type": "stream",
     "text": [
      "3 + 4 =  7\n"
     ]
    }
   ],
   "source": [
    "console.log(\"3 + 4 = \", 3 + 4)"
   ]
  },
  {
   "cell_type": "markdown",
   "metadata": {},
   "source": [
    "### Simple Static File HTTP Server"
   ]
  },
  {
   "cell_type": "code",
   "execution_count": 4,
   "metadata": {},
   "outputs": [
    {
     "name": "stdout",
     "output_type": "stream",
     "text": [
      "Click -> http://localhost:8080\n"
     ]
    },
    {
     "name": "stderr",
     "output_type": "stream",
     "text": [
      "Error: listen EADDRINUSE :::8080\n",
      "    at Server.setupListenHandle [as _listen2] (net.js:1286:14)\n",
      "    at listenInCluster (net.js:1334:12)\n",
      "    at Server.listen (net.js:1421:7)\n",
      "    at evalmachine.<anonymous>:5:4\n",
      "    at Script.runInThisContext (vm.js:96:20)\n",
      "    at Object.runInThisContext (vm.js:303:38)\n",
      "    at run ([eval]:1054:15)\n",
      "    at onRunRequest ([eval]:888:18)\n",
      "    at onMessage ([eval]:848:13)\n",
      "    at process.emit (events.js:182:13)"
     ]
    }
   ],
   "source": [
    "var http = require('http');\n",
    "http.createServer(function (req, res) {\n",
    "  res.writeHead(200, {'Content-Type': 'text/html'});\n",
    "  res.end('Hello World!');\n",
    "}).listen(8080);\n",
    "\n",
    "console.log('Click -> http://localhost:8080');"
   ]
  },
  {
   "cell_type": "code",
   "execution_count": null,
   "metadata": {},
   "outputs": [],
   "source": []
  }
 ],
 "metadata": {
  "kernelspec": {
   "display_name": "Javascript (Node.js)",
   "language": "javascript",
   "name": "javascript"
  },
  "language_info": {
   "file_extension": ".js",
   "mimetype": "application/javascript",
   "name": "javascript",
   "version": "10.13.0"
  }
 },
 "nbformat": 4,
 "nbformat_minor": 2
}
