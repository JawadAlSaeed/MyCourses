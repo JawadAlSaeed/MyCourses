{
 "cells": [
  {
   "cell_type": "code",
   "execution_count": 2,
   "metadata": {},
   "outputs": [],
   "source": [
    "%matplotlib inline"
   ]
  },
  {
   "cell_type": "code",
   "execution_count": 14,
   "metadata": {},
   "outputs": [
    {
     "data": {
      "image/png": "[encoded data removed]",
      "text/plain": [
       "<matplotlib.figure.Figure at 0x1f10ab74c18>"
      ]
     },
     "metadata": {},
     "output_type": "display_data"
    },
    {
     "data": {
      "text/plain": [
       "0"
      ]
     },
     "execution_count": 14,
     "metadata": {},
     "output_type": "execute_result"
    }
   ],
   "source": [
    "import numpy as np\n",
    "import matplotlib.pyplot as plt\n",
    "\n",
    "def monte(NN, t):\n",
    "    \"\"\"This function monitors the motion of particles from one side\n",
    "    of a box to the other.\n",
    "    \n",
    "    Particles pass through a hole in the dividing wall. At each time step\n",
    "    any particle has the same probability as any other particle of passing\n",
    "    through the hole. Therefore the probability of a particle moving\n",
    "    from right to left is equal to the number of particles\n",
    "    in the right side divided by the total number of particles.\n",
    "    \n",
    "    NN = total number of particles (all initially on the right)\n",
    "    t = number of time steps\n",
    "    \n",
    "    The function returns the number of particles on the right\n",
    "    \"\"\"\n",
    "\n",
    "    # create the array to hold the NN values that indicate if each particle is on the right or the left (i.e. 1 or 0)\n",
    "    particles = np.ones(NN) # returns new numpy.float64 type array of NN elements all with the initial values set to 1\n",
    "    \n",
    "    # initially all particles are on the right\n",
    "    number_on_right = NN\n",
    "    \n",
    "    data = [number_on_right] # list of numbers of particles on right side to be plotted against time steps\n",
    "   \n",
    "    # time step counter i goes from 0 inclusive up to t exclusive    \n",
    "    for i in range(0, t):\n",
    "        # particle index j goes from 0 inclusive up to NN exclusive\n",
    "        for j in range(0, NN):\n",
    "            probability = number_on_right/NN    # probability of particle on the right to move to the left during time step        \n",
    "            rand = np.random.uniform(0.0, 1.0)  # random number from uniform distribution between 0.0 and 1.0\n",
    "            if particles[j] == 1:               # only a particle on the right can move to the left\n",
    "                if rand < probability:\n",
    "                    particles[i] = 0        # particle now moves from right to left so it gets a 0\n",
    "                    number_on_right -= 1    # there is now one less particle on the right so decrement counter\n",
    "        \n",
    "        data.append(number_on_right) # accumulate data to be plotted\n",
    "        # print(i, number_on_right)\n",
    "        \n",
    "        if number_on_right < 0:  # cannot have a negative number of particles on the right\n",
    "            return number_on_right\n",
    "        \n",
    "    # plot evolution of number of particles on the right over time steps\n",
    "    fig = plt.figure()\n",
    "    plt.xlabel(\"time steps\")\n",
    "    plt.ylabel(\"particle count on right side\")\n",
    "    plt.plot(data)\n",
    "    plt.show()\n",
    "    \n",
    "    return number_on_right\n",
    "\n",
    "#monte(500, 100000)\n",
    "monte(1000, 10)"
   ]
  },
  {
   "cell_type": "code",
   "execution_count": 13,
   "metadata": {},
   "outputs": [
    {
     "data": {
      "image/png": "[encoded data removed]",
      "text/plain": [
       "<matplotlib.figure.Figure at 0x1f10ac0db70>"
      ]
     },
     "metadata": {},
     "output_type": "display_data"
    },
    {
     "data": {
      "text/plain": [
       "0"
      ]
     },
     "execution_count": 13,
     "metadata": {},
     "output_type": "execute_result"
    }
   ],
   "source": [
    "import numpy as np\n",
    "import matplotlib.pyplot as plt\n",
    "\n",
    "def monte(NN, t):\n",
    "    \"\"\"This function monitors the motion of particles from one side\n",
    "    of a box to the other.\n",
    "    \n",
    "    Particles pass through a hole in the dividing wall. At each time step\n",
    "    any particle has the same probability as any other particle of passing\n",
    "    through the hole. Therefore the probability of a particle moving\n",
    "    from right to left is equal to the number of particles\n",
    "    in the right side divided by the total number of particles.\n",
    "    \n",
    "    NN = total number of particles (all initially on the right)\n",
    "    t = number of time steps\n",
    "    \n",
    "    The function returns the number of particles on the right\n",
    "    \"\"\"\n",
    "\n",
    "    # create the array to hold the NN values that indicate if each particle is on the right or the left (i.e. 1 or 0)\n",
    "    particles = [1] * NN # returns list of NN elements all with the initial values set to 1\n",
    "    \n",
    "    # initially all particles are on the right\n",
    "    number_on_right = NN\n",
    "    \n",
    "    data = [number_on_right] # list of numbers of particles on right side to be plotted against time steps\n",
    "   \n",
    "    # time step counter i goes from 0 inclusive up to t exclusive    \n",
    "    for i in range(0, t):\n",
    "        # particle index j goes from 0 inclusive up to NN exclusive\n",
    "        for j in range(0, NN):\n",
    "            probability = number_on_right/NN    # probability of particle on the right to move to the left during time step        \n",
    "            rand = np.random.uniform(0.0, 1.0)  # random number from uniform distribution between 0.0 and 1.0\n",
    "            if particles[j] == 1:               # only a particle on the right can move to the left\n",
    "                if rand < probability:\n",
    "                    particles[i] = 0        # particle now moves from right to left so it gets a 0\n",
    "                    number_on_right -= 1    # there is now one less particle on the right so decrement counter\n",
    "        \n",
    "        data.append(number_on_right)        # accumulate data to be plotted\n",
    "        # print(i, number_on_right)\n",
    "        \n",
    "        if number_on_right < 0:  # cannot have a negative number of particles on the right\n",
    "            return number_on_right\n",
    "        \n",
    "    # plot evolution of number of particles on the right over time steps\n",
    "    fig = plt.figure()\n",
    "    plt.xlabel(\"time steps\")\n",
    "    plt.ylabel(\"particle count on right side\")\n",
    "    plt.plot(data)\n",
    "    plt.show()\n",
    "    \n",
    "    return number_on_right\n",
    "        \n",
    "#monte(500, 100000)\n",
    "monte(1000, 10)"
   ]
  },
  {
   "cell_type": "code",
   "execution_count": null,
   "metadata": {},
   "outputs": [],
   "source": []
  }
 ],
 "metadata": {
  "kernelspec": {
   "display_name": "Python 3",
   "language": "python",
   "name": "python3"
  },
  "language_info": {
   "codemirror_mode": {
    "name": "ipython",
    "version": 3
   },
   "file_extension": ".py",
   "mimetype": "text/x-python",
   "name": "python",
   "nbconvert_exporter": "python",
   "pygments_lexer": "ipython3",
   "version": "3.6.4"
  }
 },
 "nbformat": 4,
 "nbformat_minor": 2
}
