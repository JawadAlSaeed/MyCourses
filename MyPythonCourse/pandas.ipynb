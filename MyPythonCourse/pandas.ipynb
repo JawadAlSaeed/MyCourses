{
 "cells": [
  {
   "cell_type": "markdown",
   "metadata": {},
   "source": [
    "# Pandas\n",
    "\n",
    "* [Pandas Docs](https://pandas.pydata.org)\n",
    "* [Getting Started Tutorials](https://pandas.pydata.org/docs/getting_started/intro_tutorials)\n",
    "* The community agreed alias for ```pandas``` is ```pd```\n",
    "* Import the Pandas package: ```import pandas as pd```\n",
    "* The ```DataFrame``` represents a 2D table data structure\n",
    "* Each column in a ```DataFrame``` is a ```Series```\n",
    "* The ```Series``` represents a 1D ```ndarray``` with axis labels "
   ]
  },
  {
   "cell_type": "code",
   "execution_count": 1,
   "metadata": {},
   "outputs": [],
   "source": [
    "import pandas as pd"
   ]
  },
  {
   "cell_type": "code",
   "execution_count": 2,
   "metadata": {},
   "outputs": [
    {
     "data": {
      "text/html": [
       "<div>\n",
       "<style scoped>\n",
       "    .dataframe tbody tr th:only-of-type {\n",
       "        vertical-align: middle;\n",
       "    }\n",
       "\n",
       "    .dataframe tbody tr th {\n",
       "        vertical-align: top;\n",
       "    }\n",
       "\n",
       "    .dataframe thead th {\n",
       "        text-align: right;\n",
       "    }\n",
       "</style>\n",
       "<table border=\"1\" class=\"dataframe\">\n",
       "  <thead>\n",
       "    <tr style=\"text-align: right;\">\n",
       "      <th></th>\n",
       "      <th>Name</th>\n",
       "      <th>Age</th>\n",
       "      <th>Sex</th>\n",
       "    </tr>\n",
       "  </thead>\n",
       "  <tbody>\n",
       "    <tr>\n",
       "      <th>0</th>\n",
       "      <td>Braund, Mr. Owen Harris</td>\n",
       "      <td>22</td>\n",
       "      <td>male</td>\n",
       "    </tr>\n",
       "    <tr>\n",
       "      <th>1</th>\n",
       "      <td>Allen, Mr. William Henry</td>\n",
       "      <td>35</td>\n",
       "      <td>male</td>\n",
       "    </tr>\n",
       "    <tr>\n",
       "      <th>2</th>\n",
       "      <td>Bonnell, Miss. Elizabeth</td>\n",
       "      <td>58</td>\n",
       "      <td>female</td>\n",
       "    </tr>\n",
       "  </tbody>\n",
       "</table>\n",
       "</div>"
      ],
      "text/plain": [
       "                       Name  Age     Sex\n",
       "0   Braund, Mr. Owen Harris   22    male\n",
       "1  Allen, Mr. William Henry   35    male\n",
       "2  Bonnell, Miss. Elizabeth   58  female"
      ]
     },
     "execution_count": 2,
     "metadata": {},
     "output_type": "execute_result"
    }
   ],
   "source": [
    "df = pd.DataFrame({\n",
    "    \"Name\": [\"Braund, Mr. Owen Harris\", \"Allen, Mr. William Henry\", \"Bonnell, Miss. Elizabeth\"],\n",
    "    \"Age\": [22, 35, 58],\n",
    "    \"Sex\": [\"male\", \"male\", \"female\"]}\n",
    "    )\n",
    "df"
   ]
  },
  {
   "cell_type": "code",
   "execution_count": 3,
   "metadata": {},
   "outputs": [
    {
     "data": {
      "text/plain": [
       "0    22\n",
       "1    35\n",
       "2    58\n",
       "Name: Age, dtype: int64"
      ]
     },
     "execution_count": 3,
     "metadata": {},
     "output_type": "execute_result"
    }
   ],
   "source": [
    "df[\"Age\"]"
   ]
  },
  {
   "cell_type": "code",
   "execution_count": 23,
   "metadata": {},
   "outputs": [
    {
     "data": {
      "text/plain": [
       "58"
      ]
     },
     "execution_count": 23,
     "metadata": {},
     "output_type": "execute_result"
    }
   ],
   "source": [
    "df[\"Age\"].max()"
   ]
  },
  {
   "cell_type": "code",
   "execution_count": 22,
   "metadata": {},
   "outputs": [
    {
     "name": "stdout",
     "output_type": "stream",
     "text": [
      "   Product ID  Price     Product\n",
      "0        4109    5.0  Sushi Roll\n",
      "1        1412    0.5         Egg\n",
      "2        8931    1.5       Bagel\n",
      "  Customer  Product ID  Quantity\n",
      "0      Ali        4109         1\n",
      "1     Eric        1412        12\n",
      "2     Ande        8931         6\n",
      "3      Sam        4109         2\n",
      "   Product ID  Price     Product Customer  Quantity\n",
      "0        4109    5.0  Sushi Roll      Ali         1\n",
      "1        4109    5.0  Sushi Roll      Sam         2\n",
      "2        1412    0.5         Egg     Eric        12\n",
      "3        8931    1.5       Bagel     Ande         6\n"
     ]
    }
   ],
   "source": [
    "products = pd.DataFrame({'Product ID': [4109,1412,8931], 'Price': [5.0,0.5,1.5], 'Product': ['Sushi Roll','Egg','Bagel']})\n",
    "invoices = pd.DataFrame({'Customer': ['Ali','Eric','Ande','Sam'], 'Product ID': [4109,1412,8931,4109], 'Quantity': [1,12,6,2]})\n",
    "print(products)\n",
    "print(invoices)\n",
    "print(pd.merge(products, invoices, how='inner'))"
   ]
  },
  {
   "cell_type": "code",
   "execution_count": 20,
   "metadata": {},
   "outputs": [
    {
     "name": "stdout",
     "output_type": "stream",
     "text": [
      "     division  2019  2020\n",
      "0  Consulting    57    78\n",
      "1    Hardware    68    90\n",
      "2    Software    43    14\n",
      "\n",
      "     division  year  sales\n",
      "0  Consulting  2019     57\n",
      "1    Hardware  2019     68\n",
      "2    Software  2019     43\n",
      "3  Consulting  2020     78\n",
      "4    Hardware  2020     90\n",
      "5    Software  2020     14\n"
     ]
    }
   ],
   "source": [
    "salesDF = pd.DataFrame({\n",
    "    \"division\": [\"Consulting\", \"Hardware\", \"Software\", ],\n",
    "    \"2019\": [57, 68, 43],\n",
    "    \"2020\": [78, 90, 14]}\n",
    "    )\n",
    "print(salesDF)\n",
    "print()\n",
    "salesDF = pd.melt(salesDF, id_vars='division', value_vars=['2019', '2020'], var_name='year', value_name='sales')\n",
    "print(salesDF)"
   ]
  },
  {
   "cell_type": "code",
   "execution_count": 4,
   "metadata": {},
   "outputs": [
    {
     "name": "stdout",
     "output_type": "stream",
     "text": [
      "  department\n",
      "0        BIO\n",
      "1       CHEM\n",
      "2       PHYS\n",
      "\n",
      "  department  department_code\n",
      "0        BIO                1\n",
      "1       CHEM                2\n",
      "2       PHYS                3\n"
     ]
    }
   ],
   "source": [
    "df = pd.DataFrame({'department' : ['BIO','CHEM','PHYS']})\n",
    "print (df)\n",
    "\n",
    "print()\n",
    "\n",
    "department_mapping = {'BIO': 1, 'CHEM': 2, 'PHYS': 3, 'MATH': 4}\n",
    "df['department_code'] = df['department'].map(department_mapping)\n",
    "print (df)"
   ]
  },
  {
   "cell_type": "code",
   "execution_count": null,
   "metadata": {},
   "outputs": [],
   "source": []
  }
 ],
 "metadata": {
  "kernelspec": {
   "display_name": "Python 3",
   "language": "python",
   "name": "python3"
  },
  "language_info": {
   "codemirror_mode": {
    "name": "ipython",
    "version": 3
   },
   "file_extension": ".py",
   "mimetype": "text/x-python",
   "name": "python",
   "nbconvert_exporter": "python",
   "pygments_lexer": "ipython3",
   "version": "3.7.6"
  }
 },
 "nbformat": 4,
 "nbformat_minor": 4
}
