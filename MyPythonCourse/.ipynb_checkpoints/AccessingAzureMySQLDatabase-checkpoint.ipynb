{
 "cells": [
  {
   "cell_type": "markdown",
   "metadata": {},
   "source": [
    "# Accessing Azure MySQL Database (mysql.connector)\n",
    "\n",
    "This example shows the code for accessing a MySQL database on Azure. The host, user, and password used here are temporary.\n",
    "If this MySQL database is taken down then you need to set up your own:\n",
    "\n",
    "1. Download ```lahman-mysql-dump.sql``` \"2019 – MySQL version \" (http://www.seanlahman.com/baseball-archive/statistics)\n",
    "2. Replace the string ```utf8mb4_0900_ai_ci``` and replaced it with ```utf8mb4_general_ci``` in ```lahman-mysql-dump.sql```\n",
    "3. Create an Azure Database for MySQL database on your Azure account using appropriate firewall settings for IPs.\n",
    "4. In MySQL Workbench, connect to your MySql server.\n",
    "5. In MySQL Workbench -> Server > Data Import > Import from Self-Contained File\n",
    "6. Select the ```lahman-mysql-dump.sql``` file -> Click Start Import button.\n",
    "7. Test it out in MySQL Workbench:\n",
    "    ```\n",
    "    USE `lahmansbaseballdb`;\n",
    "    SELECT p.nameFirst, p.nameLast, b.HR, t.name AS team, b.yearID\n",
    "    FROM batting b\n",
    "        JOIN people p ON p.playerID = b.playerID\n",
    "        JOIN teams t ON t.ID = b.team_ID\n",
    "    WHERE b.YearID = 1977\n",
    "    ORDER BY b.HR DESC\n",
    "    LIMIT 5;\n",
    "    ```\n",
    "\n",
    "![Test MySQL Workbench](img/TestMySQLWorkbench.png)"
   ]
  },
  {
   "cell_type": "markdown",
   "metadata": {},
   "source": [
    "## Access the Database Using ```mysql-connector-python```\n",
    "\n",
    "* You need to run ```conda install -c anaconda mysql-connector-python```\n",
    "* NOTE: The SSL version on the Python client side and the MySQL server side need to match. To avoid this SSL error, in this example, in the call to ```mysql.connect()```, we have ```ssl_disabled=True```, which is not usually suitable for production code. This is done here for simplicity of demonstration only. In production code, SLL should not be disabled like this, but instead, it should be solved by configuring the server and/or client to use the same version of SSL."
   ]
  },
  {
   "cell_type": "code",
   "execution_count": 1,
   "metadata": {},
   "outputs": [
    {
     "name": "stdout",
     "output_type": "stream",
     "text": [
      "os:            Windows-10-10.0.18362-SP0\n",
      "python         3.7.6 (default, Jan  8 2020, 20:23:39) [MSC v.1916 64 bit (AMD64)]\n",
      "openssl:       OpenSSL 1.1.1d  10 Sep 2019\n",
      "TLSv1.2:       _SSLMethod.PROTOCOL_TLSv1_2\n"
     ]
    }
   ],
   "source": [
    "import platform\n",
    "import sys\n",
    "import ssl\n",
    "\n",
    "print(\"os:            \" + platform.platform())\n",
    "print(\"python         \" + sys.version)\n",
    "print(\"openssl:       \" + ssl.OPENSSL_VERSION)\n",
    "print(\"TLSv1.2:       \" + str(ssl.PROTOCOL_TLSv1_2))"
   ]
  },
  {
   "cell_type": "code",
   "execution_count": 2,
   "metadata": {},
   "outputs": [
    {
     "name": "stdout",
     "output_type": "stream",
     "text": [
      "<mysql.connector.connection.MySQLConnection object at 0x000001A755ED4C88>\n"
     ]
    }
   ],
   "source": [
    "# conda install -c anaconda mysql-connector-python\n",
    "\n",
    "import mysql.connector as mysql\n",
    "\n",
    "cnx = mysql.connect(\n",
    "    host=\"mysqllahmansbaseball.mysql.database.azure.com\", # this server will not remain available in the long term\n",
    "    user=\"newuser@mysqllahmansbaseball\",                  # this user name will not remain available in the long term\n",
    "    password=\"Pa$$w0rd\",                                  # this password will not remain available in the long term\n",
    "    port=3306,\n",
    "    ssl_disabled=True,                                    # not usually suitable for production code\n",
    "    database=\"lahmansbaseballdb\")\n",
    "print(cnx)"
   ]
  },
  {
   "cell_type": "code",
   "execution_count": 3,
   "metadata": {},
   "outputs": [
    {
     "name": "stdout",
     "output_type": "stream",
     "text": [
      "(1, 'abercda01', 1871, 1, 'TRO', 8, 'NA', 1, None, 4, 0, 0, 0, 0, 0, 0, 0, 0, 0, 0, None, None, None, None, 0)\n",
      "(2, 'addybo01', 1871, 1, 'RC1', 7, 'NA', 25, None, 118, 30, 32, 6, 0, 0, 13, 8, 1, 4, 0, None, None, None, None, 0)\n",
      "(3, 'allisar01', 1871, 1, 'CL1', 3, 'NA', 29, None, 137, 28, 40, 4, 5, 0, 19, 3, 1, 2, 5, None, None, None, None, 1)\n",
      "(4, 'allisdo01', 1871, 1, 'WS3', 9, 'NA', 27, None, 133, 28, 44, 10, 2, 2, 27, 1, 1, 0, 2, None, None, None, None, 0)\n",
      "(5, 'ansonca01', 1871, 1, 'RC1', 7, 'NA', 25, None, 120, 29, 39, 11, 3, 0, 16, 6, 2, 2, 1, None, None, None, None, 0)\n",
      "(6, 'armstbo01', 1871, 1, 'FW1', 4, 'NA', 12, None, 49, 9, 11, 2, 1, 0, 5, 0, 1, 0, 1, None, None, None, None, 0)\n",
      "(7, 'barkeal01', 1871, 1, 'RC1', 7, 'NA', 1, None, 4, 0, 1, 0, 0, 0, 2, 0, 0, 1, 0, None, None, None, None, 0)\n",
      "(8, 'barnero01', 1871, 1, 'BS1', 1, 'NA', 31, None, 157, 66, 63, 10, 9, 0, 34, 11, 6, 13, 1, None, None, None, None, 1)\n",
      "(9, 'barrebi01', 1871, 1, 'FW1', 4, 'NA', 1, None, 5, 1, 1, 1, 0, 0, 1, 0, 0, 0, 0, None, None, None, None, 0)\n",
      "(10, 'barrofr01', 1871, 1, 'BS1', 1, 'NA', 18, None, 86, 13, 13, 2, 1, 0, 11, 1, 0, 0, 0, None, None, None, None, 0)\n"
     ]
    }
   ],
   "source": [
    "cursor = cnx.cursor()\n",
    "sql = \"SELECT * FROM Batting LIMIT 10\"\n",
    "cursor.execute(sql)\n",
    "results = cursor.fetchall()\n",
    "for x in results:\n",
    "    print(x)"
   ]
  },
  {
   "cell_type": "code",
   "execution_count": 4,
   "metadata": {},
   "outputs": [
    {
     "name": "stdout",
     "output_type": "stream",
     "text": [
      "('George', 'Foster', 52, 'Cincinnati Reds', 1977)\n",
      "('Jeff', 'Burroughs', 41, 'Atlanta Braves', 1977)\n",
      "('Greg', 'Luzinski', 39, 'Philadelphia Phillies', 1977)\n",
      "('Jim', 'Rice', 39, 'Boston Red Sox', 1977)\n",
      "('Mike', 'Schmidt', 38, 'Philadelphia Phillies', 1977)\n"
     ]
    }
   ],
   "source": [
    "sql = \"\"\"\n",
    "SELECT p.nameFirst, p.nameLast, b.HR, t.name AS team, b.yearID\n",
    "FROM batting b\n",
    "    JOIN people p ON p.playerID = b.playerID\n",
    "    JOIN teams t ON t.ID = b.team_ID\n",
    "WHERE b.YearID = 1977\n",
    "ORDER BY b.HR DESC\n",
    "LIMIT 5;\n",
    "\"\"\"\n",
    "cursor.execute(sql)\n",
    "results = cursor.fetchall()\n",
    "for x in results:\n",
    "    print(x)"
   ]
  },
  {
   "cell_type": "code",
   "execution_count": 5,
   "metadata": {},
   "outputs": [
    {
     "name": "stdout",
     "output_type": "stream",
     "text": [
      "        0          1   2                      3     4\n",
      "0  George     Foster  52        Cincinnati Reds  1977\n",
      "1    Jeff  Burroughs  41         Atlanta Braves  1977\n",
      "2    Greg   Luzinski  39  Philadelphia Phillies  1977\n",
      "3     Jim       Rice  39         Boston Red Sox  1977\n",
      "4    Mike    Schmidt  38  Philadelphia Phillies  1977\n"
     ]
    }
   ],
   "source": [
    "import pandas as pd\n",
    "\n",
    "df = pd.DataFrame(results)\n",
    "print(df)  "
   ]
  },
  {
   "cell_type": "code",
   "execution_count": 6,
   "metadata": {},
   "outputs": [
    {
     "name": "stdout",
     "output_type": "stream",
     "text": [
      "<class 'list'>\n",
      "<class 'tuple'>\n",
      "[('nameFirst', 253, None, None, None, None, 1, 0), ('nameLast', 253, None, None, None, None, 1, 0), ('HR', 2, None, None, None, None, 1, 0), ('team', 253, None, None, None, None, 1, 0), ('yearID', 2, None, None, None, None, 0, 20481)]\n"
     ]
    }
   ],
   "source": [
    "print(type(cursor.description))\n",
    "print(type(cursor.description[0]))\n",
    "print(cursor.description)"
   ]
  },
  {
   "cell_type": "code",
   "execution_count": 7,
   "metadata": {},
   "outputs": [
    {
     "name": "stdout",
     "output_type": "stream",
     "text": [
      "Column 1:\n",
      "  column_name = nameFirst\n",
      "  type = 253 (VAR_STRING)\n",
      "  null_ok = 1\n",
      "  column_flags = 0\n",
      "Column 2:\n",
      "  column_name = nameLast\n",
      "  type = 253 (VAR_STRING)\n",
      "  null_ok = 1\n",
      "  column_flags = 0\n",
      "Column 3:\n",
      "  column_name = HR\n",
      "  type = 2 (SHORT)\n",
      "  null_ok = 1\n",
      "  column_flags = 0\n",
      "Column 4:\n",
      "  column_name = team\n",
      "  type = 253 (VAR_STRING)\n",
      "  null_ok = 1\n",
      "  column_flags = 0\n",
      "Column 5:\n",
      "  column_name = yearID\n",
      "  type = 2 (SHORT)\n",
      "  null_ok = 0\n",
      "  column_flags = 20481\n"
     ]
    }
   ],
   "source": [
    "from mysql.connector import FieldType\n",
    "\n",
    "for i in range(len(cursor.description)):\n",
    "  print(\"Column {}:\".format(i+1))\n",
    "  desc = cursor.description[i]\n",
    "  print(\"  column_name = {}\".format(desc[0]))\n",
    "  print(\"  type = {} ({})\".format(desc[1], FieldType.get_info(desc[1])))\n",
    "  print(\"  null_ok = {}\".format(desc[6]))\n",
    "  print(\"  column_flags = {}\".format(desc[7]))"
   ]
  },
  {
   "cell_type": "code",
   "execution_count": 8,
   "metadata": {},
   "outputs": [
    {
     "name": "stdout",
     "output_type": "stream",
     "text": [
      "['nameFirst', 'nameLast', 'HR', 'team', 'yearID']\n"
     ]
    }
   ],
   "source": [
    "headers = [i[0] for i in cursor.description]\n",
    "print(headers)"
   ]
  },
  {
   "cell_type": "code",
   "execution_count": 9,
   "metadata": {},
   "outputs": [
    {
     "name": "stdout",
     "output_type": "stream",
     "text": [
      "['Foster, George', 'Burroughs, Jeff', 'Luzinski, Greg', 'Rice, Jim', 'Schmidt, Mike']\n"
     ]
    }
   ],
   "source": [
    "player = list(df[1] + \", \" + df[0])\n",
    "print(player)"
   ]
  },
  {
   "cell_type": "code",
   "execution_count": 10,
   "metadata": {},
   "outputs": [
    {
     "name": "stdout",
     "output_type": "stream",
     "text": [
      "                nameFirst   nameLast  HR                   team  yearID\n",
      "Foster, George     George     Foster  52        Cincinnati Reds    1977\n",
      "Burroughs, Jeff      Jeff  Burroughs  41         Atlanta Braves    1977\n",
      "Luzinski, Greg       Greg   Luzinski  39  Philadelphia Phillies    1977\n",
      "Rice, Jim             Jim       Rice  39         Boston Red Sox    1977\n",
      "Schmidt, Mike        Mike    Schmidt  38  Philadelphia Phillies    1977\n"
     ]
    }
   ],
   "source": [
    "df = pd.DataFrame(results, columns =[headers[0], headers[1], headers[2], headers[3], headers[4]], index=player)\n",
    "print(df)  "
   ]
  },
  {
   "cell_type": "code",
   "execution_count": 11,
   "metadata": {},
   "outputs": [
    {
     "data": {
      "text/plain": [
       "Text(0.5, 1.0, 'Home Runs')"
      ]
     },
     "execution_count": 11,
     "metadata": {},
     "output_type": "execute_result"
    },
    {
     "data": {
      "image/png": "[encoded data removed]",
      "text/plain": [
       "<Figure size 360x360 with 1 Axes>"
      ]
     },
     "metadata": {},
     "output_type": "display_data"
    }
   ],
   "source": [
    "%matplotlib inline\n",
    "\n",
    "df.plot(\n",
    "    y=\"HR\", kind='pie', legend=False, label=\"\", figsize=(5, 5)\n",
    "    ).set_title('Home Runs', fontdict={'fontsize': 32, 'fontweight': 'medium'})"
   ]
  },
  {
   "cell_type": "code",
   "execution_count": 12,
   "metadata": {},
   "outputs": [
    {
     "name": "stdout",
     "output_type": "stream",
     "text": [
      "           0         1   2    3  4  5     6   7   8          9  ...   25  26  \\\n",
      "0        Jose     Abreu  75  255  R  R  1987   1  29       Cuba ...  123   2   \n",
      "1      Ronald     Acuna  72  180  R  R  1997  12  18  Venezuela ...  101  37   \n",
      "2       Willy    Adames  72  205  R  R  1995   9   2       D.R. ...   52   4   \n",
      "3        Matt     Adams  75  245  R  L  1988   8  31        USA ...   56   0   \n",
      "4       Ehire  Adrianza  73  195  R  B  1989   8  21  Venezuela ...   22   0   \n",
      "5       Jesus   Aguilar  75  250  R  R  1990   6  30  Venezuela ...   34   0   \n",
      "6        Nick     Ahmed  74  195  R  R  1990   3  15        USA ...   82   8   \n",
      "7      Hanser   Alberto  71  215  R  R  1992  10  17       D.R. ...   51   4   \n",
      "8        Matt    Albers  73  225  R  L  1983   1  20        USA ...    0   0   \n",
      "9       Ozzie    Albies  68  165  R  B  1997   1   7    Curacao ...   86  15   \n",
      "10      Jorge    Alfaro  74  225  R  R  1993   6  11   Colombia ...   57   4   \n",
      "11       Greg     Allen  72  185  R  B  1993   3  15        USA ...   27   8   \n",
      "12     Albert    Almora  74  190  R  R  1994   4  16        USA ...   32   2   \n",
      "13       Pete    Alonso  75  245  R  R  1994  12   7        USA ...  120   1   \n",
      "14     Yonder    Alonso  73  230  R  L  1987   4   8       Cuba ...   27   0   \n",
      "15     Yonder    Alonso  73  230  R  L  1987   4   8       Cuba ...   10   0   \n",
      "16       Jose    Altuve  66  165  R  R  1990   5   6  Venezuela ...   74   6   \n",
      "17       Jose   Alvarez  71  180  L  L  1989   5   6  Venezuela ...    0   0   \n",
      "18     Yordan   Alvarez  77  225  R  L  1997   6  27       Cuba ...   78   0   \n",
      "19      Brian  Anderson  75  185  R  R  1993   5  19        USA ...   66   5   \n",
      "20     Justin  Anderson  75  230  R  L  1992   9  28        USA ...    0   0   \n",
      "21        Tim  Anderson  73  185  R  R  1993   6  23        USA ...   56  17   \n",
      "22       Matt  Andriese  74  225  R  R  1989   8  28        USA ...    0   0   \n",
      "23      Elvis    Andrus  72  200  R  R  1988   8  26  Venezuela ...   72  31   \n",
      "24  Aristides    Aquino  76  220  R  R  1994   4  22       D.R. ...   47   7   \n",
      "\n",
      "    27  28   29  30  31  32  33  34  \n",
      "0    2  36  152   4  13   0  10  24  \n",
      "1    9  76  188   4   9   0   1   8  \n",
      "2    2  46  153   1   3   3   1   9  \n",
      "3    0  20  115   1   2   0   1   7  \n",
      "4    2  20   40   1   6   2   4   2  \n",
      "5    0  31   59   0   2   0   4  11  \n",
      "6    2  52  113   2   4   1  12  15  \n",
      "7    4  16   50   1   4   3   3   9  \n",
      "8    0   0    0   0   0   0   0   0  \n",
      "9    4  54  112   6   4   0   4   2  \n",
      "10   4  22  154   1  10   0   2  12  \n",
      "11   2  11   53   1   9   4   1   3  \n",
      "12   1  16   62   4   1   5   2   8  \n",
      "13   0  72  183   6  21   0   3  13  \n",
      "14   1  29   53   2   1   0   2   8  \n",
      "15   0  10   17   1   1   0   0   5  \n",
      "16   5  41   82   0   3   1   3  19  \n",
      "17   0   0    0   0   0   0   0   0  \n",
      "18   0  52   94   4   2   0   2   9  \n",
      "19   1  44  114   1  14   0   3  15  \n",
      "20   0   0    0   0   0   0   0   0  \n",
      "21   5  15  109   0   3   0   2  12  \n",
      "22   0   0    3   0   0   0   0   0  \n",
      "23   8  34   96   1   4   0  10  16  \n",
      "24   0  16   60   2   2   0   2   5  \n",
      "\n",
      "[25 rows x 35 columns]\n"
     ]
    }
   ],
   "source": [
    "cursor = cnx.cursor()\n",
    "sql = \"\"\"\n",
    "SELECT p.nameFirst, p.nameLast, p.Height, p.Weight, p.throws, p.bats,\n",
    "p.birthyear, p.birthMonth, p.birthday,p.birthCountry, b.*\n",
    "FROM People p\n",
    "JOIN Batting b ON b.playerID = p.playerID\n",
    "WHERE yearID between 2014 and 2019 AND b.g >= \"50\"\n",
    "ORDER BY b.yearID Desc\n",
    "LIMIT 25;\n",
    "\"\"\"\n",
    "cursor.execute(sql)\n",
    "results = cursor.fetchall()\n",
    "df_baseball = pd.DataFrame(results)\n",
    "print(df_baseball)"
   ]
  },
  {
   "cell_type": "code",
   "execution_count": 13,
   "metadata": {},
   "outputs": [
    {
     "name": "stdout",
     "output_type": "stream",
     "text": [
      "<class 'list'>\n",
      "<class 'tuple'>\n",
      "35\n",
      "[('nameFirst', 253, None, None, None, None, 1, 0), ('nameLast', 253, None, None, None, None, 1, 0), ('Height', 3, None, None, None, None, 1, 0), ('Weight', 3, None, None, None, None, 1, 0), ('throws', 253, None, None, None, None, 1, 0), ('bats', 253, None, None, None, None, 1, 0), ('birthyear', 3, None, None, None, None, 1, 0), ('birthMonth', 3, None, None, None, None, 1, 0), ('birthday', 3, None, None, None, None, 1, 0), ('birthCountry', 253, None, None, None, None, 1, 0), ('ID', 3, None, None, None, None, 0, 16899), ('playerID', 253, None, None, None, None, 0, 20489), ('yearID', 2, None, None, None, None, 0, 20481), ('stint', 2, None, None, None, None, 0, 20481), ('teamID', 254, None, None, None, None, 1, 0), ('team_ID', 3, None, None, None, None, 1, 16392), ('lgID', 254, None, None, None, None, 1, 16392), ('G', 2, None, None, None, None, 1, 0), ('G_batting', 2, None, None, None, None, 1, 0), ('AB', 2, None, None, None, None, 1, 0), ('R', 2, None, None, None, None, 1, 0), ('H', 2, None, None, None, None, 1, 0), ('2B', 2, None, None, None, None, 1, 0), ('3B', 2, None, None, None, None, 1, 0), ('HR', 2, None, None, None, None, 1, 0), ('RBI', 2, None, None, None, None, 1, 0), ('SB', 2, None, None, None, None, 1, 0), ('CS', 2, None, None, None, None, 1, 0), ('BB', 2, None, None, None, None, 1, 0), ('SO', 2, None, None, None, None, 1, 0), ('IBB', 2, None, None, None, None, 1, 0), ('HBP', 2, None, None, None, None, 1, 0), ('SH', 2, None, None, None, None, 1, 0), ('SF', 2, None, None, None, None, 1, 0), ('GIDP', 2, None, None, None, None, 1, 0)]\n"
     ]
    }
   ],
   "source": [
    "print(type(cursor.description))\n",
    "print(type(cursor.description[0]))\n",
    "print(len(cursor.description))\n",
    "print(cursor.description)"
   ]
  },
  {
   "cell_type": "code",
   "execution_count": 14,
   "metadata": {},
   "outputs": [
    {
     "name": "stdout",
     "output_type": "stream",
     "text": [
      "['nameFirst', 'nameLast', 'Height', 'Weight', 'throws', 'bats', 'birthyear', 'birthMonth', 'birthday', 'birthCountry', 'ID', 'playerID', 'yearID', 'stint', 'teamID', 'team_ID', 'lgID', 'G', 'G_batting', 'AB', 'R', 'H', '2B', '3B', 'HR', 'RBI', 'SB', 'CS', 'BB', 'SO', 'IBB', 'HBP', 'SH', 'SF', 'GIDP']\n",
      "<class 'list'>\n"
     ]
    }
   ],
   "source": [
    "headers = [i[0] for i in cursor.description]\n",
    "print(headers)\n",
    "print(type(headers))"
   ]
  },
  {
   "cell_type": "code",
   "execution_count": 15,
   "metadata": {},
   "outputs": [
    {
     "name": "stdout",
     "output_type": "stream",
     "text": [
      "                nameFirst  nameLast  Height  Weight throws bats  birthyear  \\\n",
      "Jose, Abreu          Jose     Abreu      75     255      R    R       1987   \n",
      "Ronald, Acuna      Ronald     Acuna      72     180      R    R       1997   \n",
      "Willy, Adames       Willy    Adames      72     205      R    R       1995   \n",
      "Matt, Adams          Matt     Adams      75     245      R    L       1988   \n",
      "Ehire, Adrianza     Ehire  Adrianza      73     195      R    B       1989   \n",
      "\n",
      "                 birthMonth  birthday birthCountry  ...   RBI  SB  CS  BB  \\\n",
      "Jose, Abreu               1        29         Cuba  ...   123   2   2  36   \n",
      "Ronald, Acuna            12        18    Venezuela  ...   101  37   9  76   \n",
      "Willy, Adames             9         2         D.R.  ...    52   4   2  46   \n",
      "Matt, Adams               8        31          USA  ...    56   0   0  20   \n",
      "Ehire, Adrianza           8        21    Venezuela  ...    22   0   2  20   \n",
      "\n",
      "                  SO  IBB HBP  SH  SF  GIDP  \n",
      "Jose, Abreu      152    4  13   0  10    24  \n",
      "Ronald, Acuna    188    4   9   0   1     8  \n",
      "Willy, Adames    153    1   3   3   1     9  \n",
      "Matt, Adams      115    1   2   0   1     7  \n",
      "Ehire, Adrianza   40    1   6   2   4     2  \n",
      "\n",
      "[5 rows x 35 columns]\n"
     ]
    }
   ],
   "source": [
    "playerName = list(df_baseball[0] + \", \" + df_baseball[1])\n",
    "df_baseball = pd.DataFrame(results, columns = \n",
    "    [headers[0],headers[1],headers[2],headers[3],headers[4],headers[5],headers[6],\n",
    "    headers[7],headers[8],headers[9],headers[10],headers[11],headers[12],\n",
    "    headers[13],headers[14],headers[15],headers[16],headers[17],headers[18],\n",
    "    headers[19],headers[20],headers[21],headers[22],headers[23],headers[24],\n",
    "    headers[25],headers[26],headers[27],headers[28],headers[29],headers[30],\n",
    "    headers[31],headers[32],headers[33],headers[34]], index=playerName)\n",
    "\n",
    "print(df_baseball.head())"
   ]
  },
  {
   "cell_type": "code",
   "execution_count": 19,
   "metadata": {},
   "outputs": [
    {
     "name": "stdout",
     "output_type": "stream",
     "text": [
      "<class 'pandas.core.series.Series'>\n",
      "<class 'pandas.core.series.Series'>\n",
      "<class 'pandas.core.series.Series'>\n",
      "<class 'numpy.int64'>\n",
      "<class 'numpy.int64'>\n",
      "<class 'numpy.int64'>\n"
     ]
    }
   ],
   "source": [
    "print(type(df_baseball['birthyear']))\n",
    "print(type(df_baseball['birthMonth']))\n",
    "print(type(df_baseball['birthday']))\n",
    "print(type(df_baseball['birthyear'][0]))\n",
    "print(type(df_baseball['birthMonth'][1]))\n",
    "print(type(df_baseball['birthday'][2]))"
   ]
  },
  {
   "cell_type": "code",
   "execution_count": 20,
   "metadata": {},
   "outputs": [
    {
     "name": "stdout",
     "output_type": "stream",
     "text": [
      "Jose, Abreu         1987-01-29\n",
      "Ronald, Acuna       1997-12-18\n",
      "Willy, Adames       1995-09-02\n",
      "Matt, Adams         1988-08-31\n",
      "Ehire, Adrianza     1989-08-21\n",
      "Jesus, Aguilar      1990-06-30\n",
      "Nick, Ahmed         1990-03-15\n",
      "Hanser, Alberto     1992-10-17\n",
      "Matt, Albers        1983-01-20\n",
      "Ozzie, Albies       1997-01-07\n",
      "Jorge, Alfaro       1993-06-11\n",
      "Greg, Allen         1993-03-15\n",
      "Albert, Almora      1994-04-16\n",
      "Pete, Alonso        1994-12-07\n",
      "Yonder, Alonso      1987-04-08\n",
      "Yonder, Alonso      1987-04-08\n",
      "Jose, Altuve        1990-05-06\n",
      "Jose, Alvarez       1989-05-06\n",
      "Yordan, Alvarez     1997-06-27\n",
      "Brian, Anderson     1993-05-19\n",
      "Justin, Anderson    1992-09-28\n",
      "Tim, Anderson       1993-06-23\n",
      "Matt, Andriese      1989-08-28\n",
      "Elvis, Andrus       1988-08-26\n",
      "Aristides, Aquino   1994-04-22\n",
      "dtype: datetime64[ns]\n"
     ]
    }
   ],
   "source": [
    "# See: https://stackoverflow.com/questions/19350806/how-to-convert-columns-into-one-datetime-column-in-pandas\n",
    "birthday_C = pd.to_datetime(dict(year=df_baseball.birthyear, month=df_baseball.birthMonth, day=df_baseball.birthday))\n",
    "print(birthday_C)"
   ]
  },
  {
   "cell_type": "code",
   "execution_count": 21,
   "metadata": {},
   "outputs": [
    {
     "data": {
      "text/plain": [
       "pandas._libs.tslibs.timestamps.Timestamp"
      ]
     },
     "execution_count": 21,
     "metadata": {},
     "output_type": "execute_result"
    }
   ],
   "source": [
    "type(birthday_C[0])"
   ]
  },
  {
   "cell_type": "code",
   "execution_count": null,
   "metadata": {},
   "outputs": [],
   "source": []
  }
 ],
 "metadata": {
  "kernelspec": {
   "display_name": "Python 3",
   "language": "python",
   "name": "python3"
  },
  "language_info": {
   "codemirror_mode": {
    "name": "ipython",
    "version": 3
   },
   "file_extension": ".py",
   "mimetype": "text/x-python",
   "name": "python",
   "nbconvert_exporter": "python",
   "pygments_lexer": "ipython3",
   "version": "3.7.6"
  }
 },
 "nbformat": 4,
 "nbformat_minor": 4
}
