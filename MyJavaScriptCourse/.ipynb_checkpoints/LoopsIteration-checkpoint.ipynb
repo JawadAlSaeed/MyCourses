{
 "cells": [
  {
   "cell_type": "markdown",
   "metadata": {},
   "source": [
    "# Loops and Iteration\n",
    "\n",
    "See: https://developer.mozilla.org/en-US/docs/Web/JavaScript/Guide/Loops_and_iteration\n",
    "\n",
    "* The ```while``` Statement\n",
    "* The ```do-while``` Statement\n",
    "* The ```for``` Statement\n",
    "* The ```for...in``` Statement\n",
    "* The ```for...of``` Statement\n",
    "* Compare ```for...in``` vs ```for...of```\n",
    "* The ```break``` Statement\n",
    "* The ```label``` Statement\n",
    "* The ```continue``` Statement"
   ]
  },
  {
   "cell_type": "markdown",
   "metadata": {},
   "source": [
    "## The ```while``` Statement\n",
    "\n",
    "* xxx"
   ]
  },
  {
   "cell_type": "code",
   "execution_count": 8,
   "metadata": {},
   "outputs": [
    {
     "name": "stdout",
     "output_type": "stream",
     "text": [
      "10\n",
      "20\n",
      "30\n",
      "40\n",
      "50\n"
     ]
    },
    {
     "data": {
      "text/plain": [
       "5"
      ]
     },
     "execution_count": 8,
     "metadata": {},
     "output_type": "execute_result"
    }
   ],
   "source": [
    "{\n",
    "let i = 1;\n",
    "while (i <= 5) {\n",
    "  console.log(i*10);\n",
    "  i++;\n",
    "}\n",
    "}"
   ]
  },
  {
   "cell_type": "markdown",
   "metadata": {},
   "source": [
    "## The ```do-while``` Statement\n",
    "\n",
    "* xxx"
   ]
  },
  {
   "cell_type": "code",
   "execution_count": 12,
   "metadata": {},
   "outputs": [
    {
     "name": "stdout",
     "output_type": "stream",
     "text": [
      "0\n",
      "1\n",
      "2\n",
      "3\n",
      "4\n"
     ]
    },
    {
     "data": {
      "text/plain": [
       "4"
      ]
     },
     "execution_count": 12,
     "metadata": {},
     "output_type": "execute_result"
    }
   ],
   "source": [
    "{\n",
    "let i = 0;\n",
    "do {\n",
    "    console.log( i );\n",
    "    i++;\n",
    "} while (i < 5);\n",
    "}"
   ]
  },
  {
   "cell_type": "markdown",
   "metadata": {},
   "source": [
    "## The ```for``` Statement\n",
    "\n",
    "* xxx"
   ]
  },
  {
   "cell_type": "code",
   "execution_count": 10,
   "metadata": {},
   "outputs": [
    {
     "name": "stdout",
     "output_type": "stream",
     "text": [
      "Step: 0\n",
      "Step: 1\n",
      "Step: 2\n",
      "Step: 3\n",
      "Step: 4\n"
     ]
    }
   ],
   "source": [
    "{\n",
    "for (let step = 0; step < 5; step++) {\n",
    "    console.log('Step: ' + step); // loop 5 times: steps 0 -> 4\n",
    "}\n",
    "}"
   ]
  },
  {
   "cell_type": "markdown",
   "metadata": {},
   "source": [
    "## * The ```for...in``` statement\n",
    "\n",
    "* xxx"
   ]
  },
  {
   "cell_type": "code",
   "execution_count": null,
   "metadata": {},
   "outputs": [],
   "source": []
  },
  {
   "cell_type": "markdown",
   "metadata": {},
   "source": [
    "## The ```for...of``` Statement\n",
    "\n",
    "* The ```for...of``` statement loops over properties in iterable objects:\n",
    "    - String\n",
    "    - Array\n",
    "    - Array-like objects\n",
    "    - TypedArray\n",
    "    - Map\n",
    "    - Set\n",
    "    - User-defined iterables\n",
    "* The ```for...of``` statement syntax:\n",
    "    ```\n",
    "    for (variable of iterable) {\n",
    "      statement\n",
    "    }\n",
    "    ```\n",
    "    - ```variable``` on each iteration a value of a different property is assigned to variable\n",
    "    - ```iterable``` is an object whose iterable properties are iterated"
   ]
  },
  {
   "cell_type": "code",
   "execution_count": 6,
   "metadata": {},
   "outputs": [
    {
     "name": "stdout",
     "output_type": "stream",
     "text": [
      "a\n",
      "a\n",
      "b\n",
      "c\n",
      "b\n",
      "a\n",
      "b\n",
      "c\n",
      "c\n",
      "a\n",
      "b\n",
      "c\n"
     ]
    }
   ],
   "source": [
    "{\n",
    "let iterable = ['a', 'b', 'c'];\n",
    "for (const element of iterable) {\n",
    "    console.log(element);\n",
    "iterable = 'abc';\n",
    "for (const element of iterable) {\n",
    "    console.log(element);\n",
    "}\n",
    "}\n",
    "}"
   ]
  },
  {
   "cell_type": "markdown",
   "metadata": {},
   "source": [
    "## Compare ```for...in``` vs ```for...of```\n",
    "\n",
    "* Both for...in and for...of statements iterate over something\n",
    "* The main difference between them is in what they iterate over\n",
    "* ```for...in``` iterates over enumerable properties of an object in an arbitrary order\n",
    "* ```for...of``` iterates over values that the iterable object defines to be iterated over"
   ]
  },
  {
   "cell_type": "code",
   "execution_count": 9,
   "metadata": {},
   "outputs": [
    {
     "name": "stdout",
     "output_type": "stream",
     "text": [
      "0\n",
      "1\n",
      "2\n",
      "foo\n",
      "arrCustom\n",
      "objCustom\n",
      "0\n",
      "1\n",
      "2\n",
      "foo\n",
      "3\n",
      "5\n",
      "7\n"
     ]
    }
   ],
   "source": [
    "{\n",
    "Object.prototype.objCustom = function() {}; \n",
    "Array.prototype.arrCustom = function() {};\n",
    "\n",
    "const iterable = [3, 5, 7];\n",
    "iterable.foo = 'hello';\n",
    "\n",
    "for (const i in iterable) {\n",
    "  console.log(i); // logs 0, 1, 2, \"foo\", \"arrCustom\", \"objCustom\"\n",
    "}\n",
    "\n",
    "for (const i in iterable) {\n",
    "  if (iterable.hasOwnProperty(i)) {\n",
    "    console.log(i); // logs 0, 1, 2, \"foo\"\n",
    "  }\n",
    "}\n",
    "\n",
    "for (const i of iterable) {\n",
    "  console.log(i); // logs 3, 5, 7\n",
    "}\n",
    "}"
   ]
  },
  {
   "cell_type": "markdown",
   "metadata": {},
   "source": [
    "## The ```break``` Statement\n",
    "\n",
    "* xxx"
   ]
  },
  {
   "cell_type": "code",
   "execution_count": 1,
   "metadata": {},
   "outputs": [
    {
     "name": "stdout",
     "output_type": "stream",
     "text": [
      "Sum: 495\n"
     ]
    }
   ],
   "source": [
    "{\n",
    "    let sum = 0;\n",
    "    let max = 100;\n",
    "    let delta = 5\n",
    "    let counter = 1\n",
    "    while (true) {\n",
    "        if (counter == max)\n",
    "            break;\n",
    "        sum += delta;\n",
    "        counter ++;\n",
    "    }\n",
    "    console.log( 'Sum: ' + sum );\n",
    "}"
   ]
  },
  {
   "cell_type": "markdown",
   "metadata": {},
   "source": [
    "## The ```label``` Statement\n",
    "\n",
    "* xxx"
   ]
  },
  {
   "cell_type": "code",
   "execution_count": 14,
   "metadata": {},
   "outputs": [
    {
     "name": "stdout",
     "output_type": "stream",
     "text": [
      "Outer loops: 0\n",
      "Inner loops: 1\n",
      "Inner loops: 2\n",
      "Outer loops: 1\n",
      "Inner loops: 1\n",
      "Inner loops: 2\n",
      "Outer loops: 2\n",
      "Inner loops: 1\n",
      "Inner loops: 2\n"
     ]
    }
   ],
   "source": [
    "{\n",
    "let x = 0;\n",
    "let z = 0;\n",
    "labelCancelLoops: while (true) {\n",
    "  console.log('Outer loops: ' + x);\n",
    "  x += 1;\n",
    "  z = 1;\n",
    "  while (true) {\n",
    "    console.log('Inner loops: ' + z);\n",
    "    z += 1;\n",
    "    if (z === 3 && x === 3) {\n",
    "      break labelCancelLoops;\n",
    "    } else if (z === 3) {\n",
    "      break;\n",
    "    }\n",
    "  }\n",
    "}\n",
    "}"
   ]
  },
  {
   "cell_type": "markdown",
   "metadata": {},
   "source": [
    "## The ```continue``` Statement\n",
    "\n",
    "* xxx"
   ]
  },
  {
   "cell_type": "code",
   "execution_count": null,
   "metadata": {},
   "outputs": [],
   "source": []
  }
 ],
 "metadata": {
  "kernelspec": {
   "display_name": "Javascript (Node.js)",
   "language": "javascript",
   "name": "javascript"
  },
  "language_info": {
   "file_extension": ".js",
   "mimetype": "application/javascript",
   "name": "javascript",
   "version": "10.13.0"
  }
 },
 "nbformat": 4,
 "nbformat_minor": 4
}
