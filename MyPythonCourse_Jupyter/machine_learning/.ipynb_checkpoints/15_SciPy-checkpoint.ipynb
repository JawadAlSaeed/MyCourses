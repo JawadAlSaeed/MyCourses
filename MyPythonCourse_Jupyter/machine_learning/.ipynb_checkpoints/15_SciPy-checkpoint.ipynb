{
 "cells": [
  {
   "cell_type": "markdown",
   "metadata": {},
   "source": [
    "# 15 SciPy\n"
   ]
  },
  {
   "cell_type": "code",
   "execution_count": 1,
   "metadata": {},
   "outputs": [
    {
     "name": "stdout",
     "output_type": "stream",
     "text": [
      "\n",
      "Test for certain SciPy related python packages:\n",
      "\n",
      "Python version required: 3.5.\n",
      "Good - Python version installed: 3.6.\n",
      "\n",
      "test_numpy()\n",
      "Good: Could import numpy.\n",
      "values = np.arange(0, 10, 1) ->  [0 1 2 3 4 5 6 7 8 9]\n",
      "sum = np.sum(values) ->  45\n",
      "\n",
      "test_scipy()\n",
      "Good: Could import scipy.\n",
      "Good: Could import scipy.integrate.\n",
      "scipy.integrate.quad(lambda x: x * x, 0, 10)[0] ->  333.33333333333326\n",
      "\n",
      "test_pylab\n",
      "Good: Could import pylab.\n",
      "pylab.plot(xvalues, yvalues, \"-o\", label=\"sin(x) + cos(sqrt(3)*x))\")\n"
     ]
    },
    {
     "data": {
      "image/png": "[encoded data removed]",
      "text/plain": [
       "<matplotlib.figure.Figure at 0x1b59f91c4a8>"
      ]
     },
     "metadata": {},
     "output_type": "display_data"
    }
   ],
   "source": [
    "# scipy_math_trig.py\n",
    "\n",
    "%matplotlib inline\n",
    "\n",
    "import math\n",
    "import sys\n",
    "\n",
    "def test_numpy():\n",
    "    print(\"\\ntest_numpy()\")\n",
    "    try:\n",
    "        import numpy as np\n",
    "        print(\"Good: Could import numpy.\")\n",
    "    except ImportError:\n",
    "        print(\"Bad: Could not import numpy.\")\n",
    "        return None\n",
    "    values = np.arange(0, 10, 1)\n",
    "    print(\"values = np.arange(0, 10, 1) -> \", values)\n",
    "    sum = np.sum(values)\n",
    "    print(\"sum = np.sum(values) -> \", sum)\n",
    "\n",
    "def test_scipy():\n",
    "    print(\"\\ntest_scipy()\")\n",
    "    try:\n",
    "        import scipy\n",
    "        print(\"Good: Could import scipy.\")\n",
    "        import scipy.integrate\n",
    "        print(\"Good: Could import scipy.integrate.\")\n",
    "    except ImportError:\n",
    "        print(\"Bad: Could not import scipy.\")\n",
    "        return None\n",
    "    integral = scipy.integrate.quad(lambda x: x * x, 0, 10)[0]\n",
    "    print(\"scipy.integrate.quad(lambda x: x * x, 0, 10)[0] -> \", integral)\n",
    "\n",
    "def test_pylab():\n",
    "    print(\"\\ntest_pylab\")\n",
    "    try:\n",
    "        import pylab\n",
    "        print(\"Good: Could import pylab.\")\n",
    "    except ImportError:\n",
    "        print(\"Good: Could import pylab.\")\n",
    "        return None\n",
    "    \n",
    "    print(\"pylab.plot(xvalues, yvalues, \\\"-o\\\", label=\\\"sin(x) + cos(sqrt(3)*x))\\\")\")\n",
    "    xvalues = [i * 0.1 for i in range(200)]\n",
    "    yvalues = [math.sin(x) + math.cos(math.sqrt(3)*x) for x in xvalues]\n",
    "    pylab.plot(xvalues, yvalues, \"-o\", label=\"sin(x) + cos(sqrt(3)*x))\")\n",
    "    pylab.legend()\n",
    "    pylab.xlabel('x')\n",
    "\n",
    "if __name__ == \"__main__\":\n",
    "\n",
    "    print(\"\\nTest for certain SciPy related python packages:\\n\")\n",
    "     # Require Python 3.5 or greater\n",
    "    major = sys.version_info.major\n",
    "    minor = sys.version_info.minor\n",
    "    print(\"Python version required: 3.5.\")\n",
    "    if major == 3 and minor >= 5:\n",
    "        print(\"Good - Python version installed: {}.{}.\".format(major, minor))\n",
    "    else:\n",
    "        print(\"Bad: - Python version installed: {}.{}.\".format(minor, minor))\n",
    "        sys.exit(1)\n",
    "    \n",
    "    test_numpy()\n",
    "    test_scipy()\n",
    "    test_pylab()\n"
   ]
  },
  {
   "cell_type": "code",
   "execution_count": null,
   "metadata": {
    "collapsed": true
   },
   "outputs": [],
   "source": []
  }
 ],
 "metadata": {
  "kernelspec": {
   "display_name": "Python 3",
   "language": "python",
   "name": "python3"
  },
  "language_info": {
   "codemirror_mode": {
    "name": "ipython",
    "version": 3
   },
   "file_extension": ".py",
   "mimetype": "text/x-python",
   "name": "python",
   "nbconvert_exporter": "python",
   "pygments_lexer": "ipython3",
   "version": "3.6.3"
  }
 },
 "nbformat": 4,
 "nbformat_minor": 2
}
