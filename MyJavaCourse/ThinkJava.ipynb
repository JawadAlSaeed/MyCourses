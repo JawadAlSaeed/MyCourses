{
 "cells": [
  {
   "cell_type": "markdown",
   "metadata": {},
   "source": [
    "# Think Java\n",
    "[HTML version](http://greenteapress.com/thinkjava6/html/index.html)"
   ]
  },
  {
   "cell_type": "code",
   "execution_count": 6,
   "metadata": {},
   "outputs": [
    {
     "name": "stdout",
     "output_type": "stream",
     "text": [
      "Hello, World!\r\n"
     ]
    }
   ],
   "source": [
    "// See: http://greenteapress.com/thinkjava6/html/thinkjava6002.html#sec11\n",
    "\n",
    "public class Hello {\n",
    "\n",
    "    public static void main(String[] args) {\n",
    "        // generate some simple output\n",
    "        System.out.println(\"Hello, World!\");\n",
    "    }\n",
    "}\n",
    "\n",
    "Hello.main(null);"
   ]
  },
  {
   "cell_type": "code",
   "execution_count": 7,
   "metadata": {},
   "outputs": [
    {
     "name": "stdout",
     "output_type": "stream",
     "text": [
      "Hello, World!\n",
      "How are you?\n"
     ]
    }
   ],
   "source": [
    "// See: http://greenteapress.com/thinkjava6/html/thinkjava6002.html#sec12\n",
    "\n",
    "public class Hello {\n",
    "\n",
    "    public static void main(String[] args) {\n",
    "        // generate some simple output\n",
    "        System.out.println(\"Hello, World!\");  // first line\n",
    "        System.out.println(\"How are you?\");   // another line\n",
    "    }\n",
    "}\n",
    "\n",
    "Hello.main(null);"
   ]
  },
  {
   "cell_type": "code",
   "execution_count": 8,
   "metadata": {},
   "outputs": [
    {
     "name": "stdout",
     "output_type": "stream",
     "text": [
      "Hello!\n",
      "How are you doing?\n"
     ]
    }
   ],
   "source": [
    "// See: http://greenteapress.com/thinkjava6/html/thinkjava6002.html#sec13\n",
    "\n",
    "public class Hello {\n",
    "\n",
    "    public static void main(String[] args) {\n",
    "        System.out.print(\"Hello!\\nHow are you doing?\\n\");\n",
    "    }\n",
    "}\n",
    "\n",
    "Hello.main(null);"
   ]
  },
  {
   "cell_type": "markdown",
   "metadata": {},
   "source": [
    "## A few useful links\n",
    "[Google Java coding standards](http://google.github.io/styleguide/javaguide.html)  \n",
    "[Java keywords](http://docs.oracle.com/javase/tutorial/java/nutsandbolts/_keywords.html)  "
   ]
  },
  {
   "cell_type": "code",
   "execution_count": null,
   "metadata": {},
   "outputs": [],
   "source": []
  }
 ],
 "metadata": {
  "kernelspec": {
   "display_name": "Java",
   "language": "java",
   "name": "java"
  },
  "language_info": {
   "codemirror_mode": "java",
   "file_extension": ".jshell",
   "mimetype": "text/x-java-source",
   "name": "Java",
   "pygments_lexer": "java",
   "version": "13.0.2+8"
  }
 },
 "nbformat": 4,
 "nbformat_minor": 4
}
