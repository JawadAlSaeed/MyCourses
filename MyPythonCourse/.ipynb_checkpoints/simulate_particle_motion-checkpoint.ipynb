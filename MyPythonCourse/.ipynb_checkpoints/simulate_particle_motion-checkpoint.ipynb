{
 "cells": [
  {
   "cell_type": "code",
   "execution_count": 1,
   "metadata": {},
   "outputs": [
    {
     "name": "stdout",
     "output_type": "stream",
     "text": [
      "Number of particles on right is 0 after 8 time steps\n"
     ]
    },
    {
     "data": {
      "image/png": "[encoded data removed]",
      "text/plain": [
       "<Figure size 432x288 with 1 Axes>"
      ]
     },
     "metadata": {
      "needs_background": "light"
     },
     "output_type": "display_data"
    },
    {
     "data": {
      "text/plain": [
       "0"
      ]
     },
     "execution_count": 1,
     "metadata": {},
     "output_type": "execute_result"
    }
   ],
   "source": [
    "import random\n",
    "import matplotlib.pyplot as plt\n",
    "\n",
    "def simulate_particle_motion(NN, t):\n",
    "    \"\"\"This function simulates the motion of particles from one side\n",
    "    of a box to the other. Particles pass through a hole in the dividing wall. At each time step\n",
    "    any particle has the same probability as any other particle of passing\n",
    "    through the hole. Assume that the probability of a particle moving\n",
    "    from right to left is equal to the number of particles\n",
    "    in the right side divided by the total number of particles.\n",
    "    \n",
    "    NN = total number of particles (all initially on the right)\n",
    "    t = number of time steps\n",
    "    \n",
    "    The function returns the number of particles on the right at the end of the time steps.\n",
    "    \"\"\"\n",
    "\n",
    "    # create the array to hold the NN values that indicate if each particle is on the right or the left (i.e. 1 or 0)\n",
    "    particles = [1] * NN # list of NN elements all with the initial values set to 1\n",
    "    \n",
    "    # initially all particles are on the right\n",
    "    number_on_right = NN\n",
    "    \n",
    "    data = [number_on_right] # list of numbers of particles on right side to be plotted against time steps\n",
    "   \n",
    "    # time step counter i goes from 0 inclusive up to t exclusive    \n",
    "    for i in range(0, t):\n",
    "        # particle index j goes from 0 inclusive up to NN exclusive\n",
    "        for j in range(0, NN):\n",
    "            probability = number_on_right/NN    # probability of particle on the right to move to the left during time step        \n",
    "            rand = random.random()              # random number from uniform distribution between 0.0 and 1.0\n",
    "            if particles[j] == 1:               # only a particle on the right can move to the left\n",
    "                if rand < probability:\n",
    "                    particles[i] = 0        # particle now moves from right to left so it gets a 0\n",
    "                    number_on_right -= 1    # there is now one less particle on the right so decrement counter\n",
    "        \n",
    "        data.append(number_on_right)        # accumulate data to be plotted\n",
    "        \n",
    "        if number_on_right == 0:  # done because there are no more particles on the right\n",
    "            print(\"Number of particles on right is 0 after\", i+1, \"time steps\")\n",
    "            plotData(data)\n",
    "            return number_on_right\n",
    "        \n",
    "    print(\"Number of particles on right is\", number_on_right, \"after\", t, \"time steps\")\n",
    "    plotData(data)\n",
    "        \n",
    "    return number_on_right\n",
    "\n",
    "def plotData(data):\n",
    "    # plot evolution of number of particles on the right over time steps\n",
    "    fig = plt.figure()\n",
    "    plt.title(\"number of particles on the right over time steps\")\n",
    "    plt.xlabel(\"time steps\")\n",
    "    plt.ylabel(\"particle count on right side\")\n",
    "    plt.plot(data)\n",
    "    plt.show()\n",
    "\n",
    "simulate_particle_motion(500, 10)"
   ]
  },
  {
   "cell_type": "code",
   "execution_count": null,
   "metadata": {},
   "outputs": [],
   "source": []
  }
 ],
 "metadata": {
  "kernelspec": {
   "display_name": "Python 3",
   "language": "python",
   "name": "python3"
  },
  "language_info": {
   "codemirror_mode": {
    "name": "ipython",
    "version": 3
   },
   "file_extension": ".py",
   "mimetype": "text/x-python",
   "name": "python",
   "nbconvert_exporter": "python",
   "pygments_lexer": "ipython3",
   "version": "3.7.6"
  }
 },
 "nbformat": 4,
 "nbformat_minor": 4
}
