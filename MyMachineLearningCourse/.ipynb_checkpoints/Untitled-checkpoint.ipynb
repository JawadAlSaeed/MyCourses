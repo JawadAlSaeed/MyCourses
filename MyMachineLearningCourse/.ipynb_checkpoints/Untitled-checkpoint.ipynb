{
 "cells": [
  {
   "cell_type": "markdown",
   "metadata": {},
   "source": [
    "# COVID-19 Deaths per Capita\n",
    "\n",
    "See: https://www.kaggle.com/rubensmau/covid-19-deaths-per-capita"
   ]
  },
  {
   "cell_type": "code",
   "execution_count": 2,
   "metadata": {},
   "outputs": [],
   "source": [
    "import pandas as pd\n",
    "import matplotlib.pyplot as plt\n",
    "#from fastai2.tabular.all import *\n",
    "from ipywidgets import interact, interact_manual , interactive\n",
    "\n",
    "pd.set_option('display.max_rows', 200)\n",
    "from matplotlib.pyplot import figure\n",
    "from pylab import rcParams"
   ]
  },
  {
   "cell_type": "code",
   "execution_count": 5,
   "metadata": {},
   "outputs": [
    {
     "data": {
      "text/html": [
       "<div>\n",
       "<style scoped>\n",
       "    .dataframe tbody tr th:only-of-type {\n",
       "        vertical-align: middle;\n",
       "    }\n",
       "\n",
       "    .dataframe tbody tr th {\n",
       "        vertical-align: top;\n",
       "    }\n",
       "\n",
       "    .dataframe thead th {\n",
       "        text-align: right;\n",
       "    }\n",
       "</style>\n",
       "<table border=\"1\" class=\"dataframe\">\n",
       "  <thead>\n",
       "    <tr style=\"text-align: right;\">\n",
       "      <th></th>\n",
       "      <th>Country/Region</th>\n",
       "      <th>Last Update</th>\n",
       "      <th>Confirmed</th>\n",
       "      <th>Deaths</th>\n",
       "      <th>Recovered</th>\n",
       "    </tr>\n",
       "    <tr>\n",
       "      <th>Province/State</th>\n",
       "      <th></th>\n",
       "      <th></th>\n",
       "      <th></th>\n",
       "      <th></th>\n",
       "      <th></th>\n",
       "    </tr>\n",
       "  </thead>\n",
       "  <tbody>\n",
       "    <tr>\n",
       "      <th>Hubei</th>\n",
       "      <td>Mainland China</td>\n",
       "      <td>1/29/20 19:30</td>\n",
       "      <td>3554</td>\n",
       "      <td>125.0</td>\n",
       "      <td>88.0</td>\n",
       "    </tr>\n",
       "    <tr>\n",
       "      <th>Zhejiang</th>\n",
       "      <td>Mainland China</td>\n",
       "      <td>1/29/20 19:30</td>\n",
       "      <td>296</td>\n",
       "      <td>NaN</td>\n",
       "      <td>3.0</td>\n",
       "    </tr>\n",
       "    <tr>\n",
       "      <th>Guangdong</th>\n",
       "      <td>Mainland China</td>\n",
       "      <td>1/29/20 19:30</td>\n",
       "      <td>277</td>\n",
       "      <td>NaN</td>\n",
       "      <td>5.0</td>\n",
       "    </tr>\n",
       "    <tr>\n",
       "      <th>Hunan</th>\n",
       "      <td>Mainland China</td>\n",
       "      <td>1/29/20 19:30</td>\n",
       "      <td>221</td>\n",
       "      <td>NaN</td>\n",
       "      <td>NaN</td>\n",
       "    </tr>\n",
       "    <tr>\n",
       "      <th>Henan</th>\n",
       "      <td>Mainland China</td>\n",
       "      <td>1/29/20 19:30</td>\n",
       "      <td>206</td>\n",
       "      <td>2.0</td>\n",
       "      <td>1.0</td>\n",
       "    </tr>\n",
       "  </tbody>\n",
       "</table>\n",
       "</div>"
      ],
      "text/plain": [
       "                Country/Region    Last Update  Confirmed  Deaths  Recovered\n",
       "Province/State                                                             \n",
       "Hubei           Mainland China  1/29/20 19:30       3554   125.0       88.0\n",
       "Zhejiang        Mainland China  1/29/20 19:30        296     NaN        3.0\n",
       "Guangdong       Mainland China  1/29/20 19:30        277     NaN        5.0\n",
       "Hunan           Mainland China  1/29/20 19:30        221     NaN        NaN\n",
       "Henan           Mainland China  1/29/20 19:30        206     2.0        1.0"
      ]
     },
     "execution_count": 5,
     "metadata": {},
     "output_type": "execute_result"
    }
   ],
   "source": [
    "filename = \"covid_19_data.csv\"\n",
    "url=\"https://raw.githubusercontent.com/CSSEGISandData/COVID-19/master/csse_covid_19_data/csse_covid_19_daily_reports/01-29-2020.csv\"\n",
    "df = pd.read_csv(url,index_col=0,parse_dates=[0])\n",
    "country_list = df['Country/Region'].unique().tolist()\n",
    "country_list.sort()\n",
    "#  open date field\n",
    "#df = add_datepart(df, 'ObservationDate',drop=False)\n",
    "#df['ObservationDate'] = pd.to_datetime(df['ObservationDate'], format='%M/%d/%Y')   #  '%M/%d/%Y'\n",
    "country_list = ['Israel','Brazil','US','France', 'Mainland China','South Korea'] + country_list  ## put these countries first in the roll-down list\n",
    "df.head()"
   ]
  },
  {
   "cell_type": "code",
   "execution_count": null,
   "metadata": {},
   "outputs": [],
   "source": []
  }
 ],
 "metadata": {
  "kernelspec": {
   "display_name": "Python 3",
   "language": "python",
   "name": "python3"
  },
  "language_info": {
   "codemirror_mode": {
    "name": "ipython",
    "version": 3
   },
   "file_extension": ".py",
   "mimetype": "text/x-python",
   "name": "python",
   "nbconvert_exporter": "python",
   "pygments_lexer": "ipython3",
   "version": "3.7.6"
  }
 },
 "nbformat": 4,
 "nbformat_minor": 2
}
