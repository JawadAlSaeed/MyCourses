{
 "cells": [
  {
   "cell_type": "markdown",
   "metadata": {},
   "source": [
    "# My SQL Course\n",
    "\n",
    "* See also: [My Git Course](../MyGitCourse/index.ipynb)\n",
    "    \n",
    "## Online SQL Playgrounds\n",
    "\n",
    "* [SQL Tutorial](https://www.tutorialrepublic.com/sql-tutorial/sql-syntax.php\n",
    ")\n",
    "* [DB Fiddle](https://www.db-fiddle.com)\n",
    "* [SQL Fiddle](http://sqlfiddle.com)\n",
    "* [MySQL Online](https://paiza.io/en/languages/mysql)\n",
    "\n",
    "## Free SQL Learning Resources\n",
    "\n",
    "* MySQL Docs\n",
    "    - [MySQL Documentation](https://dev.mysql.com/doc)\n",
    "    - [MySQL Workbench](https://dev.mysql.com/doc/workbench/en)\n",
    "    - [MySQL 8.0 Reference Manual](https://dev.mysql.com/doc/refman/8.0/en)\n",
    "    - [Chapter 2 Installing and Upgrading MySQL](https://dev.mysql.com/doc/refman/8.0/en/installing.html)\n",
    "    - [Chapter 3 Tutorial](https://dev.mysql.com/doc/refman/8.0/en/tutorial.html)\n",
    "* [MySQLNotesForProfessionals](https://books.goalkicker.com/MySQLBook/)\n",
    "* [Tutorial Republic](https://www.tutorialrepublic.com/sql-tutorial)\n",
    "* [MySQL Getting Started](https://dev.mysql.com/doc/mysql-getting-started/en)\n",
    "* [MySQL Tutorial](https://dev.mysql.com/doc/refman/8.0/en/tutorial.html)\n",
    "* [MySQL Workbench](https://dev.mysql.com/doc/workbench/en)\n",
    "* [What is a Relational Database?](https://aws.amazon.com/relational-database)\n",
    "* [AWS re:Invent 2018: Deep Dive on MySQL Databases on Amazon RDS](https://www.youtube.com/watch?v=b5vvW0l78Vs)\n",
    "* [Amazon RDS for MySQL resources](https://aws.amazon.com/rds/mysql/resources)\n",
    "* [Amazon - Create & Connect to MySQL Database](https://aws.amazon.com/getting-started/tutorials/create-mysql-db)\n",
    "* [Amazon - Relational Database](https://aws.amazon.com/relational-database)"
   ]
  },
  {
   "cell_type": "markdown",
   "metadata": {},
   "source": [
    "## MySQL Topics\n",
    "\n",
    "* xxx\n",
    "    "
   ]
  },
  {
   "cell_type": "markdown",
   "metadata": {},
   "source": [
    "## MySQL Keywords\n",
    "\n",
    "* ```ADD``` Adds column to table\n",
    "* ```ADD CONSTRAINT``` Adds constraint to table\n",
    "* ```ALTER``` Adds, deletes, or modifies column value or data type in table\n",
    "* ```ALTER COLUMN``` Changes data type of column in table\n",
    "* ```ALTER TABLE``` Adds, deletes, or modifies columns in table\n",
    "* ```ALL``` Returns true if all subquery values meet condition\n",
    "* ```AND``` Only includes rows where both conditions true\n",
    "* ```ANY``` Returns true if any subquery values meet condition\n",
    "* ```AS``` Renames column or table with alias\n",
    "* ```ASC``` Sorts result set in ascending order\n",
    "* ```BACKUP DATABASE``` Creates back up of database\n",
    "* ```BETWEEN``` Selects values within a range\n",
    "* ```CASE``` Creates different outputs based on conditions\n",
    "* ```CHECK``` Sets constraint to limit values in column\n",
    "* ```COLUMN``` Changes data type of column or deletes column\n",
    "* ```CONSTRAINT``` Adds or deletes constraint\n",
    "* ```CREATE```Creates database, index, view, table, or procedure\n",
    "* ```CREATE DATABASE``` Creates SQL database\n",
    "* ```CREATE INDEX``` Creates index on table (allows duplicates)\n",
    "* ```CREATE OR REPLACE VIEW``` Updates view\n",
    "* ```CREATE TABLE``` Creates table in database\n",
    "* ```CREATE PROCEDURE``` Creates stored procedure\n",
    "* ```CREATE UNIQUE INDEX``` Creates unique index on table (no duplicates)\n",
    "* ```CREATE VIEW``` Creates view based on result set of SELECT statement\n",
    "* ```DATABASE``` Creates or deletes database\n",
    "* ```DEFAULT``` Provides default value for column\n",
    "* ```DELETE``` Deletes rows from table\n",
    "* ```DESC``` Sort result set in descending order\n",
    "* ```DISTINCT``` Select only distinct values\n",
    "* ```DROP``` Deletes column, constraint, database, index, table, or view\n",
    "* ```DROP COLUMN``` Delete column in table\n",
    "* ```DROP CONSTRAINT``` Deletes UNIQUE, PRIMARY KEY, FOREIGN KEY, or CHECK\n",
    "* ```DROP DATABASE``` Deletes SQL database\n",
    "* ```DROP DEFAULT``` Deletes DEFAULT constraint\n",
    "* ```DROP INDEX``` Deletes index in table\n",
    "* ```DROP TABLE``` Deletes table\n",
    "* ```DROP VIEW``` Deletes view\n",
    "* ```EXEC``` Executes stored procedure\n",
    "* ```EXISTS``` Tests for existence of any record in subquery\n",
    "* ```FOREIGN KEY``` Constraint on key used to relate two tables\n",
    "* ```FROM``` Specifies table to select or delete data\n",
    "* ```FULL OUTER JOIN``` Returns all rows where left or right tables match\n",
    "* ```GROUP BY``` Groups result set (COUNT, MAX, MIN, SUM, AVG)\n",
    "* ```HAVING``` Like WHERE but used with aggregate functions (COUNT, MAX, etc.)\n",
    "* ```IN``` Can specify multiple values in WHERE clause\n",
    "* ```INDEX``` Creates or deletes an index in table\n",
    "* ```INNER JOIN``` Returns rows that match values in both tables\n",
    "* ```INSERT INTO``` Inserts rows in table\n",
    "* ```INSERT INTO SELECT``` Copies data from one table into another\n",
    "* ```IS NULL``` Tests for empty values\n",
    "* ```IS NOT NULL``` Tests for non-empty values\n",
    "* ```JOIN``` Joins tables\n",
    "* ```LEFT JOIN``` Returns all rows from left, and matching rows from right\n",
    "* ```LIKE``` Searches for specified pattern in column\n",
    "* ```LIMIT``` Specifies maximum number of records to return in result set\n",
    "* ```NOT``` Only includes rows where condition not true\n",
    "* ```NOT NULL``` Constraint enforces column to not accept NULLs\n",
    "* ```OR``` Includes rows where either condition is true\n",
    "* ```ORDER BY``` Sorts result set in ascending/descending order\n",
    "* ```OUTER JOIN``` Returns all rows with match on left or right table\n",
    "* ```PRIMARY KEY``` Uniquely identifies every record in table\n",
    "* ```PROCEDURE``` A stored procedure\n",
    "* ```RIGHT JOIN``` Returns all rows from right and matching rows from left\n",
    "* ```ROWNUM``` Specifies number records to return in result set\n",
    "* ```SELECT``` Selects data from database\n",
    "* ```SELECT DISTINCT``` Selects only distinct values\n",
    "* ```SELECT INTO``` Copies data from one table to new table\n",
    "* ```SELECT TOP``` Specifies number of records to return in result set\n",
    "* ```SET``` Specifies columns and values to be updated in table\n",
    "* ```TABLE``` Creates table, modifies table, or deletes table\n",
    "* ```TOP``` Specifies number of records to return in result set\n",
    "* ```TRUNCATE TABLE``` Deletes data in table (not the actual table)\n",
    "* ```UNION``` Combines result sets of b SELECT statements (distinct results)\n",
    "* ```UNION ALL``` Combines result sets of b SELECT statements (all results)\n",
    "* ```UNIQUE``` A constraint that ensures that all values in column are unique\n",
    "* ```UPDATE``` Updates existing rows in table\n",
    "* ```VALUES``` Specifies values of INSERT INTO statement\n",
    "* ```VIEW``` Creates, updates, or deletes a view\n",
    "* ```WHERE``` Filters result to include only records that match condition\n"
   ]
  },
  {
   "cell_type": "code",
   "execution_count": null,
   "metadata": {},
   "outputs": [],
   "source": [
    "## SQL Data Types\n",
    "\n",
    "* Exact Numeric Data Types\n",
    "    - xxx\n",
    "    - xxx\n",
    "* Approximate Numeric Data Types\n",
    "    - xxx\n",
    "    - xxx\n",
    "* Date and Time Data Types\n",
    "    - xxx\n",
    "    - xxx\n",
    "* Character String and Unicode String Data Types\n",
    "    - xxx\n",
    "    - xxx\n",
    "* Binary Data Types\n",
    "    - xxx\n",
    "    - xxx\n",
    "* Other Data Types\n",
    "    - xxx\n",
    "    - xxx"
   ]
  },
  {
   "cell_type": "markdown",
   "metadata": {},
   "source": [
    "## MySQL Functions\n"
   ]
  },
  {
   "cell_type": "markdown",
   "metadata": {},
   "source": [
    "### MySQL String Functions\n",
    "\n",
    "* xxx"
   ]
  },
  {
   "cell_type": "markdown",
   "metadata": {},
   "source": [
    "### MySQL Numeric Functions\n",
    "\n",
    "* xxx"
   ]
  },
  {
   "cell_type": "markdown",
   "metadata": {},
   "source": [
    "### MySQL Date Functions\n",
    "\n",
    "* xxx"
   ]
  },
  {
   "cell_type": "markdown",
   "metadata": {},
   "source": [
    "### MySQL Advanced Functions\n",
    "\n",
    "* xxx"
   ]
  },
  {
   "cell_type": "markdown",
   "metadata": {},
   "source": [
    "## SQL Operators"
   ]
  },
  {
   "cell_type": "markdown",
   "metadata": {},
   "source": [
    "### SQL Arithmetic Operators\n",
    "\n",
    "* ```+``` Add\n",
    "* ```-``` Subtract\n",
    "* ```*``` Multiply\n",
    "* ```/``` Divide\n",
    "* ```%``` Modulo"
   ]
  },
  {
   "cell_type": "markdown",
   "metadata": {},
   "source": [
    "### SQL Comparison Operators\n",
    "\n",
    "* ```=``` Equal to\n",
    "* ```>``` Greater than\n",
    "* ```<``` Less than\n",
    "* ```>=``` Greater than or equal to\n",
    "* ```<=``` Less than or equal to\n",
    "* ```<>``` Not equal to"
   ]
  },
  {
   "cell_type": "markdown",
   "metadata": {},
   "source": [
    "### SQL Compound Operators\n",
    "\n",
    "* ```+=``` Add equals\n",
    "* ```-=``` Subtract equals\n",
    "* ```*=``` Multiply equals\n",
    "* ```/=``` Divide equals\n",
    "* ```%=``` Modulo equals\n",
    "* ```&=``` Bitwise AND equals\n",
    "* ```^-=``` Bitwise exclusive equals\n",
    "* ```|*=``` Bitwise OR equals"
   ]
  },
  {
   "cell_type": "markdown",
   "metadata": {},
   "source": [
    "### SQL Logical Operators\n",
    "\n",
    "* ```ALL``` TRUE if all of the subquery values meet the condition\t\n",
    "* ```AND``` TRUE if all the conditions separated by AND is TRUE\t\n",
    "* ```ANY``` TRUE if any of the subquery values meet the condition\t\n",
    "* ```BETWEEN``` TRUE if the operand is within the range of comparisons\t\n",
    "* ```EXISTS``` TRUE if the subquery returns one or more records\t\n",
    "* ```IN``` TRUE if the operand is equal to one of a list of expressions\t\n",
    "* ```LIKE``` TRUE if the operand matches a pattern\t\n",
    "* ```NOT``` Displays a record if the condition(s) is NOT TRUE\t\n",
    "* ```OR``` TRUE if any of the conditions separated by OR is TRUE\t\n",
    "* ```SOME``` TRUE if any of the subquery values meet the condition"
   ]
  },
  {
   "cell_type": "markdown",
   "metadata": {},
   "source": [
    "### SQL Bitwise Operators\n",
    "\n",
    "* ```&``` Bitwise AND\n",
    "* ```|``` Bitwise OR\n",
    "* ```^``` Bitwise exclusive OR"
   ]
  },
  {
   "cell_type": "markdown",
   "metadata": {},
   "source": [
    "## SQL Statement Examples\n",
    "\n",
    "Try these examples out in an online SQL playground such as https://paiza.io/projects/LVOlV9aYnoiITAwms67BNA?language=mysql"
   ]
  },
  {
   "cell_type": "markdown",
   "metadata": {},
   "source": [
    "### Create, Insert, and Select\n",
    "```sql\n",
    "CREATE TABLE Persons (\n",
    "    id INT NOT NULL AUTO_INCREMENT,\n",
    "    FirstName VARCHAR(30),\n",
    "    LastName VARCHAR(30) NOT NULL,\n",
    "    Age INT,\n",
    "    PRIMARY KEY (id)\n",
    ");\n",
    "INSERT INTO Persons (FirstName, LastName, Age) VALUES ('Iggy','Pop', 65);\n",
    "SELECT * from Persons;\n",
    "```\n",
    "### Output\n",
    "\n",
    "```\n",
    "1\tIggy\tPop\t65\n",
    "```"
   ]
  },
  {
   "cell_type": "markdown",
   "metadata": {},
   "source": [
    "### Create an Employees Table\n",
    "\n",
    "```\n",
    "+----+-----------+----------+-----+----------+\n",
    "| ID | FirstName | LastName | Age |  Salary  |\n",
    "+----+-----------+----------+-----+----------+\n",
    "| 1  | Jane      | Mills    | 33  | 48002.00 |\n",
    "| 2  | Mark      | Blount   | 25  | 92898.00 |\n",
    "| 3  | John      | Rallston | 26  | 74656.00 |\n",
    "| 4  | Mary      | Finny    | 22  | 67834.00 |\n",
    "| 5  | Ann       | Kerwin   | 37  | 33477.00 |\n",
    "| 6  | Arni      | Thorsson | 22  | 58009.00 |\n",
    "+----+-----------+----------+-----+----------+\n",
    "```\n",
    "```sql\n",
    "CREATE TABLE Employees(id INT NOT NULL AUTO_INCREMENT, FirstName VARCHAR(30), LastName  VARCHAR(30), Age TINYINT,  Salary DECIMAL(10, 2), PRIMARY KEY (id));\n",
    "INSERT INTO Employees(FirstName, LastName, Age, Salary) VALUES(\"Jane\", \"Mills\", 33, 48002.00);\n",
    "INSERT INTO Employees(FirstName, LastName, Age, Salary) VALUES(\"Mark\", \"Blount\", 25, 92898.00);\n",
    "INSERT INTO Employees(FirstName, LastName, Age, Salary) VALUES(\"John\", \"Rallston\", 26, 74656.00);\n",
    "INSERT INTO Employees(FirstName, LastName, Age, Salary) VALUES(\"Mary\", \"Finny\", 22, 67834.00);\n",
    "INSERT INTO Employees(FirstName, LastName, Age, Salary) VALUES(\"Ann\", \"Kerwin\", 37, 33477.00);\n",
    "INSERT INTO Employees(FirstName, LastName, Age, Salary) VALUES(\"Arni\", \"Thorsson\", 22, 58009.00);\n",
    "SELECT * FROM Employees;\n",
    "```\n",
    "\n",
    "### Output\n",
    "\n",
    "```sql\n",
    "1\tJane   Mills     33  48002.00\n",
    "2\tMark   Blount    25  92898.00\n",
    "3\tJohn   Rallston  26  74656.00\n",
    "4\tMary   Finny     22  67834.00\n",
    "5\tAnn    Kerwin    37  33477.00\n",
    "6\tArni   Thorsson  22  58009.00\n",
    "```"
   ]
  },
  {
   "cell_type": "markdown",
   "metadata": {},
   "source": [
    "### Using a ```WHERE``` Clause\n",
    "\n",
    "* Try replacing the ```WHERE``` clause above  with the following:\n",
    "\n",
    "```sql\n",
    "CREATE TABLE Employees(id INT NOT NULL AUTO_INCREMENT, FirstName VARCHAR(30), LastName  VARCHAR(30), Age TINYINT,  Salary DECIMAL(10, 2), PRIMARY KEY (id));\n",
    "INSERT INTO Employees(FirstName, LastName, Age, Salary) VALUES(\"Jane\", \"Mills\", 33, 48002.00);\n",
    "INSERT INTO Employees(FirstName, LastName, Age, Salary) VALUES(\"Mark\", \"Blount\", 25, 92898.00);\n",
    "INSERT INTO Employees(FirstName, LastName, Age, Salary) VALUES(\"John\", \"Rallston\", 26, 74656.00);\n",
    "INSERT INTO Employees(FirstName, LastName, Age, Salary) VALUES(\"Mary\", \"Finny\", 22, 67834.00);\n",
    "INSERT INTO Employees(FirstName, LastName, Age, Salary) VALUES(\"Ann\", \"Kerwin\", 37, 33477.00);\n",
    "INSERT INTO Employees(FirstName, LastName, Age, Salary) VALUES(\"Arni\", \"Thorsson\", 22, 58009.00);\n",
    "/* Finds all rows where FirstName starts with \"A\" */\n",
    "SELECT * FROM Employees WHERE FirstName LIKE 'A%';\n",
    "```\n",
    "\n",
    "### Output\n",
    "\n",
    "```sql\n",
    "5   Ann    Kerwin    37  33477.00\n",
    "6   Arni   Thorsson  22  58009.00\n",
    "```"
   ]
  },
  {
   "cell_type": "markdown",
   "metadata": {},
   "source": [
    "### Create a Bonuses Table\n",
    "\n",
    "```\n",
    "+---------+------------+------------+--------+\n",
    "|    ID   | EmployeeID | Date       | Amount |\n",
    "+---------+------------+------------+--------+\n",
    "|    1    | 3          | 2020-09-18 | 133.00 |\n",
    "|    2    | 5          | 2020-09-19 | 576.00 |\n",
    "|    3    | 6          | 2020-09-20 | 233.00 |\n",
    "|    4    | 6          | 2020-09-20 | 568.00 |\n",
    "|    5    | 3          | 2020-10-03 | 112.00 |\n",
    "+---------+------------+------------+--------+\n",
    "```\n",
    "```sql\n",
    "CREATE TABLE Bonuses(id INT NOT NULL AUTO_INCREMENT, EmployeeID INT, Date DATE, Amount DECIMAL(10, 2), PRIMARY KEY (id));\n",
    "INSERT INTO Bonuses(EmployeeID, Date, Amount) values(3, '2020-09-18', 133.00);\n",
    "INSERT INTO Bonuses(EmployeeID, Date, Amount) values(5, '2020-09-19', 576.00);\n",
    "INSERT INTO Bonuses(EmployeeID, Date, Amount) values(6, '2020-09-20', 233.00);\n",
    "INSERT INTO Bonuses(EmployeeID, Date, Amount) values(6, '2020-09-20', 568.00);\n",
    "INSERT INTO Bonuses(EmployeeID, Date, Amount) values(3, '2020-10-03', 112.00);\n",
    "SELECT * FROM Bonuses;\n",
    "```\n",
    "\n",
    "### Output\n",
    "\n",
    "```sql\n",
    "1\t3\t2020-09-18\t133.00\n",
    "2\t5\t2020-09-19\t576.00\n",
    "3\t6\t2020-09-20\t233.00\n",
    "4\t6\t2020-09-20\t568.00\n",
    "5\t3\t2020-10-03\t112.00\n",
    "```"
   ]
  },
  {
   "cell_type": "markdown",
   "metadata": {},
   "source": [
    "### Using a ```JOIN``` Clause\n",
    "\n",
    "* Try Doing a ```JOIN``` on the  Employee and Bonuses Tables defined above:\n",
    "\n",
    "```sql\n",
    "CREATE TABLE Employees(id INT NOT NULL AUTO_INCREMENT, FirstName VARCHAR(30), LastName  VARCHAR(30), Age TINYINT,  Salary DECIMAL(10, 2), PRIMARY KEY (id));\n",
    "INSERT INTO Employees(FirstName, LastName, Age, Salary) VALUES(\"Jane\", \"Mills\", 33, 48002.00);\n",
    "INSERT INTO Employees(FirstName, LastName, Age, Salary) VALUES(\"Mark\", \"Blount\", 25, 92898.00);\n",
    "INSERT INTO Employees(FirstName, LastName, Age, Salary) VALUES(\"John\", \"Rallston\", 26, 74656.00);\n",
    "INSERT INTO Employees(FirstName, LastName, Age, Salary) VALUES(\"Mary\", \"Finny\", 22, 67834.00);\n",
    "INSERT INTO Employees(FirstName, LastName, Age, Salary) VALUES(\"Ann\", \"Kerwin\", 37, 33477.00);\n",
    "INSERT INTO Employees(FirstName, LastName, Age, Salary) VALUES(\"Arni\", \"Thorsson\", 22, 58009.00);\n",
    "\n",
    "CREATE TABLE Bonuses(id INT NOT NULL AUTO_INCREMENT, EmployeeID INT, Date DATE, Amount DECIMAL(10, 2), PRIMARY KEY (id));\n",
    "INSERT INTO Bonuses(EmployeeID, Date, Amount) values(3, '2020-09-18', 133.00);\n",
    "INSERT INTO Bonuses(EmployeeID, Date, Amount) values(5, '2020-09-19', 576.00);\n",
    "INSERT INTO Bonuses(EmployeeID, Date, Amount) values(6, '2020-09-20', 233.00);\n",
    "INSERT INTO Bonuses(EmployeeID, Date, Amount) values(6, '2020-09-20', 568.00);\n",
    "INSERT INTO Bonuses(EmployeeID, Date, Amount) values(3, '2020-10-03', 112.00);\n",
    "\n",
    "SELECT Employees.FirstName, Employees.LastName, Bonuses.Date, Bonuses.Amount \n",
    "FROM Bonuses INNER JOIN Employees ON Bonuses.EmployeeID=Employees.id;\n",
    "```\n",
    "\n",
    "### Output\n",
    "\n",
    "```sql\n",
    "John    Rallston    2020-09-18  133.00\n",
    "Ann     Kerwin      2020-09-19  576.00\n",
    "Arni    Thorsson    2020-09-20  233.00\n",
    "Arni    Thorsson    2020-09-20  568.00\n",
    "John    Rallston    2020-10-03  112.00\n",
    "```"
   ]
  },
  {
   "cell_type": "code",
   "execution_count": null,
   "metadata": {},
   "outputs": [],
   "source": []
  }
 ],
 "metadata": {
  "kernelspec": {
   "display_name": "Python 3",
   "language": "python",
   "name": "python3"
  },
  "language_info": {
   "codemirror_mode": {
    "name": "ipython",
    "version": 3
   },
   "file_extension": ".py",
   "mimetype": "text/x-python",
   "name": "python",
   "nbconvert_exporter": "python",
   "pygments_lexer": "ipython3",
   "version": "3.7.6"
  }
 },
 "nbformat": 4,
 "nbformat_minor": 4
}
