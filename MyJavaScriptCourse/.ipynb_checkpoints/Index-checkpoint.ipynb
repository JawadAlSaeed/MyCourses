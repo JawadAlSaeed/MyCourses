{
 "cells": [
  {
   "cell_type": "markdown",
   "metadata": {},
   "source": [
    "# My JavaScript Course"
   ]
  },
  {
   "cell_type": "markdown",
   "metadata": {},
   "source": [
    "## Git\n",
    "* [Git](../MyGitCourse/git.ipynb)"
   ]
  },
  {
   "cell_type": "markdown",
   "metadata": {},
   "source": [
    "## Free JavaScript Learning Resources\n",
    "\n",
    "* [Eloquent JavaScript](https://eloquentjavascript.net)\n",
    "* [Speaking JavaScript](http://speakingjs.com/es5/index.html)\n",
    "* [JavaScript for impatient programmers](https://exploringjs.com/impatient-js)\n",
    "* [Exploring ES6](https://exploringjs.com/es6.html)\n",
    "* [The Modern JavaScript Tutorial](https://javascript.info)\n",
    "* [Learn JavaScript](https://gitbookio.gitbooks.io/javascript)\n",
    "* [JavaScript Garden](https://bonsaiden.github.io/JavaScript-Garden)\n",
    "* [JavaScript Allongé](https://leanpub.com/javascript-allonge/read)\n",
    "* [Learning JavaScript Design Patterns](https://addyosmani.com/resources/essentialjsdesignpatterns/book)\n",
    "* [Understanding ECMAScript 6](https://leanpub.com/understandinges6/read)\n",
    "* [Human JavaScript](http://read.humanjavascript.com)\n",
    "* [Mozilla reintroduction to JS tutorial](https://developer.mozilla.org/en-US/docs/Web/JavaScript/A_re-introduction_to_JavaScrip)\n",
    "* [freeCodeCamp: Introduction to JavaScript](https://www.freecodecamp.org/learn/javascript-algorithms-and-data-structures/basic-javascript)\n",
    "* [freeCodeCamp: Introduction to the ES6 Challenges](https://www.freecodecamp.org/learn/javascript-algorithms-and-data-structures/es6)\n",
    "* [HTML 5 Shoot 'em Up in an Afternoon](https://leanpub.com/html5shootemupinanafternoon/read)\n",
    "* [Introduction to Node.js](https://nodejs.dev)\n",
    "* [NodeJSNotesForProfessionals](https://books.goalkicker.com/NodeJSBook/NodeJSNotesForProfessionals.pdf)\n",
    "* [DOM Enlightenment](http://domenlightenment.com)"
   ]
  },
  {
   "cell_type": "markdown",
   "metadata": {},
   "source": [
    "## JavaScript Language (aka ECMAScript or ES)\n",
    "\n",
    "* [Getting Started](GettingStarted.ipynb)\n",
    "* [NodeJS and NPM](NodeJSandNPM.ipynb)\n",
    "* [Fundamental Syntax](FundamentalSyntax.ipynb)\n",
    "* [Data Types](DataTypes.ipynb)\n",
    "* [Numbers](Numbers.ipynb)\n",
    "* [Booleans](Booleans.ipynb)\n",
    "* [Strings](Strings.ipynb)\n",
    "* [Arrays](Arrays.ipynb)\n",
    "* [Objects](Objects.ipynb)\n",
    "* [Expressions, Operators, and Statements]()\n",
    "* [Conditions and Comparisons](ConditionsComparisons.ipynb)\n",
    "* [Decisions and Switches](DecisionsSwitches.ipynb)\n",
    "* [Loops and Iteration](LoopsIteration.ipynb)\n",
    "* [Type Conversion]()\n",
    "* [Custom Objects]()\n",
    "* [Closures](Closures.ipynb)\n",
    "* [Object Prototype Inheritance]()\n",
    "* [Classes](Classes.ipynb)\n",
    "* [JSON]()\n",
    "* [Functions](Functions.ipynb)\n",
    "* [Scope and Hoisting]()\n",
    "* [Block Scope](BlockScope.ipynb)\n",
    "* [IIFEs](IIFEs.ipynb)\n",
    "* [Strict Mode]()\n",
    "* [Exceptions]()\n",
    "* [MathJS](MathJS.ipynb)\n",
    "* [Regular Expressions]()\n",
    "* [Destructuring Assignments](DestructuringAssignments.ipynb)\n",
    "* [Template Literals](TemplateLiterals.ipynb)\n",
    "* [Promises](Promises.ipynb)\n",
    "* [Modules](Modules.ipynb)\n",
    "* [Standard IO]()\n",
    "* [Generators]()\n",
    "* [Asynchronous Programming]()\n",
    "* [Debugging]()\n",
    "* [Destructuring, Spread, and Rest Syntax]()\n",
    "* [Unit Testing]()\n",
    "* [Functional Programming]()\n",
    "* [Data Structures & Algorithms](DataStructuresAlgorithms.ipynb)"
   ]
  },
  {
   "cell_type": "code",
   "execution_count": null,
   "metadata": {},
   "outputs": [],
   "source": []
  }
 ],
 "metadata": {
  "kernelspec": {
   "display_name": "Javascript (Node.js)",
   "language": "javascript",
   "name": "javascript"
  },
  "language_info": {
   "file_extension": ".js",
   "mimetype": "application/javascript",
   "name": "javascript",
   "version": "10.13.0"
  }
 },
 "nbformat": 4,
 "nbformat_minor": 2
}
