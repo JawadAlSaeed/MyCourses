{
 "cells": [
  {
   "cell_type": "code",
   "execution_count": 10,
   "metadata": {},
   "outputs": [
    {
     "name": "stdout",
     "output_type": "stream",
     "text": [
      "['GK' 'M' 'A' 'D' 'GK' 'GK']\n",
      "[191 184 185 180 182 192]\n",
      "[191 182 192]\n"
     ]
    },
    {
     "data": {
      "text/plain": [
       "array([ True, False, False, False,  True,  True])"
      ]
     },
     "execution_count": 10,
     "metadata": {},
     "output_type": "execute_result"
    }
   ],
   "source": [
    "import numpy as np\n",
    "\n",
    "positions = ['GK', 'M', 'A', 'D', 'GK', 'GK']\n",
    "heights = [191, 184, 185, 180, 182, 192]\n",
    "\n",
    "np_positions = np.array(positions)\n",
    "print(np_positions)\n",
    "\n",
    "np_heights = np.array(heights)\n",
    "print(np_heights)\n",
    "\n",
    "gk_heights = np_heights[np_positions == 'GK']\n",
    "print(gk_heights)\n",
    "\n",
    "np_positions == 'GK'"
   ]
  },
  {
   "cell_type": "code",
   "execution_count": null,
   "metadata": {},
   "outputs": [],
   "source": []
  }
 ],
 "metadata": {
  "kernelspec": {
   "display_name": "Python 3",
   "language": "python",
   "name": "python3"
  },
  "language_info": {
   "codemirror_mode": {
    "name": "ipython",
    "version": 3
   },
   "file_extension": ".py",
   "mimetype": "text/x-python",
   "name": "python",
   "nbconvert_exporter": "python",
   "pygments_lexer": "ipython3",
   "version": "3.7.6"
  }
 },
 "nbformat": 4,
 "nbformat_minor": 4
}
