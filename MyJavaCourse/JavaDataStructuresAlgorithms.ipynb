{
 "cells": [
  {
   "cell_type": "markdown",
   "metadata": {},
   "source": [
    "# Java: Data Structures and Algorithms\n",
    "\n",
    "## A few Cool Visualizations:\n",
    "\n",
    "* Undefined Behavior - What Is Big O? https://www.youtube.com/watch?v=MyeV2_tGqvw\n",
    "* William Fiset - Introduction to Big-O https://www.youtube.com/watch?v=zUUkiEllHG0\n",
    "* William Fiset Data - Structures: https://www.youtube.com/playlist?list=PLDV1Zeh2NRsB6SWUrDFW2RmDotAfPbeHu\n",
    "\n",
    "## Data Structures\n",
    "\n",
    "* [Queue](xxx)\n",
    "* [Deque](xxx)  \n",
    "* [Stack](xxx)\n",
    "* [Binary Search Tree](BinarySearchTree.ipynb)\n",
    "\n",
    "## Sort and Search Algorithms\n",
    "\n",
    "* [Big O Notation](xxx)\n",
    "* [Sort Algorithms](SortAlgorithms.ipynb)\n",
    "* [Search Algorithms](xxx)\n",
    "\n",
    "## Various Other Algorithms \n",
    "* [Factorial](xxx)\n",
    "* [Primes](Primes.ipynb)\n",
    "* [Newton-Raphson Method](NewtonRaphson.ipynb)\n",
    "* [xxx](xxx)"
   ]
  },
  {
   "cell_type": "code",
   "execution_count": null,
   "metadata": {},
   "outputs": [],
   "source": []
  }
 ],
 "metadata": {
  "kernelspec": {
   "display_name": "Java",
   "language": "java",
   "name": "java"
  },
  "language_info": {
   "codemirror_mode": "java",
   "file_extension": ".jshell",
   "mimetype": "text/x-java-source",
   "name": "Java",
   "pygments_lexer": "java",
   "version": "13.0.2+8"
  }
 },
 "nbformat": 4,
 "nbformat_minor": 4
}
