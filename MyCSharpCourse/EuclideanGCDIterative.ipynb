{
 "cells": [
  {
   "cell_type": "markdown",
   "metadata": {},
   "source": [
    "# Euclidean GCD Iterative\n"
   ]
  },
  {
   "cell_type": "code",
   "execution_count": 2,
   "metadata": {},
   "outputs": [
    {
     "name": "stdout",
     "output_type": "stream",
     "text": [
      "21\r\n"
     ]
    }
   ],
   "source": [
    "class Program\n",
    "{\n",
    "    static int EuclideanAlgorithm(int a, int b)\n",
    "    {\n",
    "        while (a != 0 && b != 0)\n",
    "        {\n",
    "            if (a > b)\n",
    "                a %= b;\n",
    "            else\n",
    "                b %= a;\n",
    "        }\n",
    "\n",
    "        if (a == 0)\n",
    "            return b;\n",
    "        else\n",
    "            return a;\n",
    "    }\n",
    "\n",
    "    public static void Main()\n",
    "    {\n",
    "        System.Console.WriteLine(\n",
    "            EuclideanAlgorithm(252, 105)); // output: 21\n",
    "    }\n",
    "}\n",
    "\n",
    "Program.Main();"
   ]
  },
  {
   "cell_type": "code",
   "execution_count": null,
   "metadata": {},
   "outputs": [],
   "source": []
  }
 ],
 "metadata": {
  "kernelspec": {
   "display_name": ".NET (C#)",
   "language": "C#",
   "name": ".net-csharp"
  },
  "language_info": {
   "file_extension": ".cs",
   "mimetype": "text/x-csharp",
   "name": "C#",
   "pygments_lexer": "csharp",
   "version": "8.0"
  }
 },
 "nbformat": 4,
 "nbformat_minor": 4
}
