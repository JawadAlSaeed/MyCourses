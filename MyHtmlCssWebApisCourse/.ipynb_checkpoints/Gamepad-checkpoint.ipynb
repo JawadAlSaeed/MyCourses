{
 "cells": [
  {
   "cell_type": "markdown",
   "metadata": {},
   "source": [
    "# Gamepad API\n",
    "\n",
    "## Gamepad API Docs\n",
    "https://developer.mozilla.org/en-US/docs/Web/API/Gamepad_API\n",
    "\n",
    "## Using the Gamepad API\n",
    "https://developer.mozilla.org/en-US/docs/Web/API/Gamepad_API/Using_the_Gamepad_API\n",
    "    \n",
    "## Implementing controls using the Gamepad API\n",
    "https://developer.mozilla.org/en-US/docs/Games/Techniques/Controls_Gamepad_API\n",
    "\n",
    "## GamePad Tester\n",
    "https://html5gamepad.com/\n",
    "\n",
    "## GamePad Tutorial\n",
    "https://gamedevelopment.tutsplus.com/tutorials/using-the-html5-gamepad-api-to-add-controller-support-to-browser-games--cms-21345"
   ]
  },
  {
   "cell_type": "code",
   "execution_count": null,
   "metadata": {},
   "outputs": [],
   "source": []
  }
 ],
 "metadata": {
  "kernelspec": {
   "display_name": "Python 3",
   "language": "python",
   "name": "python3"
  },
  "language_info": {
   "codemirror_mode": {
    "name": "ipython",
    "version": 3
   },
   "file_extension": ".py",
   "mimetype": "text/x-python",
   "name": "python",
   "nbconvert_exporter": "python",
   "pygments_lexer": "ipython3",
   "version": "3.7.6"
  }
 },
 "nbformat": 4,
 "nbformat_minor": 4
}
