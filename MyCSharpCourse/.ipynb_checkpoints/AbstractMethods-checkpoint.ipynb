{
 "cells": [
  {
   "cell_type": "markdown",
   "metadata": {},
   "source": [
    "# Abstract Methods"
   ]
  },
  {
   "cell_type": "code",
   "execution_count": 1,
   "metadata": {},
   "outputs": [
    {
     "name": "stdout",
     "output_type": "stream",
     "text": [
      "Mammal.Breath\n",
      "Lion.Eat\n",
      "Mammal.Sleep\n",
      "\n",
      "Mammal.Breath\n",
      "Zebra.Eat\n",
      "Mammal.Sleep\n",
      "\n",
      "Mammal.Breath\n",
      "Bat.Eat\n",
      "Bat.Sleep\n",
      "\n",
      "Mammal.Breath\n",
      "Lion.Eat\n",
      "Mammal.Sleep\n",
      "\n"
     ]
    }
   ],
   "source": [
    "using System;\n",
    "\n",
    "abstract class Mammal\n",
    "{\n",
    "    public void Breath()        // All breath the same way\n",
    "    {\n",
    "        Console.WriteLine(\"Mammal.Breath\");\n",
    "    }\n",
    "    virtual public void Sleep() // Only Bat sleeps weird\n",
    "    {\n",
    "        Console.WriteLine(\"Mammal.Sleep\");\n",
    "    }\n",
    "    abstract public void Eat();  // All eat different ways\n",
    "}\n",
    "\n",
    "class Zebra : Mammal\n",
    "{\n",
    "    override public void Eat()   // Zebras eats grass\n",
    "    {\n",
    "        Console.WriteLine(\"Zebra.Eat\");\n",
    "    }\n",
    "}\n",
    "\n",
    "class Lion : Mammal\n",
    "{\n",
    "    override public void Eat()   // Lion eats meat\n",
    "    {\n",
    "        Console.WriteLine(\"Lion.Eat\");\n",
    "    }\n",
    "}\n",
    "\n",
    "class Bat : Mammal\n",
    "{\n",
    "    override public void Eat()   // Bat eats insects while flying at night\n",
    "    {\n",
    "        Console.WriteLine(\"Bat.Eat\");\n",
    "    }\n",
    "\n",
    "    override public void Sleep() // Bat sleeps upside-down/nocturnal\n",
    "    {\n",
    "        Console.WriteLine(\"Bat.Sleep\");\n",
    "    }\n",
    "}\n",
    "\n",
    "class Program\n",
    "{\n",
    "    public static void Main()\n",
    "    {\n",
    "        //Mammal mammal = new Mammal(); // Cannot instantiate abstract class!!!\n",
    "        //mammal.Breath();\n",
    "        //mammal.Eat();\n",
    "        //mammal.Sleep();\n",
    "        //Console.WriteLine(\"???\\n\");\n",
    "\n",
    "        Mammal[] critters = {\n",
    "            new Lion(), new Zebra(), new Bat(), new Lion() };\n",
    "\n",
    "        foreach (Mammal critter in critters) // Polymorphism\n",
    "        {\n",
    "            critter.Breath();\n",
    "            critter.Eat();\n",
    "            critter.Sleep();\n",
    "            Console.WriteLine();\n",
    "        }\n",
    "    }\n",
    "}\n",
    "\n",
    "Program.Main();"
   ]
  },
  {
   "cell_type": "code",
   "execution_count": null,
   "metadata": {},
   "outputs": [],
   "source": []
  }
 ],
 "metadata": {
  "kernelspec": {
   "display_name": ".NET (C#)",
   "language": "C#",
   "name": ".net-csharp"
  },
  "language_info": {
   "file_extension": ".cs",
   "mimetype": "text/x-csharp",
   "name": "C#",
   "pygments_lexer": "csharp",
   "version": "8.0"
  }
 },
 "nbformat": 4,
 "nbformat_minor": 4
}
