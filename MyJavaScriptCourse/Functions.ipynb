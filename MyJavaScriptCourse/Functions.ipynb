{
 "cells": [
  {
   "cell_type": "markdown",
   "metadata": {},
   "source": [
    "# Functions\n",
    "\n",
    "* Can be defined with the ```function``` keyword (named or anonymous)\n",
    "* Can be defined using arrow function syntax (ES2015)\n",
    "* Set of statements that perform a task and/or returns a result\n",
    "* If no return statement is executed then function returns ```undefined``` by default\n",
    "* May be named using any valid identifier but usually camel-case naming convention is used\n",
    "* A function is an object that can assign to a variable, passed as an argument, or returned from a function call\n",
    "* To call a function it must bew defined in the scope from which it is called\n",
    "* Can be declared to receive any number of parameters\n",
    "* Can be called with any number of arguments\n",
    "* Receives an array-like variable named arguments that contain all arguments actually passed in\n",
    "* Parameters can be defined with default values (ES2015)\n",
    "* Variable scope and hoisting can be controlled with ```val```, ```let```, ```const```, and ```'use strict';```\n",
    "* The ```this``` keyword behaves a bit differently compared to other languages\n",
    "* The ```yield``` keyword is used in to pause and resume a generator function"
   ]
  },
  {
   "cell_type": "code",
   "execution_count": 11,
   "metadata": {},
   "outputs": [
    {
     "name": "stdout",
     "output_type": "stream",
     "text": [
      "25\n",
      "7\n",
      "12\n",
      "7\n",
      "12\n",
      "0.75\n",
      "6\n",
      "8\n"
     ]
    }
   ],
   "source": [
    "{\n",
    "    function square(a) {                         // named function\n",
    "      return a*a;\n",
    "    }\n",
    "    console.log(square(5));                      // 25\n",
    "\n",
    "    let add = function (a, b) {                  // anonymous function object assigned to variable\n",
    "        return a+b;\n",
    "    }\n",
    "    console.log(add(3, 4));                      // 7\n",
    "\n",
    "    let multiply = (a, b) => a*b;                // anonymous arrow function syntax\n",
    "    console.log(multiply(3, 4));                 // 12\n",
    "    \n",
    "    function callCallback(callback, a, b) {      // function parameter\n",
    "        return callback(a, b);\n",
    "    }\n",
    "    console.log(callCallback(add, 3, 4));        // 7\n",
    "    console.log(callCallback(multiply, 3, 4));   // 12\n",
    "    console.log(callCallback((x,y)=>x/y, 3, 4)); // 0.75\n",
    "    \n",
    "    const obj = { addAsMethod: add, multiplyAsMethod: multiply };\n",
    "    console.log(obj.addAsMethod(2, 4));          // 6\n",
    "    console.log(obj.multiplyAsMethod(2, 4));     // 8\n",
    "}"
   ]
  },
  {
   "cell_type": "markdown",
   "metadata": {},
   "source": [
    "## The ```arguments``` object\n",
    "\n",
    "* Array-like object accessible inside all non-arrow functions\n",
    "* Contains all argument values passed in to the function call\n",
    "* Allows more or fewer arguments to be passed in than indicated by the declared received parameters\n",
    "* Not a true ```Array``` (lacks all ```Array``` members except ```length```)\n",
    "* Can be converted to a real ```Array```: ```Array.from(arguments)```\n",
    "* ```Array.isArray()``` method determines whether an object is an actual ```Array```"
   ]
  },
  {
   "cell_type": "code",
   "execution_count": 5,
   "metadata": {},
   "outputs": [
    {
     "name": "stdout",
     "output_type": "stream",
     "text": [
      "1 1\n",
      "2 2\n",
      "3 3\n",
      "4\n",
      "object\n",
      "false\n",
      "object\n",
      "true\n",
      "\n",
      "object\n",
      "false\n",
      "6\n",
      "\n",
      "10\n",
      "20\n",
      "object\n",
      "true\n",
      "6\n"
     ]
    }
   ],
   "source": [
    "{\n",
    "    function argumentsFunction(a, b, c) {      // recieve 3 parameters\n",
    "        console.log(a, arguments[0]);          // 1\n",
    "        console.log(b, arguments[1]);          // 2\n",
    "        console.log(c, arguments[2]);          // 3\n",
    "        console.log(arguments[3]);             // 4\n",
    "        console.log(typeof arguments);         // object\n",
    "        console.log(Array.isArray(arguments)); // false\n",
    "        let argsArray = Array.from(arguments);\n",
    "        console.log(typeof argsArray);         // object\n",
    "        console.log(Array.isArray(argsArray)); // true\n",
    "    }\n",
    "    argumentsFunction(1, 2, 3, 4);             // pass 4 arguments\n",
    "    console.log();\n",
    "\n",
    "    function argumentsSum() {\n",
    "        console.log(typeof arguments);         // object\n",
    "        console.log(Array.isArray(arguments)); // false\n",
    "        let sum = 0;\n",
    "        for (index in arguments) {\n",
    "            sum += arguments[index];\n",
    "        }\n",
    "        return sum;\n",
    "    }\n",
    "    let sum = argumentsSum(1, 2, 3);\n",
    "    console.log(sum);        // 6\n",
    "    console.log();\n",
    "\n",
    "    function variadicFunction(a, b, ...argsArray) {\n",
    "        console.log(a);                        // 10\n",
    "        console.log(b);                        // 20\n",
    "        console.log(typeof argsArray);         // object\n",
    "        console.log(Array.isArray(argsArray)); // true\n",
    "        let sum = 0;\n",
    "        for (index in argsArray) {\n",
    "            sum += argsArray[index];\n",
    "        }\n",
    "        return sum;\n",
    "    }\n",
    "    console.log(variadicFunction(10, 20, 1, 2, 3)); // 6\n",
    "}"
   ]
  },
  {
   "cell_type": "markdown",
   "metadata": {},
   "source": [
    "## Default Parameters (ES2015)\n",
    "\n",
    "```\n",
    "function [name]([param1[ = defaultValue1 ][, ..., paramN[ = defaultValueN ]]]) {\n",
    "   statements\n",
    "}\n",
    "```"
   ]
  },
  {
   "cell_type": "code",
   "execution_count": 6,
   "metadata": {},
   "outputs": [
    {
     "name": "stdout",
     "output_type": "stream",
     "text": [
      "10\n",
      "10\n",
      "5\n",
      "NaN\n"
     ]
    }
   ],
   "source": [
    "{\n",
    "    function multiply(a, b = 1) {\n",
    "        return a * b;\n",
    "    }\n",
    "    console.log(multiply(5, 2, 77)); // 10\n",
    "    console.log(multiply(5, 2));     // 10\n",
    "    console.log(multiply(5));        // 5\n",
    "    console.log(multiply());         // NaN\n",
    "}"
   ]
  },
  {
   "cell_type": "markdown",
   "metadata": {},
   "source": [
    "## The ```this``` Keyword\n",
    "\n",
    "* The ```this``` keyword is different from many other languages\n",
    "* It behaves differently depending on whether strict mode or non-strict mode is in effect\n",
    "* The value of ```this``` is usually determined by how a function is called (runtime binding)\n",
    "* The value of ```this``` cannot be assigned (immutable)\n",
    "* Set the value of ```this``` to a particular value by calling ```call()``` or ```apply()```\n",
    "* ES5 introduced ```bind()``` to set value of this regardless of how function called\n",
    "* ES2015 introduced arrow functions which don't provide their own this binding (uses enclosing lexical context)"
   ]
  },
  {
   "cell_type": "code",
   "execution_count": 25,
   "metadata": {},
   "outputs": [
    {
     "name": "stdout",
     "output_type": "stream",
     "text": [
      "{ prop: 42, method: [Function: method] }\n",
      "42\n",
      "undefined\n"
     ]
    }
   ],
   "source": [
    "{\n",
    "const obj = {\n",
    "    prop: 42,\n",
    "    method: function() {\n",
    "        return this.prop;\n",
    "    }\n",
    "};\n",
    "console.log(obj);           // { prop: 42, method: [Function: method] }\n",
    "console.log(obj.method());  // 42\n",
    "let m = obj.method;\n",
    "console.log(m());           // undefined\n",
    "}"
   ]
  },
  {
   "cell_type": "code",
   "execution_count": 19,
   "metadata": {},
   "outputs": [
    {
     "name": "stdout",
     "output_type": "stream",
     "text": [
      "true\n",
      "true\n"
     ]
    }
   ],
   "source": [
    "{\n",
    "    function f1() {\n",
    "        return this;\n",
    "    }\n",
    "    console.log(f1() === global);       // true (in Node) \n",
    "    //console.log(f1() === window);     // true (in browser)\n",
    "    \n",
    "    function f2() {\n",
    "        'use strict';\n",
    "        return this;\n",
    "    }\n",
    "    console.log(f2() === undefined);   // true (in Node) \n",
    "    //console.log(f2() === undefined); // true (in browser)\n",
    "}"
   ]
  },
  {
   "cell_type": "markdown",
   "metadata": {},
   "source": [
    "## Arrow Functions and Function Objects\n",
    "\n",
    "See: https://developer.mozilla.org/en-US/docs/Web/JavaScript/Reference/Functions/Arrow_functions\n",
    "\n",
    "- Arrow functions provide a consise in-line syntax to define a function as an expression\n",
    "- Arrow functions do not have their own ```this```, ```arguments```, ```super```, or ```new.target```\n",
    "\n",
    "Here is the basic syntax:\n",
    "\n",
    "* Parentheses are optional if only one parameter\n",
    "* Parentheses are required if no parameters or more than one parameter\n",
    "* Curly braces are optional if just one expression value in body (implied return value)\n",
    "* Curly braces are required if any number of statements are in the body (a block of code)\n",
    "* Here are the possibilities:\n",
    "    - ```(param1, param2, …, paramN) => expression```\n",
    "    - ```(param1, param2, …, paramN) => { statements }```\n",
    "    - ````(singleParam) => { statements }````\n",
    "    - ````singleParam => { statements }````\n",
    "    - ````() => expression````\n",
    "    - ````() => { statements }````"
   ]
  },
  {
   "cell_type": "markdown",
   "metadata": {},
   "source": [
    "## The ```Array.prototype.map()``` Method\n",
    "\n",
    "* The ```Array.prototype.map()``` method returns a new array containing results of the provided callback function\n",
    "* The ```map``` method calls the provided callback function once for each element in the source array in sequential order\n",
    "* The provided callback function is applied to every element in the provided array to produce the results\n",
    "* These results are assembled into the new resulting array\n",
    "* Here is the syntax:\n",
    "    - ```let new_array = arr.map(callback( currentValue[, index[, array]]) { // return element }[, thisArg])```\n",
    "\n",
    "* The ```callback``` function is called for every element in arr and each result returned is added to ```new_array```\n",
    "* The provided ```callback``` function accepts the following arguments:\n",
    "    - ```currentValue``` The current element being processed in the original array\n",
    "    - ```index``` (optional) is the index of the current element being processed in the array\n",
    "    - ```array``` (optional) is the array that the ```map``` method was called on\n",
    "    - ```thisArg``` (optional) is the value to use as ```this``` while executing the callback function\n",
    "* The return value is a new array with each element being the result of the callback function"
   ]
  },
  {
   "cell_type": "code",
   "execution_count": 86,
   "metadata": {},
   "outputs": [
    {
     "name": "stdout",
     "output_type": "stream",
     "text": [
      "[ 7, 5, 5, 4 ]\n",
      "[ 'yrucrum', 'sunev', 'htrae', 'sram' ]\n",
      "[ 2, 8, 18, 32 ]\n",
      "[ false, true, false, true ]\n",
      "[ 0, 3, 5, 7 ]\n"
     ]
    }
   ],
   "source": [
    "{\n",
    "const planets = ['murcury','venus','earth','mars'];\n",
    "console.log(planets.map(planet => planet.length));  // [ 7, 5, 5, 4 ]\n",
    "    \n",
    "function reverseString(str) { return str.split(\"\").reverse().join(\"\"); }\n",
    "console.log(planets.map(reverseString));            // [ 'yrucrum', 'sunev', 'htrae', 'sram' ]\n",
    "    \n",
    "const array1 = [1, 4, 9, 16];\n",
    "console.log(array1.map(x => x * 2));                // [ 2, 8, 18, 32 ]\n",
    "console.log(array1.map(x => x%2 === 0));            // [ false, true, false, true ]\n",
    "// produce array of deltas (discrete derivative: https://calculus.subwiki.org/wiki/Discrete_derivative)\n",
    "console.log(array1.map((x, index, array) => index===0?0:x-array[index-1]));  // [ 0, 3, 5, 7 ]\n",
    "}"
   ]
  },
  {
   "cell_type": "markdown",
   "metadata": {},
   "source": [
    "In strict mode, however, if the value of ```this``` is not set when entering an execution context, it remains ```undefined``` "
   ]
  },
  {
   "cell_type": "markdown",
   "metadata": {},
   "source": [
    "## The ```Function.prototype.apply()``` Function\n",
    "\n",
    "**NOTE**: ```Function.prototype.apply()``` is almost identical to ```Function.prototype.call()```. The difference is that ```apply()``` accepts a single array containing all the arguments , whereas ```call()``` accepts a comma seperated argument list.\n",
    "\n",
    "Here is the syntax:\n",
    "\n",
    "```func.apply(thisArg, [argsArray])```\n",
    "\n",
    "* The ```thisArg``` argument is the value of ```this``` provided for the call to ```func``` (use the function as a method on an object)\n",
    "* The ```argsArray``` argument (optional) is an array-like object specifying arguments to passed to ```func```\n",
    "* The return value is the result of calling ```func``` with the specified this and argument values"
   ]
  },
  {
   "cell_type": "code",
   "execution_count": 38,
   "metadata": {},
   "outputs": [
    {
     "name": "stdout",
     "output_type": "stream",
     "text": [
      "Ms. Sally Jones 73 Head Honcho\n",
      "Mr. Joe Smith 92 Master Planner\n",
      "undefined undefined undefined undefined undefined\n"
     ]
    }
   ],
   "source": [
    "{\n",
    "function greet(title, role) {\n",
    "    console.log(title, this.firstName, this.lastName, this.age, role);\n",
    "}\n",
    "const sally = {\n",
    "    firstName: 'Sally', lastName: 'Jones', age: 73\n",
    "};\n",
    "const joe = {\n",
    "    firstName: 'Joe', lastName: 'Smith', age: 92\n",
    "};\n",
    "\n",
    "// invoke greet function as method, where this set to the sally object, and with parameters\n",
    "greet.apply(sally, [\"Ms.\", \"Head Honcho\"]);  // Ms. Sally Jones 73 Head Honcho\n",
    "\n",
    "// invoke greet function as method, where this set to the sally object, and with parameters\n",
    "greet.apply(joe, [\"Mr.\", \"Master Planner\"]); // Mr. Joe Smith 92 Master Planner\n",
    "\n",
    "// invoke greet function with this undefined and parameters undefined (not very useful)\n",
    "greet()                                      // undefined undefined undefined undefined undefined\n",
    "}"
   ]
  },
  {
   "cell_type": "markdown",
   "metadata": {},
   "source": [
    "## The ```Function.prototype.call()``` Function\n",
    "\n",
    "**NOTE**: ```Function.prototype.call()``` is almost identical to ```Function.prototype.apply()```. The difference is that ```call()``` accepts a comma seperated argument list, whereas ```apply()``` accepts a single array containing all the arguments.\n",
    "\n",
    "Here is the syntax:\n",
    "\n",
    "```func.call([thisArg[, arg1, arg2, ...argN]])```\n",
    "\n",
    "* ```thisArg``` is an optional value to use as this when calling func\n",
    "* ```arg1```, ```arg2```,... ```argN``` are the optional arguments for the function"
   ]
  },
  {
   "cell_type": "code",
   "execution_count": 39,
   "metadata": {},
   "outputs": [
    {
     "name": "stdout",
     "output_type": "stream",
     "text": [
      "Ms. Sally Jones 73 Head Honcho\n",
      "Mr. Joe Smith 92 Master Planner\n",
      "undefined undefined undefined undefined undefined\n"
     ]
    }
   ],
   "source": [
    "{\n",
    "function greet(title, role) {\n",
    "    console.log(title, this.firstName, this.lastName, this.age, role);\n",
    "}\n",
    "const sally = {\n",
    "    firstName: 'Sally', lastName: 'Jones', age: 73\n",
    "};\n",
    "const joe = {\n",
    "    firstName: 'Joe', lastName: 'Smith', age: 92\n",
    "};\n",
    "\n",
    "// invoke greet function as method, where this set to the sally object, and with parameters\n",
    "greet.call(sally, \"Ms.\", \"Head Honcho\");  // Ms. Sally Jones 73 Head Honcho\n",
    "    \n",
    "// invoke greet function as method, where this set to the sally object, and with parameters\n",
    "greet.call(joe, \"Mr.\", \"Master Planner\");    // Mr. Joe Smith 92 Master Planner\n",
    "    \n",
    "// invoke greet function with this undefined and parameters undefined (not very useful)\n",
    "greet()                      // undefined undefined undefined undefined undefined\n",
    "}"
   ]
  },
  {
   "cell_type": "markdown",
   "metadata": {},
   "source": [
    "## The ```Function.prototype.bind()``` Function\n",
    "\n",
    "* Creates a new function object that (when called) has ```this``` set to the specified object\n",
    "* A sequence of optional arguments can be prepended to arguments provided to the newly-bound function\n",
    "\n",
    "Here is the syntax:\n",
    "\n",
    "```let boundFunc = func.bind(thisArg[, arg1[, arg2[, ...argN]]])```\n",
    "\n",
    "* ```thisArg``` is the value to be passed as the this parameter to the target function when the bound function is called\n",
    "* ```arg1, arg2, ...argN``` optional arguments to prepend to arguments provided to the bound function when function is called"
   ]
  },
  {
   "cell_type": "code",
   "execution_count": 62,
   "metadata": {},
   "outputs": [
    {
     "name": "stdout",
     "output_type": "stream",
     "text": [
      "obj1.methodGetX() returns: 10\n",
      "unboundMethodGetX() returns: undefined\n",
      "boundMethodGetX() returns: 10\n",
      "boundsomeFunc() returns: 77\n"
     ]
    }
   ],
   "source": [
    "{\n",
    "const obj1 = {\n",
    "    x: 10,\n",
    "    methodGetX: function() {\n",
    "        return this.x;\n",
    "    }\n",
    "};\n",
    "    \n",
    "console.log(\"obj1.methodGetX() returns:\", obj1.methodGetX());     // 10\n",
    "    \n",
    "const unboundMethodGetX = obj1.methodGetX;\n",
    "console.log(\"unboundMethodGetX() returns:\", unboundMethodGetX()); // undefined\n",
    "\n",
    "const boundMethodGetX = unboundMethodGetX.bind(obj1);\n",
    "console.log(\"boundMethodGetX() returns:\", boundMethodGetX());     // 10\n",
    "    \n",
    "const obj2 = {\n",
    "    x: 77,\n",
    "};\n",
    "    \n",
    "const unboundFunction = function () { return this.x; }\n",
    "const boundsomeFunction= unboundFunction.bind(obj2);\n",
    "console.log(\"boundsomeFunc() returns:\", boundsomeFunction());     // 77\n",
    "}"
   ]
  },
  {
   "cell_type": "markdown",
   "metadata": {},
   "source": [
    "## Iterators and  Generators\n",
    "\n",
    "See: https://developer.mozilla.org/en-US/docs/Web/JavaScript/Guide/Iterators_and_Generators\n",
    "\n",
    "### Iterators \n",
    "\n",
    "* There are many ways to iterate over collections, such as using for loops or array methods, etc.\n",
    "* In contrast, iterators and generators bring iteration into JavaScript as core language feature\n",
    "* An iterator is an object that provides a sequence values until they are all consumed\n",
    "* All iterator objects must implement the ```Iterator``` interface \n",
    "* The ```Iterator``` interface specifies the ```next()``` method that returns a value with two properties:\n",
    "    - The ```value``` property is the next value in iteration sequence (if any are still available)\n",
    "    - The ```done``` property is true if last value has already been consumed (nothing left)\n",
    "* The items are fetched in sequence by repeatedly calling ```next()```\n",
    "* When ```next()``` has nothing more to ```yield```, it returns the object ```{done: true}```\n",
    "* The most commonly used iterator object is the ```Array``` iterator\n",
    "* Arrays allocate memory in their entirety, but iterators dynamically generate data on demand (memory efficient)\n",
    "\n",
    "### Generators\n",
    "\n",
    "* Custom iterators are great but they are complex to implement (maintaining internal state, etc.)\n",
    "* Generator functions make it easy to define this iterative mechanism in a simple single function\n",
    "* Generator functions do not execute in a continuous manner (they stop and start using the ```yield``` keyword)\n",
    "* Calling a generator does not directly execute their code, but instead, it returns a special type of iterator called a generator\n",
    "* Calling the generator's next method causes the generator function to execute until it encounters the ```yield``` keyword\n",
    "* The ```yield``` keyword causes the generator function to yield the next value to the caller\n",
    "    - But it does not actually terminate and return from the function\n",
    "    - Instead, it remains paused but available for subsequent calls to ```next```\n",
    "* Generator functions are written using the ```function*``` syntax"
   ]
  },
  {
   "cell_type": "code",
   "execution_count": 87,
   "metadata": {},
   "outputs": [
    {
     "name": "stdout",
     "output_type": "stream",
     "text": [
      "0\n",
      "1\n",
      "4\n",
      "9\n",
      "16\n",
      "undefined\n",
      "\n",
      "[ 0, 1, 1, 2, 3, 5, 8, 13, 21, 34 ]\n",
      "\n",
      "0\n",
      "2\n",
      "4\n",
      "6\n",
      "8\n",
      "10\n",
      "\n",
      "0\n",
      "2\n",
      "4\n",
      "6\n",
      "8\n",
      "10\n"
     ]
    }
   ],
   "source": [
    "{\n",
    "function* squares(index) {\n",
    "    while (index < 5) {\n",
    "        yield index*index;\n",
    "        index++;\n",
    "    }\n",
    "}\n",
    "const iterator = squares(0);\n",
    "console.log(iterator.next().value);              // 0\n",
    "console.log(iterator.next().value);              // 1\n",
    "console.log(iterator.next().value);              // 4\n",
    "console.log(iterator.next().value);              // 9\n",
    "console.log(iterator.next().value);              // 16\n",
    "console.log(iterator.next().value);              // undefined\n",
    "\n",
    "console.log();\n",
    "    \n",
    "function* fibonacci(n) {\n",
    "    const infinite = !n && n !== 0;\n",
    "    let current = 0;\n",
    "    let next = 1;\n",
    "\n",
    "    while (infinite || n--) {\n",
    "    yield current;\n",
    "    [current, next] = [next, current + next];\n",
    "    }\n",
    "}\n",
    "let [...first10] = fibonacci(10);\n",
    "console.log(first10);                          // [ 0, 1, 1, 2, 3, 5, 8, 13, 21, 34 ]\n",
    "    \n",
    "console.log();\n",
    "    \n",
    "function* makeRangeIterator(start = 0, end = 100, step = 1) {\n",
    "    let iterationCount = 0;\n",
    "    for (let i = start; i <= end; i += step) {\n",
    "        iterationCount++;\n",
    "        yield i;\n",
    "    }\n",
    "    return iterationCount;\n",
    "}\n",
    "    \n",
    "let rangeIterator = makeRangeIterator(0, 10, 2);  // get an iterator\n",
    "while(true) {\n",
    "    let next = rangeIterator.next();\n",
    "    if (next.done) break;\n",
    "    console.log(next.value);                      // even numbers from 0 to 10\n",
    "}\n",
    "    \n",
    "console.log();\n",
    "    \n",
    "rangeIterator = makeRangeIterator(0, 10, 2);      // get a new one for freash start\n",
    "for (const next of rangeIterator) {\n",
    "    console.log(next);\n",
    "}\n",
    "}"
   ]
  },
  {
   "cell_type": "code",
   "execution_count": null,
   "metadata": {},
   "outputs": [],
   "source": []
  }
 ],
 "metadata": {
  "kernelspec": {
   "display_name": "Javascript (Node.js)",
   "language": "javascript",
   "name": "javascript"
  },
  "language_info": {
   "file_extension": ".js",
   "mimetype": "application/javascript",
   "name": "javascript",
   "version": "10.13.0"
  }
 },
 "nbformat": 4,
 "nbformat_minor": 2
}
