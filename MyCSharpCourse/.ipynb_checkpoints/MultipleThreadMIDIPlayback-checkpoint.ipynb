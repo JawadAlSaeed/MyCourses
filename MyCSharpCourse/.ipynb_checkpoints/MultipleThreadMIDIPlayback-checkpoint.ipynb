{
 "cells": [
  {
   "cell_type": "markdown",
   "metadata": {},
   "source": [
    "# Multiple Thread MIDI Playback\n"
   ]
  },
  {
   "cell_type": "code",
   "execution_count": 1,
   "metadata": {},
   "outputs": [
    {
     "data": {
      "text/html": [
       "Installed package Melanchall.DryWetMidi version 5.1.1"
      ]
     },
     "metadata": {},
     "output_type": "display_data"
    }
   ],
   "source": [
    "#r \"nuget:Melanchall.DryWetMidi\""
   ]
  },
  {
   "cell_type": "code",
   "execution_count": 2,
   "metadata": {},
   "outputs": [
    {
     "name": "stdout",
     "output_type": "stream",
     "text": [
      "Starting on main thread.\n",
      "Stopping on secondary thread.\n",
      "Starting on main thread.\n",
      "Stopping on secondary thread.\n",
      "Secondary thread ending\n",
      "Changing midi file in main thread.\n",
      "Main thread ending\n"
     ]
    }
   ],
   "source": [
    "// Starting and Stopping midi playback on multiple threads\n",
    "using System;\n",
    "using System.Threading;\n",
    "using Melanchall.DryWetMidi.Devices;\n",
    "using Melanchall.DryWetMidi.Core;\n",
    "\n",
    "class Program\n",
    "{\n",
    "    public static Playback playback;\n",
    "    \n",
    "    public static void Main()\n",
    "    {\n",
    "        Thread secondaryThread = new Thread(SecondaryThread);\n",
    "        secondaryThread.Start();\n",
    "\n",
    "        var outputDevice = OutputDevice.GetById(0);\n",
    "        playback = MidiFile.Read(\"midi/satie_gymnopedie_no1.mid\").GetPlayback(outputDevice);\n",
    "        playback.InterruptNotesOnStop = true;\n",
    "\n",
    "        Console.WriteLine(\"Starting on main thread.\");\n",
    "        playback.Start();\n",
    "        Thread.Sleep(6000);\n",
    "        Console.WriteLine(\"Starting on main thread.\");\n",
    "        playback.MoveToStart();\n",
    "        playback.Start();\n",
    "\n",
    "        Thread.Sleep(6000);\n",
    "        Console.WriteLine(\"Changing midi file in main thread.\");\n",
    "        playback = MidiFile.Read(\"midi/beethoven_fur_elise_orig.mid\").GetPlayback(outputDevice);\n",
    "        playback.InterruptNotesOnStop = true;\n",
    "        playback.Start();\n",
    "        \n",
    "        Thread.Sleep(6000);\n",
    "        playback.Stop();\n",
    "        outputDevice.Dispose();\n",
    "\n",
    "        secondaryThread.Join();\n",
    "        Console.WriteLine(\"Main thread ending\");\n",
    "    }\n",
    "    \n",
    "    public static void SecondaryThread()\n",
    "    {\n",
    "        Thread.Sleep(5000);\n",
    "        Console.WriteLine(\"Stopping on secondary thread.\");\n",
    "        playback.Stop();\n",
    "        Thread.Sleep(5000);\n",
    "        Console.WriteLine(\"Stopping on secondary thread.\");\n",
    "        playback.Stop();\n",
    "        \n",
    "        Console.WriteLine(\"Secondary thread ending\");\n",
    "    }\n",
    "}\n",
    "\n",
    "Program.Main();"
   ]
  },
  {
   "cell_type": "code",
   "execution_count": null,
   "metadata": {},
   "outputs": [],
   "source": []
  }
 ],
 "metadata": {
  "kernelspec": {
   "display_name": ".NET (C#)",
   "language": "C#",
   "name": ".net-csharp"
  },
  "language_info": {
   "file_extension": ".cs",
   "mimetype": "text/x-csharp",
   "name": "C#",
   "pygments_lexer": "csharp",
   "version": "8.0"
  }
 },
 "nbformat": 4,
 "nbformat_minor": 4
}
