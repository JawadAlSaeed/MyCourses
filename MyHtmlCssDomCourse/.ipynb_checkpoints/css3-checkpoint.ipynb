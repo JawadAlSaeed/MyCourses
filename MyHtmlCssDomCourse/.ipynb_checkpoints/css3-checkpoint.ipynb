{
 "cells": [
  {
   "cell_type": "markdown",
   "metadata": {},
   "source": [
    "# CSS3\n",
    "\n",
    "* Selectors\n",
    "* Color\n",
    "* Gradient\n",
    "* Text\n",
    "* Font\n",
    "* Pseudo Classes and Pseudo Elements\n",
    "* Media Queries\n",
    "* Box Model\n",
    "* Multiple Column Layout\n",
    "* Grid Layout\n",
    "* Flexbox\n",
    "* Transforms\n",
    "* Transitions\n",
    "* Keyframe Animation"
   ]
  },
  {
   "cell_type": "markdown",
   "metadata": {},
   "source": [
    "## Selectors\n",
    "\n",
    "* A CSS selector selects the elements to which the style rules will be styled\n",
    "* Simple selectors select elements based on name, id, or class\n",
    "* Combinator selectors select elements based on relationships between elements\n",
    "* Pseudo-class selectors select elements based on current element state\n",
    "* Pseudo-elements selectors select a part of an element\n",
    "* Attribute selectors select elements based on the esitance of an attribute or the value of an attribute"
   ]
  },
  {
   "cell_type": "code",
   "execution_count": 2,
   "metadata": {},
   "outputs": [
    {
     "data": {
      "text/html": [
       "\n",
       "<style>\n",
       "    /* This is a comment */\n",
       "    p {\n",
       "        color: blue;\n",
       "    } \n",
       "</style>\n",
       "<p>This p element is styled with a CSS style element.</p>\n",
       "<p>This another p element is styled with a CSS style element.</p>\n"
      ],
      "text/plain": [
       "<IPython.core.display.HTML object>"
      ]
     },
     "metadata": {},
     "output_type": "display_data"
    }
   ],
   "source": [
    "%%html\n",
    "\n",
    "<style>\n",
    "    /* This is a comment */\n",
    "    p {\n",
    "        color: blue;\n",
    "    } \n",
    "</style>\n",
    "<p>This p element is styled with a CSS style element.</p>\n",
    "<p>This another p element is styled with a CSS style element.</p>"
   ]
  },
  {
   "cell_type": "code",
   "execution_count": 10,
   "metadata": {},
   "outputs": [
    {
     "data": {
      "text/html": [
       "\n",
       "<style>\n",
       "a[target] { color: red; }\n",
       "a[target=\"_blank\"] { background-color: yellow; }\n",
       "</style>\n",
       "<a href=\"https://www.w3.org/Style/CSS/Overview.en.html\">W3C: Cascading Style Sheets</a> <br>\n",
       "<a href=\"https://developer.mozilla.org/en-US/docs/Web/CSS\" target=\"_blank\">MDN: Cascading Style Sheets</a> <br>\n",
       "<a href=\"https://en.wikipedia.org/wiki/Cascading_Style_Sheets\" target=\"_top\">Wikipedia: Cascading Style Sheets</a> <br>\n"
      ],
      "text/plain": [
       "<IPython.core.display.HTML object>"
      ]
     },
     "metadata": {},
     "output_type": "display_data"
    }
   ],
   "source": [
    "%%html\n",
    "\n",
    "<style>\n",
    "a[target] { color: red; }\n",
    "a[target=\"_blank\"] { background-color: yellow; }\n",
    "</style>\n",
    "<a href=\"https://www.w3.org/Style/CSS/Overview.en.html\">W3C: Cascading Style Sheets</a> <br>\n",
    "<a href=\"https://developer.mozilla.org/en-US/docs/Web/CSS\" target=\"_blank\">MDN: Cascading Style Sheets</a> <br>\n",
    "<a href=\"https://en.wikipedia.org/wiki/Cascading_Style_Sheets\" target=\"_top\">Wikipedia: Cascading Style Sheets</a> <br>"
   ]
  },
  {
   "cell_type": "code",
   "execution_count": null,
   "metadata": {},
   "outputs": [],
   "source": []
  }
 ],
 "metadata": {
  "kernelspec": {
   "display_name": "Python 3",
   "language": "python",
   "name": "python3"
  },
  "language_info": {
   "codemirror_mode": {
    "name": "ipython",
    "version": 3
   },
   "file_extension": ".py",
   "mimetype": "text/x-python",
   "name": "python",
   "nbconvert_exporter": "python",
   "pygments_lexer": "ipython3",
   "version": "3.7.6"
  }
 },
 "nbformat": 4,
 "nbformat_minor": 4
}
