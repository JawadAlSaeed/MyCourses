{
 "cells": [
  {
   "cell_type": "markdown",
   "metadata": {},
   "source": [
    "# Euclidean GCD Recursive"
   ]
  },
  {
   "cell_type": "code",
   "execution_count": 3,
   "metadata": {},
   "outputs": [
    {
     "name": "stdout",
     "output_type": "stream",
     "text": [
      "21\r\n"
     ]
    }
   ],
   "source": [
    "class Program\n",
    "{\n",
    "    static int EuclideanAlgorithmRecursive(int a, int b)\n",
    "    {\n",
    "        if (a == 0)\n",
    "            return b;\n",
    "        if (b == 0)\n",
    "            return a;\n",
    "\n",
    "        if (a > b)\n",
    "            return EuclideanAlgorithmRecursive(a % b, b);\n",
    "        else\n",
    "            return EuclideanAlgorithmRecursive(a, b % a);\n",
    "    }\n",
    "\n",
    "    public static void Main()\n",
    "    {\n",
    "        System.Console.WriteLine(\n",
    "            EuclideanAlgorithmRecursive(252, 105)); // output: 21\n",
    "    }\n",
    "}\n",
    "\n",
    "Program.Main();"
   ]
  },
  {
   "cell_type": "code",
   "execution_count": null,
   "metadata": {},
   "outputs": [],
   "source": []
  }
 ],
 "metadata": {
  "kernelspec": {
   "display_name": ".NET (C#)",
   "language": "C#",
   "name": ".net-csharp"
  },
  "language_info": {
   "file_extension": ".cs",
   "mimetype": "text/x-csharp",
   "name": "C#",
   "pygments_lexer": "csharp",
   "version": "8.0"
  }
 },
 "nbformat": 4,
 "nbformat_minor": 4
}
