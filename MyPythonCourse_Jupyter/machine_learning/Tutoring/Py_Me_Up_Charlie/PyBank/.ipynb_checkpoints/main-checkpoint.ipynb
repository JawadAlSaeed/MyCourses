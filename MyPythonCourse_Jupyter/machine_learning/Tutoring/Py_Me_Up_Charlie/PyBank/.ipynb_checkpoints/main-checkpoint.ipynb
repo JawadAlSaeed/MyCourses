{
 "cells": [
  {
   "cell_type": "code",
   "execution_count": 2,
   "metadata": {},
   "outputs": [
    {
     "name": "stdout",
     "output_type": "stream",
     "text": [
      "Financial Analysis\n",
      "----------------------------\n",
      "Total Months: 86\n",
      "Total Profit/Losses: $38382578\n",
      "Average Change in Profits/Losses: $-2315.12\n",
      "Greatest Increase in Profits: Feb-2012 ($1926159)\n",
      "Greatest Decrease in Losses: Sep-2013 ($-2196167)\n"
     ]
    }
   ],
   "source": [
    "import os\n",
    "import csv\n",
    "\n",
    "csv_file_path = os.path.join(\"Resources\", \"budget_data.csv\")\n",
    "\n",
    "# initialize variables\n",
    "total_months  =  0       # total number or months\n",
    "total_revenue = 0        # total profit/losses\n",
    "prev_revenue  = 0       # previous profit/losses\n",
    "profit_delta  = 0\n",
    "revenue_delta_list = [] # list of differences between consecutive rows\n",
    "greatest_increase_profits = ['', 0]            # start with smallest number that is possible\n",
    "greatest_decrease_losses = ['', 9999999999999] # start with huge number that is bigger than possible\n",
    "\n",
    "with open(csv_file_path, newline=\"\") as csv_file:  \n",
    "    reader = csv.DictReader(csv_file)\n",
    "    for row in reader:        \n",
    "        total_months += 1 # count up total number months        \n",
    "        total_revenue += int(row['Profit/Losses']) # calculate total profit/losses\n",
    "\n",
    "        # used to calulate average change in profit/losses between months\n",
    "        if total_months == 1: # there is no delta for first row because it has no previous row to subtract\n",
    "            prev_revenue = int(row[\"Profit/Losses\"])\n",
    "        else:\n",
    "            profit_delta = int(row[\"Profit/Losses\"]) - prev_revenue\n",
    "            prev_revenue = int(row[\"Profit/Losses\"])\n",
    "            revenue_delta_list = revenue_delta_list + [profit_delta]\n",
    "        \n",
    "        # find greatest increase in profit (date and amount)\n",
    "        if profit_delta > greatest_increase_profits[1]:\n",
    "            greatest_increase_profits[1] = profit_delta\n",
    "            greatest_increase_profits[0] = row['Date']\n",
    "            \n",
    "        # find greatest decrease in losses (date and amount)\n",
    "        if profit_delta < greatest_decrease_losses[1]:\n",
    "            greatest_decrease_losses[1] = profit_delta\n",
    "            greatest_decrease_losses[0] = row['Date']\n",
    "\n",
    "average_change_revenue = sum(revenue_delta_list)/len(revenue_delta_list) # calulate average change in profit/losses\n",
    "\n",
    "print(\"Financial Analysis\")\n",
    "print(\"----------------------------\")\n",
    "print(\"Total Months: \" + str(total_months))\n",
    "print(\"Total Profit/Losses: $\" + str(total_revenue))\n",
    "print(f\"Average Change in Profits/Losses: ${average_change_revenue:.2f}\")\n",
    "print(\"Greatest Increase in Profits: \" + str(greatest_increase_profits[0]) + \" ($\" + str(greatest_increase_profits[1]) + \")\")\n",
    "print(\"Greatest Decrease in Losses: \" + str(greatest_decrease_losses[0]) + \" ($\" + str(greatest_decrease_losses[1]) + \")\")\n",
    "\n",
    "output_file = \"results.txt\"\n",
    "\n",
    "with open(output_file, 'w') as outfile:\n",
    "    outfile.write(\"Financial Analysis\\n\")\n",
    "    outfile.write(\"----------------------------\\n\")\n",
    "    outfile.write(\"Total Months: %d\\n\" % total_months)\n",
    "    outfile.write(\"Total Profits/Losses: $%d\\n\" % total_revenue)\n",
    "    outfile.write(f\"Average Change in Profits/Losses: ${average_change_revenue:.2f}\\n\")\n",
    "    outfile.write(\"Greatest Increase in Profits: %s ($%s)\\n\" % (greatest_increase_profits[0], greatest_increase_profits[1]))\n",
    "    outfile.write(\"Greatest Decrease in Losses: %s ($%s)\\n\" % (greatest_decrease_losses[0], greatest_decrease_losses[1]))"
   ]
  },
  {
   "cell_type": "code",
   "execution_count": null,
   "metadata": {},
   "outputs": [],
   "source": []
  }
 ],
 "metadata": {
  "kernelspec": {
   "display_name": "Python 3",
   "language": "python",
   "name": "python3"
  },
  "language_info": {
   "codemirror_mode": {
    "name": "ipython",
    "version": 3
   },
   "file_extension": ".py",
   "mimetype": "text/x-python",
   "name": "python",
   "nbconvert_exporter": "python",
   "pygments_lexer": "ipython3",
   "version": "3.6.4"
  }
 },
 "nbformat": 4,
 "nbformat_minor": 2
}
