{
 "cells": [
  {
   "cell_type": "markdown",
   "metadata": {},
   "source": [
    "# Python Functions and Classes"
   ]
  },
  {
   "cell_type": "code",
   "execution_count": 1,
   "metadata": {},
   "outputs": [
    {
     "name": "stdout",
     "output_type": "stream",
     "text": [
      "Hello Galahad\n"
     ]
    }
   ],
   "source": [
    "def say_hello(name):\n",
    "    print('Hello', name)\n",
    "say_hello('Galahad')"
   ]
  },
  {
   "cell_type": "code",
   "execution_count": null,
   "metadata": {},
   "outputs": [],
   "source": [
    "def factorial(number):\n",
    "  if number < 0:\n",
    "    raise ValueError(\"Undefined for negative integers\")\n",
    "  result = 1\n",
    "  if number > 0:\n",
    "    for factor in range(1, number+1, 1):\n",
    "      result = result*factor\n",
    "  return result\n",
    "\n",
    "number = eval(input(\"Enter number: \"))\n",
    "print(factorial(number))"
   ]
  },
  {
   "cell_type": "code",
   "execution_count": 2,
   "metadata": {},
   "outputs": [
    {
     "name": "stdout",
     "output_type": "stream",
     "text": [
      "Method called: my_function\n",
      "Method called: my_function_with_parameters, param1 -> Hello , param2: World\n",
      "add_numbers(3, 4) returned: 7\n",
      "before calling access_global(), global g is: 100\n",
      "in access_global(), global g is incremented: 101\n",
      "after calling access_global(), global g is now: 101\n",
      "before calling hide_global(), global g is: 100\n",
      "in hide_global(), local g is incremented: 201\n",
      "after calling hide_global(), global g is still: 100\n"
     ]
    }
   ],
   "source": [
    "def my_function():\n",
    "    print(\"Method called: my_function\")\n",
    "my_function()\n",
    "\n",
    "def my_function_with_parameters(param1, param2):\n",
    "    print(\"Method called: my_function_with_parameters, param1 -> %s , param2: %s\" % (param1, param2))\n",
    "my_function_with_parameters(\"Hello\", \"World\")\n",
    "\n",
    "\n",
    "def add_numbers(x, y):\n",
    "    return x + y\n",
    "result = add_numbers(3, 4)\n",
    "print(\"add_numbers(3, 4) returned: \" + str(result) )\n",
    "\n",
    "g = 100\n",
    "def access_global():\n",
    "    global g # avoids error: UnboundLocalError: local variable 'g' referenced before assignment\n",
    "    g += 1 #increment global\n",
    "    print(\"in access_global(), global g is incremented:\", g)\n",
    "print(\"before calling access_global(), global g is:\", g)\n",
    "access_global()\n",
    "print(\"after calling access_global(), global g is now:\", g)\n",
    "\n",
    "\n",
    "g = 100\n",
    "def hide_global():\n",
    "    g = 200 # local hides global\n",
    "    g += 1 #increment loacl that hides global\n",
    "    print(\"in hide_global(), local g is incremented:\", g)\n",
    "print(\"before calling hide_global(), global g is:\", g)\n",
    "hide_global()\n",
    "print(\"after calling hide_global(), global g is still:\", g)\n"
   ]
  },
  {
   "cell_type": "code",
   "execution_count": 3,
   "metadata": {},
   "outputs": [
    {
     "name": "stdout",
     "output_type": "stream",
     "text": [
      "7\n",
      "my_funcion adds two arguments.\n",
      "    Keyword arguments:\n",
      "    x -- integer, first argument to be added\n",
      "    y -- integer, second argument to be added\n",
      "    Returns: sum of arguments\n",
      "    \n"
     ]
    }
   ],
   "source": [
    "# A docstring, if it exists, must be the first thing defined in function\n",
    "def my_funcion(x, y):\n",
    "    '''my_funcion adds two arguments.\n",
    "    Keyword arguments:\n",
    "    x -- integer, first argument to be added\n",
    "    y -- integer, second argument to be added\n",
    "    Returns: sum of arguments\n",
    "    '''\n",
    "    return x + y\n",
    "\n",
    "result = my_funcion(3,4)\n",
    "\n",
    "print(result)\n",
    "\n",
    "print(my_funcion.__doc__)"
   ]
  },
  {
   "cell_type": "code",
   "execution_count": 4,
   "metadata": {},
   "outputs": [
    {
     "name": "stdout",
     "output_type": "stream",
     "text": [
      "5\n",
      "44\n",
      "30\n"
     ]
    }
   ],
   "source": [
    "#default arguments\n",
    "\n",
    "def func(p1, p2=42):\n",
    "    return p1 + p2\n",
    "\n",
    "print(func(2,3)) # explicit arguments\n",
    "\n",
    "print(func(2)) # defaulted argument\n",
    "\n",
    "print(func(p2=10, p1=20)) # named arguments out of order"
   ]
  },
  {
   "cell_type": "code",
   "execution_count": 5,
   "metadata": {},
   "outputs": [
    {
     "name": "stdout",
     "output_type": "stream",
     "text": [
      "param1: 1\n",
      "param2: 2\n",
      "param3: 3\n",
      "additional_params: []\n",
      "param1: 1\n",
      "param2: 2\n",
      "param3: 3\n",
      "additional_params: [4]\n",
      "param1: 1\n",
      "param2: 2\n",
      "param3: 3\n",
      "additional_params: [4, 5]\n",
      "param1: 1\n",
      "param2: 2\n",
      "param3: 3\n",
      "additional_params: [4, 5, 6]\n",
      "compute called with 3, 4, add, true\n",
      "Result: 7\n",
      "Result: 12\n"
     ]
    }
   ],
   "source": [
    "#variadic functions\n",
    "\n",
    "def myVariadicFunction(param1, param2, param3, *additional_params):\n",
    "    print(\"param1: %s\" % param1)\n",
    "    print(\"param2: %s\" % param2)\n",
    "    print(\"param3: %s\" % param3)\n",
    "    print(\"additional_params: %s\" % list(additional_params))\n",
    "\n",
    "# myVariadicFunction(1,2) #TypeError: missing 1 required positional argument: 'param3'\n",
    "myVariadicFunction(1,2,3)\n",
    "myVariadicFunction(1,2,3,4)\n",
    "myVariadicFunction(1,2,3,4,5)\n",
    "myVariadicFunction(1,2,3,4,5,6)\n",
    "\n",
    "\n",
    "def compute(param1, param2, **options):\n",
    "    if options.get(\"log\") == \"true\":\n",
    "        print(\"compute called with %d, %d, %s, %s\" % (param1, param2, options.get(\"action\"), options.get(\"log\")))\n",
    "    if options.get(\"action\") == \"add\":\n",
    "        return param1 + param2\n",
    "    elif options.get(\"action\") == \"multiply\":\n",
    "        return param1 * param2\n",
    "\n",
    "result = compute(3, 4, action = \"add\", log = \"true\")\n",
    "print(\"Result: %d\" % result)\n",
    "\n",
    "result = compute(3, 4, action = \"multiply\", log = \"false\")\n",
    "print(\"Result: %d\" % result)"
   ]
  },
  {
   "cell_type": "code",
   "execution_count": 6,
   "metadata": {},
   "outputs": [
    {
     "name": "stdout",
     "output_type": "stream",
     "text": [
      "Hi\n",
      "Bye\n",
      "Hi\n",
      "Bye\n",
      "Hi\n",
      "Bye\n"
     ]
    }
   ],
   "source": [
    "#function objects \n",
    "\n",
    "def say_hi():\n",
    "    print('Hi')\n",
    "\n",
    "def say_bye():\n",
    "    print('Bye')\n",
    "\n",
    "say_hi()\n",
    "say_bye()\n",
    "\n",
    "#function object variables (assign name of function without parentheses)\n",
    "func = say_hi\n",
    "func()\n",
    "func = say_bye\n",
    "func()\n",
    "\n",
    "#list of function objects\n",
    "funcs = [say_hi, say_bye]\n",
    "for func in funcs:\n",
    "    func()"
   ]
  },
  {
   "cell_type": "code",
   "execution_count": 7,
   "metadata": {},
   "outputs": [
    {
     "name": "stdout",
     "output_type": "stream",
     "text": [
      "1\n",
      "2\n",
      "3\n",
      "a\n",
      "b\n",
      "c\n",
      "\n",
      "1\n",
      "2\n",
      "3\n",
      "a\n",
      "b\n",
      "c\n"
     ]
    }
   ],
   "source": [
    "#generators\n",
    "\n",
    "# this way works but can consume a lot of memory\n",
    "def concat_simple(a, b) :\n",
    "    return a + b\n",
    "for el in concat_simple([1, 2, 3], [\"a\", \"b\", \"c\"]):\n",
    "    print(el)\n",
    "\n",
    "print()\n",
    "\n",
    "# this way can consume less memory\n",
    "def concat_generator(a, b) :\n",
    "    for el in a :\n",
    "        yield el\n",
    "    for el in b :\n",
    "        yield el\n",
    "for el in concat_generator([1, 2, 3], [\"a\", \"b\", \"c\"]):\n",
    "    print(el)"
   ]
  },
  {
   "cell_type": "code",
   "execution_count": 8,
   "metadata": {},
   "outputs": [
    {
     "name": "stdout",
     "output_type": "stream",
     "text": [
      "simple lambda calls: 4 64\n",
      "lambda called in loop: 1, 4, 9, 16, 25, 36, 49, 64, 81, 100, \n",
      "lambda callback: 9\n",
      "using named callback in map function: [1, 4, 9, 16, 25]\n",
      "using lambda callback in map function: [1, 4, 9, 16, 25]\n"
     ]
    }
   ],
   "source": [
    "#lambdas\n",
    "\n",
    "#simple lambda\n",
    "def make_power_function (n): return lambda x: x**n\n",
    "f1 = make_power_function(2)\n",
    "f2 = make_power_function(6)\n",
    "print(\"simple lambda calls:\", f1(2), f2(2))\n",
    "\n",
    "#lambda assigned to a variable and then invoked\n",
    "print(\"lambda called in loop: \", end='')\n",
    "my_lambda =  lambda x: x * x\n",
    "for n in (1, 2, 3, 4, 5, 6, 7, 8, 9, 10):\n",
    "   print(my_lambda(n), end=\", \")\n",
    "print()\n",
    "\n",
    "#callback using lambda\n",
    "print(\"lambda callback: \", end='')\n",
    "def function_takes_callback(call_back_function):\n",
    "    return call_back_function(3)\n",
    "result = function_takes_callback(lambda x: x*x)\n",
    "print(result)\n",
    "\n",
    "print(\"using named callback in map function: \", end='')\n",
    "items = [1, 2, 3, 4, 5]\n",
    "def square(x): return x ** 2\n",
    "print(list(map(square, items)))\n",
    "\n",
    "print(\"using lambda callback in map function: \", end='')\n",
    "items = [1, 2, 3, 4, 5]\n",
    "print(list(map((lambda x: x **2), items)))"
   ]
  },
  {
   "cell_type": "code",
   "execution_count": 9,
   "metadata": {},
   "outputs": [
    {
     "name": "stdout",
     "output_type": "stream",
     "text": [
      "8\n",
      "10\n"
     ]
    }
   ],
   "source": [
    "#closures\n",
    "\n",
    "def outer_function(outer_argument):\n",
    "  def inner_function(inner_argument):\n",
    "    return outer_argument + inner_argument\n",
    "  return inner_function\n",
    "\n",
    "inner_function1 = outer_function(5)\n",
    "print(inner_function1(3))\n",
    "\n",
    "inner_function2 = outer_function(7)\n",
    "print(inner_function2(3))"
   ]
  },
  {
   "cell_type": "code",
   "execution_count": 10,
   "metadata": {},
   "outputs": [
    {
     "name": "stdout",
     "output_type": "stream",
     "text": [
      "\n",
      "myRectangle1.width -> 10\n",
      "myRectangle1.height -> 20\n",
      "myRectangle1.getArea() -> 200\n",
      "\n",
      "myRectangle2.width -> 5\n",
      "myRectangle2.height -> 20\n",
      "myRectangle2.getArea() -> 100\n"
     ]
    }
   ],
   "source": [
    "#classes\n",
    "\n",
    "class Rectangle:\n",
    "    width = 10\n",
    "    height = 20\n",
    "\n",
    "    def getArea(self):\n",
    "        return self.width*self.height\n",
    "\n",
    "myRectangle1 = Rectangle()\n",
    "myRectangle2 = Rectangle()\n",
    "myRectangle2.width = 5\n",
    "\n",
    "print()\n",
    "print(\"myRectangle1.width -> %d\" % myRectangle1.width)\n",
    "print(\"myRectangle1.height -> %d\" % myRectangle1.height)\n",
    "print(\"myRectangle1.getArea() -> %d\" % myRectangle1.getArea())\n",
    "\n",
    "print()\n",
    "print(\"myRectangle2.width -> %d\" % myRectangle2.width)\n",
    "print(\"myRectangle2.height -> %d\" % myRectangle2.height)\n",
    "print(\"myRectangle2.getArea() -> %d\" % myRectangle2.getArea())"
   ]
  },
  {
   "cell_type": "code",
   "execution_count": 11,
   "metadata": {},
   "outputs": [
    {
     "name": "stdout",
     "output_type": "stream",
     "text": [
      "Graham, Chapman\n",
      "Eric, Idle\n",
      "Terry, Gilliam\n",
      "Terry, Jones\n",
      "John, Cleese\n",
      "Michael, Palin\n"
     ]
    }
   ],
   "source": [
    "#object initialization\n",
    "\n",
    "class Comedian:\n",
    "    def __init__(self, first_name, second_name): # object initializer\n",
    "        self.first_name = first_name\n",
    "        self.second_name = second_name\n",
    "    def __str__(self): # used by print method\n",
    "        return self.first_name + \", \" + self.second_name\n",
    "\n",
    "python_troupe_1969  = [\n",
    "    Comedian(\"Graham\", \"Chapman\"),\n",
    "    Comedian(\"Eric\", \"Idle\"),\n",
    "    Comedian(\"Terry\", \"Gilliam\"),\n",
    "    Comedian(\"Terry\", \"Jones\"),\n",
    "    Comedian(\"John\", \"Cleese\"),\n",
    "    Comedian(\"Michael\", \"Palin\")\n",
    "    ]\n",
    "\n",
    "for comedian in python_troupe_1969:\n",
    "    print(comedian)"
   ]
  },
  {
   "cell_type": "code",
   "execution_count": 12,
   "metadata": {},
   "outputs": [
    {
     "name": "stdout",
     "output_type": "stream",
     "text": [
      "55\n",
      "55\n"
     ]
    }
   ],
   "source": [
    "#data hiding\n",
    "\n",
    "# name attributes with double underscore prefix -> private visibility\n",
    "\n",
    "class MyClass:\n",
    "    __secret_member = 42\n",
    "  \n",
    "    def add_number_to_private_member(self, n):\n",
    "        self.__secret_member += n\n",
    "        print(self.__secret_member)\n",
    "\n",
    "mc = MyClass()\n",
    "mc.add_number_to_private_member(13) # OK\n",
    "\n",
    "print(mc._MyClass__secret_member) # can access it via mangled name\n",
    "\n",
    "#print(mc.__secretCount) # uncomment -> AttributeError: 'MyClass' object has no attribute '__secretCount'"
   ]
  },
  {
   "cell_type": "code",
   "execution_count": 13,
   "metadata": {},
   "outputs": [
    {
     "name": "stdout",
     "output_type": "stream",
     "text": [
      "0.05\n",
      "1500\n",
      "1000\n",
      "2000\n",
      "2100.0\n",
      "0.1\n",
      "2310.0\n",
      "5000\n",
      "0.1\n",
      "5500.0\n"
     ]
    }
   ],
   "source": [
    "#class static members\n",
    "\n",
    "class BankAccount:\n",
    "    interest = 0.0 # static field\n",
    "    def __init__(self, initial_balance = 0.0):\n",
    "        self.balance = initial_balance\n",
    "    def deposit(self, amount):\n",
    "        self.balance += amount\n",
    "    def withdraw(self, amount):\n",
    "        self.balance -= amount\n",
    "    def accrue_interest(self):\n",
    "        self.balance += self.balance * BankAccount.interest\n",
    "    @staticmethod\n",
    "    def set_interest(new_interest): # static method\n",
    "        BankAccount.interest = new_interest\n",
    "\n",
    "BankAccount.set_interest(0.05)\n",
    "print(BankAccount.interest)\n",
    "\n",
    "my_account = BankAccount(1500)\n",
    "print(my_account.balance)\n",
    "\n",
    "my_account.withdraw(500)\n",
    "print(my_account.balance)\n",
    "\n",
    "my_account.deposit(1000)\n",
    "print(my_account.balance)\n",
    "\n",
    "my_account.accrue_interest()\n",
    "print(my_account.balance)\n",
    "\n",
    "BankAccount.set_interest(0.10)\n",
    "print(BankAccount.interest)\n",
    "\n",
    "my_account.accrue_interest()\n",
    "print(my_account.balance)\n",
    "\n",
    "my_other_account = BankAccount(5000)\n",
    "print(my_other_account.balance)\n",
    "print(BankAccount.interest)\n",
    "my_other_account.accrue_interest()\n",
    "print(my_other_account.balance)"
   ]
  },
  {
   "cell_type": "code",
   "execution_count": 11,
   "metadata": {},
   "outputs": [
    {
     "name": "stdout",
     "output_type": "stream",
     "text": [
      "Child constructor called\n",
      "Child method (child_method) called\n",
      "Parent method (parent_method) called\n",
      "ParentClass set_attribute called : 13\n",
      "ParentClass get_attribute called : 13\n"
     ]
    },
    {
     "data": {
      "text/plain": [
       "13"
      ]
     },
     "execution_count": 11,
     "metadata": {},
     "output_type": "execute_result"
    }
   ],
   "source": [
    "#class inheritance\n",
    "\n",
    "class ParentClass:\n",
    "    parent_attribute = 42\n",
    "    def __init__(self):\n",
    "        print(\"Parent constructor called\")\n",
    "\n",
    "    def parent_method(self):\n",
    "        print('Parent method (parent_method) called')\n",
    "\n",
    "    def set_attribute(self, attribute):\n",
    "        ParentClass.parent_attribute = attribute\n",
    "        print(\"ParentClass set_attribute called :\", attribute)\n",
    "\n",
    "    def get_attribute(self):\n",
    "        print(\"ParentClass get_attribute called :\", ParentClass.parent_attribute)\n",
    "        return ParentClass.parent_attribute\n",
    "               \n",
    "class ChildClass(ParentClass):\n",
    "    def __init__(self):\n",
    "        print(\"Child constructor called\")\n",
    "\n",
    "    def child_method(self):\n",
    "        print('Child method (child_method) called')\n",
    "\n",
    "cc = ChildClass()\n",
    "cc.child_method()\n",
    "cc.parent_method()\n",
    "cc.set_attribute(13)\n",
    "cc.get_attribute()\n",
    "\n",
    "# NOTE: Python also supports a limited form of multiple inheritance\n"
   ]
  },
  {
   "cell_type": "code",
   "execution_count": 1,
   "metadata": {},
   "outputs": [
    {
     "name": "stdout",
     "output_type": "stream",
     "text": [
      "Enter Pin A input for gate G1-->1\n",
      "Enter Pin B input for gate G1-->0\n",
      "Enter Pin A input for gate G2-->0\n",
      "Enter Pin B input for gate G2-->1\n",
      "1\n"
     ]
    }
   ],
   "source": [
    "class LogicGate:\n",
    "\n",
    "    def __init__(self,n):\n",
    "        self.name = n\n",
    "        self.output = None\n",
    "\n",
    "    def getLabel(self):\n",
    "        return self.name\n",
    "\n",
    "    def getOutput(self):\n",
    "        self.output = self.performGateLogic()\n",
    "        return self.output\n",
    "\n",
    "\n",
    "class BinaryGate(LogicGate):\n",
    "\n",
    "    def __init__(self,n):\n",
    "        super().__init__(n)\n",
    "\n",
    "        self.pinA = None\n",
    "        self.pinB = None\n",
    "\n",
    "    def getPinA(self):\n",
    "        if self.pinA == None:\n",
    "            return int(input(\"Enter Pin A input for gate \"+self.getLabel()+\"-->\"))\n",
    "        else:\n",
    "            return self.pinA.getFrom().getOutput()\n",
    "\n",
    "    def getPinB(self):\n",
    "        if self.pinB == None:\n",
    "            return int(input(\"Enter Pin B input for gate \"+self.getLabel()+\"-->\"))\n",
    "        else:\n",
    "            return self.pinB.getFrom().getOutput()\n",
    "\n",
    "    def setNextPin(self,source):\n",
    "        if self.pinA == None:\n",
    "            self.pinA = source\n",
    "        else:\n",
    "            if self.pinB == None:\n",
    "                self.pinB = source\n",
    "            else:\n",
    "                print(\"Cannot Connect: NO EMPTY PINS on this gate\")\n",
    "\n",
    "class AndGate(BinaryGate):\n",
    "\n",
    "    def __init__(self,n):\n",
    "        BinaryGate.__init__(self,n)\n",
    "\n",
    "    def performGateLogic(self):\n",
    "\n",
    "        a = self.getPinA()\n",
    "        b = self.getPinB()\n",
    "        if a==1 and b==1:\n",
    "            return 1\n",
    "        else:\n",
    "            return 0\n",
    "\n",
    "class OrGate(BinaryGate):\n",
    "\n",
    "    def __init__(self,n):\n",
    "        BinaryGate.__init__(self,n)\n",
    "\n",
    "    def performGateLogic(self):\n",
    "\n",
    "        a = self.getPinA()\n",
    "        b = self.getPinB()\n",
    "        if a ==1 or b==1:\n",
    "            return 1\n",
    "        else:\n",
    "            return 0\n",
    "\n",
    "class UnaryGate(LogicGate):\n",
    "\n",
    "    def __init__(self,n):\n",
    "        LogicGate.__init__(self,n)\n",
    "\n",
    "        self.pin = None\n",
    "\n",
    "    def getPin(self):\n",
    "        if self.pin == None:\n",
    "            return int(input(\"Enter Pin input for gate \"+self.getLabel()+\"-->\"))\n",
    "        else:\n",
    "            return self.pin.getFrom().getOutput()\n",
    "\n",
    "    def setNextPin(self,source):\n",
    "        if self.pin == None:\n",
    "            self.pin = source\n",
    "        else:\n",
    "            print(\"Cannot Connect: NO EMPTY PINS on this gate\")\n",
    "\n",
    "\n",
    "class NotGate(UnaryGate):\n",
    "\n",
    "    def __init__(self,n):\n",
    "        UnaryGate.__init__(self,n)\n",
    "\n",
    "    def performGateLogic(self):\n",
    "        if self.getPin():\n",
    "            return 0\n",
    "        else:\n",
    "            return 1\n",
    "\n",
    "\n",
    "class Connector:\n",
    "\n",
    "    def __init__(self, fgate, tgate):\n",
    "        self.fromgate = fgate\n",
    "        self.togate = tgate\n",
    "\n",
    "        tgate.setNextPin(self)\n",
    "\n",
    "    def getFrom(self):\n",
    "        return self.fromgate\n",
    "\n",
    "    def getTo(self):\n",
    "        return self.togate\n",
    "\n",
    "\n",
    "def main():\n",
    "   g1 = AndGate(\"G1\")\n",
    "   g2 = AndGate(\"G2\")\n",
    "   g3 = OrGate(\"G3\")\n",
    "   g4 = NotGate(\"G4\")\n",
    "   c1 = Connector(g1,g3)\n",
    "   c2 = Connector(g2,g3)\n",
    "   c3 = Connector(g3,g4)\n",
    "   print(g4.getOutput())\n",
    "\n",
    "main()"
   ]
  },
  {
   "cell_type": "code",
   "execution_count": null,
   "metadata": {},
   "outputs": [],
   "source": []
  }
 ],
 "metadata": {
  "kernelspec": {
   "display_name": "Python 3",
   "language": "python",
   "name": "python3"
  },
  "language_info": {
   "codemirror_mode": {
    "name": "ipython",
    "version": 3
   },
   "file_extension": ".py",
   "mimetype": "text/x-python",
   "name": "python",
   "nbconvert_exporter": "python",
   "pygments_lexer": "ipython3",
   "version": "3.6.4"
  }
 },
 "nbformat": 4,
 "nbformat_minor": 2
}
