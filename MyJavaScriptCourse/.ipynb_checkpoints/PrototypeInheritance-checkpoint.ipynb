{
 "cells": [
  {
   "cell_type": "markdown",
   "metadata": {},
   "source": [
    "# Prototype Inheritance\n",
    "\n",
    "Note: The ES2015 class keyword is just syntactical sugar, JavaScript remains prototype-based  \n",
    "See: https://developer.mozilla.org/en-US/docs/Web/JavaScript/Inheritance_and_the_prototype_chain\n",
    "\n",
    "* We often want to take an existing type of object and extend it to make a derived type object\n",
    "* An animal object may be the base type (parent) of dog and cat type objects (children)\n",
    "* So a derived type of object is just a more specialized type of the general base type\n",
    "* Each object has a private property which holds a link to another object called its prototype\n",
    "* The prototype object has a prototype, and so on until a null prototype is reached (prototype chain)\n",
    "* The final ```null``` prototype has no further prototype (end of the chain)\n",
    "* Objects are simply dynamic sets of properties (a.k.a. \"own properties\")\n",
    "* ```__proto__``` is the historical getter/setter for an object's prototype"
   ]
  },
  {
   "cell_type": "code",
   "execution_count": 1,
   "metadata": {},
   "outputs": [
    {
     "name": "stdout",
     "output_type": "stream",
     "text": [
      "\n",
      "*animal*\n",
      "true\n",
      "animal eats\n",
      "\n",
      "*dog before connecting prototype to animal*\n",
      "true\n",
      "undefined\n",
      "dog plays dead\n",
      "\n",
      "*dog after connecting prototype to animal*\n",
      "true\n",
      "true\n",
      "animal eats\n",
      "dog plays dead\n",
      "\n",
      "*Object.keys(dog)*\n",
      "[ 'barks', 'playDead' ]\n",
      "\n",
      "*for(let prop in dog)*\n",
      "barks\n",
      "playDead\n",
      "lives\n",
      "eat\n"
     ]
    }
   ],
   "source": [
    "{\n",
    "let animal = {\n",
    "    lives: true,\n",
    "    eat() {\n",
    "        console.log(\"animal eats\");\n",
    "    }\n",
    "};\n",
    "let dog = {\n",
    "    barks: true,\n",
    "    playDead() {\n",
    "        console.log(\"dog plays dead\");\n",
    "    }\n",
    "};\n",
    "\n",
    "console.log(\"\\n*animal*\");\n",
    "console.log(animal.lives);    // true\n",
    "animal.eat();                 // animal eats\n",
    "\n",
    "    \n",
    "console.log(\"\\n*dog before connecting prototype to animal*\");\n",
    "console.log(dog.barks);        // true\n",
    "console.log(dog.lives);        // undefined (lives is not inherited from animal)\n",
    "//dog.eat();                   // TypeError: dog.eat is not a function (at least not now)\n",
    "dog.playDead();                // dog plays dead\n",
    "\n",
    "dog.__proto__ = animal;        // Note: __proto__ is a historical getter/setter for the prototype\n",
    "    \n",
    "console.log(\"\\n*dog after connecting prototype to animal*\");\n",
    "console.log(dog.barks);        // true\n",
    "console.log(dog.lives);        // true      (inherited from animal via prototype)\n",
    "dog.eat();                     // animal eats \n",
    "dog.playDead();                // dog plays dead\n",
    "    \n",
    "console.log(\"\\n*Object.keys(dog)*\");\n",
    "console.log(Object.keys(dog)); // [ 'barks', 'playDead' ]\n",
    "\n",
    "console.log(\"\\n*for(let prop in dog)*\");\n",
    "for(let prop in dog) {\n",
    "    console.log(prop);         // loops over both own and inherited keys\n",
    "}\n",
    "}"
   ]
  },
  {
   "cell_type": "markdown",
   "metadata": {},
   "source": [
    "## Using ```class``` and ```extends``` Keywords\n",
    "\n",
    "* The ```class``` and ```extends``` keywords only provide syntactic sugar\n",
    "* Underlying inheritance model is still based on the traditional prototype chain"
   ]
  },
  {
   "cell_type": "code",
   "execution_count": 3,
   "metadata": {},
   "outputs": [
    {
     "name": "stdout",
     "output_type": "stream",
     "text": [
      "13 years, 12pounds\n",
      "eat()\n",
      "playDead()\n"
     ]
    }
   ],
   "source": [
    "{\n",
    "'use strict';\n",
    "\n",
    "class Animal {\n",
    "    constructor(age, weight) {\n",
    "        this.age = age;\n",
    "        this.weight = weight;\n",
    "    }\n",
    "    eat() {\n",
    "        console.log(\"eat()\");\n",
    "    }\n",
    "}\n",
    "\n",
    "class Dog extends Animal {\n",
    "    constructor(name, age, weight) {\n",
    "        super(age, weight);\n",
    "        this.name = name;\n",
    "    }\n",
    "    playDead() {\n",
    "        console.log(\"playDead()\");\n",
    "    }\n",
    "}\n",
    "\n",
    "var dog = new Dog(\"Winston\", 13, 12);\n",
    "console.log(dog.age + \" years\" + \", \" + dog.weight + \"pounds\");\n",
    "dog.eat();\n",
    "dog.playDead();\n",
    "}"
   ]
  },
  {
   "cell_type": "code",
   "execution_count": null,
   "metadata": {},
   "outputs": [],
   "source": []
  }
 ],
 "metadata": {
  "kernelspec": {
   "display_name": "Javascript (Node.js)",
   "language": "javascript",
   "name": "javascript"
  },
  "language_info": {
   "file_extension": ".js",
   "mimetype": "application/javascript",
   "name": "javascript",
   "version": "10.13.0"
  }
 },
 "nbformat": 4,
 "nbformat_minor": 4
}
