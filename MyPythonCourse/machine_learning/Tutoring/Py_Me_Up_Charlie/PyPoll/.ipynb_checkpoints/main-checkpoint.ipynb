{
 "cells": [
  {
   "cell_type": "code",
   "execution_count": 1,
   "metadata": {},
   "outputs": [
    {
     "name": "stdout",
     "output_type": "stream",
     "text": [
      "Election Results\n",
      "-------------------------\n",
      "Total Votes: 499\n",
      "-------------------------\n",
      "Khan: 64.5% (322)\n",
      "Correy: 22.6% (113)\n",
      "Li: 11.0% (55)\n",
      "O'Tooley: 1.8% (9)\n",
      "-------------------------\n",
      "Winner: Khan\n",
      "-------------------------\n"
     ]
    }
   ],
   "source": [
    "import os\n",
    "import csv\n",
    "\n",
    "csv_file_path = os.path.join(\"Resources\", \"election_data.csv\")\n",
    "\n",
    "total_votes = 0         # count total number of votes\n",
    "candidates = {}         # dictionary of keys (candidate names) and values (number of votes)\n",
    "candidates_percent = {} # dictionary of vote percentages for candidates\n",
    "winner_count = 0        # number of votes for winning candidate\n",
    "winner_name = \"\"        # name of winning candidate\n",
    "\n",
    "with open(csv_file_path, newline = \"\") as csv_file:\n",
    "    reader = csv.reader(csv_file, delimiter = \",\")\n",
    "    next(reader, None)\n",
    "    for row in reader:        \n",
    "        total_votes += 1 # tally total vote count\n",
    "        \n",
    "        # find list of candidates who received votes\n",
    "        if row[2] in candidates.keys():\n",
    "            candidates[row[2]] += 1\n",
    "        else:\n",
    "            candidates[row[2]] = 1\n",
    "\n",
    "        # calculate percentages for votes won by each candidate (candidates dictionary: key= Name, value= number of votes)\n",
    "        for key, value in candidates.items():\n",
    "            candidates_percent[key] = round((value/total_votes) * 100, 1)\n",
    "\n",
    "        # find winning candidate using candidates dictionary\n",
    "        for key in candidates.keys():\n",
    "            if candidates[key] > winner_count:\n",
    "                winner_name = key\n",
    "                winner_count = candidates[key]\n",
    "\n",
    "\n",
    "print(\"Election Results\")\n",
    "print(\"-------------------------\")\n",
    "print(\"Total Votes: \" + str(total_votes))\n",
    "print(\"-------------------------\")\n",
    "for key, value in candidates.items():\n",
    "    print(key + \": \" + str(candidates_percent[key]) + \"% (\" + str(value) + \")\")\n",
    "print(\"-------------------------\")\n",
    "print(\"Winner: \" + winner_name)\n",
    "print(\"-------------------------\")\n",
    "\n",
    "output_file = \"results.txt\"\n",
    "\n",
    "with open(output_file, 'w') as outfile:\n",
    "    outfile.write(\"Election Results \\n\")\n",
    "    outfile.write(\"-------------------------\\n\")\n",
    "    outfile.write(\"Total Votes: \" + str(total_votes) + \"\\n\")\n",
    "    outfile.write(\"-------------------------\\n\")\n",
    "    for key, value in candidates.items():\n",
    "        outfile.write(key + \": \" + str(candidates_percent[key]) + \"% (\" + str(value) + \") \\n\")\n",
    "    outfile.write(\"-------------------------\\n\")\n",
    "    outfile.write(\"Winner: \" + winner_name + \"\\n\")\n",
    "    outfile.write(\"-------------------------\\n\")"
   ]
  },
  {
   "cell_type": "code",
   "execution_count": null,
   "metadata": {},
   "outputs": [],
   "source": []
  }
 ],
 "metadata": {
  "kernelspec": {
   "display_name": "Python 3",
   "language": "python",
   "name": "python3"
  },
  "language_info": {
   "codemirror_mode": {
    "name": "ipython",
    "version": 3
   },
   "file_extension": ".py",
   "mimetype": "text/x-python",
   "name": "python",
   "nbconvert_exporter": "python",
   "pygments_lexer": "ipython3",
   "version": "3.6.4"
  }
 },
 "nbformat": 4,
 "nbformat_minor": 2
}
