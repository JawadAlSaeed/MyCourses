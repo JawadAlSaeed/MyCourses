{
 "cells": [
  {
   "cell_type": "markdown",
   "metadata": {},
   "source": [
    "## Data Structures and Algorithms\n",
    "\n",
    "### Data Structures\n",
    "\n",
    "* [Queue]()\n",
    "* [Deque]()  \n",
    "* [Stack]()\n",
    "* [Binary Tree]()\n",
    "\n",
    "### Sort and Search Algorithms\n",
    "\n",
    "* [Big O Notation]()\n",
    "* [Sort Algorithms](SortAlgorithms.ipynb)\n",
    "* [Search Algorithms]()\n",
    "\n",
    "### Various Other Algorithms \n",
    "* [Factorial]()\n",
    "* [Primes](Primes.ipynb)\n",
    "* [Newton-Raphson Method](NewtonRaphson.ipynb)\n",
    "* [xxx]()"
   ]
  },
  {
   "cell_type": "code",
   "execution_count": null,
   "metadata": {},
   "outputs": [],
   "source": []
  }
 ],
 "metadata": {
  "kernelspec": {
   "display_name": "Java",
   "language": "java",
   "name": "java"
  },
  "language_info": {
   "codemirror_mode": "java",
   "file_extension": ".jshell",
   "mimetype": "text/x-java-source",
   "name": "Java",
   "pygments_lexer": "java",
   "version": "13.0.2+8"
  }
 },
 "nbformat": 4,
 "nbformat_minor": 4
}
