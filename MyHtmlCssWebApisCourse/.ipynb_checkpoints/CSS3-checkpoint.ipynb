{
 "cells": [
  {
   "cell_type": "markdown",
   "metadata": {},
   "source": [
    "# My CSS3 Course\n",
    "\n",
    "* CSS stands for Cascading Style Sheets\n",
    "* CSS describes how HTML elements are styled on screen, printer, and other media"
   ]
  },
  {
   "cell_type": "markdown",
   "metadata": {},
   "source": [
    "## CSS3 Topics\n",
    "\n",
    "* Basic CSS Syntax\n",
    "* Locations for CSS Styles\n",
    "* Style Rule Parts\n",
    "* Selector Categories\n",
    "* Multi-Rule Styles\n",
    "* Selectors\n",
    "* Color\n",
    "* Gradients\n",
    "* Text\n",
    "* Fonts\n",
    "* Pseudo Classes and Pseudo Elements\n",
    "* Media Queries\n",
    "* Box Model\n",
    "* Multiple Column Layout\n",
    "* Grid Layout\n",
    "* Flexbox\n",
    "* Transforms\n",
    "* Transitions\n",
    "* Keyframe Animations"
   ]
  },
  {
   "cell_type": "markdown",
   "metadata": {},
   "source": [
    "### Basic CSS Syntax\n",
    "\n",
    "```\n",
    "style-rule ::=\n",
    "    selectors-list {\n",
    "    properties-list\n",
    "    }\n",
    "```\n",
    "where :\n",
    "\n",
    "```\n",
    "selectors-list ::=\n",
    "    selector[:pseudo-class] [::pseudo-element]\n",
    "    [, selectors-list]\n",
    "\n",
    "properties-list ::= \n",
    "    [property : value] [; properties-list]\n",
    "``` \n",
    "\n",
    "For example, the following CSS rule selects paragraph text and sets their color to red:\n",
    "\n",
    "```css\n",
    "p {\n",
    "  color: red;\n",
    "}\n",
    "```"
   ]
  },
  {
   "cell_type": "markdown",
   "metadata": {},
   "source": [
    "## Locations for CSS Styles\n",
    "\n",
    "* **External styles** are referenced in seperate ```.css``` files (preferred and most common method)\n",
    "* **Internal styles** are specified within an HTML document using the ```<style>``` element (OK to use)\n",
    "* **Inline styles** are applied to a single HTML element specified in a ```style``` attribute (avoid sing)"
   ]
  },
  {
   "cell_type": "markdown",
   "metadata": {},
   "source": [
    "### External CSS Styles\n",
    "\n",
    "* Stored in seperate .css files\n",
    "* preferred and most common method\n",
    "* xxx"
   ]
  },
  {
   "cell_type": "markdown",
   "metadata": {},
   "source": [
    "#### An Example: External CSS Styles"
   ]
  },
  {
   "cell_type": "code",
   "execution_count": null,
   "metadata": {},
   "outputs": [],
   "source": []
  },
  {
   "cell_type": "markdown",
   "metadata": {},
   "source": [
    "### Internal CSS Styles\n",
    "\n",
    "* Specified within an HTML document using the ```<style>``` element\n",
    "* Usually better than inline HTML element ```style``` attrubites"
   ]
  },
  {
   "cell_type": "markdown",
   "metadata": {},
   "source": [
    "#### An Example: Internal CSS Styles"
   ]
  },
  {
   "cell_type": "code",
   "execution_count": 1,
   "metadata": {},
   "outputs": [
    {
     "data": {
      "text/html": [
       "<div id=\"div1\">\n",
       "<style>\n",
       "    /* This is a comment */\n",
       "    #div1 > p {\n",
       "        color: blue;\n",
       "    } \n",
       "</style>\n",
       "<p>This p element is styled with a CSS style element.</p>\n",
       "<p>This another p element is styled with a CSS style element.</p>\n",
       "</div>\n"
      ],
      "text/plain": [
       "<IPython.core.display.HTML object>"
      ]
     },
     "metadata": {},
     "output_type": "display_data"
    }
   ],
   "source": [
    "%%html\n",
    "<div id=\"div1\">\n",
    "<style>\n",
    "    /* This is a comment */\n",
    "    #div1 > p {\n",
    "        color: blue;\n",
    "    } \n",
    "</style>\n",
    "<p>This p element is styled with a CSS style element.</p>\n",
    "<p>This another p element is styled with a CSS style element.</p>\n",
    "</div>"
   ]
  },
  {
   "cell_type": "markdown",
   "metadata": {},
   "source": [
    "#### Another Example: Internal CSS Styles"
   ]
  },
  {
   "cell_type": "code",
   "execution_count": 2,
   "metadata": {},
   "outputs": [
    {
     "data": {
      "text/html": [
       "<div id=\"div2\">\n",
       "<style>\n",
       "    #div2 > a[target] { color: red; }\n",
       "    #div2 > a[target=\"_blank\"] { background-color: yellow; }\n",
       "</style>\n",
       "<a href=\"https://www.w3.org/Style/CSS/Overview.en.html\">W3C: Cascading Style Sheets</a> <br>\n",
       "<a href=\"https://developer.mozilla.org/en-US/docs/Web/CSS\" target=\"_blank\">MDN: Cascading Style Sheets</a> <br>\n",
       "<a href=\"https://en.wikipedia.org/wiki/Cascading_Style_Sheets\" target=\"_top\">Wikipedia: Cascading Style Sheets</a> <br>\n",
       "</div>\n"
      ],
      "text/plain": [
       "<IPython.core.display.HTML object>"
      ]
     },
     "metadata": {},
     "output_type": "display_data"
    }
   ],
   "source": [
    "%%html\n",
    "<div id=\"div2\">\n",
    "<style>\n",
    "    #div2 > a[target] { color: red; }\n",
    "    #div2 > a[target=\"_blank\"] { background-color: yellow; }\n",
    "</style>\n",
    "<a href=\"https://www.w3.org/Style/CSS/Overview.en.html\">W3C: Cascading Style Sheets</a> <br>\n",
    "<a href=\"https://developer.mozilla.org/en-US/docs/Web/CSS\" target=\"_blank\">MDN: Cascading Style Sheets</a> <br>\n",
    "<a href=\"https://en.wikipedia.org/wiki/Cascading_Style_Sheets\" target=\"_top\">Wikipedia: Cascading Style Sheets</a> <br>\n",
    "</div>"
   ]
  },
  {
   "cell_type": "markdown",
   "metadata": {},
   "source": [
    "### Inline CSS Styles\n",
    "\n",
    "* Specified in a style attribute\n",
    "* Applied to a single HTML element\n",
    "* Should be avoided"
   ]
  },
  {
   "cell_type": "markdown",
   "metadata": {},
   "source": [
    "#### An Example: Inline CSS Styles"
   ]
  },
  {
   "cell_type": "code",
   "execution_count": null,
   "metadata": {},
   "outputs": [],
   "source": []
  },
  {
   "cell_type": "markdown",
   "metadata": {},
   "source": [
    "## Style Rules Parts\n",
    "\n",
    "A style rule is made of three parts:\n",
    "    \n",
    "* The ```selector``` part selects all HTML elemnts to which the style rule will be applied (table, .myClass, #myID, etc.)\n",
    "* The ```property``` part is an attribute of the selected elemnts to be affected (e.g. color, border, etc.)\n",
    "* The ```values``` part is the set of values to be assigned to aproperty (e.g.color can value such as red, #FF00FF, etc.)\n",
    "\n",
    "Some examples:\n",
    "\n",
    "```css\n",
    "table  { border :5px solid #FF00FF; }\n",
    "\n",
    "#myDiv { color: blue; }\n",
    "\n",
    ".myCls { color: blue; } \n",
    "```"
   ]
  },
  {
   "cell_type": "markdown",
   "metadata": {},
   "source": [
    "## Selector Categories\n",
    "\n",
    "* Type Selectors\n",
    "* ID Selectors\n",
    "* Class Selectors\n",
    "* Attribute Selectors\n",
    "* Universal Selectors\n",
    "* Descendant Selectors\n",
    "* Child Selectors"
   ]
  },
  {
   "cell_type": "markdown",
   "metadata": {},
   "source": [
    "### Type Selectors\n",
    "\n",
    "* xxx"
   ]
  },
  {
   "cell_type": "markdown",
   "metadata": {},
   "source": [
    "#### An Example: Type Selectors"
   ]
  },
  {
   "cell_type": "code",
   "execution_count": null,
   "metadata": {},
   "outputs": [],
   "source": []
  },
  {
   "cell_type": "markdown",
   "metadata": {},
   "source": [
    "### ID Selectors\n",
    "\n",
    "* xxx"
   ]
  },
  {
   "cell_type": "markdown",
   "metadata": {},
   "source": [
    "#### An Example: ID Selectors"
   ]
  },
  {
   "cell_type": "code",
   "execution_count": null,
   "metadata": {},
   "outputs": [],
   "source": []
  },
  {
   "cell_type": "markdown",
   "metadata": {},
   "source": [
    "### Class Selectors\n",
    "\n",
    "* xxx"
   ]
  },
  {
   "cell_type": "markdown",
   "metadata": {},
   "source": [
    "#### An Example: Class Selectors"
   ]
  },
  {
   "cell_type": "code",
   "execution_count": null,
   "metadata": {},
   "outputs": [],
   "source": []
  },
  {
   "cell_type": "markdown",
   "metadata": {},
   "source": [
    "### Attribute Selectors\n",
    "\n",
    "* xxx"
   ]
  },
  {
   "cell_type": "markdown",
   "metadata": {},
   "source": [
    "#### An Example: Attribute Selectors"
   ]
  },
  {
   "cell_type": "code",
   "execution_count": null,
   "metadata": {},
   "outputs": [],
   "source": []
  },
  {
   "cell_type": "markdown",
   "metadata": {},
   "source": [
    "### Universal Selectors\n",
    "\n",
    "* xxx"
   ]
  },
  {
   "cell_type": "markdown",
   "metadata": {},
   "source": [
    "#### An Example: Universal Selectors"
   ]
  },
  {
   "cell_type": "code",
   "execution_count": null,
   "metadata": {},
   "outputs": [],
   "source": []
  },
  {
   "cell_type": "markdown",
   "metadata": {},
   "source": [
    "### Descendant Selectors\n",
    "\n",
    "* xxx"
   ]
  },
  {
   "cell_type": "markdown",
   "metadata": {},
   "source": [
    "#### An Example: Descendant Selectors"
   ]
  },
  {
   "cell_type": "code",
   "execution_count": null,
   "metadata": {},
   "outputs": [],
   "source": []
  },
  {
   "cell_type": "markdown",
   "metadata": {},
   "source": [
    "### Child Selectors\n",
    "\n",
    "* xxx"
   ]
  },
  {
   "cell_type": "markdown",
   "metadata": {},
   "source": [
    "#### An Example: Child Selectors"
   ]
  },
  {
   "cell_type": "code",
   "execution_count": null,
   "metadata": {},
   "outputs": [],
   "source": []
  },
  {
   "cell_type": "markdown",
   "metadata": {},
   "source": [
    "## Multi-Rule Styles\n",
    "\n",
    "* xxx"
   ]
  },
  {
   "cell_type": "markdown",
   "metadata": {},
   "source": [
    "#### An Example: Multi-Rule Styles"
   ]
  },
  {
   "cell_type": "code",
   "execution_count": null,
   "metadata": {},
   "outputs": [],
   "source": []
  },
  {
   "cell_type": "markdown",
   "metadata": {},
   "source": [
    "## Grouping Selectors\n",
    "\n",
    "* xxx"
   ]
  },
  {
   "cell_type": "markdown",
   "metadata": {},
   "source": [
    "#### An Example: Grouping Selectors"
   ]
  },
  {
   "cell_type": "code",
   "execution_count": null,
   "metadata": {},
   "outputs": [],
   "source": []
  },
  {
   "cell_type": "markdown",
   "metadata": {},
   "source": [
    "## Selectors\n",
    "\n",
    "* A CSS selector selects the elements to which the style rules will be styled\n",
    "* Simple selectors select elements based on name, id, or class\n",
    "* Combinator selectors select elements based on relationships between elements\n",
    "* Pseudo-class selectors select elements based on current element state\n",
    "* Pseudo-elements selectors select a part of an element\n",
    "* Attribute selectors select elements based on the esitance of an attribute or the value of an attribute"
   ]
  },
  {
   "cell_type": "markdown",
   "metadata": {},
   "source": [
    "## Color\n",
    "\n",
    "* xxx"
   ]
  },
  {
   "cell_type": "code",
   "execution_count": null,
   "metadata": {},
   "outputs": [],
   "source": [
    "#### Example: xxx"
   ]
  },
  {
   "cell_type": "code",
   "execution_count": null,
   "metadata": {},
   "outputs": [],
   "source": []
  },
  {
   "cell_type": "markdown",
   "metadata": {},
   "source": [
    "## Gradients\n",
    "\n",
    "* xxx"
   ]
  },
  {
   "cell_type": "code",
   "execution_count": null,
   "metadata": {},
   "outputs": [],
   "source": [
    "#### Example: xxx"
   ]
  },
  {
   "cell_type": "code",
   "execution_count": null,
   "metadata": {},
   "outputs": [],
   "source": []
  },
  {
   "cell_type": "markdown",
   "metadata": {},
   "source": [
    "## Text\n",
    "\n",
    "* xxx"
   ]
  },
  {
   "cell_type": "code",
   "execution_count": null,
   "metadata": {},
   "outputs": [],
   "source": [
    "#### Example: xxx"
   ]
  },
  {
   "cell_type": "code",
   "execution_count": null,
   "metadata": {},
   "outputs": [],
   "source": []
  },
  {
   "cell_type": "markdown",
   "metadata": {},
   "source": [
    "## Fonts\n",
    "\n",
    "* xxx"
   ]
  },
  {
   "cell_type": "code",
   "execution_count": null,
   "metadata": {},
   "outputs": [],
   "source": [
    "#### Example: xxx"
   ]
  },
  {
   "cell_type": "code",
   "execution_count": null,
   "metadata": {},
   "outputs": [],
   "source": []
  },
  {
   "cell_type": "markdown",
   "metadata": {},
   "source": [
    "### Pseudo Classes\n",
    "\n",
    "* xxx"
   ]
  },
  {
   "cell_type": "markdown",
   "metadata": {},
   "source": [
    "#### An Example: Pseudo Classes"
   ]
  },
  {
   "cell_type": "code",
   "execution_count": null,
   "metadata": {},
   "outputs": [],
   "source": []
  },
  {
   "cell_type": "code",
   "execution_count": null,
   "metadata": {},
   "outputs": [],
   "source": [
    "### Pseudo Elements"
   ]
  },
  {
   "cell_type": "markdown",
   "metadata": {},
   "source": [
    "#### An Example: Pseudo Classes"
   ]
  },
  {
   "cell_type": "markdown",
   "metadata": {},
   "source": [
    "### Media Queries\n",
    "\n",
    "* xxx"
   ]
  },
  {
   "cell_type": "markdown",
   "metadata": {},
   "source": [
    "#### Example: Media Queries"
   ]
  },
  {
   "cell_type": "code",
   "execution_count": null,
   "metadata": {},
   "outputs": [],
   "source": []
  },
  {
   "cell_type": "markdown",
   "metadata": {},
   "source": [
    "## Box Model\n",
    "\n",
    "* xxx"
   ]
  },
  {
   "cell_type": "markdown",
   "metadata": {},
   "source": [
    "#### Example: Box Model"
   ]
  },
  {
   "cell_type": "code",
   "execution_count": null,
   "metadata": {},
   "outputs": [],
   "source": []
  },
  {
   "cell_type": "markdown",
   "metadata": {},
   "source": [
    "## Multiple Column Layout\n",
    "\n",
    "* xxx"
   ]
  },
  {
   "cell_type": "markdown",
   "metadata": {},
   "source": [
    "#### Example: Multiple Column Layout"
   ]
  },
  {
   "cell_type": "code",
   "execution_count": null,
   "metadata": {},
   "outputs": [],
   "source": []
  },
  {
   "cell_type": "markdown",
   "metadata": {},
   "source": [
    "## Grid Layout\n",
    "\n",
    "* xxx"
   ]
  },
  {
   "cell_type": "markdown",
   "metadata": {},
   "source": [
    "#### Example: Grid Layout"
   ]
  },
  {
   "cell_type": "code",
   "execution_count": null,
   "metadata": {},
   "outputs": [],
   "source": []
  },
  {
   "cell_type": "markdown",
   "metadata": {},
   "source": [
    "## Flexbox\n",
    "\n",
    "* xxx"
   ]
  },
  {
   "cell_type": "markdown",
   "metadata": {},
   "source": [
    "#### Example: Flexbox"
   ]
  },
  {
   "cell_type": "code",
   "execution_count": null,
   "metadata": {},
   "outputs": [],
   "source": []
  },
  {
   "cell_type": "markdown",
   "metadata": {},
   "source": [
    "## Transforms\n",
    "\n",
    "* xxx"
   ]
  },
  {
   "cell_type": "markdown",
   "metadata": {},
   "source": [
    "#### Example: Transforms"
   ]
  },
  {
   "cell_type": "code",
   "execution_count": null,
   "metadata": {},
   "outputs": [],
   "source": []
  },
  {
   "cell_type": "markdown",
   "metadata": {},
   "source": [
    "## Transitions\n",
    "\n",
    "* xxx"
   ]
  },
  {
   "cell_type": "markdown",
   "metadata": {},
   "source": [
    "#### Example: Transitions"
   ]
  },
  {
   "cell_type": "code",
   "execution_count": null,
   "metadata": {},
   "outputs": [],
   "source": []
  },
  {
   "cell_type": "markdown",
   "metadata": {},
   "source": [
    "## Keyframe Animations\n",
    "\n",
    "* xxx"
   ]
  },
  {
   "cell_type": "markdown",
   "metadata": {},
   "source": [
    "#### Example: Keyframe Animations"
   ]
  },
  {
   "cell_type": "code",
   "execution_count": null,
   "metadata": {},
   "outputs": [],
   "source": []
  }
 ],
 "metadata": {
  "kernelspec": {
   "display_name": "Python 3",
   "language": "python",
   "name": "python3"
  },
  "language_info": {
   "codemirror_mode": {
    "name": "ipython",
    "version": 3
   },
   "file_extension": ".py",
   "mimetype": "text/x-python",
   "name": "python",
   "nbconvert_exporter": "python",
   "pygments_lexer": "ipython3",
   "version": "3.7.6"
  }
 },
 "nbformat": 4,
 "nbformat_minor": 4
}
