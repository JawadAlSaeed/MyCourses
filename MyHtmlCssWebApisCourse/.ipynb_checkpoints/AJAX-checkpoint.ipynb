{
 "cells": [
  {
   "cell_type": "markdown",
   "metadata": {},
   "source": [
    "# AJAX\n",
    "\n",
    "* The ```XMLHttpRequest``` API\n",
    "* CORS: the ```Access-Control-Allow-Origin``` Header\n",
    "* The ```Fetch``` API\n",
    "* The ```Axios``` API"
   ]
  },
  {
   "cell_type": "markdown",
   "metadata": {},
   "source": [
    "## The ```XMLHttpRequest``` API\n",
    "\n",
    "* [Using XMLHttpRequest](https://developer.mozilla.org/en-US/docs/Web/API/XMLHttpRequest/Using_XMLHttpRequest)"
   ]
  },
  {
   "cell_type": "code",
   "execution_count": 9,
   "metadata": {},
   "outputs": [
    {
     "data": {
      "text/html": [
       "\n",
       "<!DOCTYPE html>\n",
       "<html>\n",
       "<body>\n",
       "\n",
       "<p>An XMLHttpRequest Example</p>\n",
       "\n",
       "<button type=\"button\" onclick=\"getJokeJsonString()\">Get Joke</button>\n",
       "\n",
       "<div id=\"jokeJsonString\"></div>\n",
       "\n",
       "<script>\n",
       "    function getJokeJsonString() {\n",
       "        var xhr = new XMLHttpRequest();\n",
       "        xhr.onreadystatechange = function() {\n",
       "            if (this.readyState == 4 && this.status == 200) {\n",
       "                document.getElementById(\"jokeJsonString\").innerHTML =\n",
       "                this.responseText;\n",
       "            }\n",
       "        };\n",
       "        xhr.open(\"GET\", \"https://official-joke-api.appspot.com/jokes/programming/random\", true);\n",
       "        xhr.send();\n",
       "    }\n",
       "</script>\n",
       "\n",
       "</body>\n",
       "</html>\n"
      ],
      "text/plain": [
       "<IPython.core.display.HTML object>"
      ]
     },
     "metadata": {},
     "output_type": "display_data"
    }
   ],
   "source": [
    "%%html\n",
    "\n",
    "<!DOCTYPE html>\n",
    "<html>\n",
    "<body>\n",
    "\n",
    "<p>An XMLHttpRequest Example</p>\n",
    "\n",
    "<button type=\"button\" onclick=\"getJokeJsonString()\">Get Joke</button>\n",
    "\n",
    "<div id=\"jokeJsonString\"></div>\n",
    "\n",
    "<script>\n",
    "    function getJokeJsonString() {\n",
    "        var xhr = new XMLHttpRequest();\n",
    "        xhr.onreadystatechange = function() {\n",
    "            if (this.readyState == 4 && this.status == 200) {\n",
    "                document.getElementById(\"jokeJsonString\").innerHTML =\n",
    "                this.responseText;\n",
    "            }\n",
    "        };\n",
    "        xhr.open(\"GET\", \"https://official-joke-api.appspot.com/jokes/programming/random\", true);\n",
    "        xhr.send();\n",
    "    }\n",
    "</script>\n",
    "\n",
    "</body>\n",
    "</html>"
   ]
  },
  {
   "cell_type": "code",
   "execution_count": 10,
   "metadata": {},
   "outputs": [
    {
     "data": {
      "text/html": [
       "\n",
       "<!DOCTYPE html>\n",
       "<html>\n",
       "<body>\n",
       "\n",
       "<p>Another XMLHttpRequest Example</p>\n",
       "\n",
       "<button type=\"button\" onclick=\"getJokeJsonParsed()\">Get Joke</button>\n",
       "\n",
       "<div id=\"jokeJsonParsed\"></div>\n",
       "\n",
       "<script>\n",
       "    function getJokeJsonParsed() {\n",
       "        var xhr = new XMLHttpRequest();\n",
       "        xhr.onreadystatechange = function() {\n",
       "            if (this.readyState == 4 && this.status == 200) {\n",
       "                let setup = JSON.parse(this.responseText)[0].setup;\n",
       "                let punchline = JSON.parse(this.responseText)[0].punchline;\n",
       "                let joke = `<p>${setup}</p><br/><p>${punchline}</p>`\n",
       "                console.log(joke);\n",
       "                document.getElementById(\"jokeJsonParsed\").innerHTML = joke;\n",
       "            }\n",
       "        };\n",
       "        xhr.open(\"GET\", \"https://official-joke-api.appspot.com/jokes/programming/random\", true);\n",
       "        xhr.send();\n",
       "    }\n",
       "</script>\n",
       "\n",
       "</body>\n",
       "</html>\n"
      ],
      "text/plain": [
       "<IPython.core.display.HTML object>"
      ]
     },
     "metadata": {},
     "output_type": "display_data"
    }
   ],
   "source": [
    "%%html\n",
    "\n",
    "<!DOCTYPE html>\n",
    "<html>\n",
    "<body>\n",
    "\n",
    "<p>Another XMLHttpRequest Example</p>\n",
    "\n",
    "<button type=\"button\" onclick=\"getJokeJsonParsed()\">Get Joke</button>\n",
    "\n",
    "<div id=\"jokeJsonParsed\"></div>\n",
    "\n",
    "<script>\n",
    "    function getJokeJsonParsed() {\n",
    "        var xhr = new XMLHttpRequest();\n",
    "        xhr.onreadystatechange = function() {\n",
    "            if (this.readyState == 4 && this.status == 200) {\n",
    "                let setup = JSON.parse(this.responseText)[0].setup;\n",
    "                let punchline = JSON.parse(this.responseText)[0].punchline;\n",
    "                let joke = `<p>${setup}</p><br/><p>${punchline}</p>`\n",
    "                console.log(joke);\n",
    "                document.getElementById(\"jokeJsonParsed\").innerHTML = joke;\n",
    "            }\n",
    "        };\n",
    "        xhr.open(\"GET\", \"https://official-joke-api.appspot.com/jokes/programming/random\", true);\n",
    "        xhr.send();\n",
    "    }\n",
    "</script>\n",
    "\n",
    "</body>\n",
    "</html>"
   ]
  },
  {
   "cell_type": "markdown",
   "metadata": {},
   "source": [
    "## CORS: the ```Access-Control-Allow-Origin``` Header\n",
    "\n",
    "* See: https://developer.mozilla.org/en-US/docs/Web/HTTP/CORS"
   ]
  },
  {
   "cell_type": "markdown",
   "metadata": {},
   "source": [
    "## The ```Fetch``` API\n",
    "\n",
    "* xxx"
   ]
  },
  {
   "cell_type": "markdown",
   "metadata": {},
   "source": [
    "## The ```Axios``` package\n",
    "\n",
    "* Make XMLHttpRequests from the browser\n",
    "    - Several CDNs: ```<script src=\"https://unpkg.com/axios/di\n",
    "    - Using Bower ```install axios```\n",
    "    - Using Yarn ```add axios```\n",
    "* Make http requests from node.js\n",
    "    - ```npm install axios --save```\n",
    "* Supports asynchronous ```Promise``` API\n",
    "* Can intercept request and response messages\n",
    "* Can transform request and response data\n",
    "* Can cancel request messages\n",
    "* asynchronous automatically transforms on JSON data\n",
    "* See: https://github.com/axios/axios"
   ]
  },
  {
   "cell_type": "markdown",
   "metadata": {},
   "source": [
    "```javascript\n",
    "const axios = require('axios');\n",
    "\n",
    "// Make a request for a user with a given ID\n",
    "axios.get('/user?ID=12345')\n",
    "  .then(function (response) {\n",
    "    // handle success\n",
    "    console.log(response);\n",
    "  })\n",
    "  .catch(function (error) {\n",
    "    // handle error\n",
    "    console.log(error);\n",
    "  })\n",
    "  .then(function () {\n",
    "    // always executed\n",
    "  });\n",
    "\n",
    "// Optionally the request above could also be done as\n",
    "axios.get('/user', {\n",
    "    params: {\n",
    "      ID: 12345\n",
    "    }\n",
    "  })\n",
    "  .then(function (response) {\n",
    "    console.log(response);\n",
    "  })\n",
    "  .catch(function (error) {\n",
    "    console.log(error);\n",
    "  })\n",
    "  .then(function () {\n",
    "    // always executed\n",
    "  });  \n",
    "\n",
    "// Want to use async/await? Add the `async` keyword to your outer function/method.\n",
    "async function getUser() {\n",
    "  try {\n",
    "    const response = await axios.get('/user?ID=12345');\n",
    "    console.log(response);\n",
    "  } catch (error) {\n",
    "    console.error(error);\n",
    "  }\n",
    "}\n",
    "```"
   ]
  },
  {
   "cell_type": "code",
   "execution_count": null,
   "metadata": {},
   "outputs": [],
   "source": []
  }
 ],
 "metadata": {
  "kernelspec": {
   "display_name": "Python 3",
   "language": "python",
   "name": "python3"
  },
  "language_info": {
   "codemirror_mode": {
    "name": "ipython",
    "version": 3
   },
   "file_extension": ".py",
   "mimetype": "text/x-python",
   "name": "python",
   "nbconvert_exporter": "python",
   "pygments_lexer": "ipython3",
   "version": "3.7.6"
  }
 },
 "nbformat": 4,
 "nbformat_minor": 4
}
