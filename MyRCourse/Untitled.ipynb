{
 "cells": [
  {
   "cell_type": "code",
   "execution_count": 4,
   "metadata": {},
   "outputs": [
    {
     "name": "stdout",
     "output_type": "stream",
     "text": [
      "[1] \"numeric\" \"numeric\" \"double\"  \"double\" \n",
      "[1] \"character\" \"character\" \"character\" \"character\"\n",
      "[1] \"logical\" \"logical\" \"logical\" \"logical\"\n",
      "[1] \"data.frame\" \"list\"       \"list\"       \"list\"      \n",
      "[1] \"data.frame\" \"list\"       \"list\"       \"list\"      \n",
      "[1] \"numeric\" \"numeric\" \"double\"  \"double\" \n",
      "[1] \"matrix\" \"list\"   \"list\"   \"list\"  \n",
      "[1] \"environment\" \"environment\" \"environment\" \"environment\"\n",
      "[1] \"expression\" \"expression\" \"expression\" \"expression\"\n",
      "[1] \"<-\"       \"call\"     \"language\" \"language\"\n",
      "[1] \"function\" \"function\" \"function\" \"closure\" \n"
     ]
    }
   ],
   "source": [
    "x <- 1\n",
    "print(c(class(x), mode(x), storage.mode(x), typeof(x)))\n",
    "\n",
    "x <- letters\n",
    "print(c(class(x), mode(x), storage.mode(x), typeof(x)))\n",
    "\n",
    "x <- TRUE\n",
    "print(c(class(x), mode(x), storage.mode(x), typeof(x)))\n",
    "\n",
    "x <- cars\n",
    "print(c(class(x), mode(x), storage.mode(x), typeof(x)))\n",
    "\n",
    "x <- cars[1]\n",
    "print(c(class(x), mode(x), storage.mode(x), typeof(x)))\n",
    "\n",
    "x <- cars[[1]]\n",
    "print(c(class(x), mode(x), storage.mode(x), typeof(x)))\n",
    "\n",
    "x <- matrix(cars)\n",
    "print(c(class(x), mode(x), storage.mode(x), typeof(x)))\n",
    "\n",
    "x <- new.env()\n",
    "print(c(class(x), mode(x), storage.mode(x), typeof(x)))\n",
    "\n",
    "x <- expression(1 + 1)\n",
    "print(c(class(x), mode(x), storage.mode(x), typeof(x)))\n",
    "\n",
    "x <- quote(y <- 1 + 1)\n",
    "print(c(class(x), mode(x), storage.mode(x), typeof(x)))\n",
    "\n",
    "x <- ls\n",
    "print(c(class(x), mode(x), storage.mode(x), typeof(x)))"
   ]
  },
  {
   "cell_type": "code",
   "execution_count": 1,
   "metadata": {},
   "outputs": [
    {
     "data": {
      "text/html": [
       "<ol class=list-inline>\n",
       "\t<li>8</li>\n",
       "\t<li>27</li>\n",
       "\t<li>4</li>\n",
       "\t<li>125</li>\n",
       "</ol>\n"
      ],
      "text/latex": [
       "\\begin{enumerate*}\n",
       "\\item 8\n",
       "\\item 27\n",
       "\\item 4\n",
       "\\item 125\n",
       "\\end{enumerate*}\n"
      ],
      "text/markdown": [
       "1. 8\n",
       "2. 27\n",
       "3. 4\n",
       "4. 125\n",
       "\n",
       "\n"
      ],
      "text/plain": [
       "[1]   8  27   4 125"
      ]
     },
     "metadata": {},
     "output_type": "display_data"
    }
   ],
   "source": [
    "vectorOfCubes = c(8, 27, 4, 125)\n",
    "vectorOfCubes"
   ]
  },
  {
   "cell_type": "code",
   "execution_count": 7,
   "metadata": {},
   "outputs": [
    {
     "data": {
      "text/html": [
       "'C:/Users/peterthor/Documents/R_Jupyter'"
      ],
      "text/latex": [
       "'C:/Users/peterthor/Documents/R\\_Jupyter'"
      ],
      "text/markdown": [
       "'C:/Users/peterthor/Documents/R_Jupyter'"
      ],
      "text/plain": [
       "[1] \"C:/Users/peterthor/Documents/R_Jupyter\""
      ]
     },
     "metadata": {},
     "output_type": "display_data"
    }
   ],
   "source": [
    "getwd()"
   ]
  },
  {
   "cell_type": "code",
   "execution_count": 6,
   "metadata": {},
   "outputs": [],
   "source": [
    "setwd(\"C:\\\\Users\\\\peterthor\\\\Documents\\\\R_Jupyter\")\n"
   ]
  }
 ],
 "metadata": {
  "kernelspec": {
   "display_name": "R",
   "language": "R",
   "name": "ir"
  },
  "language_info": {
   "codemirror_mode": "r",
   "file_extension": ".r",
   "mimetype": "text/x-r-source",
   "name": "R",
   "pygments_lexer": "r",
   "version": "3.4.3"
  }
 },
 "nbformat": 4,
 "nbformat_minor": 2
}
