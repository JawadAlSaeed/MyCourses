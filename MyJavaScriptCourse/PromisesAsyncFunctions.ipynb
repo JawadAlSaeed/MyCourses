{
 "cells": [
  {
   "cell_type": "markdown",
   "metadata": {},
   "source": [
    "# Promises and Async Functions\n",
    "\n",
    "* Promise object represents eventual completion (or failure) of an asynchronous operation\n",
    "* Promise object also provides access to the resulting value of the asynchronous operation\n",
    "* Async function is impemented with ```async``` keyword and called using ```await``` keyword"
   ]
  },
  {
   "cell_type": "code",
   "execution_count": 8,
   "metadata": {},
   "outputs": [
    {
     "name": "stdout",
     "output_type": "stream",
     "text": [
      "Promise { <pending> }\n",
      "Promise { <pending> }\n",
      "attempt:  Promise { <pending> }\n",
      "attempt:  Promise { <pending> }\n",
      "attempt:  Promise { <pending> }\n",
      "attempt:  Promise { <pending> }\n",
      "attempt:  Promise { <pending> }\n",
      "attempt:  Promise { <pending> }\n",
      "attempt:  Promise { <pending> }\n",
      "attempt:  Promise { <pending> }\n",
      "attempt:  Promise { <pending> }\n",
      "Yes! Our work here is done!\n",
      "attempt:  Promise { 'Our work here is done!' }\n"
     ]
    }
   ],
   "source": [
    "var promise1 = new Promise(function(resolve, reject) {\n",
    "  setTimeout(resolve, 1000, 'Our work here is done!');\n",
    "});\n",
    "\n",
    "console.log(promise1); // output: Promise { <pending> }\n",
    "\n",
    "promise1.then(function(successMessage) {\n",
    "    console.log(\"Yes! \" + successMessage);\n",
    "});\n",
    "\n",
    "console.log(promise1); // Promise { <pending> }\n",
    "\n",
    "var attempt = 0;\n",
    "var id = setInterval(function() {\n",
    "    attempt++;\n",
    "    if (attempt > 10)\n",
    "        clearInterval(id)\n",
    "    else\n",
    "        console.log('attempt: ', promise1);\n",
    "}, 100)\n"
   ]
  },
  {
   "cell_type": "markdown",
   "metadata": {},
   "source": [
    "## The ```async``` and ```await``` Keywords\n",
    "\n",
    "* The ```async``` and ```await``` keywords support promises using a simplified syntax\n",
    "* An ```async``` before a function means that it returns a promise rather than an immediate value\n",
    "* The ```await``` keyword is only permitted inside async functions\n",
    "* The ```await``` keyword makes the fucntion wait until promise reolves and then returns the result\n",
    "* If the function rejects the promise it throws an error\n",
    "* If the function rejects the promise we can append ```.catch()``` to handle it"
   ]
  },
  {
   "cell_type": "code",
   "execution_count": 20,
   "metadata": {},
   "outputs": [
    {
     "name": "stdout",
     "output_type": "stream",
     "text": [
      "Promise { 1 }\n",
      "then: 1\n"
     ]
    }
   ],
   "source": [
    "{\n",
    "async function f() {\n",
    "    return 1;\n",
    "}\n",
    "console.log(f());                                     // Promise { 1 }\n",
    "f().then(result => console.log(\"then: \" +  result));  // then: 1\n",
    "}"
   ]
  },
  {
   "cell_type": "code",
   "execution_count": 24,
   "metadata": {},
   "outputs": [
    {
     "name": "stdout",
     "output_type": "stream",
     "text": [
      "resolve: done!\n"
     ]
    }
   ],
   "source": [
    "{\n",
    "async function f() {\n",
    "  let promise = new Promise((resolve, reject) => {\n",
    "    setTimeout(() => resolve(\"resolve: done!\"), 1000)\n",
    "  });\n",
    "  let result = await promise; // wait until the promise resolves\n",
    "  console.log(result);        // resolve: done! (after one second delay)\n",
    "}\n",
    "f();\n",
    "}"
   ]
  },
  {
   "cell_type": "code",
   "execution_count": 22,
   "metadata": {},
   "outputs": [
    {
     "name": "stdout",
     "output_type": "stream",
     "text": [
      "catch: Error: oops!\n"
     ]
    }
   ],
   "source": [
    "{\n",
    "async function f() {\n",
    "    await Promise.reject(new Error(\"oops!\"));        // same as -> throw new Error(\"oops!\");\n",
    "}\n",
    "f().then(result => console.log(\"then: \" + result))\n",
    "    .catch(err => console.log(\"catch: \" + err));     // catch: Error: oops!\n",
    "}"
   ]
  },
  {
   "cell_type": "code",
   "execution_count": 28,
   "metadata": {},
   "outputs": [
    {
     "name": "stdout",
     "output_type": "stream",
     "text": [
      "10\n"
     ]
    }
   ],
   "source": [
    "async function wait() {\n",
    "    await new Promise(resolve => setTimeout(resolve, 1000));\n",
    "    return 10;\n",
    "}\n",
    "function f() {\n",
    "    wait().then(result => console.log(result)); // 10 (after 1 second)\n",
    "}\n",
    "f();"
   ]
  },
  {
   "cell_type": "code",
   "execution_count": null,
   "metadata": {},
   "outputs": [],
   "source": []
  }
 ],
 "metadata": {
  "kernelspec": {
   "display_name": "Javascript (Node.js)",
   "language": "javascript",
   "name": "javascript"
  },
  "language_info": {
   "file_extension": ".js",
   "mimetype": "application/javascript",
   "name": "javascript",
   "version": "10.13.0"
  }
 },
 "nbformat": 4,
 "nbformat_minor": 2
}
