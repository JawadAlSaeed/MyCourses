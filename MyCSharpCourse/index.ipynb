{
 "cells": [
  {
   "cell_type": "markdown",
   "metadata": {},
   "source": [
    "# My C# Course\n",
    "\n",
    "* [My Git Course](../MyGitCourse/index.ipynb)"
   ]
  },
  {
   "cell_type": "markdown",
   "metadata": {},
   "source": [
    "## Online Code Challenges\n",
    "\n",
    "* [exercism.io](https://exercism.io/my/tracks)\n",
    "* [hackerrank.com](https://www.hackerrank.com)\n",
    "* [project euler solutions](https://www.mathblog.dk/project-euler-solutions/)\n",
    "* [leetcode.com](https://leetcode.com)\n",
    "* [edabit.com](https://edabit.com/challenges/csharp)"
   ]
  },
  {
   "cell_type": "markdown",
   "metadata": {},
   "source": [
    "## Free C# Learning Resources\n",
    "\n",
    "* [C# documentation](https://docs.microsoft.com/en-us/dotnet/csharp/)\n",
    "* xxx"
   ]
  },
  {
   "cell_type": "markdown",
   "metadata": {},
   "source": [
    "## C# Language\n",
    "\n",
    "* Designed by Anders Hejlsberg in 2000\n",
    "* ECMA-334 Standard\n",
    "* xxx"
   ]
  },
  {
   "cell_type": "markdown",
   "metadata": {},
   "source": [
    "* [Getting Started](GettingStarted.ipynb)\n",
    "* [Syntax Fundamentals]()\n",
    "* [Data Types]()\n",
    "* [Operators and Expressions]()\n",
    "* [Several Examples]()\n",
    "* [.NET]()\n",
    "* [Math]()\n",
    "* [Strings]()\n",
    "* [Arrays]()\n",
    "* [Collections]()\n",
    "* [Classes and Interfaces]()\n",
    "* [Control Statements]()\n",
    "* [Enums]()\n",
    "* [Exceptions]()\n",
    "* [The using Keyword]()\n",
    "* [File IO]()\n",
    "* [CSV Parsing]()\n",
    "* [JSON Parsing]()\n",
    "* [XML Parsing]()\n",
    "* [Lambdas]()\n",
    "* [Attributes]()\n",
    "* [Concurrency]()\n",
    "* [Data Structures and Algorithms]()\n",
    "* [Sorting Algorithms](SortingAlgorithms.ipynb)\n",
    "* [Newton-Raphson Method](NewtonRaphson.ipynb)"
   ]
  },
  {
   "cell_type": "markdown",
   "metadata": {},
   "source": [
    "## C# Data Structures and Algorithms\n",
    "\n",
    "\n",
    "### Data Structures\n",
    "\n",
    "* [Queue]()\n",
    "* [Deque]()  \n",
    "* [Stack]()\n",
    "* [Binary Tree]()\n",
    "\n",
    "### Sort and Search Algorithms\n",
    "\n",
    "* [Big O Notation]()\n",
    "* [Sort Algorithms]()\n",
    "* [Search Algorithms]()\n",
    "\n",
    "### Various Other Algorithms \n",
    "* [Factorial]()\n",
    "* [xxx]()"
   ]
  },
  {
   "cell_type": "code",
   "execution_count": null,
   "metadata": {},
   "outputs": [],
   "source": []
  }
 ],
 "metadata": {
  "kernelspec": {
   "display_name": ".NET (C#)",
   "language": "C#",
   "name": ".net-csharp"
  },
  "language_info": {
   "file_extension": ".cs",
   "mimetype": "text/x-csharp",
   "name": "C#",
   "pygments_lexer": "csharp",
   "version": "8.0"
  }
 },
 "nbformat": 4,
 "nbformat_minor": 4
}
