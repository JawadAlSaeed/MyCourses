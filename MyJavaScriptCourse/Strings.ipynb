{
 "cells": [
  {
   "cell_type": "markdown",
   "metadata": {},
   "source": [
    "# Strings\n",
    "\n",
    "* Built-in type\n",
    "* Sequence of unicode characters\n",
    "* Immutable type"
   ]
  },
  {
   "cell_type": "code",
   "execution_count": 9,
   "metadata": {},
   "outputs": [
    {
     "name": "stdout",
     "output_type": "stream",
     "text": [
      "foobar\n",
      "6\n",
      "6\n",
      "undefined\n"
     ]
    }
   ],
   "source": [
    "str = \"foobar\";\n",
    "console.log(str);\n",
    "console.log(str.length);  // 6\n",
    "str.length = 42;          // has no effect\n",
    "console.log(str.length);  // still 6\n",
    "str.foo = 42;             // try to create property named `foo` on the string object\n",
    "console.log(str.foo)      // undefined property"
   ]
  },
  {
   "cell_type": "code",
   "execution_count": 14,
   "metadata": {},
   "outputs": [
    {
     "name": "stdout",
     "output_type": "stream",
     "text": [
      "\n",
      "    The time has come,' the Walrus said,\n",
      "          To talk of many things:\n",
      "    Of shoes — and ships — and sealing-wax —\n",
      "          Of cabbages — and kings —\n",
      "    And why the sea is boiling hot —\n",
      "          And whether pigs have wings.\n",
      "\n"
     ]
    }
   ],
   "source": [
    "// Multi Line Strings are defined in a pair of backticks\n",
    "str = `\n",
    "    The time has come,' the Walrus said,\n",
    "          To talk of many things:\n",
    "    Of shoes — and ships — and sealing-wax —\n",
    "          Of cabbages — and kings —\n",
    "    And why the sea is boiling hot —\n",
    "          And whether pigs have wings.\n",
    "`\n",
    "console.log(str);"
   ]
  },
  {
   "cell_type": "code",
   "execution_count": null,
   "metadata": {},
   "outputs": [],
   "source": []
  }
 ],
 "metadata": {
  "kernelspec": {
   "display_name": "Javascript (Node.js)",
   "language": "javascript",
   "name": "javascript"
  },
  "language_info": {
   "file_extension": ".js",
   "mimetype": "application/javascript",
   "name": "javascript",
   "version": "10.13.0"
  }
 },
 "nbformat": 4,
 "nbformat_minor": 2
}
