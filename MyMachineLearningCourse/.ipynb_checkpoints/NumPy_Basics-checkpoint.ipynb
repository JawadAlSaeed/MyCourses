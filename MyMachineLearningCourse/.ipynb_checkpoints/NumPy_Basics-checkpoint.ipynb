{
 "cells": [
  {
   "cell_type": "markdown",
   "metadata": {
    "collapsed": true
   },
   "source": [
    "# NumPy Basics\n",
    "\n",
    "- NumPy is the fundamental package for scientific computing in Python\n",
    "- The ndarray Class: N-dimensional Array  \n",
    "- Broadcasting"
   ]
  },
  {
   "cell_type": "code",
   "execution_count": 1,
   "metadata": {},
   "outputs": [
    {
     "name": "stdout",
     "output_type": "stream",
     "text": [
      "Python version: 3.6.4 |Anaconda, Inc.| (default, Jan 16 2018, 10:22:32) [MSC v.1900 64 bit (AMD64)]\n",
      "scipy version: 1.0.0\n",
      "numpy version: 1.14.0\n",
      "matplotlib version: 2.1.2\n"
     ]
    }
   ],
   "source": [
    "import sys\n",
    "print ('Python version: ' + sys.version)\n",
    "\n",
    "import scipy\n",
    "print('scipy version: ' + scipy.__version__)\n",
    "\n",
    "import numpy as np\n",
    "print('numpy version: ' + np.__version__)\n",
    "\n",
    "import matplotlib\n",
    "print('matplotlib version: ' + matplotlib.__version__)"
   ]
  },
  {
   "cell_type": "code",
   "execution_count": 2,
   "metadata": {},
   "outputs": [
    {
     "name": "stdout",
     "output_type": "stream",
     "text": [
      "[0. 0. 0. 0. 0. 0. 0. 0. 0. 0.]\n",
      "[0. 0. 0. 0. 0. 1. 0. 0. 0. 0.]\n",
      "<class 'numpy.ndarray'>\n",
      "[10 11 12 13 14 15 16 17 18 19]\n",
      "[19 18 17 16 15 14 13 12 11 10]\n",
      "<class 'numpy.ndarray'>\n"
     ]
    }
   ],
   "source": [
    "myzeros = np.zeros(10)\n",
    "print(myzeros)\n",
    "\n",
    "myzeros[5] = 1\n",
    "print(myzeros)\n",
    "\n",
    "print(type(myzeros))\n",
    "\n",
    "myrange = np.arange(10,20)\n",
    "print(myrange)\n",
    "\n",
    "myrange = myrange[::-1]\n",
    "print(myrange)\n",
    "\n",
    "print(type(myrange))"
   ]
  },
  {
   "cell_type": "markdown",
   "metadata": {},
   "source": [
    "# Linear Algebra without Numpy\n",
    "\n",
    "* You can do linear algebra with the built-in list type\n",
    "* However, it is very slow, so it is usually better to do linear algebra using ```numpy```"
   ]
  },
  {
   "cell_type": "code",
   "execution_count": 3,
   "metadata": {},
   "outputs": [
    {
     "name": "stdout",
     "output_type": "stream",
     "text": [
      "a = [4, 8, 12, 16] <class 'list'>\n",
      "b = [2, 2, 4, 4] <class 'list'>\n",
      "a + b = [6, 10, 16, 20]\n",
      "a - b = [2, 6, 8, 12]\n",
      "a * b = [8, 16, 48, 64]\n",
      "a / b = [2.0, 4.0, 3.0, 4.0]\n",
      "3 * a = [12, 24, 36, 48]\n",
      "a · b = 136\n",
      "|a|   = 21.908902300206645\n",
      "type(A) = <class 'list'>  matrix_shape(A) = (2, 3)\n",
      "type(B) = <class 'list'>  matrix_shape(B) = (3, 2)\n",
      "matrix_get_row(A, 1) = [4, 5, 6]\n",
      "matrix_get_col(A, 1) = [2, 5]\n",
      "matrix_multiply(A, B) = [[22, 28], [49, 64]]\n"
     ]
    }
   ],
   "source": [
    "import math\n",
    "\n",
    "def vector_add(a, b):                               # a+b\n",
    "    return [a_i + b_i for a_i, b_i in zip(a, b)]\n",
    "def vector_subtract(v, w):                          # a-b\n",
    "    return [a_i - b_i for a_i, b_i in zip(a, b)]\n",
    "def vector_multiply(a, b):                          # a*b\n",
    "    return [a_i * b_i for a_i, b_i in zip(a, b)]\n",
    "def vector_divide(a, b):                            # a/b\n",
    "    return [a_i / b_i for a_i, b_i in zip(a, b)]\n",
    "def vector_scalar_multiply(c, a):                   # c*a\n",
    "    return [c * a_i for a_i in a]\n",
    "def vector_dot_product(a, b):                       # a·b\n",
    "    return sum(a_i * b_i for a_i, b_i in zip(a, b))\n",
    "def vector_length(a):                               # (a·a)^0.5\n",
    "    return math.sqrt(vector_dot_product(a, a))\n",
    "\n",
    "a = [4, 8, 12, 16]\n",
    "b = [2, 2,  4,  4]\n",
    "\n",
    "print('a =', a, type(a))\n",
    "print('b =', b, type(b))\n",
    "\n",
    "print('a + b =', vector_add(a, b))             # term by term addition\n",
    "print('a - b =', vector_subtract(a, b))        # term by term subtraction\n",
    "print('a * b =', vector_multiply(a, b))        # term by term multiplication\n",
    "print('a / b =', vector_divide(a, b))          # term by term division\n",
    "print('3 * a =', vector_scalar_multiply(3, a)) # scalar multiplication\n",
    "print('a · b =', vector_dot_product(a, b))     # vector dot product\n",
    "print('|a|   =', vector_length(a))             # vector length\n",
    "\n",
    "def matrix_shape(M):\n",
    "    num_rows = len(M)\n",
    "    num_cols = len(M[0]) if M else 0 # number of elements in first row\n",
    "    return num_rows, num_cols\n",
    "def matrix_get_row(A, i):\n",
    "    return A[i] # A[i] is already the ith row\n",
    "def matrix_get_col(A, j):\n",
    "    return [A_i[j] # jth element of row A_i\n",
    "        for A_i in A] # for each row A_i\n",
    "def matrix_multiply(M1, M2):\n",
    "    return [[sum(m1*m2 for m1,m2 in zip(M1_row, M2_col)) for M2_col in zip(*M2)] for M1_row in M1]\n",
    "\n",
    "A = [          # 2 rows, 3 columns\n",
    "    [1, 2, 3],\n",
    "    [4, 5, 6]\n",
    "    ]\n",
    "print(\"type(A) =\", type(A), \" matrix_shape(A) =\", matrix_shape(A))\n",
    "B = [          # 3 rows, 2 columns\n",
    "    [1, 2], \n",
    "    [3, 4],\n",
    "    [5, 6]\n",
    "    ]\n",
    "print(\"type(B) =\", type(B), \" matrix_shape(B) =\", matrix_shape(B))\n",
    "\n",
    "print(\"matrix_get_row(A, 1) =\", matrix_get_row(A, 1))   # [4, 5, 6]\n",
    "print(\"matrix_get_col(A, 1) =\",matrix_get_col(A, 1))    # [2, 5]\n",
    "print(\"matrix_multiply(A, B) =\", matrix_multiply(A, B)) # [[22, 28], [49, 64]]"
   ]
  },
  {
   "cell_type": "markdown",
   "metadata": {},
   "source": [
    "# Linear Algebra with Numpy"
   ]
  },
  {
   "cell_type": "code",
   "execution_count": 13,
   "metadata": {},
   "outputs": [
    {
     "name": "stdout",
     "output_type": "stream",
     "text": [
      "a = [ 4  8 12 16] <class 'numpy.ndarray'>\n",
      "b = [2 2 4 4] <class 'numpy.ndarray'>\n",
      "a + b = [ 6 10 16 20]\n",
      "a - b = [ 2  6  8 12]\n",
      "a * b = [ 8 16 48 64]\n",
      "a / b = [2. 4. 3. 4.]\n",
      "3 * b = [12 24 36 48]\n",
      "a · b = 136\n",
      "|a|   = 21.908902300206645\n",
      "type(A) = <class 'numpy.ndarray'> np.shape(A) = (2, 3)\n",
      "type(B) = <class 'numpy.ndarray'> np.shape(B) = (3, 2)\n",
      "A[1] = [4 5 6]\n",
      "A[:,1] = [2 5]\n",
      "np.dot(A, B) =\n",
      " [[22 28]\n",
      " [49 64]]\n"
     ]
    }
   ],
   "source": [
    "import numpy as np\n",
    "\n",
    "# numpy.arange(start, stop, step, dtype) -> Return evenly spaced values in interval\n",
    "a = np.arange(4, 20, 4)    # ndarray -> [ 4  8 12 16]\n",
    "# numpy.array(array_like_object, dtype=None, copy=True, order='K', subok=False, ndmin=0)\n",
    "b = np.array([2, 2, 4, 4]) # ndarray -> [2 2 4 4]\n",
    "\n",
    "print('a =', a, type(a))\n",
    "print('b =', b, type(b))\n",
    "\n",
    "print('a + b =', a + b)             # term by term addition\n",
    "print('a - b =', a - b)             # term by term subtraction\n",
    "print('a * b =', a * b)             # term by term multiplication\n",
    "print('a / b =', a / b)             # term by term division\n",
    "print('3 * b =', 3 * a)             # scalar multiplication\n",
    "print('a · b =', np.dot(a, b))      # vector dot product\n",
    "print('|a|   =', np.linalg.norm(a)) # vector length\n",
    "\n",
    "A = np.array([[1, 2, 3], [4, 5, 6]])    # 2 rows, 3 columns\n",
    "print(\"type(A) =\", type(A), \"np.shape(A) =\", np.shape(A))\n",
    "B = np.array([[1, 2], [3, 4], [5, 6]])  # 3 rows, 2 columns\n",
    "print(\"type(B) =\", type(B), \"np.shape(B) =\", np.shape(B))\n",
    "\n",
    "print(\"A[1] =\", A[1])                   # [4, 5, 6]\n",
    "print(\"A[:,1] =\", A[:,1])                 # [2, 5]\n",
    "print(\"np.dot(A, B) =\\n\", np.dot(A, B))"
   ]
  },
  {
   "cell_type": "code",
   "execution_count": 4,
   "metadata": {},
   "outputs": [
    {
     "name": "stdout",
     "output_type": "stream",
     "text": [
      "[[ 0  1  2  3]\n",
      " [ 4  5  6  7]\n",
      " [ 8  9 10 11]]\n",
      "[[1. 0. 0. 0.]\n",
      " [0. 1. 0. 0.]\n",
      " [0. 0. 1. 0.]\n",
      " [0. 0. 0. 1.]]\n",
      "[[ 0.  1.  2.  3.]\n",
      " [ 4.  5.  6.  7.]\n",
      " [ 8.  9. 10. 11.]]\n"
     ]
    }
   ],
   "source": [
    "my3x4 = np.arange(12).reshape(3,4)\n",
    "print(my3x4)\n",
    "myeye = np.eye(4)\n",
    "print(myeye)\n",
    "print(np.dot(my3x4, myeye))"
   ]
  },
  {
   "cell_type": "code",
   "execution_count": 5,
   "metadata": {},
   "outputs": [
    {
     "name": "stdout",
     "output_type": "stream",
     "text": [
      "<class 'list'>\n",
      "<class 'numpy.ndarray'>\n",
      "[0 1 2 3 4]\n",
      "[2 3 4 5 6]\n",
      "[ 6  9 12 15 18]\n"
     ]
    }
   ],
   "source": [
    "# numpy.ndarray is designed for vectorized operations but a list is not\n",
    "\n",
    "import numpy as np\n",
    "list1 = [0,1,2,3,4]\n",
    "print(type(list1))\n",
    "arr1d = np.array(list1)\n",
    "print(type(arr1d))\n",
    "print(arr1d)\n",
    "#list1 + 2   # TypeError: can only concatenate list (not \"int\") to list\n",
    "arr1d += 2\n",
    "print(arr1d) # Can add int element-wise to numpy.ndarray\n",
    "print(arr1d + 2*arr1d)"
   ]
  },
  {
   "cell_type": "code",
   "execution_count": 7,
   "metadata": {},
   "outputs": [
    {
     "name": "stdout",
     "output_type": "stream",
     "text": [
      "[[8 4 6 2]\n",
      " [4 8 6 2]\n",
      " [4 8 2 6]\n",
      " [8 2 4 6]]\n"
     ]
    },
    {
     "data": {
      "image/png": "[encoded data removed]",
      "text/plain": [
       "<matplotlib.figure.Figure at 0x1d82056da90>"
      ]
     },
     "metadata": {},
     "output_type": "display_data"
    }
   ],
   "source": [
    "%matplotlib inline\n",
    "import numpy as np \n",
    "import matplotlib.pyplot as plt\n",
    "x = np.array([[8, 4, 6, 2],\n",
    "              [4, 8, 6, 2],\n",
    "              [4, 8, 2, 6],\n",
    "              [8, 2, 4, 6]])\n",
    "plt.matshow(x)\n",
    "plt.colorbar(ticks=[2, 4, 6, 8])\n",
    "print(x)"
   ]
  },
  {
   "cell_type": "markdown",
   "metadata": {
    "collapsed": true
   },
   "source": [
    "## The ndarray Class: N-dimensional Array \n",
    "\n",
    "[SyPy.org: The N-dimensional array](https://docs.scipy.org/doc/numpy/reference/arrays.ndarray.html)  \n",
    "\n",
    "- The **ndarray** class is the NumPy array type, not the Standard Python Library one-dimensional **array.array** class.  \n",
    "- An ndarray is a (usually fixed-size) multidimensional container of items of the same type and size.\n",
    "- The elements in an ndarray can be accessed and modified by indexing or slicing the array.\n",
    "- Different ndarrays can share the same data, so that changes made in one ndarray may be visible in another. \n",
    "\n",
    "Some of the ndarray object attributes:\n",
    "- **ndarray.ndim** number of dimensions (rank is number of axes)\n",
    "- **ndarray.shape** tuple of integers (n,m) for n rows and m columns for array size\n",
    "- **ndarray.size** total number of array elements\n",
    "- **ndarray.dtype** object describing type of array elements\n",
    "- **ndarray.itemsize** element size in bytes\n",
    "- **ndarray.data** buffer containing actual elements of the array (seldom useful)"
   ]
  },
  {
   "cell_type": "code",
   "execution_count": 4,
   "metadata": {},
   "outputs": [
    {
     "name": "stdout",
     "output_type": "stream",
     "text": [
      "<class 'numpy.ndarray'>\n",
      "\n",
      "[[1 2 3]\n",
      " [4 5 6]]\n"
     ]
    }
   ],
   "source": [
    "import numpy as np\n",
    "\n",
    "x = np.array([[1, 2, 3], [4, 5, 6]], np.int32)\n",
    "print(type(x))\n",
    "print()\n",
    "print(x)"
   ]
  },
  {
   "cell_type": "code",
   "execution_count": 5,
   "metadata": {},
   "outputs": [
    {
     "name": "stdout",
     "output_type": "stream",
     "text": [
      "[[ 0  1  2  3  4]\n",
      " [ 5  6  7  8  9]\n",
      " [10 11 12 13 14]]\n",
      "(3, 5)\n",
      "2\n",
      "int32\n",
      "4\n",
      "15\n",
      "<class 'numpy.ndarray'>\n",
      "[6 7 8]\n",
      "<class 'numpy.ndarray'>\n"
     ]
    }
   ],
   "source": [
    "import numpy as np\n",
    "\n",
    "a = np.arange(15).reshape(3, 5)\n",
    "print(a)\n",
    "print(a.shape)\n",
    "print(a.ndim)\n",
    "print(a.dtype.name)\n",
    "print(a.itemsize)\n",
    "print(a.size)\n",
    "print(type(a))\n",
    "b = np.array([6, 7, 8])\n",
    "print(b)\n",
    "print(type(b))"
   ]
  },
  {
   "cell_type": "code",
   "execution_count": 23,
   "metadata": {},
   "outputs": [
    {
     "name": "stdout",
     "output_type": "stream",
     "text": [
      "\n",
      "1-D 4 int32\n",
      "[1 2 3 4]\n",
      "(4,)\n",
      "1\n",
      "int32\n",
      "\n",
      "2-D 2x3 float64\n",
      "[[ 1.5  2.   3. ]\n",
      " [ 4.   5.   6. ]]\n",
      "(2, 3)\n",
      "2\n",
      "float64\n",
      "\n",
      "2-D 2x2 complex\n",
      "[[ 1.+0.j  2.+0.j]\n",
      " [ 3.+0.j  4.+0.j]]\n",
      "(2, 2)\n",
      "2\n",
      "complex128\n",
      "\n",
      "2-D 3x4 float64 zeros\n",
      "[[ 0.  0.  0.  0.]\n",
      " [ 0.  0.  0.  0.]\n",
      " [ 0.  0.  0.  0.]]\n",
      "(3, 4)\n",
      "2\n",
      "float64\n",
      "\n",
      "3-D 2x3x4 float64 ones\n",
      "[[[1 1 1 1]\n",
      "  [1 1 1 1]\n",
      "  [1 1 1 1]]\n",
      "\n",
      " [[1 1 1 1]\n",
      "  [1 1 1 1]\n",
      "  [1 1 1 1]]]\n",
      "(2, 3, 4)\n",
      "3\n",
      "int16\n"
     ]
    }
   ],
   "source": [
    "import numpy as np\n",
    "\n",
    "print(\"\\n1-D 4 int32\")\n",
    "a = np.array([1,2,3,4])\n",
    "print(a)\n",
    "print(a.shape)\n",
    "print(a.ndim)\n",
    "print(a.dtype.name)\n",
    "\n",
    "print(\"\\n2-D 2x3 float64\")\n",
    "b = np.array([(1.5,2,3), (4,5,6)])\n",
    "print(b)\n",
    "print(b.shape)\n",
    "print(b.ndim)\n",
    "print(b.dtype.name)\n",
    "\n",
    "print(\"\\n2-D 2x2 complex\")\n",
    "c = np.array( [ [1,2], [3,4] ], dtype=complex )\n",
    "print(c)\n",
    "print(c.shape)\n",
    "print(c.ndim)\n",
    "print(c.dtype.name)\n",
    "\n",
    "print(\"\\n2-D 3x4 float64 zeros\")\n",
    "d = np.zeros( (3,4) )\n",
    "print(d)\n",
    "print(d.shape)\n",
    "print(d.ndim)\n",
    "print(d.dtype.name)\n",
    "\n",
    "print(\"\\n3-D 2x3x4 float64 ones\")\n",
    "e = np.ones( (2,3,4), dtype=np.int16 )\n",
    "print(e)\n",
    "print(e.shape)\n",
    "print(e.ndim)\n",
    "print(e.dtype.name)\n",
    "\n"
   ]
  },
  {
   "cell_type": "code",
   "execution_count": 6,
   "metadata": {},
   "outputs": [
    {
     "name": "stdout",
     "output_type": "stream",
     "text": [
      "[[1 2 3]\n",
      " [4 5 6]]\n",
      "6\n",
      "[2 5]\n",
      "[[1 9 3]\n",
      " [4 5 6]]\n"
     ]
    }
   ],
   "source": [
    "# indexing and slicing an ndarray\n",
    "\n",
    "import numpy as np\n",
    "x = np.array([[1, 2, 3], [4, 5, 6]], np.int32) # 2-dimensional array of size 2 x 3, composed of 4-byte integer elements\n",
    "print(x)\n",
    "y = x[1, 2] # # The element of x in the *second* row, *third* column, namely, 6\n",
    "print(y)\n",
    "\n",
    "# slicing can produce a view of the array\n",
    "y = x[:,1]\n",
    "print(y)\n",
    "\n",
    "y[0] = 9 # this also changes the corresponding element in x\n",
    "print(x) # 2 changed to 9 in underlying x ndarray"
   ]
  },
  {
   "cell_type": "code",
   "execution_count": 28,
   "metadata": {},
   "outputs": [
    {
     "name": "stdout",
     "output_type": "stream",
     "text": [
      "[10 15 20 25]\n",
      "[ 0.   0.3  0.6  0.9  1.2  1.5  1.8]\n",
      "[ 0.    0.25  0.5   0.75  1.    1.25  1.5   1.75  2.  ]\n",
      "[ 0.          0.06346652  0.12693304  0.19039955  0.25386607  0.31733259\n",
      "  0.38079911  0.44426563  0.50773215  0.57119866  0.63466518  0.6981317\n",
      "  0.76159822  0.82506474  0.88853126  0.95199777  1.01546429  1.07893081\n",
      "  1.14239733  1.20586385  1.26933037  1.33279688  1.3962634   1.45972992\n",
      "  1.52319644  1.58666296  1.65012947  1.71359599  1.77706251  1.84052903\n",
      "  1.90399555  1.96746207  2.03092858  2.0943951   2.15786162  2.22132814\n",
      "  2.28479466  2.34826118  2.41172769  2.47519421  2.53866073  2.60212725\n",
      "  2.66559377  2.72906028  2.7925268   2.85599332  2.91945984  2.98292636\n",
      "  3.04639288  3.10985939  3.17332591  3.23679243  3.30025895  3.36372547\n",
      "  3.42719199  3.4906585   3.55412502  3.61759154  3.68105806  3.74452458\n",
      "  3.8079911   3.87145761  3.93492413  3.99839065  4.06185717  4.12532369\n",
      "  4.1887902   4.25225672  4.31572324  4.37918976  4.44265628  4.5061228\n",
      "  4.56958931  4.63305583  4.69652235  4.75998887  4.82345539  4.88692191\n",
      "  4.95038842  5.01385494  5.07732146  5.14078798  5.2042545   5.26772102\n",
      "  5.33118753  5.39465405  5.45812057  5.52158709  5.58505361  5.64852012\n",
      "  5.71198664  5.77545316  5.83891968  5.9023862   5.96585272  6.02931923\n",
      "  6.09278575  6.15625227  6.21971879  6.28318531]\n",
      "[  0.00000000e+00   6.34239197e-02   1.26592454e-01   1.89251244e-01\n",
      "   2.51147987e-01   3.12033446e-01   3.71662456e-01   4.29794912e-01\n",
      "   4.86196736e-01   5.40640817e-01   5.92907929e-01   6.42787610e-01\n",
      "   6.90079011e-01   7.34591709e-01   7.76146464e-01   8.14575952e-01\n",
      "   8.49725430e-01   8.81453363e-01   9.09631995e-01   9.34147860e-01\n",
      "   9.54902241e-01   9.71811568e-01   9.84807753e-01   9.93838464e-01\n",
      "   9.98867339e-01   9.99874128e-01   9.96854776e-01   9.89821442e-01\n",
      "   9.78802446e-01   9.63842159e-01   9.45000819e-01   9.22354294e-01\n",
      "   8.95993774e-01   8.66025404e-01   8.32569855e-01   7.95761841e-01\n",
      "   7.55749574e-01   7.12694171e-01   6.66769001e-01   6.18158986e-01\n",
      "   5.67059864e-01   5.13677392e-01   4.58226522e-01   4.00930535e-01\n",
      "   3.42020143e-01   2.81732557e-01   2.20310533e-01   1.58001396e-01\n",
      "   9.50560433e-02   3.17279335e-02  -3.17279335e-02  -9.50560433e-02\n",
      "  -1.58001396e-01  -2.20310533e-01  -2.81732557e-01  -3.42020143e-01\n",
      "  -4.00930535e-01  -4.58226522e-01  -5.13677392e-01  -5.67059864e-01\n",
      "  -6.18158986e-01  -6.66769001e-01  -7.12694171e-01  -7.55749574e-01\n",
      "  -7.95761841e-01  -8.32569855e-01  -8.66025404e-01  -8.95993774e-01\n",
      "  -9.22354294e-01  -9.45000819e-01  -9.63842159e-01  -9.78802446e-01\n",
      "  -9.89821442e-01  -9.96854776e-01  -9.99874128e-01  -9.98867339e-01\n",
      "  -9.93838464e-01  -9.84807753e-01  -9.71811568e-01  -9.54902241e-01\n",
      "  -9.34147860e-01  -9.09631995e-01  -8.81453363e-01  -8.49725430e-01\n",
      "  -8.14575952e-01  -7.76146464e-01  -7.34591709e-01  -6.90079011e-01\n",
      "  -6.42787610e-01  -5.92907929e-01  -5.40640817e-01  -4.86196736e-01\n",
      "  -4.29794912e-01  -3.71662456e-01  -3.12033446e-01  -2.51147987e-01\n",
      "  -1.89251244e-01  -1.26592454e-01  -6.34239197e-02  -2.44929360e-16]\n"
     ]
    }
   ],
   "source": [
    "import numpy as np\n",
    "\n",
    "a = np.arange( 10, 30, 5 )\n",
    "print(a)\n",
    "b = np.arange( 0, 2, 0.3 )\n",
    "print(b)\n",
    "c = np.linspace( 0, 2, 9 )        # 9 numbers from 0 to 2\n",
    "print(c)\n",
    "d = np.linspace( 0, 2*np.pi, 100 )\n",
    "print(d)\n",
    "e = np.sin(x)\n",
    "print(e)"
   ]
  },
  {
   "cell_type": "code",
   "execution_count": 29,
   "metadata": {},
   "outputs": [
    {
     "name": "stdout",
     "output_type": "stream",
     "text": [
      "[0 1 2 3 4 5]\n",
      "[[ 0  1  2]\n",
      " [ 3  4  5]\n",
      " [ 6  7  8]\n",
      " [ 9 10 11]]\n",
      "[[[ 0  1  2  3]\n",
      "  [ 4  5  6  7]\n",
      "  [ 8  9 10 11]]\n",
      "\n",
      " [[12 13 14 15]\n",
      "  [16 17 18 19]\n",
      "  [20 21 22 23]]]\n"
     ]
    }
   ],
   "source": [
    "import numpy as np\n",
    "\n",
    "a = np.arange(6)                         # 1d array\n",
    "print(a)\n",
    "b = np.arange(12).reshape(4,3)           # 2d array\n",
    "print(b)\n",
    "c = np.arange(24).reshape(2,3,4)         # 3d array\n",
    "print(c)"
   ]
  },
  {
   "cell_type": "markdown",
   "metadata": {},
   "source": [
    "## Arithmetic Operators on Arrays\n",
    "Arithmetic operators on arrays apply elementwise. A new array is created and filled with the result.\n",
    "\n",
    "https://docs.scipy.org/doc/numpy-dev/user/quickstart.html"
   ]
  },
  {
   "cell_type": "markdown",
   "metadata": {
    "collapsed": true
   },
   "source": [
    "## Broadcasting\n",
    "\n",
    "[Array Broadcasting in numpy](http://scipy.github.io/old-wiki/pages/EricsBroadcastingDoc)  \n",
    "\n",
    "- The term broadcasting describes how numpy treats arrays with different shapes during arithmetic operations\n",
    "- NumPy operations are usually done on pairs of arrays on an element-by-element basis\n",
    "- An array and a scalar value are combined on an element-by-element basis\n",
    "- NumPy compares shapes element-wise and starts with the trailing dimensions, and works its way forward\n",
    "- Two dimensions are compatible if they are equal, or if one of them is 1\n",
    "- Broadcasting provides a convenient way of taking the outer product"
   ]
  },
  {
   "cell_type": "code",
   "execution_count": 3,
   "metadata": {},
   "outputs": [
    {
     "name": "stdout",
     "output_type": "stream",
     "text": [
      "[ 2.  4.  6.]\n",
      "[ 2.  4.  6.]\n"
     ]
    }
   ],
   "source": [
    "import numpy as np\n",
    "\n",
    "a = np.array([1.0, 2.0, 3.0])\n",
    "b = np.array([2.0, 2.0, 2.0])\n",
    "c = a * b\n",
    "print(c)\n",
    "\n",
    "a = np.array([1.0, 2.0, 3.0])\n",
    "b = 2.0\n",
    "c = a * b\n",
    "print(c)\n",
    "\n",
    "x = np.arange(4)\n",
    "xx = x.reshape(4,1)\n",
    "y = np.ones(5)\n",
    "z = np.ones((3,4))\n",
    "\n",
    "# https://docs.scipy.org/doc/numpy/user/basics.broadcasting.html\n",
    "x.shape\n",
    "y.shape\n",
    "x + y # <type 'exceptions.ValueError'>: shape mismatch: objects cannot be broadcast to a single shape\n",
    "xx.shape\n",
    "y.shape\n",
    "(xx + y).shape\n",
    "xx + y\n",
    "x.shape\n",
    "z.shape\n",
    "(x + z).shape\n",
    "x + z"
   ]
  },
  {
   "cell_type": "markdown",
   "metadata": {
    "collapsed": true
   },
   "source": [
    "# Broadcasting provides a convenient way of taking the outer product\n",
    "\n",
    "import numpy as np\n",
    "a = np.array([0.0, 10.0, 20.0, 30.0])\n",
    "b = np.array([1.0, 2.0, 3.0])\n",
    "a[:, np.newaxis] + b # newaxis index operator inserts a new axis into a, making it a two-dimensional 4x1\n"
   ]
  },
  {
   "cell_type": "code",
   "execution_count": 6,
   "metadata": {},
   "outputs": [
    {
     "name": "stdout",
     "output_type": "stream",
     "text": [
      "[4.0, 10.0, 18.0]\n",
      "[  4.  10.  18.]\n"
     ]
    }
   ],
   "source": [
    "c = []\n",
    "a = [1.0, 2.0, 3.0]\n",
    "b = [4.0, 5.0, 6.0]\n",
    "for i in range(len(a)):\n",
    "    c.append(a[i]*b[i])\n",
    "print(c)\n",
    "\n",
    "import numpy as np\n",
    "a = np.array([1.0, 2.0, 3.0])\n",
    "b = np.array([4.0, 5.0, 6.0])\n",
    "c = a * b\n",
    "print(c)"
   ]
  },
  {
   "cell_type": "markdown",
   "metadata": {
    "collapsed": true
   },
   "source": [
    "## Simple Array Operations\n",
    "\n",
    "https://docs.scipy.org/doc/numpy/user/quickstart.html#simple-array-operations"
   ]
  },
  {
   "cell_type": "code",
   "execution_count": 2,
   "metadata": {},
   "outputs": [
    {
     "ename": "SyntaxError",
     "evalue": "invalid syntax (<ipython-input-2-54d67aed4eaf>, line 15)",
     "output_type": "error",
     "traceback": [
      "\u001b[1;36m  File \u001b[1;32m\"<ipython-input-2-54d67aed4eaf>\"\u001b[1;36m, line \u001b[1;32m15\u001b[0m\n\u001b[1;33m    To be completed\u001b[0m\n\u001b[1;37m        ^\u001b[0m\n\u001b[1;31mSyntaxError\u001b[0m\u001b[1;31m:\u001b[0m invalid syntax\n"
     ]
    }
   ],
   "source": [
    "import numpy as np\n",
    "a = np.array([[1.0, 2.0], [3.0, 4.0]])\n",
    "print(a)\n",
    "\n",
    "a_tran = a.transpose()\n",
    "print(a_tran)\n",
    "\n",
    "a_inv = np.linalg.inv(a)\n",
    "print(a_inv)\n",
    "\n",
    "np.dot(a_inv, a)\n",
    "\n",
    "# https://docs.scipy.org/doc/numpy/user/quickstart.html#simple-array-operations\n",
    "\n",
    "To be completed"
   ]
  },
  {
   "cell_type": "code",
   "execution_count": 1,
   "metadata": {},
   "outputs": [
    {
     "ename": "SyntaxError",
     "evalue": "invalid syntax (<ipython-input-1-5e287a982f74>, line 19)",
     "output_type": "error",
     "traceback": [
      "\u001b[1;36m  File \u001b[1;32m\"<ipython-input-1-5e287a982f74>\"\u001b[1;36m, line \u001b[1;32m19\u001b[0m\n\u001b[1;33m    To be completed\u001b[0m\n\u001b[1;37m        ^\u001b[0m\n\u001b[1;31mSyntaxError\u001b[0m\u001b[1;31m:\u001b[0m invalid syntax\n"
     ]
    }
   ],
   "source": [
    "%matplotlib inline\n",
    "\n",
    "# Rotation Matrix\n",
    "\n",
    "import numpy as np\n",
    "import matplotlib.pyplot as plt\n",
    "\n",
    "theta = np.radians(30)\n",
    "c, s = np.cos(theta), np.sin(theta)\n",
    "R = np.matrix('{} {}; {} {}'.format(c, -s, s, c))\n",
    "print(R)\n",
    "\n",
    "x = np.random.normal(-10, 10, 100)\n",
    "y = 3 + .5*x + np.random.normal(0,1,100)\n",
    "myvec = np.array([x,y])\n",
    "plt.plot(myvec[0,], myvec[1,],'ro')\n",
    "plt.show()\n",
    "\n",
    "To be completed"
   ]
  },
  {
   "cell_type": "code",
   "execution_count": null,
   "metadata": {
    "collapsed": true
   },
   "outputs": [],
   "source": []
  }
 ],
 "metadata": {
  "kernelspec": {
   "display_name": "Python 3",
   "language": "python",
   "name": "python3"
  },
  "language_info": {
   "codemirror_mode": {
    "name": "ipython",
    "version": 3
   },
   "file_extension": ".py",
   "mimetype": "text/x-python",
   "name": "python",
   "nbconvert_exporter": "python",
   "pygments_lexer": "ipython3",
   "version": "3.7.6"
  }
 },
 "nbformat": 4,
 "nbformat_minor": 2
}
