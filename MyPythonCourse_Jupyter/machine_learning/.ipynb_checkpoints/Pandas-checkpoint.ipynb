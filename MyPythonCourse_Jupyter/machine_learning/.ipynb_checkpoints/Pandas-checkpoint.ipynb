{
 "cells": [
  {
   "cell_type": "markdown",
   "metadata": {},
   "source": [
    "# Pandas\n",
    "\n",
    "- Pandas stands for Python Data Analysis Library or \"panel data\" (multidimensional, structured data sets)\n",
    "- Data analysis and modeling\n",
    "- Supports manipulating tables and series\n",
    "- Focuses on linear and panel regression\n",
    "- Other libraries such as statsmodels and scikit-learn go beyond simple regression\n",
    "- DataFrame supports data manipulation and indexing\n",
    "- Reading/writing data files\n",
    "- Reshaping and pivoting of data sets\n",
    "- Slicing/indexing/subsetting large data sets\n",
    "- Column insertion and deletion\n",
    "- Group by support for split-apply-combine operations\n",
    "- Data set merging and joining\n",
    "- Hierarchical axis indexing for dimensional reduction\n",
    "- Time series support: frequency conversion, moving window statistics, date shifting and lagging\n",
    "\n",
    "[Download Anaconda Distribution](https://www.anaconda.com/download/)  "
   ]
  },
  {
   "cell_type": "markdown",
   "metadata": {},
   "source": [
    "## Pandas Docs\n",
    "\n",
    "Pandas deals with three main data structures\n",
    "- **Series** 1D labeled homogeneous size-immutable array\n",
    "- **DataFrame** 2D labeled size-mutable array tabular structure\n",
    "- **Panel** 3D labeled size-mutable tabular structure (deprecated in the 0.20.x release)\n",
    "\n",
    "[Docs: The pandas Tutorials](https://pandas.pydata.org/pandas-docs/stable/tutorials.html)  \n",
    "[Pandas Cheat Sheet:]( https://s3.amazonaws.com/assets.datacamp.com/blog_assets/PandasPythonForDataScience.pdf)  "
   ]
  },
  {
   "cell_type": "code",
   "execution_count": 1,
   "metadata": {},
   "outputs": [],
   "source": [
    "# execute this cell before any subsequent cells in this notebook\n",
    "import pandas as pd\n",
    "import numpy as np\n",
    "import matplotlib.pyplot as plt"
   ]
  },
  {
   "cell_type": "code",
   "execution_count": 2,
   "metadata": {},
   "outputs": [
    {
     "name": "stdout",
     "output_type": "stream",
     "text": [
      "[10,20,30,40]\n",
      "<class 'list'>\n",
      "[10, 20, 30, 40]\n",
      "\n",
      "np.array([10,20,30,40])\n",
      "<class 'numpy.ndarray'>\n",
      "[10 20 30 40]\n",
      "\n",
      "pd.Series([10,20,30,40])\n",
      "<class 'numpy.ndarray'>\n",
      "0    10\n",
      "1    20\n",
      "2    30\n",
      "3    40\n",
      "dtype: int64\n",
      "\n",
      "pd.DataFrame([10,20,30,40])\n",
      "<class 'pandas.core.frame.DataFrame'>\n",
      "    0\n",
      "0  10\n",
      "1  20\n",
      "2  30\n",
      "3  40\n"
     ]
    }
   ],
   "source": [
    "# https://docs.python.org/3/tutorial/datastructures.html\n",
    "print(\"[10,20,30,40]\")\n",
    "l = [10,20,30,40]\n",
    "print(type(l))\n",
    "print(l)\n",
    "print()\n",
    "\n",
    "# https://docs.scipy.org/doc/numpy-1.13.0/reference/generated/numpy.array.html\n",
    "print(\"np.array([10,20,30,40])\")\n",
    "a = np.array([10,20,30,40])\n",
    "print(type(a))\n",
    "print(a)\n",
    "print()\n",
    "\n",
    "# https://pandas.pydata.org/pandas-docs/stable/generated/pandas.Series.html\n",
    "print(\"pd.Series([10,20,30,40])\")\n",
    "s = pd.Series([10,20,30,40])\n",
    "print(type(a))\n",
    "print(s)\n",
    "print()\n",
    "\n",
    "# https://pandas.pydata.org/pandas-docs/stable/generated/pandas.DataFrame.html\n",
    "print(\"pd.DataFrame([10,20,30,40])\")\n",
    "d = pd.DataFrame([10,20,30,40])\n",
    "print(type(d))\n",
    "print(d)"
   ]
  },
  {
   "cell_type": "markdown",
   "metadata": {},
   "source": [
    "## Series\n",
    "\n",
    "[Docs: pandas.Series](http://pandas.pydata.org/pandas-docs/version/0.19.1/generated/pandas.Series.html)"
   ]
  },
  {
   "cell_type": "code",
   "execution_count": 3,
   "metadata": {},
   "outputs": [
    {
     "name": "stdout",
     "output_type": "stream",
     "text": [
      "Series([], dtype: float64)\n",
      "(0,)\n",
      "A    42\n",
      "dtype: int64\n",
      "(1,)\n",
      "---\n",
      "\n",
      "s1.dtypes int64\n",
      "s1.axes [Index(['A'], dtype='object')]\n",
      "s1.ndim 1\n",
      "s1.size 1\n",
      "s1.shape (1,)\n",
      "s1.values [42]\n",
      "len(s1) 1\n"
     ]
    }
   ],
   "source": [
    "# Creating an empty series\n",
    "s1 = pd.Series()\n",
    "print(s1)\n",
    "print(s1.shape)\n",
    "\n",
    "# Add index and value\n",
    "s1['A'] = 42\n",
    "print(s1)\n",
    "print(s1.shape)\n",
    "print(\"---\\n\")\n",
    "\n",
    "print(\"s1.dtypes\", s1.dtypes)\n",
    "print(\"s1.axes\", s1.axes)\n",
    "print(\"s1.ndim\", s1.ndim)\n",
    "print(\"s1.size\", s1.size)\n",
    "print(\"s1.shape\", s1.shape)\n",
    "print(\"s1.values\", s1.values)\n",
    "print(\"len(s1)\", len(s1))"
   ]
  },
  {
   "cell_type": "code",
   "execution_count": 4,
   "metadata": {},
   "outputs": [
    {
     "name": "stdout",
     "output_type": "stream",
     "text": [
      "0    1\n",
      "1    2\n",
      "dtype: int64\n",
      "(2,)\n",
      "0    10\n",
      "1    20\n",
      "dtype: int64\n",
      "(2,)\n",
      "0     1\n",
      "1     2\n",
      "0    10\n",
      "1    20\n",
      "dtype: int64\n",
      "(4,)\n"
     ]
    }
   ],
   "source": [
    "#  Use concat() to perform an outer join\n",
    "s1 = pd.Series([1, 2])\n",
    "print(s1)\n",
    "print(s1.shape)\n",
    "s2 = pd.Series([10, 20])\n",
    "print(s2)\n",
    "print(s2.shape)\n",
    "s3 = pd.concat([s1, s2])\n",
    "print(s3)\n",
    "print(s3.shape)"
   ]
  },
  {
   "cell_type": "code",
   "execution_count": 5,
   "metadata": {},
   "outputs": [
    {
     "name": "stdout",
     "output_type": "stream",
     "text": [
      "0    1.0\n",
      "1    3.0\n",
      "2    5.0\n",
      "3    NaN\n",
      "4    6.0\n",
      "5    8.0\n",
      "dtype: float64\n",
      "(6,)\n"
     ]
    }
   ],
   "source": [
    "# Creating a Series by passing a list of values, letting pandas create a default integer index\n",
    "s = pd.Series([1,3,5,np.nan,6,8])\n",
    "print(s)\n",
    "print(s.shape)"
   ]
  },
  {
   "cell_type": "code",
   "execution_count": 6,
   "metadata": {},
   "outputs": [
    {
     "name": "stdout",
     "output_type": "stream",
     "text": [
      "1     1.0\n",
      "2     3.0\n",
      "4     5.0\n",
      "6     NaN\n",
      "8     6.0\n",
      "10    8.0\n",
      "dtype: float64\n",
      "1.0\n"
     ]
    }
   ],
   "source": [
    "# Create a Series by passing a list of integer values and a list of integer indexes\n",
    "s = pd.Series([1,3,5,np.nan,6,8], index = [1, 2, 4, 6, 8, 10])\n",
    "print(s)\n",
    "print(s[1])"
   ]
  },
  {
   "cell_type": "code",
   "execution_count": 7,
   "metadata": {},
   "outputs": [
    {
     "name": "stdout",
     "output_type": "stream",
     "text": [
      "a    0.341781\n",
      "b    2.139182\n",
      "c    1.156589\n",
      "d   -0.646238\n",
      "e   -0.081690\n",
      "dtype: float64\n",
      "0.3417807479175985\n"
     ]
    }
   ],
   "source": [
    "# Create a Series by passing a list of random integer values and a list of character indexes\n",
    "s = pd.Series(np.random.randn(5), index=['a', 'b', 'c', 'd', 'e'])\n",
    "print(s)\n",
    "print(s['a'])"
   ]
  },
  {
   "cell_type": "code",
   "execution_count": 8,
   "metadata": {},
   "outputs": [
    {
     "name": "stdout",
     "output_type": "stream",
     "text": [
      "a    0\n",
      "b    1\n",
      "c    2\n",
      "dtype: int64\n"
     ]
    }
   ],
   "source": [
    "# Series can be instantiated from a dict\n",
    "d = {'b' : 1, 'a' : 0, 'c' : 2}\n",
    "s = pd.Series(d)\n",
    "print(s)"
   ]
  },
  {
   "cell_type": "code",
   "execution_count": 9,
   "metadata": {},
   "outputs": [
    {
     "name": "stdout",
     "output_type": "stream",
     "text": [
      "a    0.0\n",
      "b    1.0\n",
      "c    2.0\n",
      "dtype: float64\n",
      "b    1.0\n",
      "c    2.0\n",
      "d    NaN\n",
      "a    0.0\n",
      "dtype: float64\n"
     ]
    }
   ],
   "source": [
    "# If an index is passed, values in data corresponding to labels in index selected\n",
    "d = {'a' : 0., 'b' : 1., 'c' : 2.}\n",
    "s = pd.Series(d)\n",
    "print(s)\n",
    "s = pd.Series(d, index=['b', 'c', 'd', 'a'])\n",
    "print(s)"
   ]
  },
  {
   "cell_type": "code",
   "execution_count": 10,
   "metadata": {},
   "outputs": [
    {
     "name": "stdout",
     "output_type": "stream",
     "text": [
      "a    5.0\n",
      "b    5.0\n",
      "c    5.0\n",
      "d    5.0\n",
      "e    5.0\n",
      "dtype: float64\n"
     ]
    }
   ],
   "source": [
    "# If data is scalar value, index must be provided and scalar value is repeated\n",
    "s = pd.Series(5., index=['a', 'b', 'c', 'd', 'e'])\n",
    "print(s)"
   ]
  },
  {
   "cell_type": "code",
   "execution_count": 11,
   "metadata": {},
   "outputs": [
    {
     "name": "stdout",
     "output_type": "stream",
     "text": [
      "s\n",
      "0     1.0\n",
      "1     3.0\n",
      "2     5.0\n",
      "3     NaN\n",
      "4     9.0\n",
      "5    11.0\n",
      "dtype: float64 \n",
      "\n",
      "s.values\n",
      "[ 1.  3.  5. nan  9. 11.] \n",
      "\n",
      "s[0]\n",
      "1.0 \n",
      "\n",
      "s[3]\n",
      "nan \n",
      "\n",
      "s[:3]\n",
      "0    1.0\n",
      "1    3.0\n",
      "2    5.0\n",
      "dtype: float64 \n",
      "\n",
      "s.mean() 5.8\n",
      "\n",
      "s > s.median()\n",
      "0    False\n",
      "1    False\n",
      "2    False\n",
      "3    False\n",
      "4     True\n",
      "5     True\n",
      "dtype: bool \n",
      "\n",
      "s[s > s.median()]\n",
      "4     9.0\n",
      "5    11.0\n",
      "dtype: float64 \n",
      "\n",
      "s[[4, 3, 1]]\n",
      "4    9.0\n",
      "3    NaN\n",
      "1    3.0\n",
      "dtype: float64 \n",
      "\n",
      "np.exp(s)\n",
      "0        2.718282\n",
      "1       20.085537\n",
      "2      148.413159\n",
      "3             NaN\n",
      "4     8103.083928\n",
      "5    59874.141715\n",
      "dtype: float64 \n",
      "\n"
     ]
    }
   ],
   "source": [
    "# Series is similar to ndarray and is valid argument to most NumPy functions\n",
    "# Series support ndarray slicing operations as well\n",
    "\n",
    "s = pd.Series([1,3,5,np.nan,9,11])\n",
    "print(\"s\\n\", end=\"\");print(s, \"\\n\")\n",
    "print(\"s.values\\n\", end=\"\");print(s.values, \"\\n\")\n",
    "print(\"s[0]\\n\", end=\"\");print(s[0], \"\\n\")\n",
    "print(\"s[3]\\n\", end=\"\");print(s[3], \"\\n\")\n",
    "print(\"s[:3]\\n\", end=\"\");print(s[:3], \"\\n\")\n",
    "print(\"s.mean()\", s.mean());print()\n",
    "print(\"s > s.median()\\n\", end=\"\");print(s > s.median(), \"\\n\")\n",
    "print(\"s[s > s.median()]\\n\", end=\"\");print(s[s > s.median()], \"\\n\")\n",
    "print(\"s[[4, 3, 1]]\\n\", end=\"\");print(s[[4, 3, 1]], \"\\n\")\n",
    "print(\"np.exp(s)\\n\", end=\"\");print(np.exp(s), \"\\n\")\n"
   ]
  },
  {
   "cell_type": "markdown",
   "metadata": {
    "collapsed": true
   },
   "source": [
    "## DataFrames\n",
    "\n",
    "[Docs: pandas.DataFrame](http://pandas.pydata.org/pandas-docs/version/0.19.1/generated/pandas.DataFrame.html)"
   ]
  },
  {
   "cell_type": "code",
   "execution_count": 12,
   "metadata": {},
   "outputs": [
    {
     "name": "stdout",
     "output_type": "stream",
     "text": [
      "\n",
      "dates\n",
      " DatetimeIndex(['2013-01-01', '2013-01-02', '2013-01-03', '2013-01-04',\n",
      "               '2013-01-05', '2013-01-06', '2013-01-07', '2013-01-08',\n",
      "               '2013-01-09', '2013-01-10', '2013-01-11', '2013-01-12'],\n",
      "              dtype='datetime64[ns]', freq='D')\n",
      "\n",
      "df\n",
      "          date\n",
      "0  2013-01-01\n",
      "1  2013-01-02\n",
      "2  2013-01-03\n",
      "3  2013-01-04\n",
      "4  2013-01-05\n",
      "5  2013-01-06\n",
      "6  2013-01-07\n",
      "7  2013-01-08\n",
      "8  2013-01-09\n",
      "9  2013-01-10\n",
      "10 2013-01-11\n",
      "11 2013-01-12\n",
      "\n",
      "df.head()\n",
      "         date\n",
      "0 2013-01-01\n",
      "1 2013-01-02\n",
      "2 2013-01-03\n",
      "3 2013-01-04\n",
      "4 2013-01-05\n",
      "\n",
      "df.tail()\n",
      "          date\n",
      "7  2013-01-08\n",
      "8  2013-01-09\n",
      "9  2013-01-10\n",
      "10 2013-01-11\n",
      "11 2013-01-12\n",
      "\n",
      "df.head(3)\n",
      "         date\n",
      "0 2013-01-01\n",
      "1 2013-01-02\n",
      "2 2013-01-03\n",
      "\n",
      "df.iloc[3]\n",
      " date   2013-01-04\n",
      "Name: 3, dtype: datetime64[ns]\n",
      "\n",
      "df.shape\n",
      " (12, 1)\n"
     ]
    },
    {
     "data": {
      "text/html": [
       "<div>\n",
       "<style scoped>\n",
       "    .dataframe tbody tr th:only-of-type {\n",
       "        vertical-align: middle;\n",
       "    }\n",
       "\n",
       "    .dataframe tbody tr th {\n",
       "        vertical-align: top;\n",
       "    }\n",
       "\n",
       "    .dataframe thead th {\n",
       "        text-align: right;\n",
       "    }\n",
       "</style>\n",
       "<table border=\"1\" class=\"dataframe\">\n",
       "  <thead>\n",
       "    <tr style=\"text-align: right;\">\n",
       "      <th></th>\n",
       "      <th>date</th>\n",
       "    </tr>\n",
       "  </thead>\n",
       "  <tbody>\n",
       "    <tr>\n",
       "      <th>count</th>\n",
       "      <td>12</td>\n",
       "    </tr>\n",
       "    <tr>\n",
       "      <th>unique</th>\n",
       "      <td>12</td>\n",
       "    </tr>\n",
       "    <tr>\n",
       "      <th>top</th>\n",
       "      <td>2013-01-09 00:00:00</td>\n",
       "    </tr>\n",
       "    <tr>\n",
       "      <th>freq</th>\n",
       "      <td>1</td>\n",
       "    </tr>\n",
       "    <tr>\n",
       "      <th>first</th>\n",
       "      <td>2013-01-01 00:00:00</td>\n",
       "    </tr>\n",
       "    <tr>\n",
       "      <th>last</th>\n",
       "      <td>2013-01-12 00:00:00</td>\n",
       "    </tr>\n",
       "  </tbody>\n",
       "</table>\n",
       "</div>"
      ],
      "text/plain": [
       "                       date\n",
       "count                    12\n",
       "unique                   12\n",
       "top     2013-01-09 00:00:00\n",
       "freq                      1\n",
       "first   2013-01-01 00:00:00\n",
       "last    2013-01-12 00:00:00"
      ]
     },
     "execution_count": 12,
     "metadata": {},
     "output_type": "execute_result"
    }
   ],
   "source": [
    "# Creating a DataFrame by passing a numpy array, with a datetime index and labeled columns\n",
    "dates = pd.date_range('20130101', periods=12)\n",
    "print(\"\\ndates\\n\", dates)\n",
    "df = pd.DataFrame(dates, columns=[\"date\"])\n",
    "print(\"\\ndf\\n\", df)\n",
    "print(\"\\ndf.head()\\n\",  df.head())\n",
    "print(\"\\ndf.tail()\\n\",  df.tail())\n",
    "print(\"\\ndf.head(3)\\n\", df.head(3))\n",
    "print(\"\\ndf.iloc[3]\\n\", df.iloc[3])\n",
    "print(\"\\ndf.shape\\n\",   df.shape)\n",
    "df.describe()"
   ]
  },
  {
   "cell_type": "code",
   "execution_count": 13,
   "metadata": {},
   "outputs": [
    {
     "name": "stdout",
     "output_type": "stream",
     "text": [
      "\n",
      "df\n",
      "                   A         B         C         D\n",
      "2013-01-01 -0.493489 -1.867854 -0.693528  0.051362\n",
      "2013-01-02  0.065439 -0.189497  0.646952  0.743015\n",
      "2013-01-03 -0.031777 -0.443974 -1.027095  1.902984\n",
      "2013-01-04  0.132046  0.512629 -0.974647  1.126266\n",
      "2013-01-05  0.440120  0.659647 -1.122417  0.907400\n",
      "2013-01-06  0.781445  0.158817 -1.216605  0.463534\n",
      "\n",
      "df.dtypes\n",
      "A    float64\n",
      "B    float64\n",
      "C    float64\n",
      "D    float64\n",
      "dtype: object\n",
      "\n",
      "select row 0\tdf[0:1]\n",
      "                   A         B         C         D\n",
      "2013-01-01 -0.493489 -1.867854 -0.693528  0.051362\n",
      "\n",
      "select row 0\t\tdf.iloc[0]\n",
      "A   -0.493489\n",
      "B   -1.867854\n",
      "C   -0.693528\n",
      "D    0.051362\n",
      "Name: 2013-01-01 00:00:00, dtype: float64\n",
      "\n",
      "select column 'A'\tdf['A']\n",
      "2013-01-01   -0.493489\n",
      "2013-01-02    0.065439\n",
      "2013-01-03   -0.031777\n",
      "2013-01-04    0.132046\n",
      "2013-01-05    0.440120\n",
      "2013-01-06    0.781445\n",
      "Freq: D, Name: A, dtype: float64\n",
      "\n",
      "select row and column\tdf['A'][0]\n",
      "-0.49348946457315995\n"
     ]
    }
   ],
   "source": [
    "dates = pd.date_range('20130101', periods=6)\n",
    "df = pd.DataFrame(np.random.randn(6,4), index=dates, columns=list('ABCD'))\n",
    "\n",
    "print(\"\\ndf\")\n",
    "print(df)\n",
    "\n",
    "print(\"\\ndf.dtypes\")\n",
    "print(df.dtypes)\n",
    "\n",
    "#print(df[0]) # KeyError\n",
    "\n",
    "print(\"\\nselect row 0\\tdf[0:1]\")\n",
    "print(df[0:1])\n",
    "\n",
    "print(\"\\nselect row 0\\t\\tdf.iloc[0]\")\n",
    "print(df.iloc[0])\n",
    "\n",
    "print(\"\\nselect column 'A'\\tdf['A']\")\n",
    "print(df['A'])\n",
    "\n",
    "print(\"\\nselect row and column\\tdf['A'][0]\")\n",
    "print(df['A'][0])"
   ]
  },
  {
   "cell_type": "code",
   "execution_count": 14,
   "metadata": {},
   "outputs": [
    {
     "name": "stdout",
     "output_type": "stream",
     "text": [
      "     A          B    C  D      E    F\n",
      "0  1.0 2013-01-02  1.0  3   test  foo\n",
      "1  1.0 2013-01-02  1.0  3  train  foo\n",
      "2  1.0 2013-01-02  1.0  3   test  foo\n",
      "3  1.0 2013-01-02  1.0  3  train  foo\n"
     ]
    }
   ],
   "source": [
    "# Creating a DataFrame by passing a dict of objects that can be converted to series-like\n",
    "df2 = pd.DataFrame({\n",
    "    'A' : 1.,\n",
    "    'B' : pd.Timestamp('20130102'),\n",
    "    'C' : pd.Series(1,index=list(range(4)),dtype='float32'),\n",
    "    'D' : np.array([3] * 4,dtype='int32'),\n",
    "    'E' : pd.Categorical([\"test\",\"train\",\"test\",\"train\"]),\n",
    "    'F' : 'foo' })\n",
    "print(df2)"
   ]
  },
  {
   "cell_type": "code",
   "execution_count": 15,
   "metadata": {},
   "outputs": [
    {
     "name": "stdout",
     "output_type": "stream",
     "text": [
      "dfHousing\n",
      "   Unnamed: 0  price  lotsize  bedrooms  bathrms  stories driveway recroom  \\\n",
      "0           1  42000     5850         3        1        2      yes      no   \n",
      "1           2  38500     4000         2        1        1      yes      no   \n",
      "2           3  49500     3060         3        1        1      yes      no   \n",
      "3           4  60500     6650         3        1        2      yes     yes   \n",
      "4           5  61000     6360         2        1        1      yes      no   \n",
      "\n",
      "  fullbase gashw airco  garagepl prefarea  \n",
      "0      yes    no    no         1       no  \n",
      "1       no    no    no         0       no  \n",
      "2       no    no    no         0       no  \n",
      "3       no    no    no         0       no  \n",
      "4       no    no    no         0       no  \n",
      "\n",
      "---\n",
      "\n",
      "dfHousing[['bedrooms', 'price']]\n",
      "   bedrooms  price\n",
      "0         3  42000\n",
      "1         2  38500\n",
      "2         3  49500\n",
      "3         3  60500\n",
      "4         2  61000\n",
      "\n",
      "---\n",
      "\n",
      "dfHousing.iloc[2][['bedrooms', 'price']]\n",
      "bedrooms        3\n",
      "price       49500\n",
      "Name: 2, dtype: object\n"
     ]
    }
   ],
   "source": [
    "dfHousing = pd.read_csv('data/Housing.csv', nrows=5)\n",
    "print(\"dfHousing\")\n",
    "print(dfHousing)\n",
    "print(\"\\n---\\n\")\n",
    "print(\"dfHousing[['bedrooms', 'price']]\")\n",
    "print(dfHousing[['bedrooms', 'price']])\n",
    "print(\"\\n---\\n\")\n",
    "print(\"dfHousing.iloc[2][['bedrooms', 'price']]\")\n",
    "print(dfHousing.iloc[2][['bedrooms', 'price']])"
   ]
  },
  {
   "cell_type": "code",
   "execution_count": 16,
   "metadata": {},
   "outputs": [
    {
     "name": "stdout",
     "output_type": "stream",
     "text": [
      "  Position  Quantity            Open Time  Open Price           Close Time  \\\n",
      "0     Long      2400  2018-03-10 09:30:15     30.6035  2018-03-10 09:31:45   \n",
      "1    Short      4700  2018-03-10 09:32:00     31.6353  2018-03-10 09:34:00   \n",
      "2     Long      3500  2018-03-10 09:34:15     30.4790  2018-03-10 09:36:30   \n",
      "3    Short      3100  2018-03-10 09:36:45     33.2328  2018-03-10 09:38:45   \n",
      "4     Long      3500  2018-03-10 09:39:00     32.7397  2018-03-10 09:39:45   \n",
      "\n",
      "   Close Price  \n",
      "0      31.7985  \n",
      "1      29.5608  \n",
      "2      34.0210  \n",
      "3      32.7242  \n",
      "4      32.3310  \n",
      "  Position  Quantity            Open Time  Open Price           Close Time  \\\n",
      "0     Long      2400  2018-03-10 09:30:15     30.6035  2018-03-10 09:31:45   \n",
      "1    Short      4700  2018-03-10 09:32:00     31.6353  2018-03-10 09:34:00   \n",
      "2     Long      3500  2018-03-10 09:34:15     30.4790  2018-03-10 09:36:30   \n",
      "3    Short      3100  2018-03-10 09:36:45     33.2328  2018-03-10 09:38:45   \n",
      "4     Long      3500  2018-03-10 09:39:00     32.7397  2018-03-10 09:39:45   \n",
      "\n",
      "   Close Price  Sign    Profit  \n",
      "0      31.7985     1   2868.00  \n",
      "1      29.5608    -1   9750.15  \n",
      "2      34.0210     1  12397.00  \n",
      "3      32.7242    -1   1576.66  \n",
      "4      32.3310     1  -1430.45  \n",
      "Total:   19930\n",
      "Profit:  19559620.63\n"
     ]
    }
   ],
   "source": [
    "trades = pd.read_csv('data/Trades.csv')\n",
    "print(trades.head())\n",
    "trades['Sign'] = [1 if ls == 'Long' else -1 for ls in trades['Position']]\n",
    "trades['Profit'] = trades['Quantity'] * trades['Sign'] * (trades['Close Price'] - trades['Open Price']) \n",
    "print(trades.head())\n",
    "print(\"Total:  \", trades['Profit'].count())\n",
    "print(\"Profit: \", round(trades['Profit'].sum(), 2))"
   ]
  },
  {
   "cell_type": "code",
   "execution_count": 17,
   "metadata": {},
   "outputs": [
    {
     "name": "stdout",
     "output_type": "stream",
     "text": [
      "\n",
      "df\n",
      "   Country    Capital  Population\n",
      "0  Belgium     Ottawa    11190846\n",
      "1    India  New Delhi  1303171035\n",
      "2   Brazil   Brasília   207847528\n",
      "\n",
      "df.iloc[0],[0]\n",
      "Country        Belgium\n",
      "Capital         Ottawa\n",
      "Population    11190846\n",
      "Name: 0, dtype: object [0]\n",
      "\n",
      "df.loc[0], ['Country']\n",
      "Country        Belgium\n",
      "Capital         Ottawa\n",
      "Population    11190846\n",
      "Name: 0, dtype: object ['Country']\n",
      "\n",
      "df.iat[0,0]\n",
      "Belgium\n",
      "\n",
      "df.at[0, 'Country']\n",
      "Belgium\n",
      "\n",
      "df[df['Population']>12000000]\n",
      "  Country    Capital  Population\n",
      "1   India  New Delhi  1303171035\n",
      "2  Brazil   Brasília   207847528\n",
      "\n",
      "df[1:]\n",
      "  Country    Capital  Population\n",
      "1   India  New Delhi  1303171035\n",
      "2  Brazil   Brasília   207847528\n",
      "\n",
      "df.drop('Country', axis=1)\n",
      "     Capital  Population\n",
      "0     Ottawa    11190846\n",
      "1  New Delhi  1303171035\n",
      "2   Brasília   207847528\n"
     ]
    }
   ],
   "source": [
    "data = {'Country': ['Belgium', 'India', 'Brazil'],\n",
    "           'Capital': ['Ottawa', 'New Delhi', 'Brasília'],\n",
    "           'Population': [11190846, 1303171035, 207847528]}\n",
    "df = pd.DataFrame(data,\n",
    "            columns=['Country', 'Capital', 'Population'])\n",
    "\n",
    "print(\"\\ndf\")\n",
    "print(df)\n",
    "\n",
    "print(\"\\ndf.iloc[0],[0]\")\n",
    "print(df.iloc[0],[0]) # Select single value by row & column\n",
    "\n",
    "print(\"\\ndf.loc[0], ['Country']\")\n",
    "print(df.loc[0], ['Country']) # Select single value by row & column label\n",
    "\n",
    "print(\"\\ndf.iat[0,0]\")\n",
    "print(df.iat[0,0])\n",
    "\n",
    "print(\"\\ndf.at[0, 'Country']\")\n",
    "print(df.at[0, 'Country'])\n",
    "\n",
    "print(\"\\ndf[df['Population']>12000000]\")\n",
    "print(df[df['Population']>12000000])  # filter DataFrame\n",
    "\n",
    "print(\"\\ndf[1:]\")\n",
    "print(df[1:]) # Get subset of DataFrame \n",
    "\n",
    "print(\"\\ndf.drop('Country', axis=1)\")\n",
    "print(df.drop('Country', axis=1)) # Drop values from columns(axis=1)"
   ]
  },
  {
   "cell_type": "code",
   "execution_count": null,
   "metadata": {},
   "outputs": [],
   "source": []
  }
 ],
 "metadata": {
  "kernelspec": {
   "display_name": "Python 3",
   "language": "python",
   "name": "python3"
  },
  "language_info": {
   "codemirror_mode": {
    "name": "ipython",
    "version": 3
   },
   "file_extension": ".py",
   "mimetype": "text/x-python",
   "name": "python",
   "nbconvert_exporter": "python",
   "pygments_lexer": "ipython3",
   "version": "3.6.4"
  }
 },
 "nbformat": 4,
 "nbformat_minor": 2
}
