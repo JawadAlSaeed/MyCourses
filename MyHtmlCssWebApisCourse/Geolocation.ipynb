{
 "cells": [
  {
   "cell_type": "markdown",
   "metadata": {},
   "source": [
    "# Geolocation\n",
    "\n",
    "* MDN Geolocation API Docs: https://developer.mozilla.org/en-US/docs/Web/API/Geolocation_API\n",
    "* MDN Using the Geolocation API: https://developer.mozilla.org/en-US/docs/Web/API/Geolocation_API/Using_the_Geolocation_API\n",
    "* HTML5 Rocks Tutorial: https://www.html5rocks.com/en/tutorials/geolocation/trip_meter\n",
    "* W3C Geolocation Specification: https://www.w3.org/TR/geolocation-API/"
   ]
  },
  {
   "cell_type": "code",
   "execution_count": null,
   "metadata": {},
   "outputs": [],
   "source": []
  }
 ],
 "metadata": {
  "kernelspec": {
   "display_name": "Python 3",
   "language": "python",
   "name": "python3"
  },
  "language_info": {
   "codemirror_mode": {
    "name": "ipython",
    "version": 3
   },
   "file_extension": ".py",
   "mimetype": "text/x-python",
   "name": "python",
   "nbconvert_exporter": "python",
   "pygments_lexer": "ipython3",
   "version": "3.7.6"
  }
 },
 "nbformat": 4,
 "nbformat_minor": 4
}
