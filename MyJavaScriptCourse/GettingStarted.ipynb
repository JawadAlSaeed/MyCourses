{
 "cells": [
  {
   "cell_type": "markdown",
   "metadata": {},
   "source": [
    "# Getting Started"
   ]
  },
  {
   "cell_type": "markdown",
   "metadata": {},
   "source": [
    "## JavaScript Background\n",
    "\n",
    "* JavaScript was created by Brendan Eich at Netscape in 1995\n",
    "* JavaScript is a trademark currently owned by Oracle (previously owned by Sun)\n",
    "* JavaScript is the common name of the programming language\n",
    "* ECMAScript is the name used by the language specification standard\n",
    "* Supports dynamic typing, prototype-based object-orientation, and first-class functions\n",
    "* Used in client-side (browser) and server-side (nodjs) Web app development\n",
    "* Browser APIs: File, IndexedDB, Web Audio, Web Sockets, WebGL, Web Storage, Web Workers, Canvas, etc.\n",
    "* Node APIs: HTTP, REST, MongoDB, socket.io, axios, etc.\n",
    "* Client-side libraries and frameworks: Angular, React.js, Vue.js, etc.\n",
    "* Server-side libraries and frameworks: Node.js, Express.js, etc.\n",
    "* Node.js-based development tools: npm, babel, webpack, visual studio code, etc.\n",
    "* Embedded mobile device app frameworks: Electron, Cordova, NativeScript, etc."
   ]
  },
  {
   "cell_type": "markdown",
   "metadata": {},
   "source": [
    "## NodeJS\n",
    "* [The official Node.js website and installation instructions](https://nodejs.org)\n",
    "* xxx"
   ]
  },
  {
   "cell_type": "markdown",
   "metadata": {},
   "source": [
    "## Simple Static File HTTP Server"
   ]
  },
  {
   "cell_type": "code",
   "execution_count": 4,
   "metadata": {},
   "outputs": [
    {
     "name": "stdout",
     "output_type": "stream",
     "text": [
      "Click -> http://localhost:8080\n"
     ]
    },
    {
     "name": "stderr",
     "output_type": "stream",
     "text": [
      "Error: listen EADDRINUSE :::8080\n",
      "    at Server.setupListenHandle [as _listen2] (net.js:1286:14)\n",
      "    at listenInCluster (net.js:1334:12)\n",
      "    at Server.listen (net.js:1421:7)\n",
      "    at evalmachine.<anonymous>:5:4\n",
      "    at Script.runInThisContext (vm.js:96:20)\n",
      "    at Object.runInThisContext (vm.js:303:38)\n",
      "    at run ([eval]:1054:15)\n",
      "    at onRunRequest ([eval]:888:18)\n",
      "    at onMessage ([eval]:848:13)\n",
      "    at process.emit (events.js:182:13)"
     ]
    }
   ],
   "source": [
    "var http = require('http');\n",
    "http.createServer(function (req, res) {\n",
    "  res.writeHead(200, {'Content-Type': 'text/html'});\n",
    "  res.end('Hello World!');\n",
    "}).listen(8080);\n",
    "\n",
    "console.log('Click -> http://localhost:8080');"
   ]
  },
  {
   "cell_type": "markdown",
   "metadata": {},
   "source": [
    "## Double Equals vs. Triple Equals\n",
    "* The == operator tests for loose equality (after type conversion) and returns a boolean result\n",
    "* The === operator tests for strict equality (without type conversion) and returns in a boolean result"
   ]
  },
  {
   "cell_type": "code",
   "execution_count": 31,
   "metadata": {},
   "outputs": [
    {
     "name": "stdout",
     "output_type": "stream",
     "text": [
      "true\n",
      "false\n"
     ]
    }
   ],
   "source": [
    "console.log(4 == \"4\");  // evaluates to true because left operand is converted to string and right operand is type string\n",
    "console.log(4 === \"4\"); // evaluates to false because left operand is type number and right operand is type string"
   ]
  },
  {
   "cell_type": "markdown",
   "metadata": {},
   "source": [
    "## Short Circuit Logical Expression Evaluation"
   ]
  },
  {
   "cell_type": "code",
   "execution_count": 29,
   "metadata": {},
   "outputs": [
    {
     "name": "stdout",
     "output_type": "stream",
     "text": [
      "1\n",
      "0\n",
      "0\n",
      "1\n"
     ]
    }
   ],
   "source": [
    "g = 0;\n",
    "if (false || ++g == 1) {  // second part of logical expression is forced to execute and g is incremented\n",
    "}\n",
    "console.log(g);       // 1\n",
    "\n",
    "g = 0;\n",
    "if (true || ++g == 1) {   // second part of logical expression is short circuited out and g is not incremented\n",
    "}\n",
    "console.log(g);       // 0\n",
    "\n",
    "g = 0;\n",
    "if (false && ++g == 1) {  // second part of logical expression is short circuited out and g is not incremented\n",
    "}\n",
    "console.log(g);       // 0\n",
    "\n",
    "g = 0;\n",
    "if (true && ++g == 1) {   // second part of logical expression is forced to execute and g is incremented\n",
    "}\n",
    "console.log(g);       // 1"
   ]
  },
  {
   "cell_type": "markdown",
   "metadata": {},
   "source": [
    "## Using console.log Function"
   ]
  },
  {
   "cell_type": "code",
   "execution_count": 2,
   "metadata": {},
   "outputs": [
    {
     "name": "stdout",
     "output_type": "stream",
     "text": [
      "3 + 4 =  7\n"
     ]
    }
   ],
   "source": [
    "console.log(\"3 + 4 = \", 3 + 4)"
   ]
  },
  {
   "cell_type": "code",
   "execution_count": 32,
   "metadata": {},
   "outputs": [
    {
     "name": "stdout",
     "output_type": "stream",
     "text": [
      "Dog Bites Man!\n",
      "Dog Bites Man!\n"
     ]
    }
   ],
   "source": [
    "var subject = \"Dog\", verb = \"Bites\", object = \"Man\";\n",
    "console.log(\"%s %s %s!\", subject, verb, object);\n",
    "console.log(`${subject} ${verb + ' ' + object}!`);"
   ]
  },
  {
   "cell_type": "code",
   "execution_count": 33,
   "metadata": {},
   "outputs": [
    {
     "name": "stdout",
     "output_type": "stream",
     "text": [
      "3\n",
      "-1\n",
      "3\n"
     ]
    }
   ],
   "source": [
    "console.log(Math.max(1, 3, 2));    // expected output: 3\n",
    "console.log(Math.max(-1, -3, -2)); // expected output: -1\n",
    "var array1 = [1, 3, 2];\n",
    "console.log(Math.max(...array1));  // expected output: 3"
   ]
  },
  {
   "cell_type": "code",
   "execution_count": 34,
   "metadata": {},
   "outputs": [
    {
     "name": "stdout",
     "output_type": "stream",
     "text": [
      "Object\n",
      "Function\n",
      "Array\n",
      "Number\n",
      "parseFloat\n",
      "parseInt\n",
      "Infinity\n",
      "NaN\n",
      "undefined\n",
      "Boolean\n",
      "String\n",
      "Symbol\n",
      "Date\n",
      "Promise\n",
      "RegExp\n",
      "Error\n",
      "EvalError\n",
      "RangeError\n",
      "ReferenceError\n",
      "SyntaxError\n",
      "TypeError\n",
      "URIError\n",
      "JSON\n",
      "Math\n",
      "Intl\n",
      "ArrayBuffer\n",
      "Uint8Array\n",
      "Int8Array\n",
      "Uint16Array\n",
      "Int16Array\n",
      "Uint32Array\n",
      "Int32Array\n",
      "Float32Array\n",
      "Float64Array\n",
      "Uint8ClampedArray\n",
      "BigUint64Array\n",
      "BigInt64Array\n",
      "DataView\n",
      "Map\n",
      "Set\n",
      "WeakMap\n",
      "WeakSet\n",
      "Proxy\n",
      "Reflect\n",
      "decodeURI\n",
      "decodeURIComponent\n",
      "encodeURI\n",
      "encodeURIComponent\n",
      "escape\n",
      "unescape\n",
      "eval\n",
      "isFinite\n",
      "isNaN\n",
      "SharedArrayBuffer\n",
      "Atomics\n",
      "BigInt\n",
      "WebAssembly\n",
      "DTRACE_NET_SERVER_CONNECTION\n",
      "DTRACE_NET_STREAM_END\n",
      "DTRACE_HTTP_SERVER_REQUEST\n",
      "DTRACE_HTTP_SERVER_RESPONSE\n",
      "DTRACE_HTTP_CLIENT_REQUEST\n",
      "DTRACE_HTTP_CLIENT_RESPONSE\n",
      "COUNTER_NET_SERVER_CONNECTION\n",
      "COUNTER_NET_SERVER_CONNECTION_CLOSE\n",
      "COUNTER_HTTP_SERVER_REQUEST\n",
      "COUNTER_HTTP_SERVER_RESPONSE\n",
      "COUNTER_HTTP_CLIENT_REQUEST\n",
      "COUNTER_HTTP_CLIENT_RESPONSE\n",
      "global\n",
      "process\n",
      "GLOBAL\n",
      "root\n",
      "Buffer\n",
      "clearImmediate\n",
      "clearInterval\n",
      "clearTimeout\n",
      "setImmediate\n",
      "setInterval\n",
      "setTimeout\n",
      "URL\n",
      "URLSearchParams\n",
      "assert\n",
      "async_hooks\n",
      "buffer\n",
      "child_process\n",
      "cluster\n",
      "crypto\n",
      "dgram\n",
      "dns\n",
      "domain\n",
      "events\n",
      "fs\n",
      "http\n",
      "http2\n",
      "https\n",
      "inspector\n",
      "net\n",
      "os\n",
      "path\n",
      "perf_hooks\n",
      "punycode\n",
      "querystring\n",
      "readline\n",
      "repl\n",
      "stream\n",
      "string_decoder\n",
      "tls\n",
      "trace_events\n",
      "tty\n",
      "url\n",
      "util\n",
      "v8\n",
      "vm\n",
      "zlib\n",
      "__filename\n",
      "exports\n",
      "module\n",
      "__dirname\n",
      "require\n",
      "$$mimer$$\n",
      "$$done$$\n",
      "$$defaultMimer$$\n",
      "greet\n",
      "who\n",
      "subject\n",
      "verb\n",
      "object\n",
      "g\n",
      "array1\n",
      "console\n",
      "$$\n",
      "$$mime$$\n",
      "$$html$$\n",
      "$$svg$$\n",
      "$$png$$\n",
      "$$jpeg$$\n",
      "$$async$$\n"
     ]
    }
   ],
   "source": [
    "(function () {\n",
    "    golbals = Object.getOwnPropertyNames( global );\n",
    "    for( var i = 0; i < golbals.length; ++i ) {\n",
    "        console.log( golbals[i] );\n",
    "    }\n",
    "})();"
   ]
  },
  {
   "cell_type": "code",
   "execution_count": null,
   "metadata": {},
   "outputs": [],
   "source": [
    "console.log('Hellow World!');"
   ]
  },
  {
   "cell_type": "code",
   "execution_count": 10,
   "metadata": {},
   "outputs": [
    {
     "name": "stdout",
     "output_type": "stream",
     "text": [
      "8\n"
     ]
    }
   ],
   "source": [
    "console.log(eval('3 + 5'));"
   ]
  },
  {
   "cell_type": "code",
   "execution_count": 11,
   "metadata": {},
   "outputs": [
    {
     "name": "stdout",
     "output_type": "stream",
     "text": [
      "Hello Sally\n"
     ]
    }
   ],
   "source": [
    "function greetMe(yourName) {\n",
    "  console.log('Hello ' + yourName);\n",
    "}\n",
    "greetMe('Sally');"
   ]
  },
  {
   "cell_type": "code",
   "execution_count": 12,
   "metadata": {},
   "outputs": [
    {
     "name": "stdout",
     "output_type": "stream",
     "text": [
      "Hello World\n"
     ]
    }
   ],
   "source": [
    "(function(){\n",
    "  \"use strict\";\n",
    "  function greetMe(yourName) {\n",
    "    console.log('Hello ' + yourName);\n",
    "  }  \n",
    "  greetMe('World');\n",
    "})();"
   ]
  },
  {
   "cell_type": "code",
   "execution_count": 13,
   "metadata": {},
   "outputs": [
    {
     "name": "stdout",
     "output_type": "stream",
     "text": [
      "foobar\n",
      "42\n"
     ]
    }
   ],
   "source": [
    "// JavaScript is case-sensitive and uses the Unicode character set. \n",
    "var früh = \"foobar\";\n",
    "console.log(früh);\n",
    "\n",
    "function myfunc() {\n",
    "    let x = 42;\n",
    "    console.log(x)\n",
    "}\n",
    "myfunc()"
   ]
  },
  {
   "cell_type": "code",
   "execution_count": 13,
   "metadata": {},
   "outputs": [
    {
     "name": "stdout",
     "output_type": "stream",
     "text": [
      "number\n",
      "number\n",
      "boolean\n",
      "boolean\n",
      "string\n",
      "string\n",
      "string\n",
      "string\n",
      "object\n",
      "object\n",
      "object\n",
      "object\n",
      "function\n"
     ]
    }
   ],
   "source": [
    "console.log(typeof 42)\n",
    "console.log(typeof 3.141592)\n",
    "console.log(typeof true)\n",
    "console.log(typeof false)\n",
    "console.log(typeof 'Hello World!')\n",
    "console.log(typeof 'x')\n",
    "console.log(typeof \"y\")\n",
    "console.log(typeof `z`)\n",
    "console.log(typeof {})\n",
    "console.log(typeof [])\n",
    "console.log(typeof /^\\S+@\\S+$/)\n",
    "console.log(typeof new Object())\n",
    "console.log(typeof function () {})"
   ]
  },
  {
   "cell_type": "code",
   "execution_count": null,
   "metadata": {},
   "outputs": [],
   "source": []
  }
 ],
 "metadata": {
  "kernelspec": {
   "display_name": "Javascript (Node.js)",
   "language": "javascript",
   "name": "javascript"
  },
  "language_info": {
   "file_extension": ".js",
   "mimetype": "application/javascript",
   "name": "javascript",
   "version": "10.13.0"
  }
 },
 "nbformat": 4,
 "nbformat_minor": 2
}
