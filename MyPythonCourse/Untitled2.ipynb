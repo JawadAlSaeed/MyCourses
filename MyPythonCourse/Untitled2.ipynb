{
 "cells": [
  {
   "cell_type": "code",
   "execution_count": 1,
   "metadata": {},
   "outputs": [
    {
     "data": {
      "text/html": [
       "<div>\n",
       "<style scoped>\n",
       "    .dataframe tbody tr th:only-of-type {\n",
       "        vertical-align: middle;\n",
       "    }\n",
       "\n",
       "    .dataframe tbody tr th {\n",
       "        vertical-align: top;\n",
       "    }\n",
       "\n",
       "    .dataframe thead th {\n",
       "        text-align: right;\n",
       "    }\n",
       "</style>\n",
       "<table border=\"1\" class=\"dataframe\">\n",
       "  <thead>\n",
       "    <tr style=\"text-align: right;\">\n",
       "      <th></th>\n",
       "      <th>a</th>\n",
       "      <th>b</th>\n",
       "      <th>c</th>\n",
       "    </tr>\n",
       "  </thead>\n",
       "  <tbody>\n",
       "    <tr>\n",
       "      <th>0</th>\n",
       "      <td>1</td>\n",
       "      <td>3</td>\n",
       "      <td>4</td>\n",
       "    </tr>\n",
       "    <tr>\n",
       "      <th>1</th>\n",
       "      <td>2</td>\n",
       "      <td>4</td>\n",
       "      <td>6</td>\n",
       "    </tr>\n",
       "  </tbody>\n",
       "</table>\n",
       "</div>"
      ],
      "text/plain": [
       "   a  b  c\n",
       "0  1  3  4\n",
       "1  2  4  6"
      ]
     },
     "execution_count": 1,
     "metadata": {},
     "output_type": "execute_result"
    }
   ],
   "source": [
    "import pandas as pd\n",
    "\n",
    "# make a simple dataframe\n",
    "df = pd.DataFrame({'a':[1,2], 'b':[3,4]})\n",
    "df\n",
    "#    a  b\n",
    "# 0  1  3\n",
    "# 1  2  4\n",
    "\n",
    "# create an unattached column with an index\n",
    "df.apply(lambda row: row.a + row.b, axis=1)\n",
    "# 0    4\n",
    "# 1    6\n",
    "\n",
    "# do same but attach it to the dataframe\n",
    "df['c'] = df.apply(lambda row: row.a + row.b, axis=1)\n",
    "df\n",
    "#    a  b  c\n",
    "# 0  1  3  4\n",
    "# 1  2  4  6"
   ]
  },
  {
   "cell_type": "code",
   "execution_count": 13,
   "metadata": {
    "scrolled": true
   },
   "outputs": [
    {
     "name": "stdout",
     "output_type": "stream",
     "text": [
      "Create a table of the four possible combinations of two booleans A,B\n",
      "       A      B\n",
      "0  False  False\n",
      "1  False   True\n",
      "2   True  False\n",
      "3   True   True\n",
      "Display the four results of ANDing these four combinations of two booleans\n",
      "0    False\n",
      "1    False\n",
      "2    False\n",
      "3     True\n",
      "dtype: bool\n",
      "Add a new column to the df that contains the result of each ANDing\n",
      "       A      B  A AND B\n",
      "0  False  False    False\n",
      "1  False   True    False\n",
      "2   True  False    False\n",
      "3   True   True     True\n",
      "Display the four results of ORing these four combinations of two booleans\n",
      "0    False\n",
      "1     True\n",
      "2     True\n",
      "3     True\n",
      "dtype: bool\n",
      "Add a new column to the df that contains the result of each ORing\n",
      "       A      B  A AND B  A OR B\n",
      "0  False  False    False   False\n",
      "1  False   True    False    True\n",
      "2   True  False    False    True\n",
      "3   True   True     True    True\n"
     ]
    }
   ],
   "source": [
    "import pandas as pd\n",
    "\n",
    "print('Create a table of the four possible combinations of two booleans A,B')\n",
    "df = pd.DataFrame({'A':[False, False, True, True], 'B':[False, True, False, True]})\n",
    "print(df)\n",
    "\n",
    "print('Display the four results of ANDing these four combinations of two booleans')\n",
    "print(df.apply(lambda row: row.A & row.B, axis=1)) # original df not changed\n",
    "\n",
    "print('Add a new column to the df that contains the result of each ANDing')\n",
    "df['A AND B'] = df.apply(lambda row: row.A & row.B, axis=1)\n",
    "print(df)\n",
    "\n",
    "print('Display the four results of ORing these four combinations of two booleans')\n",
    "print(df.apply(lambda row: row.A | row.B, axis=1)) # original df not changed\n",
    "\n",
    "print('Add a new column to the df that contains the result of each ORing')\n",
    "df['A OR B'] = df.apply(lambda row: row.A | row.B, axis=1)\n",
    "print(df)"
   ]
  },
  {
   "cell_type": "code",
   "execution_count": null,
   "metadata": {},
   "outputs": [],
   "source": []
  }
 ],
 "metadata": {
  "kernelspec": {
   "display_name": "Python 3",
   "language": "python",
   "name": "python3"
  },
  "language_info": {
   "codemirror_mode": {
    "name": "ipython",
    "version": 3
   },
   "file_extension": ".py",
   "mimetype": "text/x-python",
   "name": "python",
   "nbconvert_exporter": "python",
   "pygments_lexer": "ipython3",
   "version": "3.7.6"
  }
 },
 "nbformat": 4,
 "nbformat_minor": 4
}
