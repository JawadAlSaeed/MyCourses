{
 "cells": [
  {
   "cell_type": "markdown",
   "metadata": {},
   "source": [
    "# Collections Framework\n",
    "\n",
    "Two main interfaces of the Collection Framework\n",
    "* Collection interface (java.util.Collection)\n",
    "* Map interface (java.util.Map)\n",
    "\n",
    "Core Interfaces in Collections:\n",
    "```\n",
    "            Collection            Map\n",
    "           /   /  \\   \\            |\n",
    "          /   /    \\   \\           |\n",
    "       Set List Queue Dequeue   SortedMap\n",
    "        /\n",
    "       /\n",
    " SortedSet \n",
    "```\n",
    "Before the Collections Framework was available, we hadArrays or Vectors or Hashtables were used, but they lack a consistent common interface.\n",
    "\n",
    "We now have the following Collections Framework classes:\n",
    "\n",
    "* ```Set``` does not allow duplicates\n",
    "* ```List``` can contain duplicates and elements are ordered\n",
    "* ```Queue``` FIFO ordered elements (insert/removed at one end)\n",
    "* ```Deque``` LIFO/FIFO ordered elements (insert/removed at both ends)\n",
    "* ```Map``` contains Key value pairs. Doesn't allow duplicates.  "
   ]
  },
  {
   "cell_type": "code",
   "execution_count": 8,
   "metadata": {},
   "outputs": [
    {
     "name": "stdout",
     "output_type": "stream",
     "text": [
      "10\n",
      "20\n",
      "10\n",
      "20\n",
      "ten\n",
      "twenty\n"
     ]
    }
   ],
   "source": [
    "// Arrays and Vectors and Hashtables are a hodge-podge\n",
    "\n",
    "int arr[] = new int[] {10, 20};\n",
    "System.out.println(arr[0]);\n",
    "System.out.println(arr[1]);\n",
    "\n",
    "Vector<Integer> vector = new Vector();\n",
    "vector.addElement(10);\n",
    "vector.addElement(20);\n",
    "System.out.println(vector.elementAt(0));\n",
    "System.out.println(vector.elementAt(1));\n",
    "\n",
    "Hashtable<Integer, String> hashtable = new Hashtable();\n",
    "hashtable.put(10, \"ten\");\n",
    "hashtable.put(20,\"twenty\");\n",
    "System.out.println(hashtable.get(10));\n",
    "System.out.println(hashtable.get(20));"
   ]
  },
  {
   "cell_type": "markdown",
   "metadata": {},
   "source": [
    "## List Interface\n",
    "* ```ArrayList<data-type>```\n",
    "* ```LinkedList<data-type>```\n",
    "* ```Vector<data-type>```\n",
    "* ```Stack<data-type>```"
   ]
  },
  {
   "cell_type": "code",
   "execution_count": 16,
   "metadata": {},
   "outputs": [
    {
     "name": "stdout",
     "output_type": "stream",
     "text": [
      "Sally\n",
      "John\n",
      "Jenny\n",
      "Sam\n",
      "Sally\n",
      "John\n",
      "Jenny\n",
      "Sam\n",
      "Sally\n",
      "John\n",
      "Jenny\n",
      "Sam\n",
      "Sally\n",
      "John\n",
      "Jenny\n",
      "Sam\n"
     ]
    }
   ],
   "source": [
    "ArrayList<String> list=new ArrayList<String>();\n",
    "list.add(\"Sally\");\n",
    "list.add(\"John\");\n",
    "list.add(\"Jenny\");\n",
    "list.add(\"Sam\");\n",
    "Iterator itr = list.iterator();\n",
    "while(itr.hasNext()) {\n",
    "    System.out.println(itr.next());\n",
    "}\n",
    "\n",
    "LinkedList<String> linkedList = new LinkedList<String>();\n",
    "linkedList.add(\"Sally\");\n",
    "linkedList.add(\"John\");\n",
    "linkedList.add(\"Jenny\");\n",
    "linkedList.add(\"Sam\");\n",
    "Iterator itr = linkedList.iterator();\n",
    "while(itr.hasNext()) {\n",
    "    System.out.println(itr.next());\n",
    "}\n",
    "\n",
    "\n",
    "Vector<String> vector = new Vector<String>();\n",
    "vector.add(\"Sally\");\n",
    "vector.add(\"John\");\n",
    "vector.add(\"Jenny\");\n",
    "vector.add(\"Sam\");\n",
    "Iterator itr = linkedList.iterator();\n",
    "while(itr.hasNext()) {\n",
    "    System.out.println(itr.next());\n",
    "}\n",
    "\n",
    "Stack<String> stack = new Stack<String>();\n",
    "stack.push(\"Sally\");\n",
    "stack.push(\"John\");\n",
    "stack.push(\"Jenny\");\n",
    "stack.push(\"Sam\");\n",
    "Iterator itr = linkedList.iterator();\n",
    "while(itr.hasNext()) {\n",
    "    System.out.println(itr.next());\n",
    "}"
   ]
  },
  {
   "cell_type": "markdown",
   "metadata": {},
   "source": [
    "## Queue Interface\n",
    "* ```PriorityQueue<data-type>```\n",
    "* ```ArrayDeque<data-type>```"
   ]
  },
  {
   "cell_type": "code",
   "execution_count": null,
   "metadata": {},
   "outputs": [],
   "source": [
    "PriorityQueue<String> queue=new PriorityQueue<String>();\n",
    "queue.add(\"Joe\");\n",
    "queue.add(\"Mary\");\n",
    "queue.add(\"Eve\");\n",
    "\n",
    "???\n"
   ]
  },
  {
   "cell_type": "markdown",
   "metadata": {},
   "source": [
    "## Deque Interface\n",
    "* ```ArrayDeque<data-type>```"
   ]
  },
  {
   "cell_type": "code",
   "execution_count": null,
   "metadata": {},
   "outputs": [],
   "source": [
    "Deque<String> deque = new ArrayDeque<String>();\n",
    "deque.add(\"Joe\");\n",
    "deque.add(\"Mary\");\n",
    "deque.add(\"Eve\");\n",
    "\n",
    "???"
   ]
  },
  {
   "cell_type": "markdown",
   "metadata": {},
   "source": [
    "## Set Interface\n",
    "* ```HashSet<data-type>```\n",
    "* ```LinkedHashSet<data-type>```\n",
    "* ```TreeSet<data-type>```"
   ]
  },
  {
   "cell_type": "code",
   "execution_count": 20,
   "metadata": {},
   "outputs": [
    {
     "name": "stdout",
     "output_type": "stream",
     "text": [
      "Joe\n",
      "Eve\n",
      "Mary\n"
     ]
    }
   ],
   "source": [
    "HashSet<String> hashSet = new HashSet<String>();\n",
    "hashSet.add(\"Joe\");\n",
    "hashSet.add(\"Mary\");\n",
    "hashSet.add(\"Eve\");\n",
    "Iterator<String> itr = hashSet.iterator();  \n",
    "while(itr.hasNext()){  \n",
    "    System.out.println(itr.next());  \n",
    "}  "
   ]
  },
  {
   "cell_type": "code",
   "execution_count": null,
   "metadata": {},
   "outputs": [],
   "source": [
    "LinkedHashSet\n",
    "???"
   ]
  },
  {
   "cell_type": "code",
   "execution_count": null,
   "metadata": {},
   "outputs": [],
   "source": [
    "???"
   ]
  },
  {
   "cell_type": "code",
   "execution_count": null,
   "metadata": {},
   "outputs": [],
   "source": [
    "## SortedSet Interface"
   ]
  },
  {
   "cell_type": "code",
   "execution_count": null,
   "metadata": {},
   "outputs": [],
   "source": [
    "TreeSet\n",
    "???"
   ]
  }
 ],
 "metadata": {
  "kernelspec": {
   "display_name": "Java",
   "language": "java",
   "name": "java"
  },
  "language_info": {
   "codemirror_mode": "java",
   "file_extension": ".jshell",
   "mimetype": "text/x-java-source",
   "name": "Java",
   "pygments_lexer": "java",
   "version": "13.0.2+8"
  }
 },
 "nbformat": 4,
 "nbformat_minor": 4
}
