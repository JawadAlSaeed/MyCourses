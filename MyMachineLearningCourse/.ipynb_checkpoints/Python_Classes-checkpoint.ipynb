{
 "cells": [
  {
   "cell_type": "code",
   "execution_count": 3,
   "metadata": {},
   "outputs": [
    {
     "name": "stdout",
     "output_type": "stream",
     "text": [
      "---Class MyClass---\n",
      "A simple example class\n",
      "MyClass.i ->  12345\n",
      "MyClass.f ->  <function MyClass.f at 0x0000016874AC1950>\n"
     ]
    }
   ],
   "source": [
    "print('---Class MyClass---')\n",
    "class MyClass:\n",
    "    \"\"\"A simple example class\"\"\"\n",
    "    i = 12345\n",
    "    def f(self):\n",
    "        return 'hello world'\n",
    "print(MyClass.__doc__)\n",
    "print(\"MyClass.i -> \", MyClass.i)\n",
    "print(\"MyClass.f -> \", MyClass.f)"
   ]
  },
  {
   "cell_type": "code",
   "execution_count": 4,
   "metadata": {},
   "outputs": [
    {
     "name": "stdout",
     "output_type": "stream",
     "text": [
      "---Class Complex---\n",
      "re: 3.0 im: -4.5\n"
     ]
    }
   ],
   "source": [
    "print('---Class Complex---')\n",
    "class Complex:\n",
    "    def __init__(self, realpart, imagpart):\n",
    "        self.r = realpart\n",
    "        self.i = imagpart\n",
    "x = Complex(3.0, -4.5)\n",
    "print(\"re:\", x.r, \"im:\", x.i) # re: 3.0 im: -4.5"
   ]
  },
  {
   "cell_type": "code",
   "execution_count": 6,
   "metadata": {},
   "outputs": [
    {
     "name": "stdout",
     "output_type": "stream",
     "text": [
      "---Class Dog---\n",
      "Fido\n",
      "canine\n",
      "['roll over']\n",
      "Buddy\n",
      "canine\n",
      "['play dead', 'shake paw']\n"
     ]
    }
   ],
   "source": [
    "print('---Class Dog---')\n",
    "class Dog:\n",
    "    kind = 'canine'         # class variable shared by all instances\n",
    "    def __init__(self, name):\n",
    "        self.name = name    # instance variable unique to each instance\n",
    "        self.tricks = []    # creates a new empty list for each dog\n",
    "    def add_trick(self, trick):\n",
    "        self.tricks.append(trick)\n",
    "fido = Dog('Fido')\n",
    "print(fido.name)\n",
    "print(fido.kind)\n",
    "fido.add_trick('roll over')\n",
    "print(fido.tricks)\n",
    "buddy = Dog('Buddy')\n",
    "print(buddy.name)\n",
    "print(buddy.kind)\n",
    "buddy.add_trick('play dead')\n",
    "buddy.add_trick('shake paw')\n",
    "print(buddy.tricks)"
   ]
  },
  {
   "cell_type": "code",
   "execution_count": 4,
   "metadata": {},
   "outputs": [
    {
     "name": "stdout",
     "output_type": "stream",
     "text": [
      "---Class Inheritance---\n",
      "John Doe\n",
      "John Doe\n",
      "Welcome John Doe to the class of 2019\n"
     ]
    }
   ],
   "source": [
    "print('---Class Inheritance---')\n",
    "class Person:\n",
    "  def __init__(self, fname, lname):\n",
    "    self.firstname = fname\n",
    "    self.lastname = lname\n",
    "  def printname(self):\n",
    "    print(self.firstname, self.lastname)\n",
    "person = Person(\"John\", \"Doe\")\n",
    "person.printname() \n",
    "class Student(Person):\n",
    "  def __init__(self, fname, lname, year):\n",
    "    Person.__init__(self, fname, lname)\n",
    "    self.graduationyear = year\n",
    "  def welcome(self):\n",
    "    print(\"Welcome\",\n",
    "    self.firstname, self.lastname,\n",
    "    \"to the class of\", self.graduationyear)\n",
    "student = Student(\"John\", \"Doe\", 2019)\n",
    "student.printname()\n",
    "student.welcome()"
   ]
  },
  {
   "cell_type": "code",
   "execution_count": 3,
   "metadata": {},
   "outputs": [
    {
     "name": "stdout",
     "output_type": "stream",
     "text": [
      "---Abstract Base Classes (ABCs)---\n",
      "TypeError: Can't instantiate abstract class Concrete with abstract methods bar\n"
     ]
    }
   ],
   "source": [
    "print('---Abstract Base Classes (ABCs)---')\n",
    "\n",
    "# Abstract Base Classes (ABCs) ensure that derived classes implement\n",
    "# particular methods from the base class at instantiation time.\n",
    "# Using ABCs can help avoid bugs and make class hierarchies\n",
    "# easier to maintain.\n",
    "\n",
    "from abc import ABCMeta, abstractmethod\n",
    "\n",
    "class MyAbstractBaseClass(metaclass=ABCMeta):\n",
    "    @abstractmethod\n",
    "    def foo(self):\n",
    "        pass\n",
    "    @abstractmethod\n",
    "    def bar(self):\n",
    "        pass\n",
    "    \n",
    "class Concrete(MyAbstractBaseClass):\n",
    "    def foo(self):\n",
    "        pass\n",
    "    # We forget to declare bar()\n",
    "    #def bar(self):\n",
    "    #    pass\n",
    "\n",
    "try:\n",
    "    c = Concrete() #TypeError: Can't instantiate abstract class Concrete with abstract methods bar\n",
    "except:\n",
    "    print(\"TypeError: Can't instantiate abstract class Concrete with abstract methods bar\")"
   ]
  },
  {
   "cell_type": "code",
   "execution_count": null,
   "metadata": {},
   "outputs": [],
   "source": []
  }
 ],
 "metadata": {
  "kernelspec": {
   "display_name": "Python 3",
   "language": "python",
   "name": "python3"
  },
  "language_info": {
   "codemirror_mode": {
    "name": "ipython",
    "version": 3
   },
   "file_extension": ".py",
   "mimetype": "text/x-python",
   "name": "python",
   "nbconvert_exporter": "python",
   "pygments_lexer": "ipython3",
   "version": "3.7.6"
  }
 },
 "nbformat": 4,
 "nbformat_minor": 2
}
