{
 "cells": [
  {
   "cell_type": "markdown",
   "metadata": {},
   "source": [
    "# Data Types"
   ]
  },
  {
   "cell_type": "markdown",
   "metadata": {},
   "source": [
    "## Undefined Data Type"
   ]
  },
  {
   "cell_type": "code",
   "execution_count": 49,
   "metadata": {},
   "outputs": [
    {
     "name": "stdout",
     "output_type": "stream",
     "text": [
      "Uninitialized undefined undefined\n"
     ]
    }
   ],
   "source": [
    "{\n",
    "let x;  // undefined (means uninitialized)\n",
    "console.log(\"Uninitialized\", x, typeof x);\n",
    "}"
   ]
  },
  {
   "cell_type": "markdown",
   "metadata": {},
   "source": [
    "## Null Data Type"
   ]
  },
  {
   "cell_type": "code",
   "execution_count": 69,
   "metadata": {},
   "outputs": [
    {
     "name": "stdout",
     "output_type": "stream",
     "text": [
      "null null object\n"
     ]
    }
   ],
   "source": [
    "{\n",
    "x = null; // null literal (refers to nothing)\n",
    "console.log(\"null\", x, typeof x);\n",
    "}"
   ]
  },
  {
   "cell_type": "markdown",
   "metadata": {},
   "source": [
    "## Number Data Type"
   ]
  },
  {
   "cell_type": "code",
   "execution_count": 70,
   "metadata": {},
   "outputs": [
    {
     "name": "stdout",
     "output_type": "stream",
     "text": [
      "Number 42 number\n",
      "Number.MAX_SAFE_INTEGER 9007199254740991 number\n",
      "Number.MIN_SAFE_INTEGER -9007199254740991 number\n",
      "Number 3.5 number\n",
      "Number.EPSILON 2.220446049250313e-16 number\n",
      "Avogadro Number 6.02214076e+23 number\n",
      "Planck Length 1.616255e-35 number\n",
      "\n",
      "true\n",
      "false\n",
      "\n",
      "2.7755575615628914e-17\n",
      "true\n",
      "\n",
      "0/0 Infinity number\n",
      "NaN literal NaN number\n",
      "0/0 NaN number\n"
     ]
    }
   ],
   "source": [
    "{\n",
    "x = 42; // 64-bit floating point IEE 754 number\n",
    "console.log(\"Number\", x, typeof x);\n",
    "x = Number.MAX_SAFE_INTEGER;\n",
    "console.log(\"Number.MAX_SAFE_INTEGER\", x, typeof x);\n",
    "x = Number.MIN_SAFE_INTEGER;\n",
    "console.log(\"Number.MIN_SAFE_INTEGER\", x, typeof x);\n",
    "x = 3.5;  // 64-bit floating point IEE 754 number\n",
    "console.log(\"Number\", x, typeof x);\n",
    "x = Number.EPSILON\n",
    "console.log(\"Number.EPSILON\", x, typeof x);\n",
    "x = 6.02214076E23// Avogadro constant = 6.02214076×10²³\n",
    "console.log(\"Avogadro Number\", x, typeof x);\n",
    "x = 1.616255E-35 // Planck length = 1.616255×10⁻³⁵ m\n",
    "console.log(\"Planck Length\", x, typeof x);\n",
    "console.log()\n",
    "    \n",
    "console.log(0.1 + 0.1 === 0.2) // true\n",
    "console.log(0.1 + 0.2 === 0.3) // false\n",
    "console.log()\n",
    "\n",
    "const result = Math.abs(0.2 - 0.3 + 0.1); // would be zero if there were no roundoff error\n",
    "console.log(result); // expected output: 2.7755575615628914e-17\n",
    "console.log(result < Number.EPSILON); // true\n",
    "console.log()\n",
    "x = 1.0/0; // non-zero divided by Zero is Infinity\n",
    "console.log(\"0/0\", x, typeof x);\n",
    "x = NaN; // NaN literal\n",
    "console.log(\"NaN literal\", x, typeof x);\n",
    "x = 0/0; // zer0 divided by Zero is NaN\n",
    "console.log(\"0/0\", x, typeof x);\n",
    "}"
   ]
  },
  {
   "cell_type": "markdown",
   "metadata": {},
   "source": [
    "## String"
   ]
  },
  {
   "cell_type": "code",
   "execution_count": 71,
   "metadata": {},
   "outputs": [
    {
     "name": "stdout",
     "output_type": "stream",
     "text": [
      "\"Hello\" Hello string\n",
      "'Hello' Hello string\n",
      "`Hello` Hello string\n"
     ]
    }
   ],
   "source": [
    "{\n",
    "x = \"Hello\";\n",
    "console.log('\"Hello\"', x, typeof x);\n",
    "x = 'Hello';\n",
    "console.log(\"'Hello'\", x, typeof x);\n",
    "x = `Hello`;\n",
    "console.log(\"`Hello`\", x, typeof x);\n",
    "}"
   ]
  },
  {
   "cell_type": "markdown",
   "metadata": {},
   "source": [
    "## Boolean Data Type"
   ]
  },
  {
   "cell_type": "code",
   "execution_count": 72,
   "metadata": {},
   "outputs": [
    {
     "name": "stdout",
     "output_type": "stream",
     "text": [
      "Boolean true boolean\n",
      "Boolean false boolean\n",
      "Boolean true boolean\n",
      "Boolean false boolean\n"
     ]
    }
   ],
   "source": [
    "{\n",
    "x = true;  // boolean true literal\n",
    "console.log(\"Boolean\", x, typeof x);\n",
    "x = false; // boolean false literal\n",
    "console.log(\"Boolean\", x, typeof x);\n",
    "x = 1 === 1;  // boolean true expression\n",
    "console.log(\"Boolean\", x, typeof x);\n",
    "x = 1 === 2; // boolean false expression\n",
    "console.log(\"Boolean\", x, typeof x);\n",
    "}"
   ]
  },
  {
   "cell_type": "markdown",
   "metadata": {},
   "source": [
    "## Object Data Type"
   ]
  },
  {
   "cell_type": "code",
   "execution_count": 76,
   "metadata": {},
   "outputs": [
    {
     "name": "stdout",
     "output_type": "stream",
     "text": [
      "Object literal { red: 255, green: 0, blue: 0 } object\n",
      "Object literal { red: 255, green: 0, blue: 0, alpha: 127 } object\n"
     ]
    }
   ],
   "source": [
    "{\n",
    "x = {red: 255, green: 0, blue: 0};\n",
    "console.log(\"Object literal\", x, typeof x);\n",
    "x.alpha = 0x7F;\n",
    "console.log(\"Object literal\", x, typeof x);\n",
    "}"
   ]
  },
  {
   "cell_type": "markdown",
   "metadata": {},
   "source": [
    "## Array Data Type"
   ]
  },
  {
   "cell_type": "code",
   "execution_count": 77,
   "metadata": {},
   "outputs": [
    {
     "name": "stdout",
     "output_type": "stream",
     "text": [
      "Array literal [ 1, 2 ] object\n"
     ]
    }
   ],
   "source": [
    "{\n",
    "x = [1, 2];\n",
    "console.log(\"Array literal\", x, typeof x);\n",
    "}"
   ]
  },
  {
   "cell_type": "markdown",
   "metadata": {},
   "source": [
    "## Function Data Type"
   ]
  },
  {
   "cell_type": "code",
   "execution_count": 78,
   "metadata": {},
   "outputs": [
    {
     "name": "stdout",
     "output_type": "stream",
     "text": [
      "Named function Hello World! function\n",
      "Lambda function 7 function\n"
     ]
    }
   ],
   "source": [
    "{\n",
    "x = function() { \n",
    "    return \"Hello World!\"; \n",
    "}\n",
    "console.log(\"Named function\", x(), typeof x);\n",
    "\n",
    "x = (a, b) => a + b;\n",
    "console.log(\"Lambda function\", x(3, 4), typeof x);\n",
    "}"
   ]
  },
  {
   "cell_type": "code",
   "execution_count": null,
   "metadata": {},
   "outputs": [],
   "source": []
  }
 ],
 "metadata": {
  "kernelspec": {
   "display_name": "Javascript (Node.js)",
   "language": "javascript",
   "name": "javascript"
  },
  "language_info": {
   "file_extension": ".js",
   "mimetype": "application/javascript",
   "name": "javascript",
   "version": "10.13.0"
  }
 },
 "nbformat": 4,
 "nbformat_minor": 4
}
