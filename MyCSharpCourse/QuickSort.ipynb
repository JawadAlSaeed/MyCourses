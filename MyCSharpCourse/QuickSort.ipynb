{
 "cells": [
  {
   "cell_type": "markdown",
   "metadata": {},
   "source": [
    "# Quick Sort\n",
    "\n",
    "See: https://en.wikipedia.org/wiki/Quicksort\n",
    "\n",
    "Quicksort splits the original list into two sub-lists and then recursively sorts each of the sub-lists.\n",
    "\n",
    "1. Choose pivot element in list (can be middle index element).\n",
    "2. Reorder list so that all elements with values less than the pivot value come before the pivot and all elements with values greater than the pivot value come after the pivot. Equal values can go either way.\n",
    "3. Recursively apply above steps to the sub-list of elements with smaller values and separately the sub-list of elements with greater values.\n",
    "\n",
    "Quicksort is an efficient divide-and-conquer algorithm. \n",
    "\n",
    "* Space Complexity: $O(1)$\n",
    "* Time Complexity: $O(n·log(n))$, $O(n·log(n))$, $O(n^2)$ for Best, Average and Worst cases respectively."
   ]
  },
  {
   "cell_type": "code",
   "execution_count": 1,
   "metadata": {},
   "outputs": [
    {
     "name": "stdout",
     "output_type": "stream",
     "text": [
      "1, 2, 3, 4, 5, 6, 7, 8, 9 <- input\n",
      "1, 2, 3, 4, 5, 6, 7, 8, 9 <- output\n",
      "\n",
      "9, 8, 7, 6, 5, 4, 3, 2, 1 <- input\n",
      "1, 2, 3, 4, 5, 6, 7, 8, 9 <- output\n",
      "\n",
      "2, 8, 4, 6, 5, 99, 12, 7, 53 <- input\n",
      "2, 4, 5, 6, 7, 8, 12, 53, 99 <- output\n",
      "\n",
      "77, 70, 75, 24, 13, 89, 12, 50, 95, 35, 9, 90, 23, 7, 15 <- input\n",
      "7, 9, 12, 13, 15, 23, 24, 35, 50, 70, 75, 77, 89, 90, 95 <- output\n",
      "\n"
     ]
    }
   ],
   "source": [
    "void quickSort(int[] data_array, int start, int end) { // sort in ascending order\n",
    "    // start is left index and end is right index of sub-array\n",
    "    if (start < end) {\n",
    "        int splitPoint = partition(data_array, start, end);\n",
    "        quickSort(data_array, start, splitPoint - 1);\n",
    "        quickSort(data_array, splitPoint + 1, end);\n",
    "    }\n",
    "}\n",
    "\n",
    "int partition(int[] data_array, int start, int end) {\n",
    "    int pivotValue = data_array[end];\n",
    "    int i = start;\n",
    "    for (int j = start; j < end; j++) {\n",
    "        if (data_array[j] < pivotValue) {\n",
    "            swap(data_array, i, j);\n",
    "            i++;\n",
    "        }\n",
    "    }\n",
    "    swap(data_array, i, end);\n",
    "    return i;\n",
    "}\n",
    "\n",
    "void swap(int[] data_array, int j, int k) {\n",
    "    int temp = data_array[j];\n",
    "    data_array[j] = data_array[k];\n",
    "    data_array[k] = temp;\n",
    "}\n",
    "\n",
    "int[] data_array = new int[] {1, 2, 3, 4, 5, 6, 7, 8, 9};\n",
    "Console.WriteLine(String.Join(\", \", data_array) + \" <- input\");\n",
    "quickSort(data_array, 0, data_array.Length - 1);\n",
    "Console.WriteLine(String.Join(\", \", data_array) + \" <- output\\n\");\n",
    "\n",
    "data_array = new int[]{9, 8, 7, 6, 5, 4, 3, 2, 1};\n",
    "Console.WriteLine(String.Join(\", \", data_array) + \" <- input\");\n",
    "quickSort(data_array, 0, data_array.Length - 1);\n",
    "Console.WriteLine(String.Join(\", \", data_array) + \" <- output\\n\");\n",
    "\n",
    "data_array = new int[]{2, 8, 4,  6, 5, 99, 12, 7, 53};\n",
    "Console.WriteLine(String.Join(\", \", data_array) + \" <- input\");\n",
    "quickSort(data_array, 0, data_array.Length - 1);\n",
    "Console.WriteLine(String.Join(\", \", data_array) + \" <- output\\n\");\n",
    "\n",
    "data_array = new int[15];\n",
    "Random rand = new Random();\n",
    "for(int i=0; i < 15; i++) {\n",
    "    data_array[i] = (int)(rand.Next(1, 100));\n",
    "}\n",
    "Console.WriteLine(String.Join(\", \", data_array) + \" <- input\");\n",
    "quickSort(data_array, 0, data_array.Length - 1);\n",
    "Console.WriteLine(String.Join(\", \", data_array) + \" <- output\\n\");"
   ]
  },
  {
   "cell_type": "code",
   "execution_count": null,
   "metadata": {},
   "outputs": [],
   "source": []
  }
 ],
 "metadata": {
  "kernelspec": {
   "display_name": ".NET (C#)",
   "language": "C#",
   "name": ".net-csharp"
  },
  "language_info": {
   "file_extension": ".cs",
   "mimetype": "text/x-csharp",
   "name": "C#",
   "pygments_lexer": "csharp",
   "version": "8.0"
  }
 },
 "nbformat": 4,
 "nbformat_minor": 4
}
