{
 "cells": [
  {
   "cell_type": "markdown",
   "metadata": {},
   "source": [
    "# Functions\n",
    "\n",
    "* Can be defined with the ```function``` keyword (named or anonymous)\n",
    "* Can be defined using arrow function syntax (ES2015)\n",
    "* Set of statements that perform a task and/or returns a result\n",
    "* If no return statement is executed then function returns ```undefined``` by default\n",
    "* May be named using any valid identifier but usually camel-case naming convention is used\n",
    "* A function is an object that can assign to a variable, passed as an argument, or returned from a function call\n",
    "* To call a function it must bew defined in the scope from which it is called\n",
    "* Can be declared to receive any number of parameters\n",
    "* Can be called with any number of arguments\n",
    "* Receives an array-like variable named arguments that contain all arguments actually passed in\n",
    "* Parameters can be defined with default values (ES2015)\n",
    "* Variable scope and hoisting can be controlled with ```val```, ```let```, ```const```, and ```'use strict';```\n",
    "* The ```this``` keyword behaves a bit differently compared to other languages\n",
    "* The ```yield``` keyword is used in to pause and resume a generator function"
   ]
  },
  {
   "cell_type": "code",
   "execution_count": 54,
   "metadata": {},
   "outputs": [
    {
     "name": "stdout",
     "output_type": "stream",
     "text": [
      "25\n",
      "7\n",
      "12\n",
      "7\n",
      "12\n",
      "0.75\n"
     ]
    }
   ],
   "source": [
    "{\n",
    "    function square(a) {                         // named function\n",
    "      return a*a;\n",
    "    }\n",
    "    console.log(square(5));                      // 25\n",
    "\n",
    "    let add = function (a, b) {                  // anonymous function object assigned to variable\n",
    "        return a+b;\n",
    "    }\n",
    "    console.log(add(3, 4));                      // 7\n",
    "\n",
    "    let multiply = (a, b) => a*b;                // anonymous arrow function syntax\n",
    "    console.log(multiply(3, 4));                 // 12\n",
    "    \n",
    "    function callCallback(callback, a, b) {      // function parameter\n",
    "        return callback(a, b);\n",
    "    }\n",
    "    console.log(callCallback(add, 3, 4));        // 7\n",
    "    console.log(callCallback(multiply, 3, 4));   // 12\n",
    "    console.log(callCallback((x,y)=>x/y, 3, 4)); // 0.75\n",
    "}"
   ]
  },
  {
   "cell_type": "markdown",
   "metadata": {},
   "source": [
    "## The ```arguments``` object\n",
    "\n",
    "* Array-like object accessible inside all non-arrow functions\n",
    "* Contains all argument values passed in to the function call\n",
    "* Allows more or fewer arguments to be passed in than indicated by the declared received parameters\n",
    "* Not a true ```Array``` (lacks all ```Array``` members except ```length```)\n",
    "* Can be converted to a real ```Array```: ```Array.from(arguments)```\n",
    "* ```Array.isArray()``` method determines whether an object is an actual ```Array```"
   ]
  },
  {
   "cell_type": "code",
   "execution_count": 5,
   "metadata": {},
   "outputs": [
    {
     "name": "stdout",
     "output_type": "stream",
     "text": [
      "1 1\n",
      "2 2\n",
      "3 3\n",
      "4\n",
      "object\n",
      "false\n",
      "object\n",
      "true\n",
      "\n",
      "object\n",
      "false\n",
      "6\n",
      "\n",
      "10\n",
      "20\n",
      "object\n",
      "true\n",
      "6\n"
     ]
    }
   ],
   "source": [
    "{\n",
    "    function argumentsFunction(a, b, c) {      // recieve 3 parameters\n",
    "        console.log(a, arguments[0]);          // 1\n",
    "        console.log(b, arguments[1]);          // 2\n",
    "        console.log(c, arguments[2]);          // 3\n",
    "        console.log(arguments[3]);             // 4\n",
    "        console.log(typeof arguments);         // object\n",
    "        console.log(Array.isArray(arguments)); // false\n",
    "        let argsArray = Array.from(arguments);\n",
    "        console.log(typeof argsArray);         // object\n",
    "        console.log(Array.isArray(argsArray)); // true\n",
    "    }\n",
    "    argumentsFunction(1, 2, 3, 4);             // pass 4 arguments\n",
    "    console.log();\n",
    "\n",
    "    function argumentsSum() {\n",
    "        console.log(typeof arguments);         // object\n",
    "        console.log(Array.isArray(arguments)); // false\n",
    "        let sum = 0;\n",
    "        for (index in arguments) {\n",
    "            sum += arguments[index];\n",
    "        }\n",
    "        return sum;\n",
    "    }\n",
    "    let sum = argumentsSum(1, 2, 3);\n",
    "    console.log(sum);        // 6\n",
    "    console.log();\n",
    "\n",
    "    function variadicFunction(a, b, ...argsArray) {\n",
    "        console.log(a);                        // 10\n",
    "        console.log(b);                        // 20\n",
    "        console.log(typeof argsArray);         // object\n",
    "        console.log(Array.isArray(argsArray)); // true\n",
    "        let sum = 0;\n",
    "        for (index in argsArray) {\n",
    "            sum += argsArray[index];\n",
    "        }\n",
    "        return sum;\n",
    "    }\n",
    "    console.log(variadicFunction(10, 20, 1, 2, 3)); // 6\n",
    "}"
   ]
  },
  {
   "cell_type": "markdown",
   "metadata": {},
   "source": [
    "## Default Parameters (ES2015)\n",
    "\n",
    "```\n",
    "function [name]([param1[ = defaultValue1 ][, ..., paramN[ = defaultValueN ]]]) {\n",
    "   statements\n",
    "}\n",
    "```"
   ]
  },
  {
   "cell_type": "code",
   "execution_count": 55,
   "metadata": {},
   "outputs": [
    {
     "name": "stdout",
     "output_type": "stream",
     "text": [
      "10\n",
      "10\n",
      "5\n",
      "NaN\n"
     ]
    }
   ],
   "source": [
    "{\n",
    "    function multiply(a, b = 1) {\n",
    "        return a * b;\n",
    "    }\n",
    "    console.log(multiply(5, 2, 10)); // output: 10\n",
    "    console.log(multiply(5, 2));     // output: 10\n",
    "    console.log(multiply(5));        // output: 5\n",
    "    console.log(multiply());         // output: NaN\n",
    "}"
   ]
  },
  {
   "cell_type": "markdown",
   "metadata": {},
   "source": [
    "## Arrow Functions and Function Objects\n",
    "\n",
    "- Arrow functions provide a short syntax to define a function as an expression\n",
    "- Arrow functions do not have their own ```this```, ```arguments```, ```super```, or ```new.target```"
   ]
  },
  {
   "cell_type": "code",
   "execution_count": 7,
   "metadata": {},
   "outputs": [
    {
     "name": "stdout",
     "output_type": "stream",
     "text": [
      "[ 7, 5, 5, 4 ]\n"
     ]
    }
   ],
   "source": [
    "var materials = [\n",
    "  'murcury',\n",
    "  'venus',\n",
    "  'earth',\n",
    "  'mars'\n",
    "];\n",
    "console.log(materials.map(material => material.length)); // output: Array [ 7, 5, 5, 4 ]"
   ]
  },
  {
   "cell_type": "markdown",
   "metadata": {},
   "source": [
    "## The ```this``` Keyword\n",
    "\n",
    "* The ```this``` keyword is different from many other languages\n",
    "* It behaves differently depending on whether strict mode or non-strict mode is in effect\n",
    "* The value of ```this``` is usually determined by how a function is called (runtime binding)\n",
    "* The value of ```this``` cannot be assigned (immutable)\n",
    "* Set the value of ```this``` to a particular value by calling ```call()``` or ```apply()```\n",
    "* ES5 introduced ```bind()``` to set value of this regardless of how function called\n",
    "* ES2015 introduced arrow functions which don't provide their own this binding (uses enclosing lexical context)"
   ]
  },
  {
   "cell_type": "code",
   "execution_count": 23,
   "metadata": {},
   "outputs": [
    {
     "name": "stdout",
     "output_type": "stream",
     "text": [
      "{ prop: 42, method: [Function: method] }\n",
      "42\n",
      "undefined\n"
     ]
    }
   ],
   "source": [
    "{\n",
    "    const obj = {\n",
    "        prop: 42,\n",
    "        method: function() {\n",
    "            return this.prop;\n",
    "        }\n",
    "    };\n",
    "    console.log(obj);           // { prop: 42, method: [Function: method] }\n",
    "    console.log(obj.method());  // 42\n",
    "    let m = obj.method;\n",
    "    console.log(m());           // undefined\n",
    "}"
   ]
  },
  {
   "cell_type": "markdown",
   "metadata": {},
   "source": [
    "In strict mode, however, if the value of this is not set when entering an execution context, it remains as undefined, "
   ]
  },
  {
   "cell_type": "code",
   "execution_count": 22,
   "metadata": {},
   "outputs": [
    {
     "name": "stdout",
     "output_type": "stream",
     "text": [
      "true\n"
     ]
    }
   ],
   "source": [
    "{\n",
    "    function f1() {\n",
    "        return this;\n",
    "    }\n",
    "    f1() === global; // true (in Node) \n",
    "    //f1() === window; // true (in browser)\n",
    "    \n",
    "    function f2() {\n",
    "        'use strict';\n",
    "        return this;\n",
    "    }\n",
    "    console.log(f2() === undefined); // true\n",
    "}"
   ]
  },
  {
   "cell_type": "markdown",
   "metadata": {},
   "source": [
    "## The ```Function.prototype.apply()``` Function\n",
    "\n",
    "```func.apply(thisArg, [ argsArray])```\n",
    "* The ```thisArg``` argument is the value of ```this``` provided for the call to func\n",
    "* The ```argsArray``` optional argument is an array-like object specifying the arguments to be applied (if any)"
   ]
  },
  {
   "cell_type": "code",
   "execution_count": 50,
   "metadata": {},
   "outputs": [
    {
     "name": "stdout",
     "output_type": "stream",
     "text": [
      "Ms. Sally Jones 73\n",
      "Mr. Joe Smith 92\n",
      "undefined undefined undefined undefined\n"
     ]
    }
   ],
   "source": [
    "{\n",
    "    function greet(title) {\n",
    "        console.log(title, this.firstName, this.lastName, this.age);\n",
    "    }\n",
    "    const sally = {\n",
    "        firstName: 'Sally', lastName: 'Jones', age: 73\n",
    "    };\n",
    "    greet.apply(sally, [\"Ms.\"]);  // Ms. Sally Jones 73\n",
    "    const joe = {\n",
    "        firstName: 'Joe', lastName: 'Smith', age: 92\n",
    "    };\n",
    "    greet.apply(joe, [\"Mr.\"]);    // MMr. Joe Smith 92\n",
    "    greet()                       // undefined undefined undefined undefined\n",
    "}"
   ]
  },
  {
   "cell_type": "code",
   "execution_count": 27,
   "metadata": {},
   "outputs": [
    {
     "name": "stdout",
     "output_type": "stream",
     "text": [
      "7\n",
      "2\n",
      "[ 'a', 'b', 0, 1, 2 ]\n"
     ]
    }
   ],
   "source": [
    "{\n",
    "    const numbers = [5, 6, 2, 3, 7];\n",
    "    const max = Math.max.apply(null, numbers);\n",
    "    console.log(max);                           // 7\n",
    "    const min = Math.min.apply(null, numbers);\n",
    "    console.log(min);                           // 2\n",
    "\n",
    "    const array = ['a', 'b'];\n",
    "    const elements = [0, 1, 2];\n",
    "    array.push.apply(array, elements);\n",
    "    console.info(array);                        // [ 'a', 'b', 0, 1, 2 ]\n",
    "}"
   ]
  },
  {
   "cell_type": "markdown",
   "metadata": {},
   "source": [
    "## The ```Function.prototype.call()``` Function\n",
    "\n",
    "* Similar to ```apply()``` but ```call()``` accepts an argument list, while ```apply()``` accepts a single array of arguments\n",
    "\n",
    "```func.call([thisArg[, arg1, arg2, ...argN]])```\n",
    "\n",
    "* ```thisArg``` is an optional value to use as this when calling func\n",
    "* arg1, arg2, ...argN are the optional arguments for the function"
   ]
  },
  {
   "cell_type": "code",
   "execution_count": 47,
   "metadata": {},
   "outputs": [
    {
     "name": "stdout",
     "output_type": "stream",
     "text": [
      "Ms. Sally Jones 73\n",
      "Mr. Joe Smith 92\n",
      "undefined undefined undefined undefined\n"
     ]
    }
   ],
   "source": [
    "{\n",
    "    function greet(title) {\n",
    "        console.log(title, this.firstName, this.lastName, this.age);\n",
    "    }\n",
    "    const sally = {\n",
    "        firstName: 'Sally', lastName: 'Jones', age: 73\n",
    "    };\n",
    "    greet.call(sally, \"Ms.\");  // Ms. Sally Jones 73\n",
    "    const joe = {\n",
    "        firstName: 'Joe', lastName: 'Smith', age: 92\n",
    "    };\n",
    "    greet.call(joe, \"Mr.\");   // Mr. Joe Smith 92\n",
    "    greet()                   // undefined undefined undefined undefined\n",
    "}"
   ]
  },
  {
   "cell_type": "markdown",
   "metadata": {},
   "source": [
    "## The ```Function.prototype.bind()``` Function\n",
    "\n",
    "* Creates a new function that (when called) has ```this``` set to the specified object\n",
    "* A sequence of optional arguments can be prepended to arguments provided the newly-bound function\n",
    "\n",
    "```let boundFunc = func.bind(thisArg[, arg1[, arg2[, ...argN]]])```\n",
    "\n",
    "* ```thisArg``` is the value to be passed as the this parameter to the target function when the bound function is called\n",
    "* ```arg1, arg2, ...argN``` optional arguments to prepend to arguments provided to the bound function when function is called"
   ]
  },
  {
   "cell_type": "code",
   "execution_count": 52,
   "metadata": {},
   "outputs": [
    {
     "name": "stdout",
     "output_type": "stream",
     "text": [
      "undefined\n",
      "10\n"
     ]
    }
   ],
   "source": [
    "{\n",
    "    const obj = {\n",
    "        x: 10,\n",
    "        getX: function() {\n",
    "            return this.x;\n",
    "        }\n",
    "    };\n",
    "\n",
    "    const unboundGetX = obj.getX;\n",
    "    console.log(unboundGetX()); // undefined\n",
    "\n",
    "    const boundGetX = unboundGetX.bind(obj);\n",
    "    console.log(boundGetX());      // 10\n",
    "}"
   ]
  },
  {
   "cell_type": "markdown",
   "metadata": {},
   "source": [
    "## Iterators and  Generators\n",
    "\n",
    "See: https://developer.mozilla.org/en-US/docs/Web/JavaScript/Guide/Iterators_and_Generators\n",
    "\n",
    "* xxx"
   ]
  },
  {
   "cell_type": "code",
   "execution_count": 8,
   "metadata": {},
   "outputs": [
    {
     "name": "stdout",
     "output_type": "stream",
     "text": [
      "0\n",
      "1\n",
      "4\n",
      "9\n",
      "16\n",
      "undefined\n",
      "[ 0, 1, 4, 9, 16 ]\n",
      "[ 0, 1, 1, 2, 3, 5, 8, 13, 21, 34 ]\n"
     ]
    }
   ],
   "source": [
    "{\n",
    "    function * squares(index) {\n",
    "        while (index < 5) {\n",
    "            yield index*index;\n",
    "            index++;\n",
    "        }\n",
    "    }\n",
    "    const iterator = squares(0);\n",
    "    console.log(iterator.next().value);              // 0\n",
    "    console.log(iterator.next().value);              // 1\n",
    "    console.log(iterator.next().value);              // 4\n",
    "    console.log(iterator.next().value);              // 9\n",
    "    console.log(iterator.next().value);              // 16\n",
    "    console.log(iterator.next().value);              // undefined\n",
    "    \n",
    "    let items = [];\n",
    "    for (item of squares(0)) {\n",
    "        items.push(item);\n",
    "    }\n",
    "    console.log(items);                             // [ 0, 1, 4, 9, 16 ]\n",
    "\n",
    "    function * fibonacci(n) {\n",
    "        const infinite = !n && n !== 0;\n",
    "        let current = 0;\n",
    "        let next = 1;\n",
    "\n",
    "        while (infinite || n--) {\n",
    "        yield current;\n",
    "        [current, next] = [next, current + next];\n",
    "        }\n",
    "    }\n",
    "    let [...first10] = fibonacci(10);\n",
    "    console.log(first10);                          // [ 0, 1, 1, 2, 3, 5, 8, 13, 21, 34 ]\n",
    "}"
   ]
  },
  {
   "cell_type": "code",
   "execution_count": null,
   "metadata": {},
   "outputs": [],
   "source": []
  }
 ],
 "metadata": {
  "kernelspec": {
   "display_name": "Javascript (Node.js)",
   "language": "javascript",
   "name": "javascript"
  },
  "language_info": {
   "file_extension": ".js",
   "mimetype": "application/javascript",
   "name": "javascript",
   "version": "10.13.0"
  }
 },
 "nbformat": 4,
 "nbformat_minor": 2
}
