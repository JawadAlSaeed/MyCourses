{
 "cells": [
  {
   "cell_type": "code",
   "execution_count": 1,
   "metadata": {},
   "outputs": [
    {
     "name": "stdout",
     "output_type": "stream",
     "text": [
      "Sally\n"
     ]
    }
   ],
   "source": [
    "function returnFunction() {\n",
    "  var name = 'Sally';\n",
    "  function innerFunction() {\n",
    "    console.log(name);\n",
    "  }\n",
    "  return innerFunction;\n",
    "}\n",
    "\n",
    "var myFunction = returnFunction();\n",
    "myFunction();"
   ]
  },
  {
   "cell_type": "code",
   "execution_count": 2,
   "metadata": {},
   "outputs": [
    {
     "name": "stdout",
     "output_type": "stream",
     "text": [
      "3\n",
      "10\n",
      "20\n"
     ]
    }
   ],
   "source": [
    "function getAdder() {\n",
    "  var sum = 0;\n",
    "  function add(num) {\n",
    "    sum += num\n",
    "      return sum;\n",
    "  }\n",
    "  return add;\n",
    "}\n",
    "\n",
    "var add = getAdder();\n",
    "console.log(add(3));\n",
    "console.log(add(7));\n",
    "console.log(add(10));"
   ]
  },
  {
   "cell_type": "markdown",
   "metadata": {},
   "source": [
    "## Immediately Invoked Function Expressions (IIFEs)\n",
    "\n",
    "See: https://developer.mozilla.org/en-US/docs/Glossary/IIFE\n",
    "\n",
    "- IIFE were used in ES5 to simulate local scope\n",
    "- IIFE is a function that runs immediately as it is defined (self-executing anonymous function)\n",
    "- IIFEs avoid pollution of the global object\n",
    "- No longer much use in ES6"
   ]
  },
  {
   "cell_type": "code",
   "execution_count": 10,
   "metadata": {},
   "outputs": [
    {
     "name": "stdout",
     "output_type": "stream",
     "text": [
      "Sally\n",
      "Sally\n"
     ]
    }
   ],
   "source": [
    "// ES6 usage\n",
    "(function () { \n",
    "    var name = \"Sally\";\n",
    "    // Variable name is accessible inside function scope\n",
    "    console.log(name);\n",
    "})();\n",
    "\n",
    "// Variable name is not accessible outside function scope\n",
    "//console.log(name); // ReferenceError: name is not defined\n",
    "\n",
    "// ES6 introduced block scope (let and const), so IIFE can be replaced with:\n",
    "{\n",
    "    let name = \"Sally\";\n",
    "    // Variable name is accessible inside block scope\n",
    "    console.log(name);\n",
    "}\n",
    "// Variable name is not accessible outside block scope\n",
    "//console.log(name); // ReferenceError: name is not defined"
   ]
  },
  {
   "cell_type": "code",
   "execution_count": 8,
   "metadata": {},
   "outputs": [
    {
     "name": "stdout",
     "output_type": "stream",
     "text": [
      "0\n",
      "2\n",
      "1\n",
      "1\n",
      "\n",
      "0\n",
      "2\n",
      "1\n",
      "42\n"
     ]
    }
   ],
   "source": [
    "{\n",
    "// An ES5 IIFE example simulating an object\n",
    "var counter = (function() {\n",
    "  var privateCounter = 0;\n",
    "  return {\n",
    "    increment: function() {\n",
    "      privateCounter += 1;\n",
    "    },\n",
    "    decrement: function() {\n",
    "      privateCounter -= 1;\n",
    "    },\n",
    "    value: function() {\n",
    "      return privateCounter;\n",
    "    }\n",
    "  };   \n",
    "})();\n",
    "\n",
    "console.log(counter.value());      // 0\n",
    "counter.increment();\n",
    "counter.increment();\n",
    "console.log(counter.value());      // 2\n",
    "counter.decrement();\n",
    "console.log(counter.value());      // 1\n",
    "    \n",
    "counter.privateCounter = 42;       // actually private !\n",
    "console.log(counter.value());      // 1 (unchanged!)\n",
    "}\n",
    "\n",
    "console.log();\n",
    "\n",
    "{\n",
    "// Similar example of an object in modern ES6 code\n",
    "class Counter {\n",
    "    constructor() {\n",
    "        this._privateCounter = 0; // ES6 -> still no perfect way to do private fields!!!\n",
    "    }\n",
    "    increment() {\n",
    "        this._privateCounter += 1;\n",
    "    }\n",
    "    decrement() {\n",
    "        this._privateCounter -= 1;\n",
    "    }\n",
    "    value() {\n",
    "        return this._privateCounter;\n",
    "    }\n",
    "}\n",
    "let counter = new Counter();\n",
    "console.log(counter.value());      // 0\n",
    "counter.increment();\n",
    "counter.increment();\n",
    "console.log(counter.value());      // 2\n",
    "counter.decrement();\n",
    "console.log(counter.value());      // 1\n",
    "\n",
    "counter._privateCounter = 42;      // not actually all that private !!!\n",
    "console.log(counter.value());      // 42\n",
    "}"
   ]
  },
  {
   "cell_type": "code",
   "execution_count": null,
   "metadata": {},
   "outputs": [],
   "source": []
  }
 ],
 "metadata": {
  "kernelspec": {
   "display_name": "Javascript (Node.js)",
   "language": "javascript",
   "name": "javascript"
  },
  "language_info": {
   "file_extension": ".js",
   "mimetype": "application/javascript",
   "name": "javascript",
   "version": "10.13.0"
  }
 },
 "nbformat": 4,
 "nbformat_minor": 2
}
