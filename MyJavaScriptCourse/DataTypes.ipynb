{
 "cells": [
  {
   "cell_type": "markdown",
   "metadata": {},
   "source": [
    "# Data Types\n",
    "\n",
    "* The ```undefined``` Value\n",
    "* The ```null``` Value\n",
    "* Dynamic Typing\n",
    "* Number Type (immutable)\n",
    "* String Type (immutable)\n",
    "* Boolean Type (immutable)\n",
    "* Date Type\n",
    "* Array Type\n",
    "* Function Type\n",
    "* Object Literals\n",
    "* Enhanced Object literals\n",
    "* Symbol Type (immutable)\n",
    "* BigInt Type (immutable)"
   ]
  },
  {
   "cell_type": "markdown",
   "metadata": {},
   "source": [
    "## The ```undefined``` Value"
   ]
  },
  {
   "cell_type": "code",
   "execution_count": 49,
   "metadata": {},
   "outputs": [
    {
     "name": "stdout",
     "output_type": "stream",
     "text": [
      "Uninitialized undefined undefined\n"
     ]
    }
   ],
   "source": [
    "// Undefined Value\n",
    "\n",
    "{\n",
    "let x;  // undefined (means uninitialized)\n",
    "console.log(\"Uninitialized\", x, typeof x);\n",
    "}"
   ]
  },
  {
   "cell_type": "markdown",
   "metadata": {},
   "source": [
    "## The ```null``` Value"
   ]
  },
  {
   "cell_type": "code",
   "execution_count": 69,
   "metadata": {},
   "outputs": [
    {
     "name": "stdout",
     "output_type": "stream",
     "text": [
      "null null object\n"
     ]
    }
   ],
   "source": [
    "// Null Value\n",
    "\n",
    "{\n",
    "x = null; // null literal (refers to nothing)\n",
    "console.log(\"null\", x, typeof x);\n",
    "}"
   ]
  },
  {
   "cell_type": "markdown",
   "metadata": {},
   "source": [
    "## Dynamic Typing\n",
    "\n",
    "* JavaScript is a dynamically typed language, so a variable can refer to different types of objects at different times\n",
    "* Any variable can be assigned and re-assigned different values of any type\n",
    "* Although a variable is not of fixed type, the object that it refers to is of fixed type"
   ]
  },
  {
   "cell_type": "code",
   "execution_count": 23,
   "metadata": {},
   "outputs": [
    {
     "name": "stdout",
     "output_type": "stream",
     "text": [
      "null 'object'\n",
      "42 'number'\n",
      "3.1415926 'number'\n",
      "hello string\n",
      "true 'boolean'\n",
      "[Function: x] 'function'\n",
      "{} 'object'\n",
      "{ '1': 'one', FirstName: 'Sally', one: 1 } 'object'\n",
      "[ 'Orange', 'Apple', 'Banana' ] 'object'\n",
      "2020-04-26T02:32:10.177Z 'object'\n",
      "/^[A-Z0-9._%+-]+@[A-Z0-9.-]+\\.[A-Z]{2,}$/ 'object'\n",
      "null 'object'\n"
     ]
    }
   ],
   "source": [
    "// Dynamic Typing\n",
    "\n",
    "var x;\n",
    "console.log(x, typeof x);\n",
    "x = 42;\n",
    "console.log(x, typeof x);\n",
    "x = 3.1415926;\n",
    "console.log(x, typeof x);\n",
    "x = \"hello\";\n",
    "console.log(x, typeof x);\n",
    "x = true;\n",
    "console.log(x, typeof x);\n",
    "x = () => {};\n",
    "console.log(x, typeof x);\n",
    "x = {};\n",
    "console.log(x, typeof x);\n",
    "x = {FirstName: \"Sally\", \"one\": 1, 1: \"one\"};\n",
    "console.log(x, typeof x);\n",
    "x = [\"Orange\", \"Apple\", \"Banana\"]\n",
    "console.log(x, typeof x);\n",
    "x = new Date();\n",
    "console.log(x, typeof x);\n",
    "x = /^[A-Z0-9._%+-]+@[A-Z0-9.-]+\\.[A-Z]{2,}$/;\n",
    "console.log(x, typeof x);\n",
    "x = null;\n",
    "console.log(x, typeof x);"
   ]
  },
  {
   "cell_type": "markdown",
   "metadata": {},
   "source": [
    "## Number Type (immutable)\n",
    "\n",
    "* Integeral\n",
    "* Floating Point\n",
    "* Special values: Infinity, -Infinity, and NaN"
   ]
  },
  {
   "cell_type": "code",
   "execution_count": 70,
   "metadata": {},
   "outputs": [
    {
     "name": "stdout",
     "output_type": "stream",
     "text": [
      "Number 42 number\n",
      "Number.MAX_SAFE_INTEGER 9007199254740991 number\n",
      "Number.MIN_SAFE_INTEGER -9007199254740991 number\n",
      "Number 3.5 number\n",
      "Number.EPSILON 2.220446049250313e-16 number\n",
      "Avogadro Number 6.02214076e+23 number\n",
      "Planck Length 1.616255e-35 number\n",
      "\n",
      "true\n",
      "false\n",
      "\n",
      "2.7755575615628914e-17\n",
      "true\n",
      "\n",
      "0/0 Infinity number\n",
      "NaN literal NaN number\n",
      "0/0 NaN number\n"
     ]
    }
   ],
   "source": [
    "{\n",
    "x = 42; // 64-bit floating point IEE 754 number\n",
    "console.log(\"Number\", x, typeof x);\n",
    "x = Number.MAX_SAFE_INTEGER;\n",
    "console.log(\"Number.MAX_SAFE_INTEGER\", x, typeof x);\n",
    "x = Number.MIN_SAFE_INTEGER;\n",
    "console.log(\"Number.MIN_SAFE_INTEGER\", x, typeof x);\n",
    "x = 3.5;  // 64-bit floating point IEE 754 number\n",
    "console.log(\"Number\", x, typeof x);\n",
    "x = Number.EPSILON\n",
    "console.log(\"Number.EPSILON\", x, typeof x);\n",
    "x = 6.02214076E23// Avogadro constant = 6.02214076×10²³\n",
    "console.log(\"Avogadro Number\", x, typeof x);\n",
    "x = 1.616255E-35 // Planck length = 1.616255×10⁻³⁵ m\n",
    "console.log(\"Planck Length\", x, typeof x);\n",
    "console.log()\n",
    "    \n",
    "console.log(0.1 + 0.1 === 0.2) // true\n",
    "console.log(0.1 + 0.2 === 0.3) // false\n",
    "console.log()\n",
    "\n",
    "const result = Math.abs(0.2 - 0.3 + 0.1); // would be zero if there were no roundoff error\n",
    "console.log(result); // expected output: 2.7755575615628914e-17\n",
    "console.log(result < Number.EPSILON); // true\n",
    "console.log()\n",
    "x = 1.0/0; // non-zero divided by Zero is Infinity\n",
    "console.log(\"0/0\", x, typeof x);\n",
    "x = NaN; // NaN literal\n",
    "console.log(\"NaN literal\", x, typeof x);\n",
    "x = 0/0; // zer0 divided by Zero is NaN\n",
    "console.log(\"0/0\", x, typeof x);\n",
    "}"
   ]
  },
  {
   "cell_type": "markdown",
   "metadata": {},
   "source": [
    "## String Type (immutable)\n",
    "\n",
    "* unicode character sequences\n",
    "* immutable"
   ]
  },
  {
   "cell_type": "code",
   "execution_count": 27,
   "metadata": {},
   "outputs": [
    {
     "name": "stdout",
     "output_type": "stream",
     "text": [
      "Hello string\n",
      "Hello string\n",
      "Hello string\n",
      "é string\n",
      "‍❤️‍ string\n"
     ]
    }
   ],
   "source": [
    "{\n",
    "x = \"Hello\";\n",
    "console.log(x, typeof x);\n",
    "x = 'Hello';\n",
    "console.log(x, typeof x);\n",
    "x = `Hello`;\n",
    "console.log(x, typeof x);\n",
    "x = '\\u00E9' //é;\n",
    "console.log(x, typeof x);\n",
    "x = '\\u200D\\u2764\\uFE0F\\u200D' //é;\n",
    "console.log(x, typeof x);\n",
    "}"
   ]
  },
  {
   "cell_type": "markdown",
   "metadata": {},
   "source": [
    "## Boolean Type (immutable)"
   ]
  },
  {
   "cell_type": "code",
   "execution_count": 72,
   "metadata": {},
   "outputs": [
    {
     "name": "stdout",
     "output_type": "stream",
     "text": [
      "Boolean true boolean\n",
      "Boolean false boolean\n",
      "Boolean true boolean\n",
      "Boolean false boolean\n"
     ]
    }
   ],
   "source": [
    "{\n",
    "x = true;  // boolean true literal\n",
    "console.log(\"Boolean\", x, typeof x);\n",
    "x = false; // boolean false literal\n",
    "console.log(\"Boolean\", x, typeof x);\n",
    "x = 1 === 1;  // boolean true expression\n",
    "console.log(\"Boolean\", x, typeof x);\n",
    "x = 1 === 2; // boolean false expression\n",
    "console.log(\"Boolean\", x, typeof x);\n",
    "}"
   ]
  },
  {
   "cell_type": "markdown",
   "metadata": {},
   "source": [
    "## Date Type\n"
   ]
  },
  {
   "cell_type": "code",
   "execution_count": 28,
   "metadata": {},
   "outputs": [
    {
     "name": "stdout",
     "output_type": "stream",
     "text": [
      "2020-04-26T02:46:34.515Z 'object'\n"
     ]
    }
   ],
   "source": [
    "x = new Date()\n",
    "console.log(x, typeof x);"
   ]
  },
  {
   "cell_type": "markdown",
   "metadata": {},
   "source": [
    "## Array Type"
   ]
  },
  {
   "cell_type": "code",
   "execution_count": 77,
   "metadata": {},
   "outputs": [
    {
     "name": "stdout",
     "output_type": "stream",
     "text": [
      "Array literal [ 1, 2 ] object\n"
     ]
    }
   ],
   "source": [
    "{\n",
    "x = [1, 2];\n",
    "console.log(\"Array literal\", x, typeof x);\n",
    "}"
   ]
  },
  {
   "cell_type": "markdown",
   "metadata": {},
   "source": [
    "## Function Type"
   ]
  },
  {
   "cell_type": "code",
   "execution_count": 78,
   "metadata": {},
   "outputs": [
    {
     "name": "stdout",
     "output_type": "stream",
     "text": [
      "Named function Hello World! function\n",
      "Lambda function 7 function\n"
     ]
    }
   ],
   "source": [
    "{\n",
    "x = function() { \n",
    "    return \"Hello World!\"; \n",
    "}\n",
    "console.log(\"Named function\", x(), typeof x);\n",
    "\n",
    "x = (a, b) => a + b;\n",
    "console.log(\"Lambda function\", x(3, 4), typeof x);\n",
    "}"
   ]
  },
  {
   "cell_type": "markdown",
   "metadata": {},
   "source": [
    "## Object Literals\n",
    "\n",
    "* A JavaScript object literal is a comma-separated list of name-value pairs in curly braces\n",
    "* Object literals encapsulate data\n"
   ]
  },
  {
   "cell_type": "code",
   "execution_count": 29,
   "metadata": {},
   "outputs": [
    {
     "name": "stdout",
     "output_type": "stream",
     "text": [
      "255 0 0\n",
      "{ red: 255,\n",
      "  green: 0,\n",
      "  blue: 0,\n",
      "  displayMembera: [Function: displayMembera] } 'object'\n"
     ]
    }
   ],
   "source": [
    "{\n",
    "var x = {\n",
    "    red: 255,\n",
    "    green: 0,\n",
    "    blue: 0,\n",
    "    displayMembera: function() {\n",
    "        console.log(this.red, this.green, this.blue);\n",
    "    }\n",
    "};\n",
    "x.displayMembera();\n",
    "console.log(x, typeof myObject);\n",
    "}"
   ]
  },
  {
   "cell_type": "markdown",
   "metadata": {},
   "source": [
    "## Enhanced Object literals"
   ]
  },
  {
   "cell_type": "code",
   "execution_count": null,
   "metadata": {},
   "outputs": [],
   "source": []
  },
  {
   "cell_type": "markdown",
   "metadata": {},
   "source": [
    "## Symbol Type (immutable)\n",
    "\n",
    "* A symbol value is created by invoking the ```Symbol``` constructor function\n",
    "* A symbol dynamically produces an immutable anonymous unique value\n",
    "* A symbol may be used to define an object property"
   ]
  },
  {
   "cell_type": "code",
   "execution_count": null,
   "metadata": {},
   "outputs": [],
   "source": []
  },
  {
   "cell_type": "markdown",
   "metadata": {},
   "source": [
    "## BigInt Type (immutable)\n",
    "\n",
    "* Built-in object that encapsulates an arbitrarily large whole number that can go beyond 2**53-1 limit of the float number type"
   ]
  },
  {
   "cell_type": "code",
   "execution_count": null,
   "metadata": {},
   "outputs": [],
   "source": []
  }
 ],
 "metadata": {
  "kernelspec": {
   "display_name": "Javascript (Node.js)",
   "language": "javascript",
   "name": "javascript"
  },
  "language_info": {
   "file_extension": ".js",
   "mimetype": "application/javascript",
   "name": "javascript",
   "version": "10.13.0"
  }
 },
 "nbformat": 4,
 "nbformat_minor": 4
}
