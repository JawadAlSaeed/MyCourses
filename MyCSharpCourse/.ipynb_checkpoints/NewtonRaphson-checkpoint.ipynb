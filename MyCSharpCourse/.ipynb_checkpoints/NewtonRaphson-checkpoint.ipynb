{
 "cells": [
  {
   "cell_type": "markdown",
   "metadata": {},
   "source": [
    "# Newton-Raphson Method\n",
    "\n",
    "See: [Newton-Raphson Method](https://en.wikipedia.org/wiki/Newton%27s_method)\n",
    "\n",
    "A function has a root wherever it crosses the x-axis. The Newton-Raphson method attempts to find an approximation for a root of a function. Some functions have no roots and some have many, but the Newton-Raphson method can only find one root approximation at a time. Note that Newton-Rahhson may not converge in some cases.\n",
    "\n",
    "1. Start with an initial guess for the root of the function.\n",
    "2. Take the derivative of the function to determine the tangent line.\n",
    "3. Compute the x-intercept of the tangent to get a better approximation.\n",
    "4. Repeat using this new approximation until desired precision is achieved."
   ]
  },
  {
   "cell_type": "code",
   "execution_count": 2,
   "metadata": {},
   "outputs": [
    {
     "name": "stdout",
     "output_type": "stream",
     "text": [
      "2.0945514815423474\n",
      "3.141592653589793\n"
     ]
    }
   ],
   "source": [
    "double NewtonRaphson(Func<Double, Double> function, \n",
    "                     Func<Double, Double> function_derivative,\n",
    "                     double guess) {\n",
    "    while(true) {\n",
    "        double guessNext = guess - function(guess) / function_derivative(guess);\n",
    "        if (Math.Abs(guess - guessNext) < 0.00001) {\n",
    "            return guessNext;\n",
    "        }\n",
    "        guess = guessNext;\n",
    "    }\n",
    "}\n",
    "\n",
    "Func<Double, Double> function;\n",
    "Func<Double, Double> functionDerivative;\n",
    "\n",
    "function = x => (x * x * x) - (2 * x) - 5;\n",
    "functionDerivative = x => 3 * (x * x) - 2;\n",
    "Console.WriteLine(NewtonRaphson(function, functionDerivative, 3));\n",
    "\n",
    "function = x => Math.Sin(x);\n",
    "functionDerivative = x => Math.Cos(x); // derivative of sin is cos\n",
    "Console.WriteLine(NewtonRaphson(function, functionDerivative, 3));"
   ]
  },
  {
   "cell_type": "code",
   "execution_count": null,
   "metadata": {},
   "outputs": [],
   "source": []
  }
 ],
 "metadata": {
  "kernelspec": {
   "display_name": ".NET (C#)",
   "language": "C#",
   "name": ".net-csharp"
  },
  "language_info": {
   "file_extension": ".cs",
   "mimetype": "text/x-csharp",
   "name": "C#",
   "pygments_lexer": "csharp",
   "version": "8.0"
  }
 },
 "nbformat": 4,
 "nbformat_minor": 4
}
