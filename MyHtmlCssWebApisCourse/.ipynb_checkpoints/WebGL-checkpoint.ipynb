{
 "cells": [
  {
   "cell_type": "markdown",
   "metadata": {},
   "source": [
    "# WebGL\n",
    "\n",
    "## WebGL Docs \n",
    "https://developer.mozilla.org/en-US/docs/Web/API/WebGL_API \n",
    "\n",
    "## WebGL Demo (spinning box) \n",
    "https://www.khronos.org/webgl/wiki/Tutorial \n",
    "\n",
    "## WebGL Demo Repository \n",
    "https://www.khronos.org/webgl/wiki/Demo_Repository "
   ]
  },
  {
   "cell_type": "code",
   "execution_count": 3,
   "metadata": {},
   "outputs": [
    {
     "data": {
      "text/html": [
       "\n",
       "<p>WebGL Demo (spinning box)</p>\n",
       "<iframe width=\"900\" height=\"800\" src=\"https://www.khronos.org/registry/webgl/sdk/demos/webkit/SpiritBox.html\"></iframe\n"
      ],
      "text/plain": [
       "<IPython.core.display.HTML object>"
      ]
     },
     "metadata": {},
     "output_type": "display_data"
    }
   ],
   "source": [
    "%%html\n",
    "\n",
    "<p>WebGL Demo (spinning box)</p>\n",
    "<iframe width=\"900\" height=\"800\" src=\"https://www.khronos.org/registry/webgl/sdk/demos/webkit/SpiritBox.html\"></iframe"
   ]
  },
  {
   "cell_type": "code",
   "execution_count": 4,
   "metadata": {},
   "outputs": [
    {
     "data": {
      "text/html": [
       "\n",
       "<p>Earth and Mars</p>\n",
       "<iframe width=\"900\" height=\"800\" src=\"https://www.khronos.org/registry/webgl/sdk/demos/webkit/Earth.html\"></iframe\n"
      ],
      "text/plain": [
       "<IPython.core.display.HTML object>"
      ]
     },
     "metadata": {},
     "output_type": "display_data"
    }
   ],
   "source": [
    "%%html\n",
    "\n",
    "<p>Earth and Mars</p>\n",
    "<iframe width=\"900\" height=\"800\" src=\"https://www.khronos.org/registry/webgl/sdk/demos/webkit/Earth.html\"></iframe"
   ]
  },
  {
   "cell_type": "code",
   "execution_count": 5,
   "metadata": {},
   "outputs": [
    {
     "data": {
      "text/html": [
       "<p>shiny-teapot (spin it around bt dragging your mouse)</p>\n",
       "<iframe width=\"900\" height=\"800\" src=\"https://www.khronos.org/registry/webgl/sdk/demos/google/shiny-teapot/index.html\"></iframe\n"
      ],
      "text/plain": [
       "<IPython.core.display.HTML object>"
      ]
     },
     "metadata": {},
     "output_type": "display_data"
    }
   ],
   "source": [
    "%%html\n",
    "<p>shiny-teapot (spin it around bt dragging your mouse)</p>\n",
    "<iframe width=\"900\" height=\"800\" src=\"https://www.khronos.org/registry/webgl/sdk/demos/google/shiny-teapot/index.html\"></iframe\n"
   ]
  },
  {
   "cell_type": "code",
   "execution_count": 6,
   "metadata": {},
   "outputs": [
    {
     "data": {
      "text/html": [
       "\n",
       "<p>WebGL + CSS</p>\n",
       "<iframe width=\"900\" height=\"800\" src=\"https://www.khronos.org/registry/webgl/sdk/demos/webkit/WebGL+CSS.html\"></iframe\n"
      ],
      "text/plain": [
       "<IPython.core.display.HTML object>"
      ]
     },
     "metadata": {},
     "output_type": "display_data"
    }
   ],
   "source": [
    "%%html\n",
    "\n",
    "<p>WebGL + CSS</p>\n",
    "<iframe width=\"900\" height=\"800\" src=\"https://www.khronos.org/registry/webgl/sdk/demos/webkit/WebGL+CSS.html\"></iframe"
   ]
  },
  {
   "cell_type": "code",
   "execution_count": 7,
   "metadata": {},
   "outputs": [
    {
     "data": {
      "text/html": [
       "\n",
       "<p>NVIDIA Vertex Buffer Object demo</p>\n",
       "<iframe width=\"900\" height=\"800\" src=\"https://www.khronos.org/registry/webgl/sdk/demos/google/nvidia-vertex-buffer-object/index.html\"></iframe\n"
      ],
      "text/plain": [
       "<IPython.core.display.HTML object>"
      ]
     },
     "metadata": {},
     "output_type": "display_data"
    }
   ],
   "source": [
    "%%html\n",
    "\n",
    "<p>NVIDIA Vertex Buffer Object demo</p>\n",
    "<iframe width=\"900\" height=\"800\" src=\"https://www.khronos.org/registry/webgl/sdk/demos/google/nvidia-vertex-buffer-object/index.html\"></iframe\n"
   ]
  }
 ],
 "metadata": {
  "kernelspec": {
   "display_name": "Python 3",
   "language": "python",
   "name": "python3"
  },
  "language_info": {
   "codemirror_mode": {
    "name": "ipython",
    "version": 3
   },
   "file_extension": ".py",
   "mimetype": "text/x-python",
   "name": "python",
   "nbconvert_exporter": "python",
   "pygments_lexer": "ipython3",
   "version": "3.7.6"
  }
 },
 "nbformat": 4,
 "nbformat_minor": 4
}
