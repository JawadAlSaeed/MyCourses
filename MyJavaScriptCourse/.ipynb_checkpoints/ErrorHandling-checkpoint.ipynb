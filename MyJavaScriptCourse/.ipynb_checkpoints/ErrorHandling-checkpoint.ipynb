{
 "cells": [
  {
   "cell_type": "markdown",
   "metadata": {},
   "source": [
    "# Error Handling\n",
    "\n",
    "See: https://developer.mozilla.org/en-US/docs/Web/JavaScript/Reference/Global_Objects/Error  \n",
    "See: https://developer.mozilla.org/en-US/docs/Web/JavaScript/Reference/Statements/try...catch  \n",
    "\n",
    "* An ```Error``` object is thrown when a runtime errors occurs\n",
    "* The ```Error``` object can also be used as a base object for user-defined exceptions\n",
    "* There are also standard built-in error types\n",
    "* In addition to the generic Error constructor, there are seven other core error constructors:\n",
    "    - ```EvalError``` is an error in the ```eval()``` function \n",
    "    - ```InternalError``` is an internal error in the JavaScript engine (e.g. \"too much recursion\")\n",
    "    - ```RangeError``` is an error when a numeric variable or parameter is outside of valid range\n",
    "    - ```ReferenceError``` is an error when de-referencing an invalid reference\n",
    "    - ```SyntaxError``` is a error related to invalid syntax\n",
    "    - ```TypeError``` is an error when a variable or parameter is not of valid type\n",
    "    - ```URIError``` is an error when invalid parameters passed to ```encodeURI()``` or ```decodeURI()```"
   ]
  },
  {
   "cell_type": "markdown",
   "metadata": {},
   "source": [
    "## Error Instance Members\n",
    "\n",
    "* ```Error.prototype.message``` property is the human readable error message text\n",
    "* ```Error.prototype.name``` property is the name of the Error\n",
    "* Several additional non-standard browser-specific Error instance properties exist\n",
    "* ```Error.prototype.toString()``` method returns a string representing the specified object."
   ]
  },
  {
   "cell_type": "markdown",
   "metadata": {},
   "source": [
    "## Throwing and Handling Errors\n",
    "\n",
    "* You create an ```Error``` object and then raise the error using the ```throw``` keyword\n",
    "* You can handle specific error types by testing the error type with the ```instanceof``` keyword"
   ]
  },
  {
   "cell_type": "code",
   "execution_count": 1,
   "metadata": {},
   "outputs": [
    {
     "name": "stderr",
     "output_type": "stream",
     "text": [
      "Error: Oops!\n"
     ]
    }
   ],
   "source": [
    "{\n",
    "try {\n",
    "    throw new Error('Oops!')\n",
    "} catch (e) {\n",
    "    console.error(e.name + ': ' + e.message)\n",
    "}\n",
    "}"
   ]
  },
  {
   "cell_type": "code",
   "execution_count": 14,
   "metadata": {},
   "outputs": [
    {
     "name": "stdout",
     "output_type": "stream",
     "text": [
      "Smooth sailing :)\n"
     ]
    }
   ],
   "source": [
    "function foo(n) {\n",
    "    if( !(n >= 10 && n <= 20) ) {\n",
    "        throw new RangeError(\"The argument n must be between 1 and 10.\")\n",
    "    }\n",
    "    if( n === 13) {\n",
    "        throw new Error('Oops!')\n",
    "    }\n",
    "    console.log(\"Smooth sailing :)\");\n",
    "}\n",
    "try {\n",
    "    // try commenting and uncommenting various combinations of the following three statements\n",
    "    foo(15);                 // 15 -> Smooth sailing :)\n",
    "    //foo(13);                 // 13 -> Error: Oops!\n",
    "    //foo(23);                 // 23 -> RangeError: The argument n must be between 1 and 10.\n",
    "} catch (e) {\n",
    "    if (e instanceof RangeError) {\n",
    "        console.error(e.name + ': ' + e.message)\n",
    "    } else if (e instanceof Error) {\n",
    "        console.error(e.name + ': ' + e.message)\n",
    "    } else if (e instanceof RangeError) {\n",
    "        console.error(e.name + ': ' + e.message)\n",
    "    }\n",
    "// ... etc\n",
    "}"
   ]
  },
  {
   "cell_type": "code",
   "execution_count": null,
   "metadata": {},
   "outputs": [],
   "source": []
  }
 ],
 "metadata": {
  "kernelspec": {
   "display_name": "Javascript (Node.js)",
   "language": "javascript",
   "name": "javascript"
  },
  "language_info": {
   "file_extension": ".js",
   "mimetype": "application/javascript",
   "name": "javascript",
   "version": "10.13.0"
  }
 },
 "nbformat": 4,
 "nbformat_minor": 4
}
