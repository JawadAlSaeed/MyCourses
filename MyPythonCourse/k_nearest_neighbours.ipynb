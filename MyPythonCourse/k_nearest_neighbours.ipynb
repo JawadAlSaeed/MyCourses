{
 "cells": [
  {
   "cell_type": "markdown",
   "metadata": {},
   "source": [
    "# K Nearest Neighbours\n",
    "From: [github.com/TheAlgorithms/Python/blob/master/machine_learning/k_nearest_neighbours](https://github.com/TheAlgorithms/Python/blob/master/machine_learning/k_nearest_neighbours.py)"
   ]
  },
  {
   "cell_type": "code",
   "execution_count": 1,
   "metadata": {},
   "outputs": [
    {
     "name": "stdout",
     "output_type": "stream",
     "text": [
      "setosa\n"
     ]
    }
   ],
   "source": [
    "import numpy as np\n",
    "from collections import Counter\n",
    "from sklearn import datasets\n",
    "from sklearn.model_selection import train_test_split\n",
    "\n",
    "data = datasets.load_iris()\n",
    "\n",
    "X = np.array(data[\"data\"])\n",
    "y = np.array(data[\"target\"])\n",
    "classes = data[\"target_names\"]\n",
    "\n",
    "X_train, X_test, y_train, y_test = train_test_split(X, y)\n",
    "\n",
    "\n",
    "def euclidean_distance(a, b):\n",
    "    \"\"\"\n",
    "    Gives the euclidean distance between two points\n",
    "    >>> euclidean_distance([0, 0], [3, 4])\n",
    "    5.0\n",
    "    >>> euclidean_distance([1, 2, 3], [1, 8, 11])\n",
    "    10.0\n",
    "    \"\"\"\n",
    "    return np.linalg.norm(np.array(a) - np.array(b))\n",
    "\n",
    "\n",
    "def classifier(train_data, train_target, classes, point, k=5):\n",
    "    \"\"\"\n",
    "    Classifies the point using the KNN algorithm\n",
    "    k closest points are found (ranked in ascending order of euclidean distance)\n",
    "    Params:\n",
    "    :train_data: Set of points that are classified into two or more classes\n",
    "    :train_target: List of classes in the order of train_data points\n",
    "    :classes: Labels of the classes\n",
    "    :point: The data point that needs to be classifed\n",
    "    >>> X_train = [[0, 0], [1, 0], [0, 1], [0.5, 0.5], [3, 3], [2, 3], [3, 2]]\n",
    "    >>> y_train = [0, 0, 0, 0, 1, 1, 1]\n",
    "    >>> classes = ['A','B']; point = [1.2,1.2]\n",
    "    >>> classifier(X_train, y_train, classes,point)\n",
    "    'A'\n",
    "    \"\"\"\n",
    "    data = zip(train_data, train_target)\n",
    "    # List of distances of all points from the point to be classified\n",
    "    distances = []\n",
    "    for data_point in data:\n",
    "        distance = euclidean_distance(data_point[0], point)\n",
    "        distances.append((distance, data_point[1]))\n",
    "    # Choosing 'k' points with the least distances.\n",
    "    votes = [i[1] for i in sorted(distances)[:k]]\n",
    "    # Most commonly occurring class among them\n",
    "    # is the class into which the point is classified\n",
    "    result = Counter(votes).most_common(1)[0][0]\n",
    "    return classes[result]\n",
    "\n",
    "\n",
    "print(classifier(X_train, y_train, classes, [4.4, 3.1, 1.3, 1.4]))"
   ]
  },
  {
   "cell_type": "code",
   "execution_count": null,
   "metadata": {},
   "outputs": [],
   "source": []
  }
 ],
 "metadata": {
  "kernelspec": {
   "display_name": "Python 3",
   "language": "python",
   "name": "python3"
  },
  "language_info": {
   "codemirror_mode": {
    "name": "ipython",
    "version": 3
   },
   "file_extension": ".py",
   "mimetype": "text/x-python",
   "name": "python",
   "nbconvert_exporter": "python",
   "pygments_lexer": "ipython3",
   "version": "3.7.6"
  }
 },
 "nbformat": 4,
 "nbformat_minor": 4
}
