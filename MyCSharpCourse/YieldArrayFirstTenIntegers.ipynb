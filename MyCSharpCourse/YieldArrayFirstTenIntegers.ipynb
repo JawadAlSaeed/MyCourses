{
 "cells": [
  {
   "cell_type": "markdown",
   "metadata": {},
   "source": [
    "# Yield Array of First Ten Integers"
   ]
  },
  {
   "cell_type": "code",
   "execution_count": 1,
   "metadata": {},
   "outputs": [
    {
     "name": "stdout",
     "output_type": "stream",
     "text": [
      "GetArrayOfFirstTenIntegersForeach called\n",
      "0\n",
      "1\n",
      "2\n",
      "3\n",
      "4\n",
      "5\n",
      "\n",
      "GetArrayOfFirstTenIntegersYield called\n",
      "0\n",
      "1\n",
      "2\n",
      "3\n",
      "4\n",
      "5\n"
     ]
    }
   ],
   "source": [
    "using System;\n",
    "using System.Collections.Generic;\n",
    "\n",
    "class Program\n",
    "{\n",
    "    public static void Main()\n",
    "    {\n",
    "        {\n",
    "            var nums = GetArrayOfFirstTenIntegersForeach();\n",
    "            foreach (int n in nums)\n",
    "            {\n",
    "                Console.WriteLine(n);\n",
    "            }\n",
    "        }\n",
    "        \n",
    "        Console.WriteLine();\n",
    "        {\n",
    "            var nums = GetArrayOfFirstTenIntegersYield();\n",
    "            foreach (int n in nums)\n",
    "            {\n",
    "                Console.WriteLine(n);\n",
    "            }\n",
    "        }\n",
    "    }\n",
    "    \n",
    "    static IEnumerable<int> GetArrayOfFirstTenIntegersForeach()\n",
    "    {\n",
    "        Console.WriteLine(\"GetArrayOfFirstTenIntegersForeach called\");\n",
    "        List<int> nums = new List<int>();\n",
    "        for (int num = 0; num <= 5; num++)\n",
    "        {\n",
    "            nums.Add(num);\n",
    "        }\n",
    "        return nums;\n",
    "    }\n",
    "    \n",
    "    static IEnumerable<int> GetArrayOfFirstTenIntegersYield()\n",
    "    {\n",
    "        Console.WriteLine(\"GetArrayOfFirstTenIntegersYield called\");\n",
    "        for (int num = 0; num <= 5; num++)\n",
    "        {\n",
    "            yield return num;\n",
    "        }\n",
    "    }\n",
    "}\n",
    "\n",
    "\n",
    "Program.Main();"
   ]
  },
  {
   "cell_type": "code",
   "execution_count": null,
   "metadata": {},
   "outputs": [],
   "source": []
  }
 ],
 "metadata": {
  "kernelspec": {
   "display_name": ".NET (C#)",
   "language": "C#",
   "name": ".net-csharp"
  },
  "language_info": {
   "file_extension": ".cs",
   "mimetype": "text/x-csharp",
   "name": "C#",
   "pygments_lexer": "csharp",
   "version": "8.0"
  }
 },
 "nbformat": 4,
 "nbformat_minor": 4
}
