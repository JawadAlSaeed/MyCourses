{
 "cells": [
  {
   "cell_type": "markdown",
   "metadata": {},
   "source": [
    "# Functions\n",
    "\n",
    "- A function is a set of statements that performs a task or calculates a value.\n",
    "- To call a function it must defined in the scope from which you to call it."
   ]
  },
  {
   "cell_type": "code",
   "execution_count": 2,
   "metadata": {},
   "outputs": [
    {
     "name": "stdout",
     "output_type": "stream",
     "text": [
      "25\n"
     ]
    }
   ],
   "source": [
    "function square(number) {\n",
    "  return number * number;\n",
    "}\n",
    "\n",
    "result = square(5);\n",
    "console.log(result)"
   ]
  },
  {
   "cell_type": "markdown",
   "metadata": {},
   "source": [
    "## Default Parameters\n",
    "\n",
    "```\n",
    "function [name]([param1[ = defaultValue1 ][, ..., paramN[ = defaultValueN ]]]) {\n",
    "   statements\n",
    "}\n",
    "```"
   ]
  },
  {
   "cell_type": "code",
   "execution_count": 1,
   "metadata": {},
   "outputs": [
    {
     "name": "stdout",
     "output_type": "stream",
     "text": [
      "10\n",
      "10\n",
      "5\n",
      "NaN\n"
     ]
    }
   ],
   "source": [
    "function multiply(a, b = 1) {\n",
    "  return a * b;\n",
    "}\n",
    "\n",
    "console.log(multiply(5, 2, 10)); // output: 10\n",
    "console.log(multiply(5, 2));     // output: 10\n",
    "console.log(multiply(5));        // output: 5\n",
    "console.log(multiply());         // output: NaN"
   ]
  },
  {
   "cell_type": "markdown",
   "metadata": {},
   "source": [
    "## Arrow Functions and Function Objects\n",
    "\n",
    "- Arrow functions provide a short syntax to define a function as an expression\n",
    "- Arrow functions do not have their own this, arguments, super, or new.target."
   ]
  },
  {
   "cell_type": "code",
   "execution_count": null,
   "metadata": {},
   "outputs": [],
   "source": [
    "var materials = [\n",
    "  'Hydrogen',\n",
    "  'Helium',\n",
    "  'Lithium',\n",
    "  'Beryllium'\n",
    "];\n",
    "\n",
    "console.log(materials.map(material => material.length)); // output: Array [8, 6, 7, 9]\n"
   ]
  }
 ],
 "metadata": {
  "kernelspec": {
   "display_name": "Javascript (Node.js)",
   "language": "javascript",
   "name": "javascript"
  },
  "language_info": {
   "file_extension": ".js",
   "mimetype": "application/javascript",
   "name": "javascript",
   "version": "10.13.0"
  }
 },
 "nbformat": 4,
 "nbformat_minor": 2
}
