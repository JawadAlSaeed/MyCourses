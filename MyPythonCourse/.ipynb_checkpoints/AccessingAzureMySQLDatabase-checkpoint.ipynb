{
 "cells": [
  {
   "cell_type": "markdown",
   "metadata": {},
   "source": [
    "# Accessing Azure MySQL Database\n",
    "\n",
    "This example shows the code for accessing a MySQL database on Azure. The host, user, and password used here are temporary.\n",
    "If this MySQL database is taken down then you need to set up your own:\n",
    "\n",
    "1. Download ```lahman-mysql-dump.sql``` \"2019 – MySQL version \" (http://www.seanlahman.com/baseball-archive/statistics)\n",
    "2. Replace the string ```utf8mb4_0900_ai_ci``` and replaced it with ```utf8mb4_general_ci``` in ```lahman-mysql-dump.sql```\n",
    "3. Create an Azure Database for MySQL database on your Azure account using appropriate firewall settings for IPs.\n",
    "4. In MySQL Workbench, connect to your MySql server.\n",
    "5. In MySQL Workbench -> Server > Data Import > Import from Self-Contained File\n",
    "6. Select the ```lahman-mysql-dump.sql``` file -> Click Start Import button.\n",
    "7. Test it out in MySQL Workbench:\n",
    "    ```\n",
    "    USE `lahmansbaseballdb`;\n",
    "    SELECT p.nameFirst, p.nameLast, b.HR, t.name AS team, b.yearID\n",
    "    FROM batting b\n",
    "        JOIN people p ON p.playerID = b.playerID\n",
    "        JOIN teams t ON t.ID = b.team_ID\n",
    "    WHERE b.YearID = 1977\n",
    "    ORDER BY b.HR DESC\n",
    "    LIMIT 5;\n",
    "    ```"
   ]
  },
  {
   "cell_type": "markdown",
   "metadata": {},
   "source": [
    "## Now lets access it in Python\n",
    "\n",
    "* You need to run ```conda install -c anaconda pyodbc```"
   ]
  },
  {
   "cell_type": "code",
   "execution_count": 8,
   "metadata": {},
   "outputs": [
    {
     "name": "stdout",
     "output_type": "stream",
     "text": [
      "<mysql.connector.connection_cext.CMySQLConnection object at 0x0000022052743948>\n"
     ]
    }
   ],
   "source": [
    "# conda install -c anaconda pyodbc\n",
    "\n",
    "import mysql.connector as mysql\n",
    "\n",
    "cnx = mysql.connect(\n",
    "    host=\"mysqllahmansbaseball.mysql.database.azure.com\", # this server will not remain available in the long term\n",
    "    user=\"newuser@mysqllahmansbaseball\",                  # this user name will not remain available in the long term\n",
    "    password=\"Pa$$w0rd\",                                  # this password will not remain available in the long term\n",
    "    port=3306,\n",
    "    database=\"lahmansbaseballdb\")\n",
    "print(cnx)"
   ]
  },
  {
   "cell_type": "code",
   "execution_count": 9,
   "metadata": {},
   "outputs": [
    {
     "name": "stdout",
     "output_type": "stream",
     "text": [
      "(1, 'abercda01', 1871, 1, 'TRO', 8, 'NA', 1, None, 4, 0, 0, 0, 0, 0, 0, 0, 0, 0, 0, None, None, None, None, 0)\n",
      "(2, 'addybo01', 1871, 1, 'RC1', 7, 'NA', 25, None, 118, 30, 32, 6, 0, 0, 13, 8, 1, 4, 0, None, None, None, None, 0)\n",
      "(3, 'allisar01', 1871, 1, 'CL1', 3, 'NA', 29, None, 137, 28, 40, 4, 5, 0, 19, 3, 1, 2, 5, None, None, None, None, 1)\n",
      "(4, 'allisdo01', 1871, 1, 'WS3', 9, 'NA', 27, None, 133, 28, 44, 10, 2, 2, 27, 1, 1, 0, 2, None, None, None, None, 0)\n",
      "(5, 'ansonca01', 1871, 1, 'RC1', 7, 'NA', 25, None, 120, 29, 39, 11, 3, 0, 16, 6, 2, 2, 1, None, None, None, None, 0)\n",
      "(6, 'armstbo01', 1871, 1, 'FW1', 4, 'NA', 12, None, 49, 9, 11, 2, 1, 0, 5, 0, 1, 0, 1, None, None, None, None, 0)\n",
      "(7, 'barkeal01', 1871, 1, 'RC1', 7, 'NA', 1, None, 4, 0, 1, 0, 0, 0, 2, 0, 0, 1, 0, None, None, None, None, 0)\n",
      "(8, 'barnero01', 1871, 1, 'BS1', 1, 'NA', 31, None, 157, 66, 63, 10, 9, 0, 34, 11, 6, 13, 1, None, None, None, None, 1)\n",
      "(9, 'barrebi01', 1871, 1, 'FW1', 4, 'NA', 1, None, 5, 1, 1, 1, 0, 0, 1, 0, 0, 0, 0, None, None, None, None, 0)\n",
      "(10, 'barrofr01', 1871, 1, 'BS1', 1, 'NA', 18, None, 86, 13, 13, 2, 1, 0, 11, 1, 0, 0, 0, None, None, None, None, 0)\n"
     ]
    }
   ],
   "source": [
    "cursor = cnx.cursor()\n",
    "sql = \"SELECT * FROM Batting LIMIT 10\"\n",
    "cursor.execute(sql)\n",
    "results = cursor.fetchall()\n",
    "for x in results:\n",
    "    print(x)"
   ]
  },
  {
   "cell_type": "code",
   "execution_count": null,
   "metadata": {},
   "outputs": [],
   "source": []
  }
 ],
 "metadata": {
  "kernelspec": {
   "display_name": "Python 3",
   "language": "python",
   "name": "python3"
  },
  "language_info": {
   "codemirror_mode": {
    "name": "ipython",
    "version": 3
   },
   "file_extension": ".py",
   "mimetype": "text/x-python",
   "name": "python",
   "nbconvert_exporter": "python",
   "pygments_lexer": "ipython3",
   "version": "3.7.6"
  }
 },
 "nbformat": 4,
 "nbformat_minor": 4
}
