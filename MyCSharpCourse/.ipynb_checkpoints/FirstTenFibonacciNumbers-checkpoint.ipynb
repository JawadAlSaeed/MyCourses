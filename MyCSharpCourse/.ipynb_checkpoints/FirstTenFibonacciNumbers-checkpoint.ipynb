{
 "cells": [
  {
   "cell_type": "markdown",
   "metadata": {},
   "source": [
    "# First Ten Fibonacci Numbers\n"
   ]
  },
  {
   "cell_type": "code",
   "execution_count": 1,
   "metadata": {},
   "outputs": [
    {
     "name": "stdout",
     "output_type": "stream",
     "text": [
      "\n",
      "First 10 fibonacci numbers recursively:\n",
      "0 1 1 2 3 5 8 13 21 34 \n",
      "First 10 fibonacci numbers iteratively:\n",
      "0 1 1 2 3 5 8 13 21 34 \n"
     ]
    }
   ],
   "source": [
    "// Output:\n",
    "// First 10 fibonacci numbers:\n",
    "// 0 1 1 2 3 5 8 13 21 34\n",
    "class FirstTenFibonacciNumbers\n",
    "{\n",
    "    public static void Main()\n",
    "    {\n",
    "        \n",
    "        int previous = 0;\n",
    "        int current = 1;\n",
    "        System.Console.WriteLine(\"\\nFirst 10 fibonacci numbers recursively:\");\n",
    "        DisplayFibonacciRecursive(previous, current, 10);\n",
    "        System.Console.WriteLine(\"\\nFirst 10 fibonacci numbers iteratively:\");\n",
    "        DisplayFibonacciIterative(previous, current, 10);\n",
    "        System.Console.WriteLine();\n",
    "    }\n",
    "    static void DisplayFibonacciRecursive(int previous, int current, int count)\n",
    "    {\n",
    "        System.Console.Write(previous + \" \");\n",
    "        int next = current + previous;\n",
    "        previous = current;\n",
    "        count--;\n",
    "        if (count == 0) return;\n",
    "        DisplayFibonacciRecursive(current, next, count);\n",
    "    }\n",
    "    static void DisplayFibonacciIterative(int previous, int current, int count)\n",
    "    {\n",
    "        System.Console.Write(previous + \" \");\n",
    "        System.Console.Write(current + \" \");\n",
    "        int next;\n",
    "        for (int i = 2; i < count; i++)\n",
    "        {\n",
    "            next = previous + current;\n",
    "            System.Console.Write(next + \" \");\n",
    "            previous = current;\n",
    "            current = next;\n",
    "        }\n",
    "    }\n",
    "}\n",
    "\n",
    "FirstTenFibonacciNumbers.Main();"
   ]
  },
  {
   "cell_type": "code",
   "execution_count": null,
   "metadata": {},
   "outputs": [],
   "source": []
  }
 ],
 "metadata": {
  "kernelspec": {
   "display_name": ".NET (C#)",
   "language": "C#",
   "name": ".net-csharp"
  },
  "language_info": {
   "file_extension": ".cs",
   "mimetype": "text/x-csharp",
   "name": "C#",
   "pygments_lexer": "csharp",
   "version": "8.0"
  }
 },
 "nbformat": 4,
 "nbformat_minor": 4
}
