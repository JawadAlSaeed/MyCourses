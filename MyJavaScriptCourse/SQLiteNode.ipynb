{
 "cells": [
  {
   "cell_type": "markdown",
   "metadata": {},
   "source": [
    "# Local MySQL classicmodels Example"
   ]
  },
  {
   "cell_type": "code",
   "execution_count": null,
   "metadata": {},
   "outputs": [],
   "source": [
    "// See: https://www.sitepoint.com/using-node-mysql-javascript-client\n",
    "// See: https://stackoverflow.com/questions/44946270/er-not-supported-auth-mode-mysql-server\n",
    "//  -> install mysql server with legacy password authentication to avoid this problem\n",
    "//# https://www.mysqltutorial.org/mysql-sample-database.aspx\n",
    "//# https://www.mysqltutorial.org/how-to-load-sample-database-into-mysql-database-server.aspx\n",
    "\n",
    "const mysql = require('mysql');\n",
    "const connection = mysql.createConnection({\n",
    "  host: 'localhost',\n",
    "  user: 'root',\n",
    "  password: 'mysqlPa$$w0rd',\n",
    "  database: 'classicmodels'\n",
    "});\n",
    "connection.connect((err) => {\n",
    "  if (err) throw err;\n",
    "  console.log(\"connection.state: \" + connection.state);\n",
    "  connection.query(\"SHOW DATABASES\", function (err, result) {\n",
    "    if (err) throw err;\n",
    "    console.log(result);\n",
    "    connection.end();\n",
    "  });\n",
    "  connection.query(\"SELECT * FROM customers WHERE phone='40.32.2555'\", function (err, result, fields) {\n",
    "    if (err) throw err;\n",
    "    console.log(result);\n",
    "  });\n",
    "});"
   ]
  },
  {
   "cell_type": "code",
   "execution_count": null,
   "metadata": {},
   "outputs": [],
   "source": []
  }
 ],
 "metadata": {
  "kernelspec": {
   "display_name": "Javascript (Node.js)",
   "language": "javascript",
   "name": "javascript"
  }
 },
 "nbformat": 4,
 "nbformat_minor": 4
}
