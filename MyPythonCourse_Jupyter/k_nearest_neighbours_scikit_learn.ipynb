{
 "cells": [
  {
   "cell_type": "markdown",
   "metadata": {},
   "source": [
    "# K Nearest Neighbours Scikit-Learn\n",
    "From: [github.com/TheAlgorithms/Python/blob/master/machine_learning/knn_sklearn.py](https://github.com/TheAlgorithms/Python/blob/master/machine_learning/knn_sklearn.py)"
   ]
  },
  {
   "cell_type": "code",
   "execution_count": 1,
   "metadata": {},
   "outputs": [
    {
     "name": "stdout",
     "output_type": "stream",
     "text": [
      "Target names: \n",
      " ['setosa' 'versicolor' 'virginica'] \n",
      "\n",
      " Features: \n",
      " ['sepal length (cm)', 'sepal width (cm)', 'petal length (cm)', 'petal width (cm)']\n",
      "\n",
      "New array: \n",
      " [[1, 2, 1, 4], [2, 3, 4, 5]]\n",
      "\n",
      "Target Names Prediction: \n",
      " ['setosa' 'virginica']\n"
     ]
    }
   ],
   "source": [
    "from sklearn.model_selection import train_test_split\n",
    "from sklearn.datasets import load_iris\n",
    "from sklearn.neighbors import KNeighborsClassifier\n",
    "\n",
    "# Load iris file\n",
    "iris = load_iris()\n",
    "iris.keys()\n",
    "\n",
    "\n",
    "print(f\"Target names: \\n {iris.target_names} \")\n",
    "print(f\"\\n Features: \\n {iris.feature_names}\")\n",
    "\n",
    "# Train set e Test set\n",
    "X_train, X_test, y_train, y_test = train_test_split(\n",
    "    iris[\"data\"], iris[\"target\"], random_state=4\n",
    ")\n",
    "\n",
    "# KNN\n",
    "\n",
    "knn = KNeighborsClassifier(n_neighbors=1)\n",
    "knn.fit(X_train, y_train)\n",
    "\n",
    "# new array to test\n",
    "X_new = [[1, 2, 1, 4], [2, 3, 4, 5]]\n",
    "\n",
    "prediction = knn.predict(X_new)\n",
    "\n",
    "print(\n",
    "    \"\\nNew array: \\n {}\"\n",
    "    \"\\n\\nTarget Names Prediction: \\n {}\".format(X_new, iris[\"target_names\"][prediction])\n",
    ")"
   ]
  },
  {
   "cell_type": "code",
   "execution_count": null,
   "metadata": {},
   "outputs": [],
   "source": []
  }
 ],
 "metadata": {
  "kernelspec": {
   "display_name": "Python 3",
   "language": "python",
   "name": "python3"
  },
  "language_info": {
   "codemirror_mode": {
    "name": "ipython",
    "version": 3
   },
   "file_extension": ".py",
   "mimetype": "text/x-python",
   "name": "python",
   "nbconvert_exporter": "python",
   "pygments_lexer": "ipython3",
   "version": "3.7.6"
  }
 },
 "nbformat": 4,
 "nbformat_minor": 4
}
