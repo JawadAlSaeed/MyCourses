{
 "cells": [
  {
   "cell_type": "markdown",
   "metadata": {},
   "source": [
    "# My Python Course\n",
    "\n",
    "* [Git](Git.ipynb)\n",
    "* [Free Python Learning Resources](free_python_learning_resources.ipynb)\n",
    "* [Getting Started](getting_started.ipynb)\n",
    "* [Syntax](syntax.ipynb)\n",
    "* [Data Types](data_types.ipynb)\n",
    "* [Expressions](expressions.ipynb)\n",
    "* [Several Examples](several_examples.ipynb)\n",
    "* [Custom Modules](custom_modules.ipynb)\n",
    "* [Math](math.ipynb)\n",
    "* [String](string.ipynb)\n",
    "* [Dictionaries and Sets](dictionaries_and_sets.ipynb)\n",
    "* [Sequence Slicing](sequence_slicing.ipynb)\n",
    "* [Functions](functions.ipynb)\n",
    "* [Classes](classes.ipynb)\n",
    "* [Control Statements](control_statements.ipynb)\n",
    "* [The with Keyword](the_with_keyword.ipynb)\n",
    "* [File IO](file_io.ipynb)\n",
    "* [CSV Parsing](csv_parsing.ipynb)\n",
    "* [JSON Parsing](json_parsing.ipynb)\n",
    "* [XML Parsing](xml_parsing.ipynb)\n",
    "* [Factorial](Factorial.ipynb)\n",
    "* [Queue](queue.ipynb)\n",
    "* [Stack](stack.ipynb)\n",
    "* [Binary Tree](binary_tree.ipynb)\n",
    "* [Sorting Algorithms](sorting_algorithms.ipynb)\n",
    "* [Search](search.ipynb)\n",
    "* [Comprehensions](comprehensions.ipynb)\n",
    "* [Decorators](decorators.ipynb)\n",
    "* [Matplotlib](matplotlib.ipynb)\n",
    "* [Numpy](numpy.ipynb)\n",
    "* [Scipy](scipy.ipynb)\n",
    "* [Probability and Statistics](probability_and_statistics.ipynb)\n",
    "* [Linear Regression](linear_regression.ipynb)\n",
    "* [Logistic Regression Learning Model](logistic_regression_learning_model.ipynb)\n",
    "* [Newton-Raphson Method](newton_raphson.ipynb)\n",
    "* [Decimal to Binary](http://localhost:8888/notebooks/Documents/MyPythonCourse_Jupyter/decimal_to_binary.ipynb)\n",
    "* [K Nearest Neighbours](k_nearest_neighbours.ipynb)\n",
    "* [K Nearest Neighbours Scikit-Learn](k_nearest_neighbours_scikit_learn.ipynb)\n",
    "* [Asynchrony, Concurrency, and Parallelism](asynchrony_concurrency_parallelism.ipynb)\n",
    "* [Machine Learning](machine_learning/index.ipynb)\n",
    "* [Microsoft Data Science Bootcamp Module 1](microsoft_data_science_bootcamp_module_1.ipynb)"
   ]
  },
  {
   "cell_type": "code",
   "execution_count": null,
   "metadata": {},
   "outputs": [],
   "source": []
  }
 ],
 "metadata": {
  "kernelspec": {
   "display_name": "Python 3",
   "language": "python",
   "name": "python3"
  },
  "language_info": {
   "codemirror_mode": {
    "name": "ipython",
    "version": 3
   },
   "file_extension": ".py",
   "mimetype": "text/x-python",
   "name": "python",
   "nbconvert_exporter": "python",
   "pygments_lexer": "ipython3",
   "version": "3.7.6"
  }
 },
 "nbformat": 4,
 "nbformat_minor": 4
}
