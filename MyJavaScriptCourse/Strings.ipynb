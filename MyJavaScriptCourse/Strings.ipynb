{
 "cells": [
  {
   "cell_type": "markdown",
   "metadata": {},
   "source": [
    "# Strings\n",
    "\n",
    "See: https://developer.mozilla.org/en-US/docs/Web/JavaScript/Reference/Global_Objects/String\n",
    "\n",
    "* The ```string``` type is a built-in primitive type (sequence of unicode characters)\n",
    "* The ```String``` global object is a constructor for creating a string\n",
    "* Literal strings are defined in single quotes (```'```) or double quotes (```\"```)\n",
    "* No distinction between single-quoted and double-quoted strings\n",
    "* Literal template strings are defined in backticks (``` ` ```)\n",
    "* String are immutable (operations that appear to modify a string actually just create a new string)"
   ]
  },
  {
   "cell_type": "code",
   "execution_count": 22,
   "metadata": {},
   "outputs": [
    {
     "name": "stdout",
     "output_type": "stream",
     "text": [
      "single-quoted string\n",
      "double-quoted string\n",
      "backtick-quoted string 7\n",
      "中文\n",
      "español\n",
      "русский\n",
      "日本語\n",
      "عربى\n",
      "עברית\n",
      "íslensku\n"
     ]
    }
   ],
   "source": [
    "console.log('single-quoted string');           // single-quoted string\n",
    "console.log(\"double-quoted string\");           // double-quoted string\n",
    "console.log(`backtick-quoted string ${3+4}`);  // backtick-quoted string (can have mutiple lines)\n",
    "console.log(\"中文\");                           // chinese\n",
    "console.log(\"español\");                        // spanish\n",
    "console.log(\"русский\");                        // russian\n",
    "console.log(\"日本語\");                         // japanese\n",
    "console.log(\"عربى\");                           // arabic\n",
    "console.log(\"עברית\");                           // hebrew\n",
    "console.log(\"íslensku\");                       // icelandic"
   ]
  },
  {
   "cell_type": "code",
   "execution_count": 23,
   "metadata": {},
   "outputs": [
    {
     "name": "stdout",
     "output_type": "stream",
     "text": [
      "string\n",
      "foobar\n",
      "6\n",
      "6\n",
      "undefined\n"
     ]
    }
   ],
   "source": [
    "str = \"foobar\";\n",
    "console.log(typeof(str)); // string\n",
    "console.log(str);\n",
    "console.log(str.length);  // 6\n",
    "str.length = 42;          // has no effect\n",
    "console.log(str.length);  // still 6\n",
    "str.foo = 42;             // try to create property named `foo` on the string object\n",
    "console.log(str.foo)      // undefined property"
   ]
  },
  {
   "cell_type": "code",
   "execution_count": 24,
   "metadata": {},
   "outputs": [
    {
     "name": "stdout",
     "output_type": "stream",
     "text": [
      "\n",
      "    The time has come,' the Walrus said,\n",
      "          To talk of many things:\n",
      "    Of shoes — and ships — and sealing-wax —\n",
      "          Of cabbages — and kings —\n",
      "    And why the sea is boiling hot —\n",
      "          And whether pigs have wings.\n",
      "\n"
     ]
    }
   ],
   "source": [
    "// Multi Line Strings are defined in a pair of backticks\n",
    "str = `\n",
    "    The time has come,' the Walrus said,\n",
    "          To talk of many things:\n",
    "    Of shoes — and ships — and sealing-wax —\n",
    "          Of cabbages — and kings —\n",
    "    And why the sea is boiling hot —\n",
    "          And whether pigs have wings.\n",
    "`\n",
    "console.log(str);"
   ]
  },
  {
   "cell_type": "markdown",
   "metadata": {},
   "source": [
    "## Escape Notation\n",
    "\n",
    "* ```\\'``` \tsingle quote\n",
    "* ```\\\"``` \tdouble quote\n",
    "* ```\\\\``` \tbackslash\n",
    "* ```\\n``` \tnew line\n",
    "* ```\\r``` \tcarriage return\n",
    "* ```\\v``` \tvertical tab\n",
    "* ```\\t``` \ttab\n",
    "* ```\\b``` \tbackspace\n",
    "* ```\\f``` \tform feed\n",
    "* ```\\XXX``` where XXX is 1–3 octal digits in range of 0–377 (Unicode code point)\n",
    "* ```\\uXXXX``` where XXXX is 4 hex digits in range of 0x0000–0xFFFF (Unicode code point)\n",
    "* ```\\``` at the end of a line indicates that the string continues on the next line"
   ]
  },
  {
   "cell_type": "code",
   "execution_count": 27,
   "metadata": {},
   "outputs": [
    {
     "name": "stdout",
     "output_type": "stream",
     "text": [
      "\"\n",
      "'\n",
      "\\\n",
      "?\n",
      "\"\n",
      "答\n",
      "hello world\n"
     ]
    }
   ],
   "source": [
    "console.log(\"\\\"\");     // \"\n",
    "console.log('\\'');     // '\n",
    "console.log(\"\\\\\");     // \\\n",
    "console.log(\"\\x3f\");   // ? (Unicode -> 3f base 16 = 63 base 10 = question mark character)\n",
    "console.log(\"\\42\");    // \" (Unicode -> 42 base 8 = 34 in base 10 = double quote character)\n",
    "console.log(\"\\u7B54\"); // 答\n",
    "\n",
    "console.log(\"hello \\\n",
    "world\");               // hello world"
   ]
  },
  {
   "cell_type": "markdown",
   "metadata": {},
   "source": [
    "## Character Access\n",
    "\n",
    "* ```String.prototype.charAt()``` returns new string containing the single character specified offset \n",
    "* Array-style index syntax can also be used to get the single character specified offset in a string"
   ]
  },
  {
   "cell_type": "code",
   "execution_count": 31,
   "metadata": {},
   "outputs": [
    {
     "name": "stdout",
     "output_type": "stream",
     "text": [
      "e\n",
      "e\n"
     ]
    }
   ],
   "source": [
    "console.log('hello'.charAt(1)); // e\n",
    "console.log('hello'[1]);        // e"
   ]
  },
  {
   "cell_type": "markdown",
   "metadata": {},
   "source": [
    "## Comparing Strings\n",
    "\n",
    "* You can compare strings using less-than and greater-than operators\n",
    "* Similar result can be achieved using the localeCompare() method\n",
    "* ```a == b``` compares strings a and b for being equal in case-sensitive manner\n",
    "* For case-insensitive comparison, use the ```toUpperCase()``` method on each string"
   ]
  },
  {
   "cell_type": "code",
   "execution_count": 32,
   "metadata": {},
   "outputs": [
    {
     "name": "stdout",
     "output_type": "stream",
     "text": [
      "hello is less than world\n"
     ]
    }
   ],
   "source": [
    "let str1 = 'hello'\n",
    "let str2 = 'world'\n",
    "if (str1 < str2) { // true\n",
    "    console.log(str1 + ' is less than ' + str2)\n",
    "} else if (str1 > str2) {\n",
    "    console.log(str1 + ' is greater than ' + str3)\n",
    "} else {\n",
    "    console.log(str1 + ' and ' + str2 + ' are equal')\n",
    "}"
   ]
  },
  {
   "cell_type": "markdown",
   "metadata": {},
   "source": [
    "## The ```String.prototype.length``` property\n",
    "\n",
    "* Gets the length of the string\n",
    "* Read-only property"
   ]
  },
  {
   "cell_type": "code",
   "execution_count": 37,
   "metadata": {},
   "outputs": [
    {
     "name": "stdout",
     "output_type": "stream",
     "text": [
      "5\n",
      "5\n"
     ]
    }
   ],
   "source": [
    " console.log(\"hello\".length);   // 5\n",
    "\"hello\".length = 42;            // no effect\n",
    " console.log(\"hello\".length);   // still 5"
   ]
  },
  {
   "cell_type": "markdown",
   "metadata": {},
   "source": [
    "## Instance Methods\n",
    "* ```String.prototype.charAt(index)``` returns the character (exactly one UTF-16 code unit) at the specified index\n",
    "* ```String.prototype.charCodeAt(index)``` returns a number that is the UTF-16 code unit value at the given index\n",
    "* ```String.prototype.codePointAt(pos)``` returns a nonnegative integer Number that is the code point value of the UTF-16 encoded code point starting at the specified pos\n",
    "* ```String.prototype.concat(str [, ...strN ])``` combines the text of two (or more) strings and returns a new string\n",
    "* ```String.prototype.includes(searchString [, position])``` determines whether the calling string contains searchString\n",
    "* ```String.prototype.endsWith(searchString [, length])``` Determines whether a string ends with the characters of the string searchString\n",
    "* ```String.prototype.indexOf(searchValue [, fromIndex])``` returns the index within the calling String object of the first occurrence of searchValue, or -1 if not found\n",
    "* ```String.prototype.lastIndexOf(searchValue [, fromIndex])``` returns the index within the calling String object of the last occurrence of searchValue, or -1 if not found\n",
    "* ```String.prototype.localeCompare(compareString [, locales [, options]])``` returns a number indicating whether the reference string compareString comes before, after, or is equivalent to the given string in sort order\n",
    "* ```String.prototype.match(regexp)``` used to match regular expression regexp against a string\n",
    "* ```String.prototype.matchAll(regexp)``` returns an iterator of all regexp's matches\n",
    "* ```String.prototype.normalize([form])``` returns the Unicode Normalization Form of the calling string value\n",
    "* ```String.prototype.padEnd(targetLength [, padString])``` pads the current string from the end with a given string and returns a new string of the length targetLength\n",
    "* ```String.prototype.padStart(targetLength [, padString])``` pads the current string from the start with a given string and returns a new string of the length targetLength\n",
    "* ```String.prototype.repeat(count)``` returns a string consisting of the elements of the object repeated count times\n",
    "* ```String.prototype.replace(searchFor, replaceWith)``` used to replace occurrences of searchFor using replaceWith\n",
    "* ```String.prototype.search(regexp)``` search for a match between a regular expression regexp and the calling string\n",
    "* ```String.prototype.slice(beginIndex[, endIndex])``` extracts a section of a string and returns a new string\n",
    "* ```String.prototype.split([sep [, limit] ])``` returns an array of strings populated by splitting the calling string at occurences of the substring sep\n",
    "* ```String.prototype.startsWith(searchString [, length])``` determines whether the calling string begins with the characters of string searchString\n",
    "* ```String.prototype.substr()``` returns the characters in a string beginning at the specified location through the specified number of characters\n",
    "* ```String.prototype.substring(indexStart [, indexEnd])``` returns a new string containing characters of the calling string from (or between) the specified index (or indeces)\n",
    "* ```String.prototype.toLocaleLowerCase( [locale, ...locales])``` the characters within a string are converted to lowercase while respecting the current locale\n",
    "* ```String.prototype.toLocaleUpperCase( [locale, ...locales])``` the characters within a string are converted to uppercase while respecting the current locale\n",
    "* ```String.prototype.toLowerCase()``` returns the calling string value converted to lowercase\n",
    "* ```String.prototype.toString()``` returns a string representing the specified object.\n",
    "* ```String.prototype.toUpperCase()``` returns the calling string value converted to uppercase\n",
    "* ```String.prototype.trim()``` trims whitespace from the beginning and end of the string\n",
    "* ```String.prototype.trimStart()``` trims whitespace from the beginning of the string\n",
    "* ```String.prototype.trimEnd()``` trims whitespace from the end of the string\n",
    "* ```String.prototype.valueOf()``` returns the primitive value of the specified object.\n",
    "* ```String.prototype.@@iterator()``` returns a new Iterator object that iterates over the code points of a String value, returning each code point as a String value"
   ]
  },
  {
   "cell_type": "code",
   "execution_count": null,
   "metadata": {},
   "outputs": [],
   "source": []
  }
 ],
 "metadata": {
  "kernelspec": {
   "display_name": "Javascript (Node.js)",
   "language": "javascript",
   "name": "javascript"
  },
  "language_info": {
   "file_extension": ".js",
   "mimetype": "application/javascript",
   "name": "javascript",
   "version": "10.13.0"
  }
 },
 "nbformat": 4,
 "nbformat_minor": 2
}
