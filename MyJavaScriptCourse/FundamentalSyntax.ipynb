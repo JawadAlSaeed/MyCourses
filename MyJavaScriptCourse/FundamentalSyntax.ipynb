{
 "cells": [
  {
   "cell_type": "markdown",
   "metadata": {},
   "source": [
    "# Fundamental Syntax"
   ]
  },
  {
   "cell_type": "markdown",
   "metadata": {},
   "source": [
    "## JavaScript WAT! (the weird stuff)\n",
    "NOTE: Do a web search on \"JavaScript WAT!\" to see many more examples of strange JavaScript expressions"
   ]
  },
  {
   "cell_type": "code",
   "execution_count": 1,
   "metadata": {},
   "outputs": [
    {
     "name": "stdout",
     "output_type": "stream",
     "text": [
      "0 'number'\n",
      " string\n",
      "[object Object] string\n",
      "false string\n",
      "142 string\n",
      "421 string\n",
      "-41 'number'\n",
      "41 'number'\n",
      "0 'number'\n",
      "NaN 'number'\n",
      "NaN 'number'\n",
      "NaN 'number'\n"
     ]
    }
   ],
   "source": [
    "// JavaScript WAT! (the weird stuff)\n",
    "\n",
    "x = []*[]    // (empty array)  * (empty array)  -> number containing: 0\n",
    "console.log(x, typeof(x))\n",
    "x = []+[]    // (empty array)  * (empty array)  -> empty string\n",
    "console.log(x, typeof(x))\n",
    "x = []+{}    // (empty array)  + (empty object) -> string containing: \"[object Object]\"\n",
    "console.log(x, typeof(x))\n",
    "x = false+[] //  (boolean)     + (empty array)  -> string containing: \"false\"\n",
    "console.log(x, typeof(x))\n",
    "x = 1+\"42\"   // (number)       + (string)       -> string containing: \"142\"\n",
    "console.log(x, typeof(x))\n",
    "x = \"42\"+1   // (string)       + (number)       -> string containing: \"421\"\n",
    "console.log(x, typeof(x))\n",
    "x = 1-\"42\"   // (number)       + (string)       -> number containing: -41\n",
    "console.log(x, typeof(x))\n",
    "x = \"42\" -1  // (string)       - (number)       -> number containing: 41\n",
    "console.log(x, typeof(x))\n",
    "x = [] - []; // (empty array)  - (empty array)  -> number containing: 0\n",
    "console.log(x, typeof(x))\n",
    "x = {} - {}; // (empty object) - (empty object) -> number containing: NaN\n",
    "console.log(x, typeof(x))\n",
    "x = [] - {}; // (empty array)  - (empty object) -> number containing: NaN\n",
    "console.log(x, typeof(x))\n",
    "x = {} - []; // (empty object) - (empty array)  -> number containing: NaN\n",
    "console.log(x, typeof(x))\n",
    "\n",
    "// and many more..."
   ]
  },
  {
   "cell_type": "markdown",
   "metadata": {},
   "source": [
    "## Comments\n",
    "\n",
    "* JavaScript comments are ignored by the interpreter at runtime\n",
    "* JavaScript comments are used to explain JavaScript code to programmers\n",
    "* JavaScript comments can also be used to prevent execution during when devlopment, debugging, and experimenting with code\n",
    "* Single line comments start with ```//``` and end with the a new line\n",
    "* Multi line comments start with ```/*``` and end with ```*/``` that span any number of lines"
   ]
  },
  {
   "cell_type": "code",
   "execution_count": 2,
   "metadata": {},
   "outputs": [],
   "source": [
    "// Single Line Comment\n",
    "\n",
    "/*\n",
    "Multi-line comments start with slash star \n",
    "...and end with star slash.\n",
    "*/"
   ]
  },
  {
   "cell_type": "markdown",
   "metadata": {},
   "source": [
    "## Identifiers\n",
    "\n",
    "- An Identifier is a sequence of characters in code that identifies a variable, function, or property.\n",
    "- Identifiers can contain only alphanumeric characters or ```$``` or ```_```, but must not start with a numeric digit. "
   ]
  },
  {
   "cell_type": "markdown",
   "metadata": {},
   "source": [
    "## JavaScript is case-sensitive and uses Unicode"
   ]
  },
  {
   "cell_type": "code",
   "execution_count": 3,
   "metadata": {},
   "outputs": [
    {
     "name": "stdout",
     "output_type": "stream",
     "text": [
      "Það eru margar undur í höfuðkúpu.\n",
      "师父领进门，修行在\n"
     ]
    }
   ],
   "source": [
    "var Íslensk_orðatiltækis = \"Það eru margar undur í höfuðkúpu.\"; // Icelandic proverb\n",
    "console.log(Íslensk_orðatiltækis)\n",
    "var 中國諺語 = \"师父领进门，修行在\";                              // Chinese proverb\n",
    "console.log(中國諺語)"
   ]
  },
  {
   "cell_type": "markdown",
   "metadata": {},
   "source": [
    "## The var Statement\n",
    "\n",
    "* The var statement declares a variable and optionally initializes it to a value\n",
    "* All var declarations are hoisted and processed before any code is executed"
   ]
  },
  {
   "cell_type": "code",
   "execution_count": 4,
   "metadata": {},
   "outputs": [
    {
     "name": "stdout",
     "output_type": "stream",
     "text": [
      "2\n",
      "2\n"
     ]
    }
   ],
   "source": [
    "var x = 1;\n",
    "if (true) {\n",
    "  var x = 2;      // Not block scoped (hoisted and merged with x in outer global scope)\n",
    "  console.log(x); // 2\n",
    "}\n",
    "console.log(x);   // 2"
   ]
  },
  {
   "cell_type": "code",
   "execution_count": 15,
   "metadata": {},
   "outputs": [
    {
     "name": "stdout",
     "output_type": "stream",
     "text": [
      "2\n",
      "3\n",
      "3\n",
      "1\n"
     ]
    }
   ],
   "source": [
    "var x = 1;\n",
    "function func () {\n",
    "  var x = 2;        // hoisted in function scope only, not hoisted to global scope\n",
    "  console.log(x);   // 2\n",
    "  if (true) {\n",
    "    var x = 3;      // Not block scoped (hoisted and merged with x in outer function scope)\n",
    "    console.log(x); // 3\n",
    "  }\n",
    "  console.log(x);   // 3\n",
    "}\n",
    "func();\n",
    "console.log(x);     // 1"
   ]
  },
  {
   "cell_type": "markdown",
   "metadata": {},
   "source": [
    "## The let Statement\n",
    "* The let statement declares a block scope local variable and optionally initializes it to a value\n",
    "* Redeclaring variable with let in same function or block scope raises a SyntaxError. But note that you cannot use try-catch blocks to handle syntax errors as they are thrown at parse-time rather than at run-time."
   ]
  },
  {
   "cell_type": "code",
   "execution_count": 26,
   "metadata": {},
   "outputs": [
    {
     "name": "stdout",
     "output_type": "stream",
     "text": [
      "2\n",
      "1\n"
     ]
    }
   ],
   "source": [
    "{ // use block scope to avoid scopes from earlier cells\n",
    "let x = 1;\n",
    "if (x === 1) {\n",
    "  let x = 2;      // Bock scoped (not hoisted and merged with x in outer scope)\n",
    "  console.log(x); // 2\n",
    "}\n",
    "console.log(x);   // 1\n",
    "}"
   ]
  },
  {
   "cell_type": "code",
   "execution_count": 25,
   "metadata": {},
   "outputs": [
    {
     "name": "stdout",
     "output_type": "stream",
     "text": [
      "2\n",
      "3\n",
      "2\n",
      "1\n"
     ]
    }
   ],
   "source": [
    "{ // use block scope to avoid scopes from earlier cells\n",
    "let x = 1;\n",
    "function func () {\n",
    "  let x = 2;        // hoisted in function scope only, not hoisted to global scope\n",
    "  console.log(x);   // 2\n",
    "  if (true) {\n",
    "    let x = 3;      // Not block scoped (hoisted and merged with x in outer function scope)\n",
    "    console.log(x); // 3\n",
    "  }\n",
    "  console.log(x);   // 2\n",
    "}\n",
    "func();\n",
    "console.log(x);     // 1\n",
    "}"
   ]
  },
  {
   "cell_type": "markdown",
   "metadata": {},
   "source": [
    "## The const Statement\n",
    "* Declares a read-only block-scoped constant with mandatory initiazation\n",
    "* Redeclaring variable with const in same function or block scope raises a SyntaxError. But note that you cannot use try-catch blocks to handle syntax errors as they are thrown at parse-time rather than at run-time."
   ]
  },
  {
   "cell_type": "code",
   "execution_count": 12,
   "metadata": {},
   "outputs": [
    {
     "name": "stdout",
     "output_type": "stream",
     "text": [
      "TypeError Assignment to constant variable.\n",
      "42\n"
     ]
    }
   ],
   "source": [
    "{ // use block scope to avoid scopes from earlier cells\n",
    "const ANSWER = 42;\n",
    "try {\n",
    "  ANSWER = 99;\n",
    "} catch(err) {\n",
    "  console.log(err.name, err.message); // TypeError Assignment to constant variable.\n",
    "}\n",
    "console.log(ANSWER); // 42\n",
    "}"
   ]
  },
  {
   "cell_type": "markdown",
   "metadata": {},
   "source": [
    "## Operators\n",
    "\n",
    "* xxx"
   ]
  },
  {
   "cell_type": "markdown",
   "metadata": {},
   "source": [
    "## Abstract Comparison vs Strict Comparison"
   ]
  },
  {
   "cell_type": "code",
   "execution_count": 11,
   "metadata": {},
   "outputs": [
    {
     "name": "stdout",
     "output_type": "stream",
     "text": [
      "42\n",
      "true\n",
      "true\n",
      "true\n",
      "false\n"
     ]
    }
   ],
   "source": [
    "// A single equals sign (=) is used to assign a value to a variable.\n",
    "var foo = 42\n",
    "console.log(foo)\n",
    "\n",
    "// A double equals sign (==) is used for abstract comparison between two values (values may undergo type coercion)\n",
    "console.log(foo==42)    // true (numberic variable foo is 42 which is equal to the numberic literal 42)\n",
    "console.log(foo==\"42\")  // true (foo is coerced to the string \"42\" which is equal to the string literal \"42\")\n",
    "\n",
    "// A triple equals sign (===) is used for strict comparison between two values (values never undergo type coercion)\n",
    "console.log(foo===42)   // true (numberic variable foo is 42 which is equal to the numberic literal 42)\n",
    "console.log(foo===\"42\") // false (non-coerced variable foo is 42 which is not equal to the string literal \"42\")"
   ]
  },
  {
   "cell_type": "markdown",
   "metadata": {},
   "source": [
    "## Statements vs Expressions\n",
    "\n",
    "### Expressions\n",
    "\n",
    "* Expressions produce a resulting value of a particular data type.\n",
    "* They are used as:\n",
    "   - values on the right side of assignment statements\n",
    "   - arguments passed into function calls\n",
    "   - etc.\n",
    "* Expression examples:\n",
    "   - ```42                    // returns literal numeric expression```\n",
    "   - ```3 * 7                 // expressions can be composed of operators and operands```\n",
    "   - ```\"hello \" + 'world'    // returns concatenated string 'hello world'```\n",
    "   - ```new Date().getTime()  // function returns milliseconds since 1 January 1970 00:00:00```\n",
    "   - ```x >= 0 ? x : -x;      // ternary expression that returns the absolute value of x```\n",
    "   \n",
    "### Statements\n",
    "\n",
    "* Statements perform actions:\n",
    "* They are used to:\n",
    "   - Declare and/or assign a value to a variable\n",
    "   - Control the flow of code execution (if-else decisions, for loops, switch statements, etc.)\n",
    "   - Perform IO\n",
    "   - Query a database\n",
    "   - etc.\n",
    "* A program is executed as a sequence of statements\n",
    "* Statements are composed of one or more expressions and most statements end with a semicolon\n",
    "* Statement examples:\n",
    "   - ```var x = 42;                      // declare and initialize a variable```\n",
    "   - ```console.log(42);                 // write data to standard console output```\n",
    "   - ```if (x===42) {console.log('yup')} // if statement to control execution flow```"
   ]
  },
  {
   "cell_type": "code",
   "execution_count": null,
   "metadata": {},
   "outputs": [],
   "source": []
  }
 ],
 "metadata": {
  "kernelspec": {
   "display_name": "Javascript (Node.js)",
   "language": "javascript",
   "name": "javascript"
  },
  "language_info": {
   "file_extension": ".js",
   "mimetype": "application/javascript",
   "name": "javascript",
   "version": "10.13.0"
  }
 },
 "nbformat": 4,
 "nbformat_minor": 2
}
