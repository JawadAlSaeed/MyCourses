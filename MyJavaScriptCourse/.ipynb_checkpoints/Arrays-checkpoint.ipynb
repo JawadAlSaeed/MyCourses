{
 "cells": [
  {
   "cell_type": "markdown",
   "metadata": {},
   "source": [
    "# Arrays\n",
    "\n",
    "* ```Array``` objects are ordered collection objects that are indexed by zero-based integer position\n",
    "* Neither the length of an array nor the types of its elements are fixed\n",
    "\n",
    "### Array Properties\n",
    "\n",
    "* ```Array.prototype``` allows you to add new properties and methods to an Array object\n",
    "* ```Array.prototype.length``` immutable property that indicates the number of elements in an array\n",
    "\n",
    "### Array Methods\n",
    "\n",
    "* ```Array.prototype.concat()``` returns a new array that is this array joined with other array(s) and/or value(s)\n",
    "* ```Array.prototype.copyWithin()``` copies a sequence of array elements within the array\n",
    "* ```Array.prototype.entries()``` returns a new Array Iterator object that contains the key/value pairs for each index in the array\n",
    "* ```Array.prototype.every()``` returns true if every element in this array satisfies the testing callbackFn\n",
    "* ```Array.prototype.fill()``` fills all elements of array from start index to end index with static value\n",
    "* ```Array.prototype.filter()``` returns new array containing all elements of calling array for which provided filtering callbackFn returns true\n",
    "* ```Array.prototype.find()``` returns found element in array if some element in array satisfies testing callbackFn, or undefined if not found\n",
    "* ```Array.prototype.findIndex()``` returns found index in array, if an element in array satisfies testing callbackFn, or -1 if not found\n",
    "* ```Array.prototype.forEach()``` calls a callbackFn for each element in array\n",
    "* ```Array.prototype.includes()``` determines whether array contains valueToFind, returning true or false as appropriate\n",
    "* ```Array.prototype.indexOf()``` returns first (least) index of element within array equal to searchElement, or -1 if none is found\n",
    "* ```Array.prototype.join()``` joins all elements of array into string\n",
    "* ```Array.prototype.keys()``` returns new Array Iterator that contains keys for each index in array\n",
    "* ```Array.prototype.lastIndexOf()``` returns last index of element within array equal to searchElement, or -1 if not found\n",
    "* ```Array.prototype.map()``` returns new array containing results of calling callbackFn on every element in array\n",
    "* ```Array.prototype.pop()``` removes last element from array and returns that element\n",
    "* ```Array.prototype.push()``` adds one or more elements to end of array, and returns new length of array\n",
    "* ```Array.prototype.reduce()``` apply callbackFn against accumulator and each value of array to reduce it to single value\n",
    "* ```Array.prototype.reduceRight()``` apply callbackFn against accumulator and each value of array to reduce it to single value\n",
    "* ```Array.prototype.reverse()``` reverses order of elements of an array in place\n",
    "* ```Array.prototype.shift()``` removes the first element from an array and returns that element\n",
    "* ```Array.prototype.slice()``` extracts a section of the calling array and returns a new array\n",
    "* ```Array.prototype.some()``` returns true if at least one element in this array satisfies the provided testing callbackFn\n",
    "* ```Array.prototype.sort()``` sorts the elements of an array in place and returns the array\n",
    "* ```Array.prototype.splice()``` adds and/or removes elements from an array\n",
    "* ```Array.prototype.toLocaleString()``` returns a localized string representing the array\n",
    "* ```Array.prototype.toString()``` returns a string representing the array and its elements\n",
    "* ```Array.prototype.unshift()``` adds one or more elements to the front of an array, and returns the new length of the array\n",
    "* ```Array.prototype.values()``` returns a new Array Iterator object that contains the values for each index in the array\n",
    "* ```Array.prototype[@@iterator]()``` returns a new Array Iterator object that contains the values for each index in the array"
   ]
  },
  {
   "cell_type": "code",
   "execution_count": 5,
   "metadata": {},
   "outputs": [
    {
     "name": "stdout",
     "output_type": "stream",
     "text": [
      "[ 'Apple', 'Orange' ]\n",
      "Apple\n",
      "Orange\n",
      "undefined\n",
      "2\n"
     ]
    }
   ],
   "source": [
    "var fruitList = ['Apple', 'Orange'];\n",
    "console.log(fruitList);                             // [ 'Apple', 'Orange' ]\n",
    "console.log(fruitList[0]);                          // Apple\n",
    "console.log(fruitList[1]);                          // Orange\n",
    "console.log(fruitList[2]);                          // undefined\n",
    "console.log(fruitList.length)                       // 2"
   ]
  },
  {
   "cell_type": "code",
   "execution_count": 6,
   "metadata": {},
   "outputs": [
    {
     "name": "stdout",
     "output_type": "stream",
     "text": [
      "2\n",
      "Apple\n",
      "Orange\n",
      "undefined\n",
      "[ 'Apple', 'Orange' ]\n"
     ]
    }
   ],
   "source": [
    "console.log(fruitList.length);                     // 2\n",
    "console.log(fruitList[0]);                         // Apple\n",
    "console.log(fruitList[1]);                         // Orange\n",
    "console.log(fruitList[2]);                         // undefined\n",
    "var lastFruit = fruitList[fruitList.length - 1];\n",
    "console.log(fruitList)                             // [ 'Apple', 'Orange' ]"
   ]
  },
  {
   "cell_type": "code",
   "execution_count": 7,
   "metadata": {},
   "outputs": [
    {
     "name": "stdout",
     "output_type": "stream",
     "text": [
      "0 'Apple'\n",
      "1 'Orange'\n"
     ]
    }
   ],
   "source": [
    "fruitList.forEach(function(item, index, array) {\n",
    "  console.log(index, item);\n",
    "});"
   ]
  },
  {
   "cell_type": "code",
   "execution_count": 8,
   "metadata": {},
   "outputs": [
    {
     "name": "stdout",
     "output_type": "stream",
     "text": [
      "3\n",
      "[ 'Apple', 'Orange', 'Peach' ]\n"
     ]
    }
   ],
   "source": [
    "var newLength = fruitList.push('Peach');\n",
    "console.log(newLength);                              // 3\n",
    "console.log(fruitList);                              // [ 'Apple', 'Orange', 'Peach' ]"
   ]
  },
  {
   "cell_type": "code",
   "execution_count": 9,
   "metadata": {},
   "outputs": [
    {
     "name": "stdout",
     "output_type": "stream",
     "text": [
      "Peach\n",
      "2\n",
      "[ 'Apple', 'Orange' ]\n"
     ]
    }
   ],
   "source": [
    "var lastFruit = fruitList.pop();\n",
    "console.log(lastFruit);                              // Peach\n",
    "console.log(fruitList.length);                       // 2\n",
    "console.log(fruitList);                              // [ 'Apple', 'Orange' ]"
   ]
  },
  {
   "cell_type": "code",
   "execution_count": 10,
   "metadata": {},
   "outputs": [
    {
     "name": "stdout",
     "output_type": "stream",
     "text": [
      "Apple\n",
      "1\n",
      "[ 'Orange' ]\n"
     ]
    }
   ],
   "source": [
    "var firstFruit = fruitList.shift();\n",
    "console.log(firstFruit);                            // Apple\n",
    "console.log(fruitList.length);                      // 1\n",
    "console.log(fruitList);                             // [ 'Orange' ]"
   ]
  },
  {
   "cell_type": "code",
   "execution_count": 11,
   "metadata": {},
   "outputs": [
    {
     "name": "stdout",
     "output_type": "stream",
     "text": [
      "2\n",
      "[ 'Mango', 'Orange' ]\n"
     ]
    }
   ],
   "source": [
    "var newLength = fruitList.unshift(\"Mango\")\n",
    "console.log(newLength);                             // 2\n",
    "console.log(fruitList);                             // [ 'Mango', 'Orange' ]"
   ]
  },
  {
   "cell_type": "code",
   "execution_count": 12,
   "metadata": {},
   "outputs": [
    {
     "name": "stdout",
     "output_type": "stream",
     "text": [
      "1\n",
      "-1\n",
      "[ 'Mango', 'Orange' ]\n"
     ]
    }
   ],
   "source": [
    "var positionOrange = fruitList.indexOf('Orange');\n",
    "console.log(positionOrange)                         // 1\n",
    "var positionBanana = fruitList.indexOf('Banana');\n",
    "console.log(positionBanana)                         // -1\n",
    "console.log(fruitList);                             // [ 'Mango', 'Orange' ]"
   ]
  },
  {
   "cell_type": "code",
   "execution_count": 16,
   "metadata": {},
   "outputs": [
    {
     "name": "stdout",
     "output_type": "stream",
     "text": [
      "[ 'Mango', 'Orange' ]\n",
      "[ 'Orange' ]\n",
      "[ 'Mango' ]\n"
     ]
    }
   ],
   "source": [
    "fruitList = [ 'Mango', 'Orange' ]\n",
    "var pos = 1;\n",
    "console.log(fruitList);                             // [ 'Mango', 'Orange' ]\n",
    "var removedItem = fruitList.splice(pos, 1);\n",
    "console.log(removedItem);                           // [ 'Orange' ]\n",
    "console.log(fruitList);                             // [ 'Mango' ]"
   ]
  },
  {
   "cell_type": "code",
   "execution_count": 17,
   "metadata": {},
   "outputs": [
    {
     "name": "stdout",
     "output_type": "stream",
     "text": [
      "[ 'Mango' ]\n"
     ]
    }
   ],
   "source": [
    "var fruitListShallowCopy = fruitList.slice()\n",
    "console.log(fruitListShallowCopy)                   // [ 'Mango' ]"
   ]
  },
  {
   "cell_type": "code",
   "execution_count": 18,
   "metadata": {},
   "outputs": [
    {
     "name": "stdout",
     "output_type": "stream",
     "text": [
      "[ 'Potatoes', 'Turnips', 'Parsnips', 'Carrots' ]\n",
      "[ 'Potatoes', 'Carrots' ]\n",
      "[ 'Turnips', 'Parsnips' ]\n"
     ]
    }
   ],
   "source": [
    "var vegetableList = ['Potatoes', 'Turnips', 'Parsnips', 'Carrots'];\n",
    "console.log(vegetableList);                         // [ 'Potatoes', 'Turnips', 'Parsnips', 'Carrots' ]\n",
    "var pos = 1, n = 2;\n",
    "var removedvegetables = vegetableList.splice(pos, n);\n",
    "console.log(vegetableList);                         // [ 'Potatoes', 'Carrots' ]\n",
    "console.log(removedvegetables);                     // [ 'Turnips', 'Parsnips' ]"
   ]
  },
  {
   "cell_type": "code",
   "execution_count": 19,
   "metadata": {},
   "outputs": [
    {
     "name": "stdout",
     "output_type": "stream",
     "text": [
      "[ '0', '1', '2' ]\n",
      "[ 'red', 'green', 'blue' ]\n"
     ]
    }
   ],
   "source": [
    "colorList = ['red', 'green', 'blue']\n",
    "console.log(Object.keys(colorList))                // [ '0', '1', '2' ]\n",
    "console.log(Object.values(colorList))              // [ 'red', 'green', 'blue' ]"
   ]
  },
  {
   "cell_type": "code",
   "execution_count": 20,
   "metadata": {},
   "outputs": [
    {
     "name": "stdout",
     "output_type": "stream",
     "text": [
      "[] 'object' true\n"
     ]
    }
   ],
   "source": [
    "{\n",
    "    let arr = new Array();\n",
    "    console.log(arr, typeof(arr), Array.isArray(arr)) // [] 'object' true\n",
    "}"
   ]
  },
  {
   "cell_type": "code",
   "execution_count": null,
   "metadata": {},
   "outputs": [],
   "source": []
  }
 ],
 "metadata": {
  "kernelspec": {
   "display_name": "Javascript (Node.js)",
   "language": "javascript",
   "name": "javascript"
  },
  "language_info": {
   "file_extension": ".js",
   "mimetype": "application/javascript",
   "name": "javascript",
   "version": "10.13.0"
  }
 },
 "nbformat": 4,
 "nbformat_minor": 2
}
