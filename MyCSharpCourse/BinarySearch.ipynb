{
 "cells": [
  {
   "cell_type": "markdown",
   "metadata": {},
   "source": [
    "# Binary Search\n",
    "\n",
    "See: https://github.com/TheAlgorithms/C-Sharp/blob/master/Algorithms/Search/BinarySearcher.cs"
   ]
  },
  {
   "cell_type": "code",
   "execution_count": 1,
   "metadata": {},
   "outputs": [],
   "source": [
    "using System;"
   ]
  },
  {
   "cell_type": "code",
   "execution_count": 2,
   "metadata": {},
   "outputs": [],
   "source": [
    "public class ItemNotFoundException : ApplicationException { }"
   ]
  },
  {
   "cell_type": "code",
   "execution_count": 3,
   "metadata": {},
   "outputs": [],
   "source": [
    "/// <summary>\n",
    "/// TODO.\n",
    "/// </summary>\n",
    "/// <typeparam name=\"T\">TODO. 2.</typeparam>\n",
    "public class BinarySearch<T> where T : IComparable<T>\n",
    "{\n",
    "    /// <summary>\n",
    "    /// Finds index of item in array that equals to item searched for,\n",
    "    /// time complexity: O(log(n)),\n",
    "    /// space complexity: O(1),\n",
    "    /// where n - array size.\n",
    "    /// </summary>\n",
    "    /// <param name=\"sortedData\">Sorted array to search in.</param>\n",
    "    /// <param name=\"item\">Item to search for.</param>\n",
    "    /// <returns>Index of item that equals to item searched for or -1 if none found.</returns>\n",
    "    public int FindIndex(T[] sortedData, T item)\n",
    "    {\n",
    "        var leftIndex = 0;\n",
    "        var rightIndex = sortedData.Length - 1;\n",
    "\n",
    "        while (leftIndex <= rightIndex)\n",
    "        {\n",
    "            var middleIndex = leftIndex + (rightIndex - leftIndex) / 2;\n",
    "\n",
    "            if (item.CompareTo(sortedData[middleIndex]) > 0)\n",
    "            {\n",
    "                leftIndex = middleIndex + 1;\n",
    "                continue;\n",
    "            }\n",
    "\n",
    "            if (item.CompareTo(sortedData[middleIndex]) < 0)\n",
    "            {\n",
    "                rightIndex = middleIndex - 1;\n",
    "                continue;\n",
    "            }\n",
    "\n",
    "            return middleIndex;\n",
    "        }\n",
    "\n",
    "        return -1;\n",
    "    }\n",
    "}"
   ]
  },
  {
   "cell_type": "code",
   "execution_count": 4,
   "metadata": {},
   "outputs": [
    {
     "name": "stdout",
     "output_type": "stream",
     "text": [
      "4\n",
      "-1\n"
     ]
    }
   ],
   "source": [
    "int[] list = { 1, 2, 6, 9, 13, 42, 77, 92, 99 }; // must be in ascending sorted order for binary search\n",
    "\n",
    "BinarySearch<int> bs = new BinarySearch<int>();\n",
    "\n",
    "Console.WriteLine(bs.FindIndex(list, 13));\n",
    "\n",
    "try {\n",
    "    Console.WriteLine(bs.FindIndex(list, 100));\n",
    "}\n",
    "catch (ItemNotFoundException e) {\n",
    "    Console.WriteLine(\"Item notFound\");\n",
    "}"
   ]
  },
  {
   "cell_type": "code",
   "execution_count": null,
   "metadata": {},
   "outputs": [],
   "source": []
  }
 ],
 "metadata": {
  "kernelspec": {
   "display_name": ".NET (C#)",
   "language": "C#",
   "name": ".net-csharp"
  },
  "language_info": {
   "file_extension": ".cs",
   "mimetype": "text/x-csharp",
   "name": "C#",
   "pygments_lexer": "csharp",
   "version": "8.0"
  }
 },
 "nbformat": 4,
 "nbformat_minor": 4
}
