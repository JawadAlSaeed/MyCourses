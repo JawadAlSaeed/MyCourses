{
 "cells": [
  {
   "cell_type": "markdown",
   "metadata": {},
   "source": [
    "# My Java Course\n",
    "\n",
    "See: https://www.cs.utexas.edu/~scottm/cs307/codingSamples.htm"
   ]
  },
  {
   "cell_type": "markdown",
   "metadata": {},
   "source": [
    "## Git\n",
    "* [Git](../MyGitCourse/git.ipynb)"
   ]
  },
  {
   "cell_type": "markdown",
   "metadata": {},
   "source": [
    "## Free Java Learning Resources\n",
    "\n",
    "* [Think Java](ThinkJava.ipynb)"
   ]
  },
  {
   "cell_type": "markdown",
   "metadata": {},
   "source": [
    "## Java Language\n",
    "\n",
    "* [Getting Started](GettingStarted.ipynb)\n",
    "* [Syntax Fundamentals](SyntaxFundamentals.ipynb)\n",
    "* [Operators and Expressions](OperatorsExpressions.ipynb)\n",
    "* [Control Structures](ControlStructures.ipynb)\n",
    "* [Exceptions](Exceptions.ipynb)\n",
    "* [Strings](Strings.ipynb)\n",
    "* [Arrays](Arrays.ipynb)\n",
    "* [Collections Framework](CollectionsFramework.ipynb)\n",
    "* [Classes and Interfaces](ClassesInterfaces.ipynb)\n",
    "* [Object List](ObjectList.ipynb)\n",
    "* [Enums](Enums.ipynb)\n",
    "* [Big Integer](BigInteger.ipynb)\n",
    "* [Files and Streams](FilesStreams.ipynb)\n",
    "* [Concurrency](Concurrency.ipynb)"
   ]
  },
  {
   "cell_type": "markdown",
   "metadata": {},
   "source": [
    "## Data Structures and Algorithms\n",
    "\n",
    "### Data Structures\n",
    "\n",
    "* [Queue](queue.ipynb)\n",
    "* [Deque](deque.ipynb)  \n",
    "* [Stack](stack.ipynb)\n",
    "* [Binary Tree](binary_tree.ipynb)\n",
    "\n",
    "### Sort and Search Algorithms\n",
    "\n",
    "* [Big O Notation]()\n",
    "* [Sort Algorithms](SortAlgorithms.ipynb)\n",
    "* [Search Algorithms]()\n",
    "\n",
    "### Various Other Algorithms \n",
    "* [Factorial](Factorial.ipynb)\n",
    "* [Primes](Primes.ipynb)\n",
    "* [Newton-Raphson Method](NewtonRaphson.ipynb)\n",
    "* [xxx]()"
   ]
  },
  {
   "cell_type": "code",
   "execution_count": null,
   "metadata": {},
   "outputs": [],
   "source": []
  }
 ],
 "metadata": {
  "kernelspec": {
   "display_name": "Java",
   "language": "java",
   "name": "java"
  },
  "language_info": {
   "codemirror_mode": "java",
   "file_extension": ".jshell",
   "mimetype": "text/x-java-source",
   "name": "Java",
   "pygments_lexer": "java",
   "version": "13.0.2+8"
  }
 },
 "nbformat": 4,
 "nbformat_minor": 4
}
