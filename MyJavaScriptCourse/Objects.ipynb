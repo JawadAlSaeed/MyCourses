{
 "cells": [
  {
   "cell_type": "markdown",
   "metadata": {},
   "source": [
    "# Objects\n",
    "\n",
    "* xxx"
   ]
  },
  {
   "cell_type": "code",
   "execution_count": 3,
   "metadata": {},
   "outputs": [
    {
     "name": "stdout",
     "output_type": "stream",
     "text": [
      "{}\n",
      "{ prop1: 42, prop2: 'Hello' }\n",
      "{ prop1: 13, prop2: 'Hello', method1: [Function] }\n",
      "7\n"
     ]
    }
   ],
   "source": [
    "obj = {}\n",
    "console.log(obj);\n",
    "obj.prop1 = 42;\n",
    "obj.prop2 = \"Hello\";\n",
    "console.log(obj);\n",
    "obj.method1 = (x, y) => x + y;\n",
    "obj.prop1 = 13;\n",
    "console.log(obj);\n",
    "console.log(obj.method1(3, 4));"
   ]
  },
  {
   "cell_type": "code",
   "execution_count": 4,
   "metadata": {},
   "outputs": [
    {
     "name": "stdout",
     "output_type": "stream",
     "text": [
      "{ firstName: 'Sally', lastName: 'Jones' }\n"
     ]
    }
   ],
   "source": [
    "obj = {\n",
    "    firstName: 'Sally',\n",
    "    lastName: 'Jones'\n",
    "}\n",
    "console.log(obj);"
   ]
  },
  {
   "cell_type": "code",
   "execution_count": null,
   "metadata": {},
   "outputs": [],
   "source": []
  }
 ],
 "metadata": {
  "kernelspec": {
   "display_name": "Javascript (Node.js)",
   "language": "javascript",
   "name": "javascript"
  },
  "language_info": {
   "file_extension": ".js",
   "mimetype": "application/javascript",
   "name": "javascript",
   "version": "10.13.0"
  }
 },
 "nbformat": 4,
 "nbformat_minor": 4
}
