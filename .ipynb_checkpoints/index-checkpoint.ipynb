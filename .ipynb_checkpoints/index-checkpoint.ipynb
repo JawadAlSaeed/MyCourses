{
 "cells": [
  {
   "cell_type": "markdown",
   "metadata": {},
   "source": [
    "# SQL\n",
    "\n",
    "* xxx"
   ]
  },
  {
   "cell_type": "markdown",
   "metadata": {},
   "source": [
    "## MySQL Keywords\n",
    "\n",
    "* ```ADD``` Adds column to table\n",
    "* ```ADD CONSTRAINT``` Adds constraint to table\n",
    "* ```ALTER``` Adds, deletes, or modifies column value or data type in table\n",
    "* ```ALTER COLUMN``` Changes data type of column in table\n",
    "* ```ALTER TABLE``` Adds, deletes, or modifies columns in table\n",
    "* ```ALL``` Returns true if all subquery values meet condition\n",
    "* ```AND``` Only includes rows where both conditions true\n",
    "* ```ANY``` Returns true if any subquery values meet condition\n",
    "* ```AS``` Renames column or table with alias\n",
    "* ```ASC``` Sorts result set in ascending order\n",
    "* ```BACKUP DATABASE``` Creates back up of database\n",
    "* ```BETWEEN``` Selects values within a range\n",
    "* ```CASE``` Creates different outputs based on conditions\n",
    "* ```CHECK``` Sets constraint to limit values in column\n",
    "* ```COLUMN``` Changes data type of column or deletes column\n",
    "* ```CONSTRAINT``` Adds or deletes constraint\n",
    "* ```CREATE```Creates database, index, view, table, or procedure\n",
    "* ```CREATE DATABASE``` Creates SQL database\n",
    "* ```CREATE INDEX``` Creates index on table (allows duplicates)\n",
    "* ```CREATE OR REPLACE VIEW``` Updates view\n",
    "* ```CREATE TABLE``` Creates table in database\n",
    "* ```CREATE PROCEDURE``` Creates stored procedure\n",
    "* ```CREATE UNIQUE INDEX``` Creates unique index on table (no duplicates)\n",
    "* ```CREATE VIEW``` Creates view based on result set of SELECT statement\n",
    "* ```DATABASE``` Creates or deletes database\n",
    "* ```DEFAULT``` Provides default value for column\n",
    "* ```DELETE``` Deletes rows from table\n",
    "* ```DESC``` Sort result set in descending order\n",
    "* ```DISTINCT``` Select only distinct values\n",
    "* ```DROP``` Deletes column, constraint, database, index, table, or view\n",
    "* ```DROP COLUMN``` Delete column in table\n",
    "* ```DROP CONSTRAINT``` Deletes UNIQUE, PRIMARY KEY, FOREIGN KEY, or CHECK\n",
    "* ```DROP DATABASE``` Deletes SQL database\n",
    "* ```DROP DEFAULT``` Deletes DEFAULT constraint\n",
    "* ```DROP INDEX``` Deletes index in table\n",
    "* ```DROP TABLE``` Deletes table\n",
    "* ```DROP VIEW``` Deletes view\n",
    "* ```EXEC``` Executes stored procedure\n",
    "* ```EXISTS``` Tests for existence of any record in subquery\n",
    "* ```FOREIGN KEY``` Constraint on key used to relate two tables\n",
    "* ```FROM``` Specifies table to select or delete data\n",
    "* ```FULL OUTER JOIN``` Returns all rows where left or right tables match\n",
    "* ```GROUP BY``` Groups result set (COUNT, MAX, MIN, SUM, AVG)\n",
    "* ```HAVING``` Like WHERE but used with aggregate functions (COUNT, MAX, etc.)\n",
    "* ```IN``` Can specify multiple values in WHERE clause\n",
    "* ```INDEX``` Creates or deletes an index in table\n",
    "* ```INNER JOIN``` Returns rows that match values in both tables\n",
    "* ```INSERT INTO``` Inserts rows in table\n",
    "* ```INSERT INTO SELECT``` Copies data from one table into another\n",
    "* ```IS NULL``` Tests for empty values\n",
    "* ```IS NOT NULL``` Tests for non-empty values\n",
    "* ```JOIN``` Joins tables\n",
    "* ```LEFT JOIN``` Returns all rows from left, and matching rows from right\n",
    "* ```LIKE``` Searches for specified pattern in column\n",
    "* ```LIMIT``` Specifies maximum number of records to return in result set\n",
    "* ```NOT``` Only includes rows where condition not true\n",
    "* ```NOT NULL``` Constraint enforces column to not accept NULLs\n",
    "* ```OR``` Includes rows where either condition is true\n",
    "* ```ORDER BY``` Sorts result set in ascending/descending order\n",
    "* ```OUTER JOIN``` Returns all rows with match on left or right table\n",
    "* ```PRIMARY KEY``` Uniquely identifies every record in table\n",
    "* ```PROCEDURE``` A stored procedure\n",
    "* ```RIGHT JOIN``` Returns all rows from right and matching rows from left\n",
    "* ```ROWNUM``` Specifies number records to return in result set\n",
    "* ```SELECT``` Selects data from database\n",
    "* ```SELECT DISTINCT``` Selects only distinct values\n",
    "* ```SELECT INTO``` Copies data from one table to new table\n",
    "* ```SELECT TOP``` Specifies number of records to return in result set\n",
    "* ```SET``` Specifies columns and values to be updated in table\n",
    "* ```TABLE``` Creates table, modifies table, or deletes table\n",
    "* ```TOP``` Specifies number of records to return in result set\n",
    "* ```TRUNCATE TABLE``` Deletes data in table (not the actual table)\n",
    "* ```UNION``` Combines result sets of b SELECT statements (distinct results)\n",
    "* ```UNION ALL``` Combines result sets of b SELECT statements (all results)\n",
    "* ```UNIQUE``` A constraint that ensures that all values in column are unique\n",
    "* ```UPDATE``` Updates existing rows in table\n",
    "* ```VALUES``` Specifies values of INSERT INTO statement\n",
    "* ```VIEW``` Creates, updates, or deletes a view\n",
    "* ```WHERE``` Filters result to include only records that match condition\n"
   ]
  },
  {
   "cell_type": "markdown",
   "metadata": {},
   "source": [
    "## MySQL Functions\n"
   ]
  },
  {
   "cell_type": "markdown",
   "metadata": {},
   "source": [
    "### MySQL String Functions\n",
    "\n",
    "* xxx"
   ]
  },
  {
   "cell_type": "markdown",
   "metadata": {},
   "source": [
    "### MySQL Numeric Functions\n",
    "\n",
    "* xxx"
   ]
  },
  {
   "cell_type": "markdown",
   "metadata": {},
   "source": [
    "### MySQL Date Functions\n",
    "\n",
    "* xxx"
   ]
  },
  {
   "cell_type": "markdown",
   "metadata": {},
   "source": [
    "### MySQL Advanced Functions\n",
    "\n",
    "* xxx"
   ]
  },
  {
   "cell_type": "markdown",
   "metadata": {},
   "source": [
    "## SQL Arithmetic Operators"
   ]
  },
  {
   "cell_type": "markdown",
   "metadata": {},
   "source": [
    "### SQL Arithmetic Operators\n",
    "\n",
    "* ```+``` Add\n",
    "* ```-``` Subtract\n",
    "* ```*``` Multiply\n",
    "* ```/``` Divide\n",
    "* ```%``` Modulo"
   ]
  },
  {
   "cell_type": "markdown",
   "metadata": {},
   "source": [
    "### SQL Bitwise Operators\n",
    "\n",
    "* ```&``` Bitwise AND\n",
    "* ```|``` Bitwise OR\n",
    "* ```^``` Bitwise exclusive OR"
   ]
  },
  {
   "cell_type": "markdown",
   "metadata": {},
   "source": [
    "### SQL Comparison Operators\n",
    "\n",
    "* ```=``` Equal to\n",
    "* ```>``` Greater than\n",
    "* ```<``` Less than\n",
    "* ```>=``` Greater than or equal to\n",
    "* ```<=``` Less than or equal to\n",
    "* ```<>``` Not equal to"
   ]
  },
  {
   "cell_type": "markdown",
   "metadata": {},
   "source": [
    "### SQL Compound Operators\n",
    "\n",
    "* ```+=``` Add equals\n",
    "* ```-=``` Subtract equals\n",
    "* ```*=``` Multiply equals\n",
    "* ```/=``` Divide equals\n",
    "* ```%=``` Modulo equals\n",
    "* ```&=``` Bitwise AND equals\n",
    "* ```^-=``` Bitwise exclusive equals\n",
    "* ```|*=``` Bitwise OR equals"
   ]
  },
  {
   "cell_type": "markdown",
   "metadata": {},
   "source": [
    "### SQL Logical Operators\n",
    "\n",
    "* ```ALL``` TRUE if all of the subquery values meet the condition\t\n",
    "* ```AND``` TRUE if all the conditions separated by AND is TRUE\t\n",
    "* ```ANY``` TRUE if any of the subquery values meet the condition\t\n",
    "* ```BETWEEN``` TRUE if the operand is within the range of comparisons\t\n",
    "* ```EXISTS``` TRUE if the subquery returns one or more records\t\n",
    "* ```IN``` TRUE if the operand is equal to one of a list of expressions\t\n",
    "* ```LIKE``` TRUE if the operand matches a pattern\t\n",
    "* ```NOT``` Displays a record if the condition(s) is NOT TRUE\t\n",
    "* ```OR``` TRUE if any of the conditions separated by OR is TRUE\t\n",
    "* ```SOME``` TRUE if any of the subquery values meet the condition"
   ]
  },
  {
   "cell_type": "markdown",
   "metadata": {},
   "source": [
    "## Statement Examples"
   ]
  },
  {
   "cell_type": "code",
   "execution_count": null,
   "metadata": {},
   "outputs": [],
   "source": [
    "SELECT * FROM Customers;"
   ]
  }
 ],
 "metadata": {
  "kernelspec": {
   "display_name": "Python 3",
   "language": "python",
   "name": "python3"
  },
  "language_info": {
   "codemirror_mode": {
    "name": "ipython",
    "version": 3
   },
   "file_extension": ".py",
   "mimetype": "text/x-python",
   "name": "python",
   "nbconvert_exporter": "python",
   "pygments_lexer": "ipython3",
   "version": "3.7.6"
  }
 },
 "nbformat": 4,
 "nbformat_minor": 4
}
