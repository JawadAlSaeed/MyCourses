{
 "cells": [
  {
   "cell_type": "markdown",
   "metadata": {},
   "source": [
    "# Destructuring Assignments\n",
    "\n",
    "* Destructuring assignment syntax unpacks values from arrays or object properties (spread syntax)\n",
    "* Rest parameter syntax accepts an indefinite number of arguments as an array (rest syntax)"
   ]
  },
  {
   "cell_type": "code",
   "execution_count": 2,
   "metadata": {},
   "outputs": [
    {
     "name": "stdout",
     "output_type": "stream",
     "text": [
      "10\n",
      "20\n",
      "[ 30, 40, 50 ]\n"
     ]
    }
   ],
   "source": [
    "var a, b, rest;\n",
    "[a, b] = [10, 20];                        // spread syntax\n",
    "console.log(a);                           // 10\n",
    "console.log(b);                           // 20\n",
    "[a, b, ...rest] = [10, 20, 30, 40, 50];   // rest syntax\n",
    "console.log(rest);                        // [ 30, 40, 50 ]"
   ]
  },
  {
   "cell_type": "code",
   "execution_count": 2,
   "metadata": {},
   "outputs": [
    {
     "name": "stdout",
     "output_type": "stream",
     "text": [
      "6\n",
      "10\n"
     ]
    }
   ],
   "source": [
    "function sum(...theArgs) {\n",
    "  return theArgs.reduce((previous, current) => {\n",
    "    return previous + current;\n",
    "  });\n",
    "}\n",
    "console.log(sum(1, 2, 3));     // 6\n",
    "console.log(sum(1, 2, 3, 4));  // 10"
   ]
  },
  {
   "cell_type": "code",
   "execution_count": null,
   "metadata": {},
   "outputs": [],
   "source": []
  }
 ],
 "metadata": {
  "kernelspec": {
   "display_name": "Javascript (Node.js)",
   "language": "javascript",
   "name": "javascript"
  },
  "language_info": {
   "file_extension": ".js",
   "mimetype": "application/javascript",
   "name": "javascript",
   "version": "10.13.0"
  }
 },
 "nbformat": 4,
 "nbformat_minor": 2
}
