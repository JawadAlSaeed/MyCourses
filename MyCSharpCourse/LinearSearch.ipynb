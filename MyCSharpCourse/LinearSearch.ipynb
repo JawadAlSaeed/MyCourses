{
 "cells": [
  {
   "cell_type": "markdown",
   "metadata": {},
   "source": [
    "# Linear Search\n",
    "\n",
    "See: https://github.com/TheAlgorithms/C-Sharp/blob/master/Algorithms/Search/LinearSearcher.cs"
   ]
  },
  {
   "cell_type": "code",
   "execution_count": 1,
   "metadata": {},
   "outputs": [],
   "source": [
    "using System;"
   ]
  },
  {
   "cell_type": "code",
   "execution_count": 3,
   "metadata": {},
   "outputs": [],
   "source": [
    "public class ItemNotFoundException : ApplicationException { }"
   ]
  },
  {
   "cell_type": "code",
   "execution_count": 5,
   "metadata": {},
   "outputs": [],
   "source": [
    "/// <summary>\n",
    "/// Class that implements linear search algorithm.\n",
    "/// </summary>\n",
    "/// <typeparam name=\"T\">Type of array element.</typeparam>\n",
    "public class LinearSearch<T>\n",
    "{\n",
    "    /// <summary>\n",
    "    /// Finds first item in array that satisfies specified term\n",
    "    /// Time complexity: O(n)\n",
    "    /// Space complexity: O(1).\n",
    "    /// </summary>\n",
    "    /// <param name=\"data\">Array to search in.</param>\n",
    "    /// <param name=\"term\">Term to check against.</param>\n",
    "    /// <returns>First item that satisfies term.</returns>\n",
    "    public T Find(T[] data, Func<T, bool> term)\n",
    "    {\n",
    "        for (var i = 0; i < data.Length; i++)\n",
    "        {\n",
    "            if (term(data[i]))\n",
    "            {\n",
    "                return data[i];\n",
    "            }\n",
    "        }\n",
    "\n",
    "        throw new ItemNotFoundException();\n",
    "    }\n",
    "\n",
    "    /// <summary>\n",
    "    /// Finds index of first item in array that satisfies specified term\n",
    "    /// Time complexity: O(n)\n",
    "    /// Space complexity: O(1).\n",
    "    /// </summary>\n",
    "    /// <param name=\"data\">Array to search in.</param>\n",
    "    /// <param name=\"term\">Term to check against.</param>\n",
    "    /// <returns>Index of first item that satisfies term or -1 if none found.</returns>\n",
    "    public int FindIndex(T[] data, Func<T, bool> term)\n",
    "    {\n",
    "        for (var i = 0; i < data.Length; i++)\n",
    "        {\n",
    "            if (term(data[i]))\n",
    "            {\n",
    "                return i;\n",
    "            }\n",
    "        }\n",
    "\n",
    "        return -1;\n",
    "    }\n",
    "}"
   ]
  },
  {
   "cell_type": "code",
   "execution_count": 21,
   "metadata": {},
   "outputs": [
    {
     "name": "stdout",
     "output_type": "stream",
     "text": [
      "4\n",
      "3\n",
      "-1\n",
      "Item notFound\n"
     ]
    }
   ],
   "source": [
    "int[] list = { 1, 7, 6, 9, 3, 4, 77, 22, 68 };\n",
    "\n",
    "LinearSearch<int> ls = new LinearSearch<int>();\n",
    "\n",
    "Console.WriteLine(ls.FindIndex(list, (item) => item == 3));\n",
    "Console.WriteLine(ls.Find(list, (item) => item == 3));\n",
    "\n",
    "Console.WriteLine(ls.FindIndex(list, (item) => item == 100));\n",
    "\n",
    "try {\n",
    "    Console.WriteLine(ls.Find(list, (item) => item == 100));\n",
    "}\n",
    "catch (ItemNotFoundException e) {\n",
    "    Console.WriteLine(\"Item notFound\");\n",
    "}"
   ]
  },
  {
   "cell_type": "code",
   "execution_count": null,
   "metadata": {},
   "outputs": [],
   "source": []
  }
 ],
 "metadata": {
  "kernelspec": {
   "display_name": ".NET (C#)",
   "language": "C#",
   "name": ".net-csharp"
  },
  "language_info": {
   "file_extension": ".cs",
   "mimetype": "text/x-csharp",
   "name": "C#",
   "pygments_lexer": "csharp",
   "version": "8.0"
  }
 },
 "nbformat": 4,
 "nbformat_minor": 4
}
