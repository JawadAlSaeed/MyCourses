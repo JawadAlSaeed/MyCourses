{
 "cells": [
  {
   "cell_type": "markdown",
   "metadata": {},
   "source": [
    "# Prototype Inheritance (still under construction!!!)\n",
    "\n",
    "Note: The ES2015 class keyword is just syntactical sugar, JavaScript remains prototype-based  \n",
    "See: https://developer.mozilla.org/en-US/docs/Web/JavaScript/Inheritance_and_the_prototype_chain\n",
    "\n",
    "* Each object has a private property which holds a link to another object called its prototype\n",
    "* The prototype object has a prototype, and so on until a null prototype is reached (prototype chain)\n",
    "* The final ```null``` prototype has no further prototype (end of the chain)\n",
    "* Objects are simply dynamic sets of properties (a.k.a. \"own properties\")\n",
    "* xxx"
   ]
  },
  {
   "cell_type": "code",
   "execution_count": 10,
   "metadata": {},
   "outputs": [
    {
     "name": "stdout",
     "output_type": "stream",
     "text": [
      "1\n",
      "2\n",
      "1\n",
      "2\n",
      "4\n",
      "undefined\n"
     ]
    }
   ],
   "source": [
    "{\n",
    "let f = function () {\n",
    "this.a = 1;\n",
    "this.b = 2;\n",
    "}\n",
    "let o = new f(); // {a: 1, b: 2}\n",
    "console.log(o.a);\n",
    "console.log(o.b);\n",
    "\n",
    "// add properties in f function's prototype\n",
    "f.prototype.b = 3;\n",
    "f.prototype.c = 4;\n",
    "console.log(o.a);\n",
    "console.log(o.b);\n",
    "console.log(o.c);\n",
    "console.log(o.d);\n",
    "}"
   ]
  },
  {
   "cell_type": "code",
   "execution_count": 12,
   "metadata": {},
   "outputs": [
    {
     "name": "stdout",
     "output_type": "stream",
     "text": [
      "3\n",
      "5\n"
     ]
    }
   ],
   "source": [
    "{\n",
    "let o = {\n",
    "    a: 2,\n",
    "    m: function() {\n",
    "    return this.a + 1;\n",
    "    }\n",
    "};\n",
    "\n",
    "console.log(o.m()); // 3\n",
    "// When calling o.m in this case, 'this' refers to o\n",
    "\n",
    "var p = Object.create(o); // p is an object that inherits from o\n",
    "\n",
    "p.a = 4; // creates a property 'a' on p\n",
    "console.log(p.m()); // 5\n",
    "}"
   ]
  },
  {
   "cell_type": "code",
   "execution_count": 13,
   "metadata": {},
   "outputs": [
    {
     "data": {
      "text/plain": [
       "{ addVertex: [Function: addVertex] }"
      ]
     },
     "execution_count": 13,
     "metadata": {},
     "output_type": "execute_result"
    }
   ],
   "source": [
    "{\n",
    "function Graph() {\n",
    "    this.vertices = [];\n",
    "    this.edges = [];\n",
    "}\n",
    "\n",
    "Graph.prototype = {\n",
    "    addVertex: function(v) {\n",
    "        this.vertices.push(v);\n",
    "    }\n",
    "};\n",
    "\n",
    "var g = new Graph();\n",
    "}"
   ]
  },
  {
   "cell_type": "code",
   "execution_count": 14,
   "metadata": {},
   "outputs": [
    {
     "name": "stdout",
     "output_type": "stream",
     "text": [
      "1\n",
      "undefined\n"
     ]
    }
   ],
   "source": [
    "{\n",
    "var a = {a: 1}; \n",
    "// a ---> Object.prototype ---> null\n",
    "\n",
    "var b = Object.create(a);\n",
    "// b ---> a ---> Object.prototype ---> null\n",
    "console.log(b.a); // 1 (inherited)\n",
    "\n",
    "var c = Object.create(b);\n",
    "// c ---> b ---> a ---> Object.prototype ---> null\n",
    "\n",
    "var d = Object.create(null);\n",
    "// d ---> null\n",
    "console.log(d.hasOwnProperty); \n",
    "// undefined, because d doesn't inherit from Object.prototype\n",
    "}"
   ]
  },
  {
   "cell_type": "code",
   "execution_count": 16,
   "metadata": {},
   "outputs": [
    {
     "name": "stdout",
     "output_type": "stream",
     "text": [
      "Square { height: 2, width: 2 }\n"
     ]
    }
   ],
   "source": [
    "{\n",
    "'use strict';\n",
    "\n",
    "class Polygon {\n",
    "  constructor(height, width) {\n",
    "    this.height = height;\n",
    "    this.width = width;\n",
    "  }\n",
    "}\n",
    "\n",
    "class Square extends Polygon {\n",
    "  constructor(sideLength) {\n",
    "    super(sideLength, sideLength);\n",
    "  }\n",
    "  get area() {\n",
    "    return this.height * this.width;\n",
    "  }\n",
    "  set sideLength(newLength) {\n",
    "    this.height = newLength;\n",
    "    this.width = newLength;\n",
    "  }\n",
    "}\n",
    "\n",
    "var square = new Square(2);\n",
    "    \n",
    "console.log(square);\n",
    "}"
   ]
  },
  {
   "cell_type": "code",
   "execution_count": null,
   "metadata": {},
   "outputs": [],
   "source": []
  }
 ],
 "metadata": {
  "kernelspec": {
   "display_name": "Javascript (Node.js)",
   "language": "javascript",
   "name": "javascript"
  },
  "language_info": {
   "file_extension": ".js",
   "mimetype": "application/javascript",
   "name": "javascript",
   "version": "10.13.0"
  }
 },
 "nbformat": 4,
 "nbformat_minor": 4
}
