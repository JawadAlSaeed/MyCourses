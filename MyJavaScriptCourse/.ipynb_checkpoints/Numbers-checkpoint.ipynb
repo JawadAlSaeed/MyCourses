{
 "cells": [
  {
   "cell_type": "markdown",
   "metadata": {},
   "source": [
    "# Numbers\n",
    "\n",
    "* The Number type is an IEEE 754 64-bit double-precision binary format value\n",
    "* Numbers can range from -(2^53−1) to 2^53−1.\n",
    "* Numbers also include three symbolic non-number values: +Infinity, -Infinity, and NaN (\"Not a Number\")\n",
    "* Maximum value that can be represented is Number.MAX_VALUE\n",
    "* Minimum value that can be represented is Number.MIN_VALUE"
   ]
  },
  {
   "cell_type": "code",
   "execution_count": null,
   "metadata": {},
   "outputs": [],
   "source": [
    "// "
   ]
  },
  {
   "cell_type": "markdown",
   "metadata": {},
   "source": [
    "## Floating Point Arithmetic: Roundoff Error vs Equality\n",
    "\n",
    "* [Wikipedia: Floating-point arithmetic](https://en.wikipedia.org/wiki/Floating-point_arithmetic)\n",
    "* [Wikipedia: Round-off error](https://en.wikipedia.org/wiki/Round-off_error)\n",
    "\n",
    "Computers store numbers in a binary representation (0s and 1s). Only binary numbers that have a finite number of digits can be accurately represented by the sum of negative powers of 2. For example, the fraction 1/10, (which is 0.1 in base 10), cannot be represent precisely in base 2 because 10 is not a power of 2. The fraction 1/3 cannot be represented precisely in base 2 either because 3 is not a power of 2 (1/3 cannot be represented in base 10 either).\n",
    "\n",
    "* `1/2 =  0.5  (base 10) = 0.1  (base 2)` represention is exact\n",
    "* `1/4 =  0.25 (base 10) = 0.01 (base 2)` represention is exact\n",
    "* `1/10 = 0.1  (base 10) = 0.00011001100110011001100110011001100110011001100110011... (base 2)` represention is approximate"
   ]
  },
  {
   "cell_type": "code",
   "execution_count": 1,
   "metadata": {},
   "outputs": [
    {
     "name": "stdout",
     "output_type": "stream",
     "text": [
      "2.220446049250313e-16\n",
      "2.220446049250313e-16\n",
      "2.220446049250313e-16\n",
      "true\n",
      "0.7\n",
      "0\n",
      "false\n",
      "0.4\n",
      "5.551115123125783e-17\n",
      "true\n"
     ]
    },
    {
     "data": {
      "text/plain": [
       "2.220446049250313e-16"
      ]
     },
     "execution_count": 1,
     "metadata": {},
     "output_type": "execute_result"
    }
   ],
   "source": [
    "console.log(Number.EPSILON);   // Epsilon is the difference between 1 and the smallest floating point number greater than 1\n",
    "console.log(Math.pow(2, -52)); // Same value as epsilon\n",
    "console.log(1/(2**52));        // Same value as epsilon\n",
    "\n",
    "console.log((0.2 + 0.5) === 0.7);\n",
    "console.log (0.2 + 0.5)\n",
    "console.log((0.2 + 0.5) - 0.7);\n",
    "\n",
    "console.log((0.1 + 0.2) === 0.3);\n",
    "console.log (0.1 + 0.3)\n",
    "console.log((0.1 + 0.2) - 0.3);\n",
    "console.log((0.1 + 0.2) - 0.3 < Number.EPSILON);\n",
    "Math.pow(2, -52)"
   ]
  },
  {
   "cell_type": "markdown",
   "metadata": {},
   "source": [
    "## Floating Point Arithmetic: Accumulation of Roundoff Error\n",
    "\n",
    "* Some algorithms may accumulate roundoff error, and may even dominate the calculation\n",
    "* In ill-conditioned problems, significant error may accumulate\n",
    "* An algorithm is \"stable\" if small changes in input produce small changes in the output\n",
    "* An algorithm is \"unstable\" if small changes in input produce large changes output\n",
    "* Real world example: Patriot missile failure due to magnification of roundoff error"
   ]
  },
  {
   "cell_type": "code",
   "execution_count": null,
   "metadata": {},
   "outputs": [],
   "source": [
    "// "
   ]
  },
  {
   "cell_type": "markdown",
   "metadata": {},
   "source": [
    "## Floating Point Arithmetic: Overflow Error\n",
    "\n",
    "* xxx"
   ]
  },
  {
   "cell_type": "code",
   "execution_count": null,
   "metadata": {},
   "outputs": [],
   "source": [
    "// "
   ]
  },
  {
   "cell_type": "markdown",
   "metadata": {},
   "source": [
    "## The ```Math``` Object\n",
    "\n",
    "* ```Math``` is a built-in object with properties and methods for mathematical constants and functions.\n",
    "* Math works with the Number type but it does not work with BigInt\n",
    "* Math is not a constructor object (Unlike many other global objects)\n",
    "* All properties and methods of Math are static\n",
    "* Example property: ```Math.PI```\n",
    "* Example function: ```Math.sin(x)``` where the x argument represents an angle in radians"
   ]
  },
  {
   "cell_type": "markdown",
   "metadata": {},
   "source": [
    "## Math: Static Properties\n",
    "* ```Math.E``` Euler's constant and the base of natural logarithms; approximately 2.718.\n",
    "* ```Math.LN2``` Natural logarithm of 2; approximately 0.693.\n",
    "* ```Math.LN10``` Natural logarithm of 10; approximately 2.303.\n",
    "* ```Math.LOG2E``` Base 2 logarithm of E; approximately 1.443.\n",
    "* ```Math.LOG10E``` EvBase 10 logarithm of E; approximately 0.434.\n",
    "* ```Math.PI``` Ratio of the a circle's circumference to its diameter; approximately 3.14159.\n",
    "* ```Math.SQRT1_2```vSquare root of ½ (or equivalently, 1/√2); approximately 0.707.\n",
    "* ```Math.SQRT2``` Square root of 2; approximately 1.414."
   ]
  },
  {
   "cell_type": "markdown",
   "metadata": {},
   "source": [
    "## Math: static methods\n",
    "\n",
    "* ```Math.abs(x)``` Returns absolute value of number\n",
    "* ```Math.acos(x)``` Returns arccosine of number\n",
    "* ```Math.acosh(x)``` Returns hyperbolic arccosine of number\n",
    "* ```Math.asin(x)``` Returns arcsine of number\n",
    "* ```Math.asinh(x)``` Returns hyperbolic arcsine of number\n",
    "* ```Math.atan(x)``` Returns arctangent of number\n",
    "* ```Math.atanh(x)``` Returns hyperbolic arctangent of number\n",
    "* ```Math.atan2(y, x)``` Returns arctangent of quotient of its arguments\n",
    "* ```Math.cbrt(x)``` Returns cube root of number\n",
    "* ```Math.ceil(x)``` Returns smallest integer greater than or equal to number\n",
    "* ```Math.clz32(x)``` Returns number of leading zeroes of 32-bit integer\n",
    "* ```Math.cos(x)``` Returns cosine of number\n",
    "* ```Math.cosh(x)``` Returns hyperbolic cosine of number\n",
    "* ```Math.exp(x)``` Returns E^x, E is Euler's constant (2.718… is base of natural logarithm)\n",
    "* ```Math.expm1(x)``` Returns subtracting 1 from exp(x)\n",
    "* ```Math.floor(x)``` Returns largest integer less than or equal to number\n",
    "* ```Math.fround(x)``` Returns nearest single precision float representation of number\n",
    "* ```Math.hypot([x[, y[, …]]])``` Returns square root of sum of squares of its arguments\n",
    "* ```Math.imul(x, y)``` Returns result of 32-bit integer multiplication\n",
    "* ```Math.log(x)``` Returns natural logarithm of number\n",
    "* ```Math.log1p(x)``` Returns natural logarithm of 1 + x for number\n",
    "* ```Math.log10(x)``` Returns base 10 logarithm of number\n",
    "* ```Math.log2(x)``` Returns base 2 logarithm of number\n",
    "* ```Math.max([x[, y[, …]]])``` Returns largest of zero or more numbers\n",
    "* ```Math.min([x[, y[, …]]])``` Returns smallest of zero or more numbers\n",
    "* ```Math.pow(x, y)``` Returns base to exponent power x^y\n",
    "* ```Math.random()``` Returns pseudo-random number between 0 and 1\n",
    "* ```Math.round(x)``` Returns value of a number rounded to nearest integer\n",
    "* ```Math.sign(x)``` Returns sign of x, indicating whether x is positive, negative, or zero\n",
    "* ```Math.sin(x)``` Returns sine of number\n",
    "* ```Math.sinh(x)``` Returns hyperbolic sine of number\n",
    "* ```Math.sqrt(x)``` Returns positive square root of number\n",
    "* ```Math.tan(x)``` Returns tangent of a number\n",
    "* ```Math.tanh(x)``` Returns hyperbolic tangent of number\n",
    "* ```Math.trunc(x)``` Returns integer part of the number x, removing any fractional digits"
   ]
  },
  {
   "cell_type": "code",
   "execution_count": 5,
   "metadata": {},
   "outputs": [
    {
     "name": "stdout",
     "output_type": "stream",
     "text": [
      "3\n",
      "-1\n",
      "3\n"
     ]
    }
   ],
   "source": [
    "console.log(Math.max(1, 3, 2));    // expected output: 3\n",
    "console.log(Math.max(-1, -3, -2)); // expected output: -1\n",
    "var array1 = [1, 3, 2];\n",
    "console.log(Math.max(...array1));  // expected output: 3"
   ]
  },
  {
   "cell_type": "code",
   "execution_count": null,
   "metadata": {},
   "outputs": [],
   "source": []
  }
 ],
 "metadata": {
  "kernelspec": {
   "display_name": "Javascript (Node.js)",
   "language": "javascript",
   "name": "javascript"
  },
  "language_info": {
   "file_extension": ".js",
   "mimetype": "application/javascript",
   "name": "javascript",
   "version": "10.13.0"
  }
 },
 "nbformat": 4,
 "nbformat_minor": 4
}
