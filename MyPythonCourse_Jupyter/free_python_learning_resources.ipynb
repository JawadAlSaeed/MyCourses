{
 "cells": [
  {
   "cell_type": "markdown",
   "metadata": {},
   "source": [
    "# Free Python Learning Resources\n",
    "[Python Documentation](https://www.python.org/doc)  \n",
    "[Python quick reference guide](https://www.brianheinold.net/python/Python_Quick_Reference_Guide_Heinold.pdf)  \n",
    "[A Practical Introduction to Python Programming by Brian Heinold](https://www.brianheinold.net/python/python_book.html)  \n",
    "[An Intuitive Introduction to Data Structures](https://www.brianheinold.net/ds/data_structures_book_v2.html)  \n",
    "[The Hitchhiker’s Guide to Python!](https://docs.python-guide.org)  \n",
    "[Dive Into Python 3](http://diveintopython3.problemsolving.io)  \n",
    "[Think Python 2e](https://greenteapress.com/wp/think-python-2e)  \n",
    "[The Python Tutorial](https://docs.python.org/3/tutorial)  \n",
    "[Learn Python the Hard Way](https://learnpythonthehardway.org/python3)  \n",
    "[Python Goalkicker](https://books.goalkicker.com/PythonBook)  \n",
    "[Reserved Keywords](https://docs.python.org/3.0/reference/lexical_analysis.html#id8)  \n",
    "[PEP 8 Style Guide for Python Code](https://www.python.org/dev/peps/pep-0008)  \n",
    "[CheckIO - learn Python and JavaScript for games](https://checkio.org)  \n",
    "[Invent with Python](https://inventwithpython.com)  \n",
    "[Exercism code challenges](https://exercism.io)  \n",
    "[Hackerrank code challenges](https://www.hackerrank.com)  \n",
    "[Project Euler code challenges](https://projecteuler.net)  \n",
    "[Codewars code challenges](https://www.codewars.com)  \n",
    "[LeetCode expand knowledge and prepare for tech interviews](https://leetcode.com)  \n",
    "[MITx: 6.00.1x Introduction to Computer Science and Programming Using Python](https://courses.edx.org/courses/course-v1:MITx+6.00.1x+1T2020/course)\n",
    "[Google's Python Class](https://developers.google.com/edu/python)  \n",
    "[Python History](https://en.wikipedia.org/wiki/History_of_Python)  \n",
    "[Online Python REPL](https://www.python.org/shell)  \n",
    "[Another Online Python REPL](https://repl.it/languages/python3)  "
   ]
  },
  {
   "cell_type": "code",
   "execution_count": null,
   "metadata": {},
   "outputs": [],
   "source": []
  }
 ],
 "metadata": {
  "kernelspec": {
   "display_name": "Python 3",
   "language": "python",
   "name": "python3"
  },
  "language_info": {
   "codemirror_mode": {
    "name": "ipython",
    "version": 3
   },
   "file_extension": ".py",
   "mimetype": "text/x-python",
   "name": "python",
   "nbconvert_exporter": "python",
   "pygments_lexer": "ipython3",
   "version": "3.7.6"
  }
 },
 "nbformat": 4,
 "nbformat_minor": 4
}
