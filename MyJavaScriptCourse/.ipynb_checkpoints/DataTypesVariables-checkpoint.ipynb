{
 "cells": [
  {
   "cell_type": "markdown",
   "metadata": {},
   "source": [
    "# Data Types and Variables\n",
    "\n",
    "* The ```var```, ```let``` and ```const``` Keywords\n",
    "* Data Types and Dynamic Typing\n",
    "* The ```undefined``` Value\n",
    "* The ```null``` Value\n",
    "* Number Type (immutable)\n",
    "* String Type (immutable)\n",
    "* Boolean Type (immutable)\n",
    "* Date Type\n",
    "* Array Type\n",
    "* Function Type\n",
    "* Object Literals\n",
    "* Enhanced Object literals\n",
    "* Symbol Type (immutable)\n",
    "* BigInt Type (immutable)"
   ]
  },
  {
   "cell_type": "markdown",
   "metadata": {},
   "source": [
    "## The ```var```, ```let``` and ```const``` Keywords\n",
    "\n",
    "* Variables can have any legal name (a-z, A-Z, _, ?, and non-first 0-9) but camel-case is preferred\n",
    "* The ```var``` keyword declares a global or function scoped variable (optionally initializing to a value)\n",
    "* ```var``` variables are hoisets before any code is executed\n",
    "* ```var``` variable default value is ```undefined```\n",
    "* The ```let``` keyword declares a block scoped variable (optionally initializing to a value)\n",
    "* ```let``` variable default value is ```undefined```\n",
    "* The ```const``` keyword declares a block scoped immutable variable (must initialize to a value)\n",
    "\n",
    "### Syntax\n",
    "* ```var varname1 [= value1] [, varname2 [= value2] ... [, varnameN [= valueN]]];```\n",
    "* ```let var1 [= value1] [, var2 [= value2]] [, ..., varN [= valueN];```\n",
    "* ```const name1 = value1 [, name2 = value2 [, ... [, nameN = valueN]]];```"
   ]
  },
  {
   "cell_type": "markdown",
   "metadata": {},
   "source": [
    "## Data Types and Dynamic Typing\n",
    "\n",
    "* JavaScript is a dynamically typed language, so a variable can refer to different types of objects at different times\n",
    "* Any variable can be assigned and re-assigned different values of any type\n",
    "* Although a variable is not of fixed type, the object that it refers to is of fixed type\n",
    "\n",
    "### Fundamental Data Types\n",
    "\n",
    "See: https://developer.mozilla.org/en-US/docs/Web/JavaScript/Reference\n",
    "\n",
    "* Primitives\n",
    "    - **string** is a sequence of unicode text characters\n",
    "    - **number** integer or floating-point values limited by ±253\n",
    "    - **boolean** is a ```true``` or ```false``` value\n",
    "    - **symbol** value that are unique for use as identifier for object properties\n",
    "    - **object** is everything else\n",
    "* Objects\n",
    "    - * **array** sequence of elements that can be accessed using a zero based index\n",
    "    - * **function** is a subprogram that can be called by code\n",
    "    - * **map** contains key-value pairs and remembers the original insertion order of the keys\n",
    "    - * **set** lets you store unique values of any type (primitive or object references)\n",
    "    - * **bigint** represents integer numbers of arbitrary length\n",
    "    - * etc."
   ]
  },
  {
   "cell_type": "code",
   "execution_count": 14,
   "metadata": {},
   "outputs": [
    {
     "name": "stdout",
     "output_type": "stream",
     "text": [
      "NaN 'number'\n",
      "42 'number'\n",
      "3.1415926 'number'\n",
      "hello string\n",
      "true 'boolean'\n",
      "[Function: x] 'function'\n",
      "{} 'object'\n",
      "{ '1': 'one', FirstName: 'Sally', one: 1 } 'object'\n",
      "[ 'Orange', 'Apple', 'Banana' ] 'object'\n",
      "2020-05-07T14:08:14.616Z 'object'\n",
      "/^[A-Z0-9._%+-]+@[A-Z0-9.-]+\\.[A-Z]{2,}$/ 'object'\n",
      "null 'object'\n"
     ]
    }
   ],
   "source": [
    "// Data types and dynamic typing\n",
    "\n",
    "var x;\n",
    "console.log(x, typeof x);             // null 'object'\n",
    "x = 42;\n",
    "console.log(x, typeof x);             // 42 'number'\n",
    "x = 3.1415926;\n",
    "console.log(x, typeof x);             // 3.1415926 'number'\n",
    "x = \"hello\";\n",
    "console.log(x, typeof x);             // hello string\n",
    "x = true;\n",
    "console.log(x, typeof x);             // true 'boolean'\n",
    "x = () => {};\n",
    "console.log(x, typeof x);             // [Function: x] 'function'\n",
    "x = {};\n",
    "console.log(x, typeof x);             // {} 'object'\n",
    "x = {FirstName: \"Sally\", \"one\": 1, 1: \"one\"};\n",
    "console.log(x, typeof x);             // { '1': 'one', FirstName: 'Sally', one: 1 } 'object'\n",
    "x = [\"Orange\", \"Apple\", \"Banana\"]\n",
    "console.log(x, typeof x);             // [ 'Orange', 'Apple', 'Banana' ] 'object'\n",
    "x = new Date();\n",
    "console.log(x, typeof x);             // 2020-05-07T13:10:47.095Z 'object'\n",
    "x = /^[A-Z0-9._%+-]+@[A-Z0-9.-]+\\.[A-Z]{2,}$/;\n",
    "console.log(x, typeof x);             // /^[A-Z0-9._%+-]+@[A-Z0-9.-]+\\.[A-Z]{2,}$/ 'object'\n",
    "x = null;\n",
    "console.log(x, typeof x);             // null 'object'"
   ]
  },
  {
   "cell_type": "markdown",
   "metadata": {},
   "source": [
    "## The ```undefined``` Value"
   ]
  },
  {
   "cell_type": "code",
   "execution_count": 15,
   "metadata": {},
   "outputs": [
    {
     "name": "stdout",
     "output_type": "stream",
     "text": [
      "undefined 'undefined'\n"
     ]
    }
   ],
   "source": [
    "// Undefined Value\n",
    "\n",
    "{\n",
    "let x;  // undefined (means uninitialized)\n",
    "console.log(x, typeof x); // undefined 'undefined'\n",
    "}"
   ]
  },
  {
   "cell_type": "markdown",
   "metadata": {},
   "source": [
    "## The ```null``` Value"
   ]
  },
  {
   "cell_type": "code",
   "execution_count": 16,
   "metadata": {},
   "outputs": [
    {
     "name": "stdout",
     "output_type": "stream",
     "text": [
      "null 'object'\n"
     ]
    }
   ],
   "source": [
    "// Null Value\n",
    "\n",
    "{\n",
    "x = null; // null literal (refers to nothing)\n",
    "console.log(x, typeof x); // null 'object'\n",
    "}"
   ]
  },
  {
   "cell_type": "markdown",
   "metadata": {},
   "source": [
    "## Number Type (immutable)\n",
    "\n",
    "* Integeral\n",
    "* Floating Point\n",
    "* Special values: Infinity, -Infinity, and NaN"
   ]
  },
  {
   "cell_type": "code",
   "execution_count": 17,
   "metadata": {
    "scrolled": true
   },
   "outputs": [
    {
     "name": "stdout",
     "output_type": "stream",
     "text": [
      "42 'number'\n",
      "9007199254740991 'number'\n",
      "-9007199254740991 'number'\n",
      "3.5 'number'\n",
      "2.220446049250313e-16 'number'\n",
      "6.02214076e+23 'number'\n",
      "1.616255e-35 'number'\n",
      "\n",
      "true\n",
      "false\n",
      "\n",
      "2.7755575615628914e-17\n",
      "true\n",
      "\n",
      "Infinity 'number'\n",
      "NaN 'number'\n",
      "number\n"
     ]
    }
   ],
   "source": [
    "{\n",
    "x = 42; // 64-bit floating point IEE 754 number\n",
    "console.log(x, typeof x);                             // 42 number\n",
    "x = Number.MAX_SAFE_INTEGER;\n",
    "console.log(x, typeof x);                             // 9007199254740991  'number'\n",
    "x = Number.MIN_SAFE_INTEGER;\n",
    "console.log(x, typeof x);                             // -9007199254740991 'number'\n",
    "x = 3.5;  // 64-bit floating point IEE 754 number\n",
    "console.log(x, typeof x);                             // 3.5 'number'\n",
    "x = Number.EPSILON\n",
    "console.log(x, typeof x);                             //2.220446049250313e-16 'number'\n",
    "x = 6.02214076E23// Avogadro constant = 6.02214076×10²³\n",
    "console.log(x, typeof x);                             // 6.02214076e+23 'number'\n",
    "x = 1.616255E-35 // Planck length = 1.616255×10⁻³⁵ m\n",
    "console.log(x, typeof x);                             // 1.616255e-35 'number'\n",
    "console.log()\n",
    "    \n",
    "console.log(0.1 + 0.1 === 0.2)                       // true\n",
    "console.log(0.1 + 0.2 === 0.3)                       // false\n",
    "console.log()\n",
    "\n",
    "const result = Math.abs(0.2 - 0.3 + 0.1); // would be zero if not for roundoff error\n",
    "console.log(result);                                 // 2.7755575615628914e-17\n",
    "console.log(result < Number.EPSILON);                // true\n",
    "console.log()\n",
    "x = 1.0/0; // non-zero divided by Zero is Infinity\n",
    "console.log(x, typeof x);                            // 0/0 Infinity number\n",
    "x = NaN; // NaN literal\n",
    "console.log(x, typeof x);                            // NaN literal NaN number\n",
    "x = 0/0; // zer0 divided by Zero is NaN\n",
    "console.log(typeof x);                               // 0/0 NaN number\n",
    "}"
   ]
  },
  {
   "cell_type": "markdown",
   "metadata": {},
   "source": [
    "## String Type (immutable)\n",
    "\n",
    "* unicode character sequences\n",
    "* immutable"
   ]
  },
  {
   "cell_type": "code",
   "execution_count": 18,
   "metadata": {},
   "outputs": [
    {
     "name": "stdout",
     "output_type": "stream",
     "text": [
      "Hello string\n",
      "Hello string\n",
      "Hello string\n",
      "é string\n",
      "‍❤️‍ string\n"
     ]
    }
   ],
   "source": [
    "{\n",
    "x = \"Hello\";\n",
    "console.log(x, typeof x);\n",
    "x = 'Hello';\n",
    "console.log(x, typeof x);\n",
    "x = `Hello`;\n",
    "console.log(x, typeof x);\n",
    "x = '\\u00E9' //é;\n",
    "console.log(x, typeof x);\n",
    "x = '\\u200D\\u2764\\uFE0F\\u200D' //é;\n",
    "console.log(x, typeof x);\n",
    "}"
   ]
  },
  {
   "cell_type": "markdown",
   "metadata": {},
   "source": [
    "## Boolean Type (immutable)"
   ]
  },
  {
   "cell_type": "code",
   "execution_count": 19,
   "metadata": {},
   "outputs": [
    {
     "name": "stdout",
     "output_type": "stream",
     "text": [
      "true 'boolean'\n",
      "false 'boolean'\n",
      "true 'boolean'\n",
      "false 'boolean'\n"
     ]
    }
   ],
   "source": [
    "{\n",
    "x = true;  // boolean true literal\n",
    "console.log(x, typeof x);                // true 'boolean'\n",
    "x = false; // boolean false literal\n",
    "console.log(x, typeof x);                // false 'boolean'\n",
    "x = 1 === 1;  // boolean true expression\n",
    "console.log(x, typeof x);                // true 'boolean'\n",
    "x = 1 === 2; // boolean false expression\n",
    "console.log(x, typeof x);                // false 'boolean'\n",
    "}"
   ]
  },
  {
   "cell_type": "markdown",
   "metadata": {},
   "source": [
    "## Date Type\n"
   ]
  },
  {
   "cell_type": "code",
   "execution_count": 20,
   "metadata": {},
   "outputs": [
    {
     "name": "stdout",
     "output_type": "stream",
     "text": [
      "2020-05-07T14:08:21.140Z 'object'\n"
     ]
    }
   ],
   "source": [
    "x = new Date()\n",
    "console.log(x, typeof x);       // 2020-05-07T13:16:08.775Z 'object'"
   ]
  },
  {
   "cell_type": "markdown",
   "metadata": {},
   "source": [
    "## Array Type"
   ]
  },
  {
   "cell_type": "code",
   "execution_count": 21,
   "metadata": {},
   "outputs": [
    {
     "name": "stdout",
     "output_type": "stream",
     "text": [
      "[ 1, 2 ] 'object'\n"
     ]
    }
   ],
   "source": [
    "{\n",
    "x = [1, 2];\n",
    "console.log(x, typeof x);      // [ 1, 2 ] 'object'\n",
    "}"
   ]
  },
  {
   "cell_type": "markdown",
   "metadata": {},
   "source": [
    "## Function Type"
   ]
  },
  {
   "cell_type": "code",
   "execution_count": 22,
   "metadata": {},
   "outputs": [
    {
     "name": "stdout",
     "output_type": "stream",
     "text": [
      "Named function Hello World! function\n",
      "Lambda function 7 function\n"
     ]
    }
   ],
   "source": [
    "{\n",
    "x = function() { \n",
    "    return \"Hello World!\"; \n",
    "}\n",
    "console.log(\"Named function\", x(), typeof x);\n",
    "\n",
    "x = (a, b) => a + b;\n",
    "console.log(\"Lambda function\", x(3, 4), typeof x);\n",
    "}"
   ]
  },
  {
   "cell_type": "markdown",
   "metadata": {},
   "source": [
    "## Object Literals\n",
    "\n",
    "* A JavaScript object literal is a comma-separated list of name-value pairs in curly braces\n",
    "* Object literals encapsulate data\n"
   ]
  },
  {
   "cell_type": "code",
   "execution_count": 23,
   "metadata": {},
   "outputs": [
    {
     "name": "stdout",
     "output_type": "stream",
     "text": [
      "255 0 0\n",
      "{ red: 255,\n",
      "  green: 0,\n",
      "  blue: 0,\n",
      "  displayMembera: [Function: displayMembera] } 'undefined'\n"
     ]
    }
   ],
   "source": [
    "{\n",
    "var x = {\n",
    "    red: 255,\n",
    "    green: 0,\n",
    "    blue: 0,\n",
    "    displayMembera: function() {\n",
    "        console.log(this.red, this.green, this.blue);\n",
    "    }\n",
    "};\n",
    "x.displayMembera();\n",
    "console.log(x, typeof myObject);\n",
    "}"
   ]
  },
  {
   "cell_type": "markdown",
   "metadata": {},
   "source": [
    "## Enhanced Object literals\n",
    "\n",
    "ES6 supports an enhanced object literal syntax that simplifies your code"
   ]
  },
  {
   "cell_type": "code",
   "execution_count": 38,
   "metadata": {},
   "outputs": [
    {
     "name": "stdout",
     "output_type": "stream",
     "text": [
      "{ x: 40, y: 2, sum: [Function: sum] }\n",
      "40 + 2 = 42\n",
      "{ x: 40, y: 2, sum: [Function: sum] }\n",
      "40 + 2 = 42\n"
     ]
    }
   ],
   "source": [
    "{\n",
    "    // ES5 object literals\n",
    "    var x = 40, y = 2;\n",
    "    var obj = {\n",
    "        x: x,\n",
    "        y: y,\n",
    "        sum:  function() { return x + y; },\n",
    "    };\n",
    "    console.log(obj);\n",
    "    console.log(obj.x + \" + \" + obj.y + \" = \" + obj.sum());\n",
    "}\n",
    "{\n",
    "    // ES6 enhanced object literals\n",
    "    const x = 40, y = 2;\n",
    "    let obj = {\n",
    "        x,\n",
    "        y,\n",
    "        sum()  { return x + y; }\n",
    "    };\n",
    "    console.log(obj);\n",
    "    console.log(obj.x + \" + \" + obj.y + \" = \" + obj.sum());\n",
    "}"
   ]
  },
  {
   "cell_type": "markdown",
   "metadata": {},
   "source": [
    "## Symbol Type (immutable)\n",
    "\n",
    "* A symbol value is created by invoking the ```Symbol``` function\n",
    "* A symbol dynamically produces an new unique immutable anonymous value\n",
    "* A symbol may be used to define and identify an property in an object"
   ]
  },
  {
   "cell_type": "code",
   "execution_count": 49,
   "metadata": {},
   "outputs": [
    {
     "name": "stdout",
     "output_type": "stream",
     "text": [
      "{ [Symbol()]: 10, [Symbol(foo)]: 20, [Symbol(foo)]: 30 }\n",
      "42\n",
      "{}\n"
     ]
    }
   ],
   "source": [
    "{\n",
    "let sym1 = Symbol() // no new keyword (Symbol function is not a constructor)\n",
    "let sym2 = Symbol('foo')\n",
    "let sym3 = Symbol('foo')\n",
    "Symbol('foo') === Symbol('foo') // false (every symbol is unique)\n",
    "\n",
    "let obj = {[sym1]: 10, [sym2]: 20, [sym3]: 30}\n",
    "console.log(obj);                // { [Symbol()]: 10, [Symbol(foo)]: 20, [Symbol(foo)]: 30 }\n",
    "}\n",
    "{\n",
    "let sym = Symbol('foo')\n",
    "let obj = {[sym]: 42}\n",
    "console.log(obj[sym]);           // 42\n",
    "\n",
    "// Symbol-keyed properties are ignored by JSON.stringify()\n",
    "console.log(JSON.stringify({[Symbol('foo')]: 'foo'}));     // {}\n",
    "}"
   ]
  },
  {
   "cell_type": "markdown",
   "metadata": {},
   "source": [
    "## BigInt Type (immutable)\n",
    "\n",
    "See: https://developer.mozilla.org/en-US/docs/Web/JavaScript/Reference/Global_Objects/BigInt\n",
    "\n",
    "* Built-in object that encapsulates an arbitrarily large whole number\n",
    "* It can range beyond the ```2**53-1``` limit on the number (IEEE 754 float) type\n",
    "* Created by appending n to an integer literal or by calling the function BigInt()"
   ]
  },
  {
   "cell_type": "code",
   "execution_count": 51,
   "metadata": {},
   "outputs": [
    {
     "name": "stdout",
     "output_type": "stream",
     "text": [
      "true\n",
      "true\n",
      "18014398509481984n\n"
     ]
    }
   ],
   "source": [
    "console.log(typeof 1n === 'bigint');           // true\n",
    "console.log(typeof BigInt('1') === 'bigint');  // true\n",
    "console.log(2n ** 54n);                        // 18014398509481984n"
   ]
  },
  {
   "cell_type": "code",
   "execution_count": null,
   "metadata": {},
   "outputs": [],
   "source": []
  }
 ],
 "metadata": {
  "kernelspec": {
   "display_name": "Javascript (Node.js)",
   "language": "javascript",
   "name": "javascript"
  },
  "language_info": {
   "file_extension": ".js",
   "mimetype": "application/javascript",
   "name": "javascript",
   "version": "10.13.0"
  }
 },
 "nbformat": 4,
 "nbformat_minor": 4
}
