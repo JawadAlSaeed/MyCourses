{
 "cells": [
  {
   "cell_type": "markdown",
   "metadata": {},
   "source": [
    "# Free JavaScript and NodeJS Books\n",
    "* [Eloquent JavaScript](https://eloquentjavascript.net)\n",
    "* [Speaking JavaScript](http://speakingjs.com/es5/index.html)\n",
    "* [JavaScript for impatient programmers](https://exploringjs.com/impatient-js)\n",
    "* [Exploring ES6](https://exploringjs.com/es6.html)\n",
    "* [The Modern JavaScript Tutorial](https://javascript.info)\n",
    "* [Learn JavaScript](https://gitbookio.gitbooks.io/javascript)\n",
    "* [JavaScript Garden](https://bonsaiden.github.io/JavaScript-Garden)\n",
    "* [JavaScript Allongé](https://leanpub.com/javascript-allonge/read)\n",
    "* [Learning JavaScript Design Patterns](https://addyosmani.com/resources/essentialjsdesignpatterns/book)\n",
    "* [Understanding ECMAScript 6](https://leanpub.com/understandinges6/read)\n",
    "* [Human JavaScript](http://read.humanjavascript.com)\n",
    "* [Mozilla reintroduction to JS tutorial](https://developer.mozilla.org/en-US/docs/Web/JavaScript/A_re-introduction_to_JavaScrip)\n",
    "* [freeCodeCamp: Introduction to JavaScript](https://www.freecodecamp.org/learn/javascript-algorithms-and-data-structures/basic-javascript)\n",
    "* [freeCodeCamp: Introduction to the ES6 Challenges](https://www.freecodecamp.org/learn/javascript-algorithms-and-data-structures/es6)\n",
    "* [HTML 5 Shoot 'em Up in an Afternoon](https://leanpub.com/html5shootemupinanafternoon/read)\n",
    "* [Introduction to Node.js](https://nodejs.dev)\n",
    "* [NodeJSNotesForProfessionals](https://books.goalkicker.com/NodeJSBook/NodeJSNotesForProfessionals.pdf)"
   ]
  },
  {
   "cell_type": "code",
   "execution_count": null,
   "metadata": {},
   "outputs": [],
   "source": []
  }
 ],
 "metadata": {
  "kernelspec": {
   "display_name": "Javascript (Node.js)",
   "language": "javascript",
   "name": "javascript"
  },
  "language_info": {
   "file_extension": ".js",
   "mimetype": "application/javascript",
   "name": "javascript",
   "version": "10.13.0"
  }
 },
 "nbformat": 4,
 "nbformat_minor": 4
}
