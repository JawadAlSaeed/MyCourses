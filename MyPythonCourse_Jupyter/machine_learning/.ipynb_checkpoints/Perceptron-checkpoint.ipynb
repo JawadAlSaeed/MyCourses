{
 "cells": [
  {
   "cell_type": "markdown",
   "metadata": {},
   "source": [
    "# Perceptron\n",
    "This is a simple implementation of a primitive single node Perceptron classifier algorithm. Although this algorithm is too simplistic to be used in any modern real-world machine learning application, it is still a useful starting point for anyone interested in beginning their journey in learning about more advanced machine learning algorithms. Much of what you learn here will be helpful in your further studies!\n",
    "\n",
    "- The Perceptron is a linear classifier. It will not classify input data correctly if the data is not linearly separable.\n",
    "- Gradient Descent is an iterative optimization algorithm to find the minima of a curve.\n",
    "- Stochastic Gradient Descent - See: https://en.wikipedia.org/wiki/Stochastic_gradient_descent\n",
    "- See: https://en.wikipedia.org/wiki/Perceptron\n",
    "- Iris data is used in this example: https://archive.ics.uci.edu/ml/datasets/Iris\n",
    "\n",
    "The Perceptron is a machine learning algorithm used to determine whether an input pattern belongs to one class or another. It is one of the earliest examples of a primitive artificial neural network and it provides a basic example that most commonly used modern neural networks are originally based on.\n",
    "\n",
    "The Perceptron algorithm is an example of a supervised learning algorithm, which means that learning makes use of  labeled training data. Examples of correct input-output pairs are provided to train a predictive model.\n",
    "\n",
    "The Perceptron algorithm is a binary classifier, which means that it takes multiple input signals that represent data features and produces an output signal that indicates whether that input belongs to a particular class or pattern of input data.\n",
    "\n",
    "The Perceptron algorithm is a linear classifier, which means that it classifies data input patterns using a linear combination of the input data. It takes input data with the associated class membership label, and generates a linear model as a hyperplane that separates data of one class from data of other classes on either side of the resulting hyperplane. For this reason, a Single-layer Perceptron can only deal with input data that represents linearly separable classes. More complex class boundaries require Multiple-layer implementations.\n",
    "\n",
    "The Single-layer perceptron algorithm does not terminate if the training data set is not linearly separable. If the input vectors are not linearly separable then training will never reach a point where all vectors are classified correctly. In some cases, a Multi-layer Perceptron can correctly distinguish input data that is not linearly separable.\n",
    "\n",
    "Given an input with $k$ variables $x_1,x_2,...,x_k$, a hyperplane is a liner combination of these variables plus a scalar bias term $w_0$:\n",
    "\n",
    "$$w_0+w_1x_1+w_2x_2+...+w_kx_k=0 \\text{, where } w_0,w_1,...,w_k \\text{ are constants, and } w_0 \\text{ is a constant bias term}$$  \n",
    "The sum can be represented more compactly as:  \n",
    "\n",
    "$$\n",
    "sum=w_0+\\sum_{i=1}^k w_ix_i \\text{, where } k \\text{ is the number of inputs to the perceptron, and } w_0 \\text{ is the bias term}\n",
    "$$\n",
    "\n",
    "Then the output of the Perceptron is defined by the following activation function:\n",
    "\n",
    "$$\n",
    "f(sum) = \n",
    "\\begin{cases}\n",
    "  1 & \\text{if }sum>0\\\\\n",
    "  0 & \\text{otherwise}\\\\\n",
    "\\end{cases}\n",
    "$$\n",
    "\n",
    "Here is a pictorial representation of a single node Perceptron:\n",
    "\n",
    "![Perceptron](images/Perceptron.png \"Perceptron\")\n",
    "\n",
    "Here are the Perceptron training steps:\n",
    "1. A small learning rate $\\alpha$ is chosen.\n",
    "2. Initialize all elements in the vector $w$ to zero (including $w_0$ that represents the scalar bias value $b$).\n",
    "3. For each input vector $x$, determine whether $w\\cdot x\\gt0$. If it is, the activation function predicts 1, else it predicts 0.\n",
    "4. The value $b$ and the weights $w$ are updated in a nested inner loop: $b_{n+1}=b_{n}+\\alpha(label-prediction)$ and $w_{n+1}=w_{n}+\\alpha(label-prediction)x$.\n",
    "5. Repeat the outer loop sufficiently to get an effective working model."
   ]
  },
  {
   "cell_type": "code",
   "execution_count": 1,
   "metadata": {},
   "outputs": [],
   "source": [
    "import numpy as np\n",
    "\n",
    "class Perceptron:\n",
    "    def __init__(self, num_inputs, learning_rate=0.01, max_steps=100):\n",
    "        self.max_steps = max_steps\n",
    "        self.learning_rate = learning_rate\n",
    "        self.weights = np.zeros(num_inputs + 1) # 1D numpy.ndarray of zero floats\n",
    "        print(self.weights)\n",
    "\n",
    "    def predict(self, inputs):\n",
    "        # activation = bias + sum(weight_i * x_i)\n",
    "        sum = self.weights[0] + np.dot(self.weights[1:], inputs)\n",
    "        # activation function\n",
    "        if sum > 0.0:\n",
    "            output = 1.0\n",
    "        else:\n",
    "            output = 0.0\n",
    "        return output\n",
    "\n",
    "    def train(self, training_inputs, labels):\n",
    "        for _ in range(self.max_steps):\n",
    "            num_no_zero_errors = 0\n",
    "            for inputs, label in zip(training_inputs, labels):\n",
    "                prediction = self.predict(inputs)\n",
    "                error = label - prediction\n",
    "                if error != 0:\n",
    "                    num_no_zero_errors += 1\n",
    "                # update bias b and weights w\n",
    "                self.weights[0] += self.learning_rate * error # bias term\n",
    "                self.weights[1:] += self.learning_rate * error * inputs # input terms\n",
    "            print(\"* num_no_zero_errors: \", num_no_zero_errors)\n",
    "            if num_no_zero_errors == 0:\n",
    "                break"
   ]
  },
  {
   "cell_type": "code",
   "execution_count": 2,
   "metadata": {},
   "outputs": [],
   "source": [
    "from sklearn import datasets\n",
    "iris = datasets.load_iris()"
   ]
  },
  {
   "cell_type": "code",
   "execution_count": 3,
   "metadata": {},
   "outputs": [
    {
     "data": {
      "image/png": "[encoded data removed]",
      "text/plain": [
       "<matplotlib.figure.Figure at 0x15fa19cb400>"
      ]
     },
     "metadata": {},
     "output_type": "display_data"
    }
   ],
   "source": [
    "%matplotlib inline \n",
    "from matplotlib import pyplot as plt\n",
    "\n",
    "x_index = 0 # index of sepal length feature\n",
    "y_index = 1 # index of sepal width feature\n",
    "\n",
    "plt.figure(figsize=(8,4))\n",
    "for target in set(iris.target):\n",
    "    x = [iris.data[i,x_index] for i in range(len(iris.target)) if iris.target[i]==target]\n",
    "    y = [iris.data[i,y_index] for i in range(len(iris.target)) if iris.target[i]==target]\n",
    "    plt.scatter(x, y, color=['red', 'blue', 'green'][target], label=iris.target_names[target])\n",
    "plt.xlabel(iris.feature_names[x_index])\n",
    "plt.ylabel(iris.feature_names[y_index])\n",
    "plt.title('Iris Dataset')\n",
    "plt.legend(iris.target_names, loc='lower right')\n",
    "plt.show()"
   ]
  },
  {
   "cell_type": "code",
   "execution_count": 4,
   "metadata": {},
   "outputs": [
    {
     "data": {
      "text/plain": [
       "['data', 'target', 'target_names', 'DESCR', 'feature_names']"
      ]
     },
     "execution_count": 4,
     "metadata": {},
     "output_type": "execute_result"
    }
   ],
   "source": [
    "list(iris)"
   ]
  },
  {
   "cell_type": "code",
   "execution_count": 5,
   "metadata": {},
   "outputs": [
    {
     "data": {
      "text/plain": [
       "(150, 4)"
      ]
     },
     "execution_count": 5,
     "metadata": {},
     "output_type": "execute_result"
    }
   ],
   "source": [
    "iris.data.shape"
   ]
  },
  {
   "cell_type": "code",
   "execution_count": 6,
   "metadata": {},
   "outputs": [
    {
     "data": {
      "text/plain": [
       "['sepal length (cm)',\n",
       " 'sepal width (cm)',\n",
       " 'petal length (cm)',\n",
       " 'petal width (cm)']"
      ]
     },
     "execution_count": 6,
     "metadata": {},
     "output_type": "execute_result"
    }
   ],
   "source": [
    "iris.feature_names"
   ]
  },
  {
   "cell_type": "code",
   "execution_count": 7,
   "metadata": {},
   "outputs": [
    {
     "data": {
      "text/plain": [
       "array(['setosa', 'versicolor', 'virginica'], dtype='<U10')"
      ]
     },
     "execution_count": 7,
     "metadata": {},
     "output_type": "execute_result"
    }
   ],
   "source": [
    "iris.target_names"
   ]
  },
  {
   "cell_type": "code",
   "execution_count": 8,
   "metadata": {},
   "outputs": [
    {
     "data": {
      "text/plain": [
       "array([[5.1, 3.5, 1.4, 0.2],\n",
       "       [4.9, 3. , 1.4, 0.2],\n",
       "       [4.7, 3.2, 1.3, 0.2],\n",
       "       [4.6, 3.1, 1.5, 0.2],\n",
       "       [5. , 3.6, 1.4, 0.2],\n",
       "       [5.4, 3.9, 1.7, 0.4],\n",
       "       [4.6, 3.4, 1.4, 0.3],\n",
       "       [5. , 3.4, 1.5, 0.2],\n",
       "       [4.4, 2.9, 1.4, 0.2],\n",
       "       [4.9, 3.1, 1.5, 0.1],\n",
       "       [5.4, 3.7, 1.5, 0.2],\n",
       "       [4.8, 3.4, 1.6, 0.2],\n",
       "       [4.8, 3. , 1.4, 0.1],\n",
       "       [4.3, 3. , 1.1, 0.1],\n",
       "       [5.8, 4. , 1.2, 0.2],\n",
       "       [5.7, 4.4, 1.5, 0.4],\n",
       "       [5.4, 3.9, 1.3, 0.4],\n",
       "       [5.1, 3.5, 1.4, 0.3],\n",
       "       [5.7, 3.8, 1.7, 0.3],\n",
       "       [5.1, 3.8, 1.5, 0.3],\n",
       "       [5.4, 3.4, 1.7, 0.2],\n",
       "       [5.1, 3.7, 1.5, 0.4],\n",
       "       [4.6, 3.6, 1. , 0.2],\n",
       "       [5.1, 3.3, 1.7, 0.5],\n",
       "       [4.8, 3.4, 1.9, 0.2],\n",
       "       [5. , 3. , 1.6, 0.2],\n",
       "       [5. , 3.4, 1.6, 0.4],\n",
       "       [5.2, 3.5, 1.5, 0.2],\n",
       "       [5.2, 3.4, 1.4, 0.2],\n",
       "       [4.7, 3.2, 1.6, 0.2],\n",
       "       [4.8, 3.1, 1.6, 0.2],\n",
       "       [5.4, 3.4, 1.5, 0.4],\n",
       "       [5.2, 4.1, 1.5, 0.1],\n",
       "       [5.5, 4.2, 1.4, 0.2],\n",
       "       [4.9, 3.1, 1.5, 0.1],\n",
       "       [5. , 3.2, 1.2, 0.2],\n",
       "       [5.5, 3.5, 1.3, 0.2],\n",
       "       [4.9, 3.1, 1.5, 0.1],\n",
       "       [4.4, 3. , 1.3, 0.2],\n",
       "       [5.1, 3.4, 1.5, 0.2],\n",
       "       [5. , 3.5, 1.3, 0.3],\n",
       "       [4.5, 2.3, 1.3, 0.3],\n",
       "       [4.4, 3.2, 1.3, 0.2],\n",
       "       [5. , 3.5, 1.6, 0.6],\n",
       "       [5.1, 3.8, 1.9, 0.4],\n",
       "       [4.8, 3. , 1.4, 0.3],\n",
       "       [5.1, 3.8, 1.6, 0.2],\n",
       "       [4.6, 3.2, 1.4, 0.2],\n",
       "       [5.3, 3.7, 1.5, 0.2],\n",
       "       [5. , 3.3, 1.4, 0.2],\n",
       "       [7. , 3.2, 4.7, 1.4],\n",
       "       [6.4, 3.2, 4.5, 1.5],\n",
       "       [6.9, 3.1, 4.9, 1.5],\n",
       "       [5.5, 2.3, 4. , 1.3],\n",
       "       [6.5, 2.8, 4.6, 1.5],\n",
       "       [5.7, 2.8, 4.5, 1.3],\n",
       "       [6.3, 3.3, 4.7, 1.6],\n",
       "       [4.9, 2.4, 3.3, 1. ],\n",
       "       [6.6, 2.9, 4.6, 1.3],\n",
       "       [5.2, 2.7, 3.9, 1.4],\n",
       "       [5. , 2. , 3.5, 1. ],\n",
       "       [5.9, 3. , 4.2, 1.5],\n",
       "       [6. , 2.2, 4. , 1. ],\n",
       "       [6.1, 2.9, 4.7, 1.4],\n",
       "       [5.6, 2.9, 3.6, 1.3],\n",
       "       [6.7, 3.1, 4.4, 1.4],\n",
       "       [5.6, 3. , 4.5, 1.5],\n",
       "       [5.8, 2.7, 4.1, 1. ],\n",
       "       [6.2, 2.2, 4.5, 1.5],\n",
       "       [5.6, 2.5, 3.9, 1.1],\n",
       "       [5.9, 3.2, 4.8, 1.8],\n",
       "       [6.1, 2.8, 4. , 1.3],\n",
       "       [6.3, 2.5, 4.9, 1.5],\n",
       "       [6.1, 2.8, 4.7, 1.2],\n",
       "       [6.4, 2.9, 4.3, 1.3],\n",
       "       [6.6, 3. , 4.4, 1.4],\n",
       "       [6.8, 2.8, 4.8, 1.4],\n",
       "       [6.7, 3. , 5. , 1.7],\n",
       "       [6. , 2.9, 4.5, 1.5],\n",
       "       [5.7, 2.6, 3.5, 1. ],\n",
       "       [5.5, 2.4, 3.8, 1.1],\n",
       "       [5.5, 2.4, 3.7, 1. ],\n",
       "       [5.8, 2.7, 3.9, 1.2],\n",
       "       [6. , 2.7, 5.1, 1.6],\n",
       "       [5.4, 3. , 4.5, 1.5],\n",
       "       [6. , 3.4, 4.5, 1.6],\n",
       "       [6.7, 3.1, 4.7, 1.5],\n",
       "       [6.3, 2.3, 4.4, 1.3],\n",
       "       [5.6, 3. , 4.1, 1.3],\n",
       "       [5.5, 2.5, 4. , 1.3],\n",
       "       [5.5, 2.6, 4.4, 1.2],\n",
       "       [6.1, 3. , 4.6, 1.4],\n",
       "       [5.8, 2.6, 4. , 1.2],\n",
       "       [5. , 2.3, 3.3, 1. ],\n",
       "       [5.6, 2.7, 4.2, 1.3],\n",
       "       [5.7, 3. , 4.2, 1.2],\n",
       "       [5.7, 2.9, 4.2, 1.3],\n",
       "       [6.2, 2.9, 4.3, 1.3],\n",
       "       [5.1, 2.5, 3. , 1.1],\n",
       "       [5.7, 2.8, 4.1, 1.3],\n",
       "       [6.3, 3.3, 6. , 2.5],\n",
       "       [5.8, 2.7, 5.1, 1.9],\n",
       "       [7.1, 3. , 5.9, 2.1],\n",
       "       [6.3, 2.9, 5.6, 1.8],\n",
       "       [6.5, 3. , 5.8, 2.2],\n",
       "       [7.6, 3. , 6.6, 2.1],\n",
       "       [4.9, 2.5, 4.5, 1.7],\n",
       "       [7.3, 2.9, 6.3, 1.8],\n",
       "       [6.7, 2.5, 5.8, 1.8],\n",
       "       [7.2, 3.6, 6.1, 2.5],\n",
       "       [6.5, 3.2, 5.1, 2. ],\n",
       "       [6.4, 2.7, 5.3, 1.9],\n",
       "       [6.8, 3. , 5.5, 2.1],\n",
       "       [5.7, 2.5, 5. , 2. ],\n",
       "       [5.8, 2.8, 5.1, 2.4],\n",
       "       [6.4, 3.2, 5.3, 2.3],\n",
       "       [6.5, 3. , 5.5, 1.8],\n",
       "       [7.7, 3.8, 6.7, 2.2],\n",
       "       [7.7, 2.6, 6.9, 2.3],\n",
       "       [6. , 2.2, 5. , 1.5],\n",
       "       [6.9, 3.2, 5.7, 2.3],\n",
       "       [5.6, 2.8, 4.9, 2. ],\n",
       "       [7.7, 2.8, 6.7, 2. ],\n",
       "       [6.3, 2.7, 4.9, 1.8],\n",
       "       [6.7, 3.3, 5.7, 2.1],\n",
       "       [7.2, 3.2, 6. , 1.8],\n",
       "       [6.2, 2.8, 4.8, 1.8],\n",
       "       [6.1, 3. , 4.9, 1.8],\n",
       "       [6.4, 2.8, 5.6, 2.1],\n",
       "       [7.2, 3. , 5.8, 1.6],\n",
       "       [7.4, 2.8, 6.1, 1.9],\n",
       "       [7.9, 3.8, 6.4, 2. ],\n",
       "       [6.4, 2.8, 5.6, 2.2],\n",
       "       [6.3, 2.8, 5.1, 1.5],\n",
       "       [6.1, 2.6, 5.6, 1.4],\n",
       "       [7.7, 3. , 6.1, 2.3],\n",
       "       [6.3, 3.4, 5.6, 2.4],\n",
       "       [6.4, 3.1, 5.5, 1.8],\n",
       "       [6. , 3. , 4.8, 1.8],\n",
       "       [6.9, 3.1, 5.4, 2.1],\n",
       "       [6.7, 3.1, 5.6, 2.4],\n",
       "       [6.9, 3.1, 5.1, 2.3],\n",
       "       [5.8, 2.7, 5.1, 1.9],\n",
       "       [6.8, 3.2, 5.9, 2.3],\n",
       "       [6.7, 3.3, 5.7, 2.5],\n",
       "       [6.7, 3. , 5.2, 2.3],\n",
       "       [6.3, 2.5, 5. , 1.9],\n",
       "       [6.5, 3. , 5.2, 2. ],\n",
       "       [6.2, 3.4, 5.4, 2.3],\n",
       "       [5.9, 3. , 5.1, 1.8]])"
      ]
     },
     "execution_count": 8,
     "metadata": {},
     "output_type": "execute_result"
    }
   ],
   "source": [
    "iris.data # sepal length, sepal width, petal length, petal width"
   ]
  },
  {
   "cell_type": "code",
   "execution_count": 9,
   "metadata": {},
   "outputs": [
    {
     "data": {
      "text/plain": [
       "array([0, 0, 0, 0, 0, 0, 0, 0, 0, 0, 0, 0, 0, 0, 0, 0, 0, 0, 0, 0, 0, 0,\n",
       "       0, 0, 0, 0, 0, 0, 0, 0, 0, 0, 0, 0, 0, 0, 0, 0, 0, 0, 0, 0, 0, 0,\n",
       "       0, 0, 0, 0, 0, 0, 1, 1, 1, 1, 1, 1, 1, 1, 1, 1, 1, 1, 1, 1, 1, 1,\n",
       "       1, 1, 1, 1, 1, 1, 1, 1, 1, 1, 1, 1, 1, 1, 1, 1, 1, 1, 1, 1, 1, 1,\n",
       "       1, 1, 1, 1, 1, 1, 1, 1, 1, 1, 1, 1, 2, 2, 2, 2, 2, 2, 2, 2, 2, 2,\n",
       "       2, 2, 2, 2, 2, 2, 2, 2, 2, 2, 2, 2, 2, 2, 2, 2, 2, 2, 2, 2, 2, 2,\n",
       "       2, 2, 2, 2, 2, 2, 2, 2, 2, 2, 2, 2, 2, 2, 2, 2, 2, 2])"
      ]
     },
     "execution_count": 9,
     "metadata": {},
     "output_type": "execute_result"
    }
   ],
   "source": [
    "iris.target # 0 for setosa, 1 for versicolor, and 2 for virginica"
   ]
  },
  {
   "cell_type": "code",
   "execution_count": 10,
   "metadata": {},
   "outputs": [],
   "source": [
    "X = iris.data   # inputs  (150x4 numpy.ndarray of float64)\n",
    "y = iris.target # outputs (150 numpy.ndarray of int32)"
   ]
  },
  {
   "cell_type": "code",
   "execution_count": 11,
   "metadata": {},
   "outputs": [
    {
     "data": {
      "text/plain": [
       "array([1, 1, 1, 1, 1, 1, 1, 1, 1, 1, 1, 1, 1, 1, 1, 1, 1, 1, 1, 1, 1, 1,\n",
       "       1, 1, 1, 1, 1, 1, 1, 1, 1, 1, 1, 1, 1, 1, 1, 1, 1, 1, 1, 1, 1, 1,\n",
       "       1, 1, 1, 1, 1, 1, 0, 0, 0, 0, 0, 0, 0, 0, 0, 0, 0, 0, 0, 0, 0, 0,\n",
       "       0, 0, 0, 0, 0, 0, 0, 0, 0, 0, 0, 0, 0, 0, 0, 0, 0, 0, 0, 0, 0, 0,\n",
       "       0, 0, 0, 0, 0, 0, 0, 0, 0, 0, 0, 0, 0, 0, 0, 0, 0, 0, 0, 0, 0, 0,\n",
       "       0, 0, 0, 0, 0, 0, 0, 0, 0, 0, 0, 0, 0, 0, 0, 0, 0, 0, 0, 0, 0, 0,\n",
       "       0, 0, 0, 0, 0, 0, 0, 0, 0, 0, 0, 0, 0, 0, 0, 0, 0, 0])"
      ]
     },
     "execution_count": 11,
     "metadata": {},
     "output_type": "execute_result"
    }
   ],
   "source": [
    "# We only want to learn to recogize setosa\n",
    "y = 1*(y == 0) # y gets 1s for setosa and 0s for versicolor or virginica (only run this cell once or restart kernel!)\n",
    "y"
   ]
  },
  {
   "cell_type": "code",
   "execution_count": 12,
   "metadata": {},
   "outputs": [
    {
     "name": "stdout",
     "output_type": "stream",
     "text": [
      "[119 134  72  52 131  92   8  50  64  89  23 149  57  94  32 112  18  27\n",
      "  59 147 113 140 141 121  51  55  81 125 106  15 130   9 137   5  22  34\n",
      " 122  43  38  62  85  14   1 126  79 107  20  73 102 117 138  54  24  90\n",
      "  82 116  39  68 103  70  87   6  25  61 115  44   4 109  28 118  86  17\n",
      "  16 128 132  10 136  91  96   0  13  84 123 105  63  26  19  78  74 124\n",
      "  29 110 104  41  49  47 135 148 100 108 143  40 120  77  99  37  76 139\n",
      "  36  95  67  21  83 144  31 145  66 146  69  80  88  48 111  65  93 129\n",
      "  33  75 114 133  97   2  98  53  58   3  11  12 127  45  46  71  42 101\n",
      "   7  30  35  60  56 142]\n"
     ]
    }
   ],
   "source": [
    "from numpy.random import permutation\n",
    "perm = permutation(len(X))\n",
    "print(perm) # new random ordering both for X inputs and y outputs\n",
    "X = X[perm] # 150x4 permuted numpy.ndarray (inputs)\n",
    "y = y[perm] # 150 permuted numpy.ndarray (outputs)"
   ]
  },
  {
   "cell_type": "code",
   "execution_count": 13,
   "metadata": {},
   "outputs": [
    {
     "data": {
      "text/plain": [
       "array([0, 0, 0, 0, 0, 0, 1, 0, 0, 0, 1, 0, 0, 0, 1, 0, 1, 1, 0, 0, 0, 0,\n",
       "       0, 0, 0, 0, 0, 0, 0, 1, 0, 1, 0, 1, 1, 1, 0, 1, 1, 0, 0, 1, 1, 0,\n",
       "       0, 0, 1, 0, 0, 0, 0, 0, 1, 0, 0, 0, 1, 0, 0, 0, 0, 1, 1, 0, 0, 1,\n",
       "       1, 0, 1, 0, 0, 1, 1, 0, 0, 1, 0, 0, 0, 1, 1, 0, 0, 0, 0, 1, 1, 0,\n",
       "       0, 0, 1, 0, 0, 1, 1, 1, 0, 0, 0, 0, 0, 1, 0, 0, 0, 1, 0, 0, 1, 0,\n",
       "       0, 1, 0, 0, 1, 0, 0, 0, 0, 0, 0, 1, 0, 0, 0, 0, 1, 0, 0, 0, 0, 1,\n",
       "       0, 0, 0, 1, 1, 1, 0, 1, 1, 0, 1, 0, 1, 1, 1, 0, 0, 0])"
      ]
     },
     "execution_count": 13,
     "metadata": {},
     "output_type": "execute_result"
    }
   ],
   "source": [
    "y"
   ]
  },
  {
   "cell_type": "code",
   "execution_count": 14,
   "metadata": {},
   "outputs": [
    {
     "name": "stdout",
     "output_type": "stream",
     "text": [
      "150\n",
      "(120, 4)\n",
      "(120,)\n",
      "(30, 4)\n",
      "(30,)\n"
     ]
    }
   ],
   "source": [
    "count = X.shape[0]           # 150\n",
    "print(count)\n",
    "\n",
    "# Split X and y into 80% training and 20% testing data sets\n",
    "\n",
    "train_X = X[:int(count*0.8)]\n",
    "print(train_X.shape)         # (120, 4) train_X -> training inputs\n",
    "train_y = y[:int(count*0.8)]\n",
    "print(train_y.shape)         # (120,)   train_y -> training output\n",
    "\n",
    "test_X = X[int(count*0.8):]\n",
    "print(test_X.shape)          # (30, 4)  test_X  -> testing input labels\n",
    "test_y = y[int(count*0.8):]\n",
    "print(test_y.shape)          # (30,)    test_y  -> testing output labels"
   ]
  },
  {
   "cell_type": "code",
   "execution_count": 15,
   "metadata": {},
   "outputs": [
    {
     "name": "stdout",
     "output_type": "stream",
     "text": [
      "[0. 0. 0. 0. 0.]\n",
      "* num_no_zero_errors:  7\n",
      "* num_no_zero_errors:  0\n",
      "[ 0.01   0.015  0.049 -0.07  -0.032]\n"
     ]
    }
   ],
   "source": [
    "# Do some training\n",
    "\n",
    "num_inputs = test_X.shape[1] # 4 input columns\n",
    "weights = np.zeros(num_inputs + 1) # weights for each of the 4 inputs plus one for the bias term\n",
    "\n",
    "perceptron = Perceptron(num_inputs)\n",
    "perceptron.train(train_X, train_y) # train on 80% training input and output data\n",
    "print(perceptron.weights)"
   ]
  },
  {
   "cell_type": "code",
   "execution_count": 16,
   "metadata": {},
   "outputs": [
    {
     "name": "stdout",
     "output_type": "stream",
     "text": [
      "predicted:  0.0  -> actual:  0  -> correct:  True\n",
      "predicted:  1.0  -> actual:  1  -> correct:  True\n",
      "predicted:  0.0  -> actual:  0  -> correct:  True\n",
      "predicted:  0.0  -> actual:  0  -> correct:  True\n",
      "predicted:  0.0  -> actual:  0  -> correct:  True\n",
      "predicted:  0.0  -> actual:  0  -> correct:  True\n",
      "predicted:  1.0  -> actual:  1  -> correct:  True\n",
      "predicted:  0.0  -> actual:  0  -> correct:  True\n",
      "predicted:  0.0  -> actual:  0  -> correct:  True\n",
      "predicted:  0.0  -> actual:  0  -> correct:  True\n",
      "predicted:  0.0  -> actual:  0  -> correct:  True\n",
      "predicted:  1.0  -> actual:  1  -> correct:  True\n",
      "predicted:  0.0  -> actual:  0  -> correct:  True\n",
      "predicted:  0.0  -> actual:  0  -> correct:  True\n",
      "predicted:  0.0  -> actual:  0  -> correct:  True\n",
      "predicted:  1.0  -> actual:  1  -> correct:  True\n",
      "predicted:  1.0  -> actual:  1  -> correct:  True\n",
      "predicted:  1.0  -> actual:  1  -> correct:  True\n",
      "predicted:  0.0  -> actual:  0  -> correct:  True\n",
      "predicted:  1.0  -> actual:  1  -> correct:  True\n",
      "predicted:  1.0  -> actual:  1  -> correct:  True\n",
      "predicted:  0.0  -> actual:  0  -> correct:  True\n",
      "predicted:  1.0  -> actual:  1  -> correct:  True\n",
      "predicted:  0.0  -> actual:  0  -> correct:  True\n",
      "predicted:  1.0  -> actual:  1  -> correct:  True\n",
      "predicted:  1.0  -> actual:  1  -> correct:  True\n",
      "predicted:  1.0  -> actual:  1  -> correct:  True\n",
      "predicted:  0.0  -> actual:  0  -> correct:  True\n",
      "predicted:  0.0  -> actual:  0  -> correct:  True\n",
      "predicted:  0.0  -> actual:  0  -> correct:  True\n"
     ]
    }
   ],
   "source": [
    "# Do some predicting\n",
    "\n",
    "for _X, _y in zip(test_X, test_y):\n",
    "    prediction = perceptron.predict(_X)\n",
    "    actual = _y\n",
    "    correct = prediction == actual\n",
    "    print(\"predicted: \", prediction, \" -> actual: \", actual, \" -> correct: \", correct)"
   ]
  },
  {
   "cell_type": "code",
   "execution_count": 17,
   "metadata": {},
   "outputs": [
    {
     "name": "stdout",
     "output_type": "stream",
     "text": [
      "predicted:  0.0  -> actual:  0  -> correct:  True\n",
      "predicted:  0.0  -> actual:  1  -> correct:  False\n",
      "predicted:  0.0  -> actual:  0  -> correct:  True\n",
      "predicted:  0.0  -> actual:  0  -> correct:  True\n",
      "predicted:  0.0  -> actual:  0  -> correct:  True\n",
      "predicted:  0.0  -> actual:  0  -> correct:  True\n",
      "predicted:  0.0  -> actual:  1  -> correct:  False\n",
      "predicted:  0.0  -> actual:  0  -> correct:  True\n",
      "predicted:  1.0  -> actual:  0  -> correct:  False\n",
      "predicted:  0.0  -> actual:  0  -> correct:  True\n",
      "predicted:  0.0  -> actual:  0  -> correct:  True\n",
      "predicted:  1.0  -> actual:  1  -> correct:  True\n",
      "predicted:  0.0  -> actual:  0  -> correct:  True\n",
      "predicted:  0.0  -> actual:  0  -> correct:  True\n",
      "predicted:  0.0  -> actual:  0  -> correct:  True\n",
      "predicted:  1.0  -> actual:  1  -> correct:  True\n",
      "predicted:  1.0  -> actual:  1  -> correct:  True\n",
      "predicted:  1.0  -> actual:  1  -> correct:  True\n",
      "predicted:  0.0  -> actual:  0  -> correct:  True\n",
      "predicted:  1.0  -> actual:  1  -> correct:  True\n",
      "predicted:  1.0  -> actual:  1  -> correct:  True\n",
      "predicted:  0.0  -> actual:  0  -> correct:  True\n",
      "predicted:  1.0  -> actual:  1  -> correct:  True\n",
      "predicted:  0.0  -> actual:  0  -> correct:  True\n",
      "predicted:  1.0  -> actual:  1  -> correct:  True\n",
      "predicted:  1.0  -> actual:  1  -> correct:  True\n",
      "predicted:  1.0  -> actual:  1  -> correct:  True\n",
      "predicted:  0.0  -> actual:  0  -> correct:  True\n",
      "predicted:  0.0  -> actual:  0  -> correct:  True\n",
      "predicted:  0.0  -> actual:  0  -> correct:  True\n"
     ]
    }
   ],
   "source": [
    "# force errors in classification with bad data in first ten rows and see what happens to prediction correctness\n",
    "\n",
    "test_X[0] = 10*np.random.rand(4) \n",
    "test_X[1] = 10*np.random.rand(4)\n",
    "test_X[2] = 10*np.random.rand(4)\n",
    "test_X[3] = 10*np.random.rand(4)\n",
    "test_X[4] = 10*np.random.rand(4)\n",
    "test_X[5] = 10*np.random.rand(4)\n",
    "test_X[6] = 10*np.random.rand(4)\n",
    "test_X[7] = 10*np.random.rand(4)\n",
    "test_X[8] = 10*np.random.rand(4)\n",
    "test_X[9] = 10*np.random.rand(4)\n",
    "\n",
    "for _X, _y in zip(test_X, test_y):\n",
    "    prediction = perceptron.predict(_X)\n",
    "    actual = _y\n",
    "    correct = prediction == actual\n",
    "    print(\"predicted: \", prediction, \" -> actual: \", actual, \" -> correct: \", correct)\n"
   ]
  },
  {
   "cell_type": "code",
   "execution_count": null,
   "metadata": {},
   "outputs": [],
   "source": []
  }
 ],
 "metadata": {
  "kernelspec": {
   "display_name": "Python 3",
   "language": "python",
   "name": "python3"
  },
  "language_info": {
   "codemirror_mode": {
    "name": "ipython",
    "version": 3
   },
   "file_extension": ".py",
   "mimetype": "text/x-python",
   "name": "python",
   "nbconvert_exporter": "python",
   "pygments_lexer": "ipython3",
   "version": "3.6.4"
  }
 },
 "nbformat": 4,
 "nbformat_minor": 2
}
