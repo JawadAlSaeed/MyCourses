{
 "cells": [
  {
   "cell_type": "markdown",
   "metadata": {},
   "source": [
    "# Getting Started\n",
    "\n",
    "* JavaScript was created by Brendan Eich at Netscape in 1995\n",
    "* JavaScript is a trademark currently owned by Oracle (previously owned by Sun)\n",
    "* JavaScript is the common name of the programming language\n",
    "* ECMAScript is the name used by the language specification standard\n",
    "* Supports dynamic typing, prototype-based object-orientation, and first-class functions\n",
    "* See: https://developer.mozilla.org/en-US/docs/Learn/Getting_started_with_the_web/JavaScript_basics\n",
    "* Install Node.js: https://nodejs.org\n",
    "\n",
    "## JavaScript Everywhere\n",
    "* Client-side web (virtually all web browsers)\n",
    "* Server-side web (NodeJS, along with Express.js, etc.)\n",
    "* Embedded mobile device app frameworks: Electron, Cordova, NativeScript, etc.\n",
    "* Dev toolchain (NodeJS, along with VisualStudio Code, Babel, Webpack, etc.)\n",
    "* Database scripting environments (MongoDB, CouchDB, etc.)\n",
    "\n",
    "## JavaScript APIs, Libraries, and Frameworks\n",
    "* Browser APIs: File, IndexedDB, Web Audio, Web Sockets, WebGL, Web Storage, Web Workers, Canvas, etc.\n",
    "* Node APIs: HTTP, REST, MongoDB, socket.io, axios, etc.\n",
    "* Client-side libraries and frameworks: Angular, React.js, Vue.js, etc.\n",
    "* Server-side libraries and frameworks: Node.js, Express.js, etc.\n",
    "* Node.js-based development tools: npm, babel, webpack, VS code, etc.\n",
    "* Thousands more\n",
    "\n",
    "## JavaScript Runtime Environment\n",
    "* JavaScript code is just text that is interpreted dynamically at runtime like Python\n",
    "* JavaScript is not compiled into native binary code prior to execution like C++\n",
    "* JavaScript engine implements (some version of) the standard ECMAScript language specification\n",
    "\n",
    "## Examples of JavaScript Engines\n",
    "* Chrome V8 – Google Chrome, Opera, NodeJS, and Couchbase\n",
    "* SpiderMonkey – Mozilla Firefox\n",
    "* Nitro – Apple Safari\n",
    "* Chakra – Microsoft Edge\n",
    "\n",
    "## JavaScript is Single Threaded\n",
    "* JavaScript engine instance runs all JavaScript code in a single thread\n",
    "* Single threaded event loop dispatches events in the event queue to handler functions (callbacks)\n",
    "* When a callback function runs, it blocks others from running.\n",
    "* No context switching, all callbacks in event queue must wait to be dispatched\n",
    "\n",
    "## NodeJS\n",
    "\n",
    "* Developed initially by Ryan Dahl in 2009\n",
    "* Open-source cross-platform JavaScript runtime (V8) outside of web browser\n",
    "* Single-thread event loop\n",
    "* Non-blocking I/O calls\n",
    "* Built-in npm package manager\n",
    "* For developing command line tools and server-side scripting\n",
    "* [The official Node.js website and installation instructions](https://nodejs.org)\n",
    "* [Node.js Documentation](https://nodejs.org/api/)"
   ]
  },
  {
   "cell_type": "markdown",
   "metadata": {},
   "source": [
    "## Examples of JavaScript Usage Scenarios\n",
    "\n",
    "* The ```window.alert()``` and ```window.prompt()``` Functions: Browser Only\n",
    "* The ```console.log()``` Function: Browser F12 Dev Tools and Node.js console output\n",
    "* The ```readline``` Module: Node.js console input\n",
    "* Simple Static File HTTP Server\n"
   ]
  },
  {
   "cell_type": "markdown",
   "metadata": {},
   "source": [
    "### The ```window.alert()``` and ```window.prompt()``` Functions: Browser Only\n",
    "Copy/past to .js file and run in Node.js\n",
    "```javascript\n",
    "<script>\n",
    "    var input = window.prompt(\"yourName: \", \"default\");\n",
    "    if (input != null) {\n",
    "        window.alert(input);\n",
    "    }\n",
    "</script>\n",
    "```"
   ]
  },
  {
   "cell_type": "markdown",
   "metadata": {},
   "source": [
    "### The ```console.log()``` and ```console.error()``` Functions\n",
    "\n",
    "* Browser F12 Dev Tools and Node.js console output\n",
    "* Formatting console output"
   ]
  },
  {
   "cell_type": "code",
   "execution_count": 19,
   "metadata": {},
   "outputs": [
    {
     "name": "stdout",
     "output_type": "stream",
     "text": [
      "3 + 4 =  7\n"
     ]
    },
    {
     "name": "stderr",
     "output_type": "stream",
     "text": [
      "ooops\n"
     ]
    }
   ],
   "source": [
    "console.log(\"3 + 4 = \", 3 + 4); // output goes to stdout \n",
    "console.error(\"ooops\");         // output goes to stderr "
   ]
  },
  {
   "cell_type": "code",
   "execution_count": 20,
   "metadata": {},
   "outputs": [
    {
     "name": "stdout",
     "output_type": "stream",
     "text": [
      "abc 123\n",
      "{ foo: 123, bar: 'abc' }\n",
      "{\"foo\":123,\"bar\":\"abc\"}\n",
      "100 %\n"
     ]
    }
   ],
   "source": [
    "// %s converts parameter to string\n",
    "console.log('%s %s', 'abc', 123);           // abc 123\n",
    "// %o converts parameter to object\n",
    "console.log('%o', {foo: 123, bar: 'abc'});  // { foo: 123, bar: 'abc' }\n",
    "// %j converts parameter to JSON string\n",
    "console.log('%j', {foo: 123, bar: 'abc'});  // {\"foo\":123,\"bar\":\"abc\"}\n",
    "// %% escapes to a single % character\n",
    "console.log('%s %%', 100);                  // 100 %"
   ]
  },
  {
   "cell_type": "markdown",
   "metadata": {},
   "source": [
    "### The ```JSON.stringify()``` Method\n",
    "\n",
    "* Converts an object to a string\n",
    "* ```JSON.stringify(value[, replacer[, space]])```\n",
    "* See: https://developer.mozilla.org/en-US/docs/Web/JavaScript/Reference/Global_Objects/JSON/stringify"
   ]
  },
  {
   "cell_type": "code",
   "execution_count": 23,
   "metadata": {},
   "outputs": [
    {
     "name": "stdout",
     "output_type": "stream",
     "text": [
      "{\n",
      "  \"first\": \"Joe\",\n",
      "  \"last\": \"Shmoe\",\n",
      "  \"foo\": [\n",
      "    1,\n",
      "    2,\n",
      "    3\n",
      "  ]\n",
      "}\n"
     ]
    }
   ],
   "source": [
    "console.log(JSON.stringify({first: 'Joe', last: 'Shmoe', foo: [1,2,3]}, null, 2));"
   ]
  },
  {
   "cell_type": "markdown",
   "metadata": {},
   "source": [
    "### The ```readline-sync``` Module: Synchronous Standard Input\n",
    "\n",
    "* **NOTE**: No ```stdio``` in Jupyter so copy/paste into ```.js``` file and run node on it\n",
    "* **NOTE**: ```npm install readline-sync```\n",
    "\n",
    "```javascript\n",
    "const readline = require('readline-sync');\n",
    "let name = readline.question(\"Enter name: \");\n",
    "console.log(\"Hello \" + name + \".\");\n",
    "```"
   ]
  },
  {
   "cell_type": "markdown",
   "metadata": {},
   "source": [
    "### The ```readline``` Module: Asynchronous Standard Input\n",
    "\n",
    "* **NOTE**: No ```stdio``` in Jupyter so copy/paste into ```.js``` file and run node on it\n",
    "* **NOTE**: ```npm install readline```\n",
    "\n",
    "```javascript\n",
    "const readline = require('readline').createInterface({\n",
    "    input: process.stdin,\n",
    "    output: process.stdout\n",
    "});\n",
    "readline.question('Enter name: ', (name) => {\n",
    "    console.log(`Hello ${name}.`);\n",
    "    readline.close();\n",
    "});\n",
    "```"
   ]
  },
  {
   "cell_type": "markdown",
   "metadata": {},
   "source": [
    "### Raw Keyboard Input\n",
    "\n",
    "* **NOTE**: No ```stdio``` in Jupyter so copy/paste into ```.js``` file and run node on it\n",
    "\n",
    "```javascript\n",
    "var stdin = process.stdin;                 // standard input stream\n",
    "stdin.setRawMode( true );                  // character-by-character input\n",
    "stdin.resume();                            // start reading from stdin\n",
    "stdin.setEncoding('hex');                  // 'hex', or 'utf8', or ...\n",
    "console.log(\"Hit keys or ctrl-c to quit\"); // prompt user\n",
    "stdin.on( 'data', function( key ){         // on input data event\n",
    "    if ( key == 0x03 ) {                   // ctrl-c for end of input\n",
    "        process.exit();                    // die\n",
    "    }\n",
    "    process.stdout.write( key + \" \");      // write input key to stdout\n",
    "});\n",
    "```"
   ]
  },
  {
   "cell_type": "markdown",
   "metadata": {},
   "source": [
    "### Simple Static File HTTP Server"
   ]
  },
  {
   "cell_type": "code",
   "execution_count": 23,
   "metadata": {},
   "outputs": [
    {
     "name": "stdout",
     "output_type": "stream",
     "text": [
      "Click -> http://localhost:8080\n"
     ]
    }
   ],
   "source": [
    "var http = require('http');\n",
    "http.createServer(function (req, res) {\n",
    "  res.writeHead(200, {'Content-Type': 'text/html'});\n",
    "  res.end('Hello World!');\n",
    "}).listen(8080);\n",
    "\n",
    "console.log('Click -> http://localhost:8080');"
   ]
  },
  {
   "cell_type": "code",
   "execution_count": null,
   "metadata": {},
   "outputs": [],
   "source": []
  }
 ],
 "metadata": {
  "kernelspec": {
   "display_name": "Javascript (Node.js)",
   "language": "javascript",
   "name": "javascript"
  },
  "language_info": {
   "file_extension": ".js",
   "mimetype": "application/javascript",
   "name": "javascript",
   "version": "10.13.0"
  }
 },
 "nbformat": 4,
 "nbformat_minor": 2
}
