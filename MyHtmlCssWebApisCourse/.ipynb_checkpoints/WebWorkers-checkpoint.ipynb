{
 "cells": [
  {
   "cell_type": "markdown",
   "metadata": {},
   "source": [
    "# Web Workers\n",
    "\n",
    "* MDN Docs Using Web Workers: https://developer.mozilla.org/en-US/docs/Web/API/Web_Workers_API/Using_web_workers\n",
    "* MDN Docs Web Workers API: https://developer.mozilla.org/en-US/docs/Web/API/Web_Workers_API\n",
    "* HTML5 Rocks The Basics of Web Workers: https://www.html5rocks.com/en/tutorials/workers/basics\n",
    "* WHATWG Specification Web Workers: https://html.spec.whatwg.org/multipage/workers.html       "
   ]
  },
  {
   "cell_type": "code",
   "execution_count": null,
   "metadata": {},
   "outputs": [],
   "source": []
  }
 ],
 "metadata": {
  "kernelspec": {
   "display_name": "Python 3",
   "language": "python",
   "name": "python3"
  },
  "language_info": {
   "codemirror_mode": {
    "name": "ipython",
    "version": 3
   },
   "file_extension": ".py",
   "mimetype": "text/x-python",
   "name": "python",
   "nbconvert_exporter": "python",
   "pygments_lexer": "ipython3",
   "version": "3.7.6"
  }
 },
 "nbformat": 4,
 "nbformat_minor": 4
}
