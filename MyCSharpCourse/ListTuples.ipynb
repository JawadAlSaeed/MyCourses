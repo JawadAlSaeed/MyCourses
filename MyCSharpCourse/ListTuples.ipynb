{
 "cells": [
  {
   "cell_type": "markdown",
   "metadata": {},
   "source": [
    "# List of Tuples"
   ]
  },
  {
   "cell_type": "code",
   "execution_count": 2,
   "metadata": {},
   "outputs": [
    {
     "name": "stdout",
     "output_type": "stream",
     "text": [
      "category: fruit, example: apple\n",
      "category: fruit, example: peach\n",
      "category: vegetable, example: carrot\n",
      "category: vegetable, example: broccoli\n"
     ]
    }
   ],
   "source": [
    "using System;\n",
    "using System.Collections.Generic;\n",
    "class Program\n",
    "    \n",
    "{\n",
    "    public static void Main()\n",
    "    {\n",
    "        List<Tuple<string, string>> list = new List<Tuple<string, string>>();\n",
    "        list.Add(new Tuple<string, string>(\"fruit\", \"apple\"));\n",
    "        list.Add(new Tuple<string, string>(\"fruit\", \"peach\"));\n",
    "        list.Add(new Tuple<string, string>(\"vegetable\", \"carrot\"));\n",
    "        list.Add(new Tuple<string, string>(\"vegetable\", \"broccoli\"));\n",
    "        \n",
    "        foreach (var item in list)\n",
    "        {\n",
    "            Console.WriteLine(\"category: \" + item.Item1 + \", example: \" + item.Item2);\n",
    "        }\n",
    "    }\n",
    "}\n",
    "\n",
    "Program.Main()"
   ]
  },
  {
   "cell_type": "code",
   "execution_count": null,
   "metadata": {},
   "outputs": [],
   "source": []
  }
 ],
 "metadata": {
  "kernelspec": {
   "display_name": ".NET (C#)",
   "language": "C#",
   "name": ".net-csharp"
  },
  "language_info": {
   "file_extension": ".cs",
   "mimetype": "text/x-csharp",
   "name": "C#",
   "pygments_lexer": "csharp",
   "version": "8.0"
  }
 },
 "nbformat": 4,
 "nbformat_minor": 4
}
