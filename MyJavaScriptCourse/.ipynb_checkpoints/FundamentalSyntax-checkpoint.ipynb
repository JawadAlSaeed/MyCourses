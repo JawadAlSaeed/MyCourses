{
 "cells": [
  {
   "cell_type": "markdown",
   "metadata": {},
   "source": [
    "## Comments\n",
    "\n",
    "* JavaScript comments are ignored by the interpreter at runtime\n",
    "* JavaScript comments are mostly used to explain JavaScript code to programmers\n",
    "* JavaScript comments can also be used to prevent execution during when devlopment, debugging, and experimenting with code\n",
    "* Single line comments start with // and end with the a newline\n",
    "* Multi line comments start with /* and end with */"
   ]
  },
  {
   "cell_type": "code",
   "execution_count": 1,
   "metadata": {},
   "outputs": [],
   "source": [
    "// Single Line Comment\n",
    "\n",
    "/*\n",
    "Multi-line comments start with slash star \n",
    "...and end with star slash.\n",
    "*/"
   ]
  },
  {
   "cell_type": "markdown",
   "metadata": {},
   "source": [
    "## Identifiers\n",
    "\n",
    "- An Identifier is a sequence of characters in code that identifies a variable, function, or property.\n",
    "- Identifiers can contain only alphanumeric characters (or \"$\" or \"_\"), and may not start with a digit. "
   ]
  },
  {
   "cell_type": "markdown",
   "metadata": {},
   "source": [
    "## JavaScript is case-sensitive and uses Unicode"
   ]
  },
  {
   "cell_type": "code",
   "execution_count": 3,
   "metadata": {},
   "outputs": [
    {
     "name": "stdout",
     "output_type": "stream",
     "text": [
      "Það eru margar undur í höfuðkúpu.\n",
      "师父领进门，修行在\n"
     ]
    }
   ],
   "source": [
    "var Íslensk_orðatiltækis = \"Það eru margar undur í höfuðkúpu.\"; // Icelandic proverb\n",
    "console.log(Íslensk_orðatiltækis)\n",
    "var 中國諺語 = \"师父领进门，修行在\";                              // Chinese proverb\n",
    "console.log(中國諺語)"
   ]
  },
  {
   "cell_type": "markdown",
   "metadata": {},
   "source": [
    "## The var Statement\n",
    "\n",
    "* The var statement declares a variable and optionally initializes it to a value\n",
    "* All var declarations are hoisted and processed before any code is executed"
   ]
  },
  {
   "cell_type": "code",
   "execution_count": 4,
   "metadata": {},
   "outputs": [
    {
     "name": "stdout",
     "output_type": "stream",
     "text": [
      "2\n",
      "2\n"
     ]
    }
   ],
   "source": [
    "var x = 1;\n",
    "if (true) {\n",
    "  var x = 2;      // Not block scoped (hoisted and merged with x in outer global scope)\n",
    "  console.log(x); // 2\n",
    "}\n",
    "console.log(x);   // 2"
   ]
  },
  {
   "cell_type": "code",
   "execution_count": 15,
   "metadata": {},
   "outputs": [
    {
     "name": "stdout",
     "output_type": "stream",
     "text": [
      "2\n",
      "3\n",
      "3\n",
      "1\n"
     ]
    }
   ],
   "source": [
    "var x = 1;\n",
    "function func () {\n",
    "  var x = 2;        // hoisted in function scope only, not hoisted to global scope\n",
    "  console.log(x);   // 2\n",
    "  if (true) {\n",
    "    var x = 3;      // Not block scoped (hoisted and merged with x in outer function scope)\n",
    "    console.log(x); // 3\n",
    "  }\n",
    "  console.log(x);   // 3\n",
    "}\n",
    "func();\n",
    "console.log(x);     // 1"
   ]
  },
  {
   "cell_type": "markdown",
   "metadata": {},
   "source": [
    "## The let Statement\n",
    "* The let statement declares a block scope local variable and optionally initializes it to a value\n",
    "* Redeclaring variable with let in same function or block scope raises a SyntaxError. But note that you cannot use try-catch blocks to handle syntax errors as they are thrown at parse-time rather than at run-time."
   ]
  },
  {
   "cell_type": "code",
   "execution_count": 26,
   "metadata": {},
   "outputs": [
    {
     "name": "stdout",
     "output_type": "stream",
     "text": [
      "2\n",
      "1\n"
     ]
    }
   ],
   "source": [
    "{ // use block scope to avoid scopes from earlier cells\n",
    "let x = 1;\n",
    "if (x === 1) {\n",
    "  let x = 2;      // Bock scoped (not hoisted and merged with x in outer scope)\n",
    "  console.log(x); // 2\n",
    "}\n",
    "console.log(x);   // 1\n",
    "}"
   ]
  },
  {
   "cell_type": "code",
   "execution_count": 25,
   "metadata": {},
   "outputs": [
    {
     "name": "stdout",
     "output_type": "stream",
     "text": [
      "2\n",
      "3\n",
      "2\n",
      "1\n"
     ]
    }
   ],
   "source": [
    "{ // use block scope to avoid scopes from earlier cells\n",
    "let x = 1;\n",
    "function func () {\n",
    "  let x = 2;        // hoisted in function scope only, not hoisted to global scope\n",
    "  console.log(x);   // 2\n",
    "  if (true) {\n",
    "    let x = 3;      // Not block scoped (hoisted and merged with x in outer function scope)\n",
    "    console.log(x); // 3\n",
    "  }\n",
    "  console.log(x);   // 2\n",
    "}\n",
    "func();\n",
    "console.log(x);     // 1\n",
    "}"
   ]
  },
  {
   "cell_type": "markdown",
   "metadata": {},
   "source": [
    "## The const Statement\n",
    "* Declares a read-only block-scoped constant with mandatory initiazation\n",
    "* Redeclaring variable with const in same function or block scope raises a SyntaxError. But note that you cannot use try-catch blocks to handle syntax errors as they are thrown at parse-time rather than at run-time."
   ]
  },
  {
   "cell_type": "code",
   "execution_count": 24,
   "metadata": {},
   "outputs": [
    {
     "name": "stdout",
     "output_type": "stream",
     "text": [
      "TypeError Assignment to constant variable.\n",
      "42\n"
     ]
    }
   ],
   "source": [
    "{ // use block scope to avoid scopes from earlier cells\n",
    "const ANSWER = 42;\n",
    "try {\n",
    "  ANSWER = 99;\n",
    "} catch(err) {\n",
    "  console.log(err.name, err.message); // TypeError Assignment to constant variable.\n",
    "}\n",
    "console.log(ANSWER); // 42\n",
    "}"
   ]
  },
  {
   "cell_type": "code",
   "execution_count": null,
   "metadata": {},
   "outputs": [],
   "source": []
  }
 ],
 "metadata": {
  "kernelspec": {
   "display_name": "Javascript (Node.js)",
   "language": "javascript",
   "name": "javascript"
  },
  "language_info": {
   "file_extension": ".js",
   "mimetype": "application/javascript",
   "name": "javascript",
   "version": "10.13.0"
  }
 },
 "nbformat": 4,
 "nbformat_minor": 2
}
