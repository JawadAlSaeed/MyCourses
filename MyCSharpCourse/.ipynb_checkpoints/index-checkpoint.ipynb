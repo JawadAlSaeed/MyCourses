{
 "cells": [
  {
   "cell_type": "markdown",
   "metadata": {},
   "source": [
    "# My C# Course\n",
    "\n",
    "* [My Git Course](../MyGitCourse/index.ipynb)"
   ]
  },
  {
   "cell_type": "markdown",
   "metadata": {},
   "source": [
    "## Online Code Challenges\n",
    "\n",
    "* [exercism.io](https://exercism.io/my/tracks)\n",
    "* [hackerrank.com](https://www.hackerrank.com)\n",
    "* [project euler solutions](https://www.mathblog.dk/project-euler-solutions/)\n",
    "* [leetcode.com](https://leetcode.com)\n",
    "* [edabit.com](https://edabit.com/challenges/csharp)"
   ]
  },
  {
   "cell_type": "markdown",
   "metadata": {},
   "source": [
    "## Free C# Learning Resources\n",
    "\n",
    "* [C# documentation](https://docs.microsoft.com/en-us/dotnet/csharp/)\n",
    "* xxx"
   ]
  },
  {
   "cell_type": "markdown",
   "metadata": {},
   "source": [
    "## C# Language\n",
    "\n",
    "* Designed by Anders Hejlsberg in 2000\n",
    "* ECMA-334 Standard\n",
    "* xxx"
   ]
  },
  {
   "cell_type": "markdown",
   "metadata": {},
   "source": [
    "* [Getting Started](GettingStarted.ipynb)\n",
    "* [Syntax Fundamentals]()\n",
    "* [Data Types]()\n",
    "* [Operators and Expressions]()\n",
    "* [Several Examples]()\n",
    "* [.NET]()\n",
    "* [Math]()\n",
    "* [Strings]()\n",
    "* [Arrays]()\n",
    "* [Collections]()\n",
    "* [Classes and Interfaces]()\n",
    "* [Control Statements]()\n",
    "* [Enums]()\n",
    "* [Exceptions]()\n",
    "* [The using Keyword]()\n",
    "* [File IO]()\n",
    "* [CSV Parsing]()\n",
    "* [JSON Parsing]()\n",
    "* [XML Parsing]()\n",
    "* [Lambdas]()\n",
    "* [Attributes]()\n",
    "* [Concurrency]()\n",
    "* [Data Structures and Algorithms]()\n",
    "* [Sorting Algorithms](SortingAlgorithms.ipynb)\n",
    "* [Newton-Raphson Method](NewtonRaphson.ipynb)"
   ]
  },
  {
   "cell_type": "markdown",
   "metadata": {},
   "source": [
    "## C# Data Structures and Algorithms\n",
    "\n",
    "* [CSarpDataStructuresAlgorithms](CSarpDataStructuresAlgorithms.ipynb)\n",
    "\n",
    "* [C# Algorithms and Data Structures](http://anh.cs.luc.edu/170/notes/CSharpHtml/index.html)\n",
    "* [Stopwatch - Measuring performance](https://github.com/peterthorsteinson/CSharp_example_code/tree/master/C%23_example_code/Stopwatch)\n",
    "* [GCD (iterative vs recursive)](https://github.com/peterthorsteinson/CSharp_example_code/tree/master/C%23_example_code/EuclideanAlgorithm)\n",
    "* [EuclideanAlgorithmRecursive](https://github.com/peterthorsteinson/CSharp_example_code/tree/master/C%23_example_code/EuclideanAlgorithmRecursive)\n",
    "\n",
    "### Sorting Algorithms\n",
    "* [Sorting](http://anh.cs.luc.edu/170/notes/CSharpHtml/sorting.html)\n",
    "* [Bubble Sort](https://github.com/peterthorsteinson/CSharp_example_code/tree/master/C%23_example_code/BubbleSort)\n",
    "\n",
    "### Search Algorithms\n",
    "* [Linear Search](http://anh.cs.luc.edu/170/notes/CSharpHtml/searching.html)\n",
    "* [Binary Search](http://anh.cs.luc.edu/170/notes/CSharpHtml/binarysearching.html)\n",
    "* [Binary Search](http://anh.cs.luc.edu/170/notes/CSharpHtml/binarysearching.html)\n",
    "\n",
    "### Big O Notation\n",
    "* [Wikipedia Big O notation](https://en.wikipedia.org/wiki/Big_O_notation)\n",
    "* [Big O Notation](http://web.mit.edu/16.070/www/lecture/big_o.pdf)\n",
    "* [Big-O Examples](https://www.cs.auckland.ac.nz/courses/compsci220s1t/lectures/lecturenotes/GG-lectures/BigOhexamples.pdf)\n",
    "* [Big-O Cheat Sheet](https://www.bigocheatsheet.com)\n",
    "\n",
    "### Recursion \n",
    "* [Recursion](https://introprogramming.info/english-intro-csharp-book/read-online/chapter-10-recursion)\n",
    "\n",
    "### Sorting & Searching (Lists, Trees, Graphs)\n",
    "* [C-Sharp-Algorithms](https://github.com/aalhour/C-Sharp-Algorithms)\n",
    "* [Data structures and algorithms in C#](https://github.com/abdonkov/DSA)\n",
    "* [Advanced-Algorithms](https://github.com/justcoding121/Advanced-Algorithms)\n",
    "* [All algorithms implemented in C#](https://github.com/TheAlgorithms/C-Sharp)\n",
    "\n",
    "## Hackerrank Challenges\n",
    "* [Hackerrank Algorithms](https://www.hackerrank.com/domains/algorithms)\n",
    "* [Hackerrank Data Structures](https://www.hackerrank.com/domains/data-structures)\n",
    "* [Hackerrank Mathematics](https://www.hackerrank.com/domains/mathematics)\n",
    "\n",
    "### Odds and Ends\n",
    "* [MySamples](https://github.com/peterthorsteinson/CSharp_example_code/tree/master/C%23_example_code)\n",
    "\n",
    "\n",
    "### Data Structures\n",
    "\n",
    "* [Queue]()\n",
    "* [Deque]()  \n",
    "* [Stack]()\n",
    "* [Binary Tree]()\n",
    "\n",
    "### Sort and Search Algorithms\n",
    "\n",
    "* [Big O Notation]()\n",
    "* [Sort Algorithms]()\n",
    "* [Search Algorithms]()\n",
    "\n",
    "### Various Other Algorithms \n",
    "* [Factorial]()\n",
    "* [xxx]()"
   ]
  },
  {
   "cell_type": "markdown",
   "metadata": {},
   "source": [
    "## Functional Programming and Delegates \n",
    "* [Introduction to Delegates](https://docs.microsoft.com/en-us/dotnet/csharp/delegates-overview)\n",
    "* [Delegates](https://docs.microsoft.com/en-us/dotnet/csharp/tour-of-csharp/delegates)\n",
    "* [Delegates](https://docs.microsoft.com/en-us/dotnet/csharp/language-reference/language-specification/delegates)\n",
    "\n",
    "## Using Delegates to Call Methods\n",
    "See: https://docs.microsoft.com/en-us/dotnet/csharp/programming-guide/delegates/using-delegates\n",
    "See: https://docs.microsoft.com/en-us/dotnet/csharp/programming-guide/delegates/using-delegates\n",
    "See: https://github.com/peterthorsteinson/CSharp_example_code/blob/master/C%23_example_code/FunctionalProgAndDelegates/Using%20DelegatesToCallMethods\n",
    "\n",
    "## Delegates and Scope\n",
    "See: https://github.com/peterthorsteinson/CSharp_example_code/blob/master/C%23_example_code/FunctionalProgAndDelegates/DelegatesAndScope\n",
    "\n",
    "\n",
    "## Async Sample: Make Multiple Web Requests in Parallel\n",
    "See: https://code.msdn.microsoft.com/Async-Make-Multiple-Web-49adb82e\n",
    "\n",
    "## Delegates and Collections\n",
    "See:  http://www.csharp-examples.net/sort-array\n",
    "\n",
    "## Lambda Expressions\n",
    "See: https://docs.microsoft.com/en-us/dotnet/csharp/programming-guide/statements-expressions-operators/lambda-expressions\n",
    "\n",
    "\n",
    "## Tasks and Asynchronous Programming\n",
    "See: https://docs.microsoft.com/en-us/dotnet/csharp/programming-guide/concepts/async\n",
    "\n",
    "## LINQ and Delegates\n",
    "See: https://docs.microsoft.com/en-us/dotnet/standard/delegates-lambdas\n",
    "\n",
    "## LINQ Syntax Alternatives (expression vs fluent)\n",
    "See: https://github.com/peterthorsteinson/CSharp_example_code/blob/master/C%23_example_code/FunctionalProgAndDelegates/LINQSyntaxAlternatives\n"
   ]
  },
  {
   "cell_type": "code",
   "execution_count": null,
   "metadata": {},
   "outputs": [],
   "source": []
  }
 ],
 "metadata": {
  "kernelspec": {
   "display_name": ".NET (C#)",
   "language": "C#",
   "name": ".net-csharp"
  },
  "language_info": {
   "file_extension": ".cs",
   "mimetype": "text/x-csharp",
   "name": "C#",
   "pygments_lexer": "csharp",
   "version": "8.0"
  }
 },
 "nbformat": 4,
 "nbformat_minor": 4
}
