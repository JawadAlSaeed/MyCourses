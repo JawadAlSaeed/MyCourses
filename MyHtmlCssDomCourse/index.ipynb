{
 "cells": [
  {
   "cell_type": "markdown",
   "metadata": {},
   "source": [
    "# My HTML5, CSS3, and DOM Course"
   ]
  },
  {
   "cell_type": "markdown",
   "metadata": {},
   "source": [
    "## Git\n",
    "* [Git](../MyGitCourse/git.ipynb)"
   ]
  },
  {
   "cell_type": "markdown",
   "metadata": {},
   "source": [
    "\n",
    "## Free HTML5, CSS3, and DOM Learning Resources\n",
    "\n",
    "### HTML5\n",
    "\n",
    "* [W3C HTML5 Reference](https://dev.w3.org/html5/html-author)\n",
    "* [MDN Web Docs HTML5](https://developer.mozilla.org/en-US/docs/Web/Guide/HTML/HTML5)\n",
    "\n",
    "### CSS3\n",
    "* [W3C: Cascading Style Sheets](https://www.w3.org/Style/CSS/Overview.en.html)\n",
    "\n",
    "### DOM\n",
    "* [DOM Enlightenment](http://domenlightenment.com)\n"
   ]
  },
  {
   "cell_type": "markdown",
   "metadata": {},
   "source": [
    "* [HTML5 (Hypertext Markup Language)](html5.ipynb)\n",
    "* [CSS3 (Cascading Style Sheets)](css3.ipynb)\n",
    "* [DOM (Document Object Model)](dom.ipynb)"
   ]
  },
  {
   "cell_type": "code",
   "execution_count": null,
   "metadata": {},
   "outputs": [],
   "source": []
  }
 ],
 "metadata": {
  "kernelspec": {
   "display_name": "Python 3",
   "language": "python",
   "name": "python3"
  },
  "language_info": {
   "codemirror_mode": {
    "name": "ipython",
    "version": 3
   },
   "file_extension": ".py",
   "mimetype": "text/x-python",
   "name": "python",
   "nbconvert_exporter": "python",
   "pygments_lexer": "ipython3",
   "version": "3.7.6"
  }
 },
 "nbformat": 4,
 "nbformat_minor": 4
}
