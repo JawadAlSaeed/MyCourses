{
 "cells": [
  {
   "cell_type": "code",
   "execution_count": 4,
   "metadata": {},
   "outputs": [
    {
     "name": "stdout",
     "output_type": "stream",
     "text": [
      "Name of the file:  myfile.txt\n",
      "Closed or not :  False\n",
      "Opening mode :  w+\n"
     ]
    }
   ],
   "source": [
    "fo = open(\"myfile.txt\", \"w+\")\n",
    "print (\"Name of the file: \", fo.name)\n",
    "print (\"Closed or not : \", fo.closed)\n",
    "print (\"Opening mode : \", fo.mode)\n",
    "fo.write(\"test string\");\n",
    "fo.close()"
   ]
  },
  {
   "cell_type": "code",
   "execution_count": null,
   "metadata": {},
   "outputs": [],
   "source": []
  }
 ],
 "metadata": {
  "kernelspec": {
   "display_name": "Python 3",
   "language": "python",
   "name": "python3"
  },
  "language_info": {
   "codemirror_mode": {
    "name": "ipython",
    "version": 3
   },
   "file_extension": ".py",
   "mimetype": "text/x-python",
   "name": "python",
   "nbconvert_exporter": "python",
   "pygments_lexer": "ipython3",
   "version": "3.6.8"
  }
 },
 "nbformat": 4,
 "nbformat_minor": 2
}
