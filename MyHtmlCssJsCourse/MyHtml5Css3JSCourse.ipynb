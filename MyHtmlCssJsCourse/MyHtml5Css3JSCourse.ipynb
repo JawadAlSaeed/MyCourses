{
 "cells": [
  {
   "cell_type": "markdown",
   "metadata": {},
   "source": [
    "# My HTML5, CSS3, and JavaScript Course"
   ]
  },
  {
   "cell_type": "markdown",
   "metadata": {},
   "source": [
    "## Git\n",
    "* [Git](../MyGitCourse/git.ipynb)"
   ]
  },
  {
   "cell_type": "markdown",
   "metadata": {},
   "source": [
    "## Free HTML5, CSS3, and JavaScrip Learning Resources\n",
    "\n",
    "* [W3C HTML5 Reference](https://dev.w3.org/html5/html-author)\n",
    "* [MDN Web Docs HTML5](https://developer.mozilla.org/en-US/docs/Web/Guide/HTML/HTML5)\n",
    "* [xxx](xxx)"
   ]
  },
  {
   "cell_type": "markdown",
   "metadata": {},
   "source": [
    "## HTML5\n",
    "\n",
    "* Elements and Attributes\n",
    "* Block-level vs Inline Elements\n",
    "* Divisions and Spans\n",
    "* Links\n",
    "* Images\n",
    "* Lists\n",
    "* Tables\n",
    "* Semantic Elements\n",
    "* Scripts\n",
    "* DOM\n",
    "* Forms\n",
    "* Grid Layouts\n",
    "* Fluid Layouts\n",
    "* Animations and Transitions\n",
    "* Video and Audio\n",
    "* Canvas\n",
    "* SVG\n",
    "* Drag and Drop\n",
    "* WebGL\n",
    "* Local and Session Storage\n",
    "* IndexedDB\n",
    "* Touch Events\n",
    "* MediaDevices\n",
    "* Device Orientation\n",
    "* Viewport Meta Tag\n",
    "* Web Workers\n",
    "* Web Sockets\n",
    "* WebRTC\n",
    "* Web Assembly\n",
    "* Babel and Webpack\n",
    "* HTML5 Responsive Design\n",
    "* HTML5 Accessibility"
   ]
  },
  {
   "cell_type": "markdown",
   "metadata": {},
   "source": [
    "## A Few Simple \n",
    "\n",
    "* ```<!DOCTYPE html>``` declaration specifies that this web page is an HTML5 document\n",
    "* ```<!-- comment... -->``` element specifies a comment (ignored by the browser)\n",
    "* ```<html>``` element is the root element of this document\n",
    "* ```<head>``` element contains meta information about this document\n",
    "* ```<title>``` element specifies a title for this document\n",
    "* ```<body>``` element contains the visible page content in this document\n",
    "* ```<h1>``` element defines a large heading\n",
    "* ```<p>``` element defines a paragraph"
   ]
  },
  {
   "cell_type": "markdown",
   "metadata": {},
   "source": [
    "## A Simple HTML Page\n",
    "\n",
    "1. Creating the following markup in file named firstHTML.html\n",
    "2. Open it in your web browser:\n",
    "\n",
    "```html\n",
    "<!DOCTYPE html>\n",
    "<!-- A Simple HTML Page -->\n",
    "<html>\n",
    "  <title>My HTML Page</title>\n",
    "  <body>\n",
    "    <h1>This is an h1 tag</h1>\n",
    "    <p>This is a p tag.</p>\n",
    "  </body>\n",
    "</html>\n",
    "```\n",
    "\n",
    "![firstHTML.html in browser](./img/firstHTML.png \"firstHTML.html in browser\")\n"
   ]
  },
  {
   "cell_type": "code",
   "execution_count": 1,
   "metadata": {},
   "outputs": [
    {
     "data": {
      "text/html": [
       "\n",
       "<h1>h1 heading</h1>\n",
       "<h2>h2 heading</h2>\n",
       "<h3>h3 heading</h3>\n",
       "<h4>h4 heading</h4>\n",
       "<h5>h5 heading</h5>\n",
       "<h6>h6 heading</h6>\n",
       "\n",
       "<h1 style=\"font-size:60px;\">h1 tag with 60px font-size</h1>\n"
      ],
      "text/plain": [
       "<IPython.core.display.HTML object>"
      ]
     },
     "metadata": {},
     "output_type": "display_data"
    }
   ],
   "source": [
    "%%html\n",
    "\n",
    "<h1>h1 heading</h1>\n",
    "<h2>h2 heading</h2>\n",
    "<h3>h3 heading</h3>\n",
    "<h4>h4 heading</h4>\n",
    "<h5>h5 heading</h5>\n",
    "<h6>h6 heading</h6>\n",
    "\n",
    "<h1 style=\"font-size:60px;\">h1 tag with 60px font-size</h1>\n"
   ]
  },
  {
   "cell_type": "code",
   "execution_count": 2,
   "metadata": {},
   "outputs": [
    {
     "data": {
      "text/html": [
       "\n",
       "<div style=\"background-color:yellow;\">\n",
       "<h1 style=\"color:blue;\">This is an h1 element</h1>\n",
       "<p style=\"text-align:center;font-family:courier;\">This is a p element.</p>\n",
       "</div>\n"
      ],
      "text/plain": [
       "<IPython.core.display.HTML object>"
      ]
     },
     "metadata": {},
     "output_type": "display_data"
    }
   ],
   "source": [
    "%%html\n",
    "\n",
    "<div style=\"background-color:yellow;\">\n",
    "<h1 style=\"color:blue;\">This is an h1 element</h1>\n",
    "<p style=\"text-align:center;font-family:courier;\">This is a p element.</p>\n",
    "</div>"
   ]
  },
  {
   "cell_type": "code",
   "execution_count": 3,
   "metadata": {},
   "outputs": [
    {
     "data": {
      "text/html": [
       "\n",
       "<p>This is a deleted element: <del>deleted</del>.</p>\n"
      ],
      "text/plain": [
       "<IPython.core.display.HTML object>"
      ]
     },
     "metadata": {},
     "output_type": "display_data"
    }
   ],
   "source": [
    "%%html\n",
    "\n",
    "<p>This is a deleted element: <del>deleted</del>.</p>"
   ]
  },
  {
   "cell_type": "markdown",
   "metadata": {},
   "source": [
    "## Anchor Element\n",
    "\n",
    "* See: [MDN Docs on the Anchor element:](https://developer.mozilla.org/en-US/docs/Web/HTML/Element/a)"
   ]
  },
  {
   "cell_type": "code",
   "execution_count": 4,
   "metadata": {},
   "outputs": [
    {
     "data": {
      "text/html": [
       "\n",
       "Click here: <a href=\"https://dev.w3.org/html5/html-author/\" target=\"_blank\">W3C HTML5 Reference</a>\n"
      ],
      "text/plain": [
       "<IPython.core.display.HTML object>"
      ]
     },
     "metadata": {},
     "output_type": "display_data"
    }
   ],
   "source": [
    "%%html\n",
    "\n",
    "Click here: <a href=\"https://dev.w3.org/html5/html-author/\" target=\"_blank\">W3C HTML5 Reference</a>"
   ]
  },
  {
   "cell_type": "code",
   "execution_count": 5,
   "metadata": {},
   "outputs": [
    {
     "data": {
      "text/html": [
       "\n",
       "<img src=\"https://upload.wikimedia.org/wikipedia/commons/thumb/6/68/Orange_tabby_cat_sitting_on_fallen_leaves-Hisashi-01A.jpg/180px-Orange_tabby_cat_sitting_on_fallen_leaves-Hisashi-01A.jpg\" alt=\"Orange tabby  cat\">\n"
      ],
      "text/plain": [
       "<IPython.core.display.HTML object>"
      ]
     },
     "metadata": {},
     "output_type": "display_data"
    }
   ],
   "source": [
    "%%html\n",
    "\n",
    "<img src=\"https://upload.wikimedia.org/wikipedia/commons/thumb/6/68/Orange_tabby_cat_sitting_on_fallen_leaves-Hisashi-01A.jpg/180px-Orange_tabby_cat_sitting_on_fallen_leaves-Hisashi-01A.jpg\" alt=\"Orange tabby  cat\">"
   ]
  },
  {
   "cell_type": "code",
   "execution_count": 7,
   "metadata": {},
   "outputs": [
    {
     "data": {
      "text/html": [
       "\n",
       "<ul>\n",
       "  <li>Red</li>\n",
       "  <li>Green</li>\n",
       "  <li>Blue</li>\n",
       "</ul>\n",
       "<ol>\n",
       "  <li>One</li>\n",
       "  <li>Two</li>\n",
       "  <li>Three</li>\n",
       "</ol>\n"
      ],
      "text/plain": [
       "<IPython.core.display.HTML object>"
      ]
     },
     "metadata": {},
     "output_type": "display_data"
    }
   ],
   "source": [
    "%%html\n",
    "\n",
    "<ul>\n",
    "  <li>Red</li>\n",
    "  <li>Green</li>\n",
    "  <li>Blue</li>\n",
    "</ul>\n",
    "<ol>\n",
    "  <li>One</li>\n",
    "  <li>Two</li>\n",
    "  <li>Three</li>\n",
    "</ol>"
   ]
  },
  {
   "cell_type": "code",
   "execution_count": 8,
   "metadata": {},
   "outputs": [
    {
     "data": {
      "text/html": [
       "\n",
       "<button onclick=\"handleClick()\">Click me</button>\n",
       "<div id=\"result\"></div>\n",
       "\n",
       "<script>\n",
       "function handleClick() {\n",
       "  var now = new Date();\n",
       "  document.getElementById(\"result\").innerHTML = \n",
       "    \"Date: \" + now.getFullYear() + '-' + (now.getMonth()+1) + '-'+ now.getDate() + \"<br>\" +\n",
       "    \"Time: \" + now.getHours() + \":\" + now.getMinutes() + \":\" + now.getSeconds();\n",
       "}\n",
       "</script>\n"
      ],
      "text/plain": [
       "<IPython.core.display.HTML object>"
      ]
     },
     "metadata": {},
     "output_type": "display_data"
    }
   ],
   "source": [
    "%%html\n",
    "\n",
    "<button onclick=\"handleClick()\">Click me</button>\n",
    "<div id=\"result\"></div>\n",
    "\n",
    "<script>\n",
    "function handleClick() {\n",
    "  var now = new Date();\n",
    "  document.getElementById(\"result\").innerHTML = \n",
    "    \"Date: \" + now.getFullYear() + '-' + (now.getMonth()+1) + '-'+ now.getDate() + \"<br>\" +\n",
    "    \"Time: \" + now.getHours() + \":\" + now.getMinutes() + \":\" + now.getSeconds();\n",
    "}\n",
    "</script>"
   ]
  },
  {
   "cell_type": "code",
   "execution_count": 9,
   "metadata": {},
   "outputs": [
    {
     "data": {
      "text/html": [
       "\n",
       "<p style=\"color:green\">This is a green p element.</p>\n"
      ],
      "text/plain": [
       "<IPython.core.display.HTML object>"
      ]
     },
     "metadata": {},
     "output_type": "display_data"
    }
   ],
   "source": [
    "%%html\n",
    "\n",
    "<p style=\"color:green\">This is a green p element.</p>"
   ]
  },
  {
   "cell_type": "code",
   "execution_count": 10,
   "metadata": {},
   "outputs": [
    {
     "data": {
      "text/html": [
       "\n",
       "Hover mouse over following element to see tooltip: <h1 title=\"This is a tooltip\">This is an h1 element.</h1>\n"
      ],
      "text/plain": [
       "<IPython.core.display.HTML object>"
      ]
     },
     "metadata": {},
     "output_type": "display_data"
    }
   ],
   "source": [
    "%%html\n",
    "\n",
    "Hover mouse over following element to see tooltip: <h1 title=\"This is a tooltip\">This is an h1 element.</h1>"
   ]
  },
  {
   "cell_type": "code",
   "execution_count": 29,
   "metadata": {},
   "outputs": [
    {
     "data": {
      "text/html": [
       "\n",
       "<canvas id=\"canvas1\" width=\"200\" height=\"200\" style=\"border:1px solid #000000;\">\n",
       "Your browser does not support the HTML5 canvas tag.</canvas>\n",
       "\n",
       "<script>\n",
       "var c = document.getElementById(\"canvas1\");\n",
       "var ctx = c.getContext(\"2d\");\n",
       "ctx.moveTo(0,0);\n",
       "ctx.lineTo(200,200);\n",
       "ctx.strokeStyle = '#ff0000';\n",
       "ctx.stroke();\n",
       "ctx.beginPath();\n",
       "ctx.arc(100, 100, 40, 0, 2 * Math.PI);\n",
       "ctx.strokeStyle = '#00ff00';\n",
       "ctx.stroke();\n",
       "ctx.font = \"20px Comic Sans MS\";\n",
       "ctx.fillStyle = '#0000ff';\n",
       "ctx.fillText(\"Hello Canvas\", 70, 50);\n",
       "</script>\n"
      ],
      "text/plain": [
       "<IPython.core.display.HTML object>"
      ]
     },
     "metadata": {},
     "output_type": "display_data"
    }
   ],
   "source": [
    "%%html\n",
    "\n",
    "<canvas id=\"canvas1\" width=\"200\" height=\"200\" style=\"border:1px solid #000000;\">\n",
    "Your browser does not support the HTML5 canvas tag.</canvas>\n",
    "\n",
    "<script>\n",
    "var c = document.getElementById(\"canvas1\");\n",
    "var ctx = c.getContext(\"2d\");\n",
    "ctx.moveTo(0,0);\n",
    "ctx.lineTo(200,200);\n",
    "ctx.strokeStyle = '#ff0000';\n",
    "ctx.stroke();\n",
    "ctx.beginPath();\n",
    "ctx.arc(100, 100, 40, 0, 2 * Math.PI);\n",
    "ctx.strokeStyle = '#00ff00';\n",
    "ctx.stroke();\n",
    "ctx.font = \"20px Comic Sans MS\";\n",
    "ctx.fillStyle = '#0000ff';\n",
    "ctx.fillText(\"Hello Canvas\", 70, 50);\n",
    "</script>"
   ]
  },
  {
   "cell_type": "code",
   "execution_count": 46,
   "metadata": {},
   "outputs": [
    {
     "data": {
      "text/html": [
       "<svg width='200' height='200' style=\"border:1px solid #000000;\">\n",
       "<rect x='100' y='40' width='80' height='80' style='fill: red;'></rect>\n",
       "<circle cx=\"50\" cy=\"50\" r=\"40\" stroke=\"green\" stroke-width=\"4\" fill=\"yellow\" />\n",
       "<ellipse cx=\"100\" cy=\"150\" rx=\"80\" ry=\"50\" style=\"fill:yellow;stroke:blue;stroke-width:2\" />\n",
       "<line x1=\"0\" y1=\"0\" x2=\"200\" y2=\"200\" style=\"stroke:rgb(255,0,0);stroke-width:5\" />\n",
       "<text x=\"100\" y=\"20\" fill=\"magenta\">Hello SVG</text>\n",
       "</svg>\n"
      ],
      "text/plain": [
       "<IPython.core.display.HTML object>"
      ]
     },
     "metadata": {},
     "output_type": "display_data"
    }
   ],
   "source": [
    "%%html\n",
    "\n",
    "<svg width='200' height='200' style=\"border:1px solid #000000;\">\n",
    "<rect x='100' y='40' width='80' height='80' style='fill: red;'></rect>\n",
    "<circle cx=\"50\" cy=\"50\" r=\"40\" stroke=\"green\" stroke-width=\"4\" fill=\"yellow\" />\n",
    "<ellipse cx=\"100\" cy=\"150\" rx=\"80\" ry=\"50\" style=\"fill:yellow;stroke:blue;stroke-width:2\" />\n",
    "<line x1=\"0\" y1=\"0\" x2=\"200\" y2=\"200\" style=\"stroke:rgb(255,0,0);stroke-width:5\" />\n",
    "<text x=\"100\" y=\"20\" fill=\"magenta\">Hello SVG</text>\n",
    "</svg>"
   ]
  },
  {
   "cell_type": "markdown",
   "metadata": {},
   "source": [
    "## CSS3\n",
    "\n",
    "* Selectors\n",
    "* Color\n",
    "* Gradient\n",
    "* Text\n",
    "* Font\n",
    "* Pseudo Classes and Pseudo Elements\n",
    "* Media Queries\n",
    "* Box Model\n",
    "* Multiple Column Layout\n",
    "* Grid Layout\n",
    "* Flexbox\n",
    "* Transforms\n",
    "* Transitions\n",
    "* Keyframe Animation"
   ]
  },
  {
   "cell_type": "markdown",
   "metadata": {},
   "source": [
    "## Browser DOM\n",
    "\n",
    "* [DOM Events]()"
   ]
  },
  {
   "cell_type": "markdown",
   "metadata": {},
   "source": [
    "## Browser APIs\n",
    "\n",
    "* DOM, AJAX, SPA, and CORS\n",
    "* Audio and Video\n",
    "* Cache\n",
    "* Fullscreen\n",
    "* Geolocation\n",
    "* Graphics\n",
    "* Notifications\n",
    "* Pointer Lock\n",
    "* Web Storage \n",
    "* IndexDB"
   ]
  },
  {
   "cell_type": "code",
   "execution_count": 15,
   "metadata": {},
   "outputs": [
    {
     "data": {
      "application/javascript": [
       "\n",
       "console.log(3+4) // output sent to console window (browser F12 Developer Tools)\n"
      ],
      "text/plain": [
       "<IPython.core.display.Javascript object>"
      ]
     },
     "metadata": {},
     "output_type": "display_data"
    }
   ],
   "source": [
    "%%javascript\n",
    "\n",
    "console.log(3+4) // output sent to console window (browser F12 Developer Tools)"
   ]
  },
  {
   "cell_type": "code",
   "execution_count": null,
   "metadata": {},
   "outputs": [],
   "source": []
  }
 ],
 "metadata": {
  "kernelspec": {
   "display_name": "Python 3",
   "language": "python",
   "name": "python3"
  },
  "language_info": {
   "codemirror_mode": {
    "name": "ipython",
    "version": 3
   },
   "file_extension": ".py",
   "mimetype": "text/x-python",
   "name": "python",
   "nbconvert_exporter": "python",
   "pygments_lexer": "ipython3",
   "version": "3.7.6"
  }
 },
 "nbformat": 4,
 "nbformat_minor": 4
}
