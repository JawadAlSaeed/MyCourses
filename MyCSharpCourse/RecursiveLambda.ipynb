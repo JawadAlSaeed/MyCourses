{
 "cells": [
  {
   "cell_type": "markdown",
   "metadata": {},
   "source": [
    "# Recursive Lambda"
   ]
  },
  {
   "cell_type": "code",
   "execution_count": 2,
   "metadata": {},
   "outputs": [
    {
     "name": "stdout",
     "output_type": "stream",
     "text": [
      "55\n",
      "55\n",
      "55\n"
     ]
    }
   ],
   "source": [
    "using System;\n",
    "\n",
    "class Program\n",
    "{\n",
    "    public static void Main()\n",
    "    {\n",
    "        int num = 10;\n",
    "        Console.WriteLine(AddUpToLoop(num));\n",
    "        Console.WriteLine(AddUpToRecursive(num, 0));\n",
    "        Func<int, int, int> AddUpToLambda = null;\n",
    "        AddUpToLambda = (num, sum) => { return num == 0 ? sum : AddUpToLambda(--num, sum + num + 1); };\n",
    "        Console.WriteLine(AddUpToLambda(num, 0));\n",
    "    }\n",
    "    \n",
    "    static int AddUpToLoop(int num)\n",
    "    {\n",
    "        int sum = 0;\n",
    "        for (int i = 1; i <= num; i++)\n",
    "        {\n",
    "            sum += i;\n",
    "        }\n",
    "        return sum;\n",
    "    }\n",
    "    \n",
    "    static int AddUpToRecursive(int num, int sum)\n",
    "    {\n",
    "        if (num == 0) return sum;\n",
    "        sum += num;\n",
    "        num--;\n",
    "        return AddUpToRecursive(num, sum);\n",
    "    }\n",
    "}\n",
    "\n",
    "Program.Main()"
   ]
  },
  {
   "cell_type": "code",
   "execution_count": null,
   "metadata": {},
   "outputs": [],
   "source": []
  }
 ],
 "metadata": {
  "kernelspec": {
   "display_name": ".NET (C#)",
   "language": "C#",
   "name": ".net-csharp"
  },
  "language_info": {
   "file_extension": ".cs",
   "mimetype": "text/x-csharp",
   "name": "C#",
   "pygments_lexer": "csharp",
   "version": "8.0"
  }
 },
 "nbformat": 4,
 "nbformat_minor": 4
}
