{
 "cells": [
  {
   "cell_type": "markdown",
   "metadata": {},
   "source": [
    "# AdventureWorks\n",
    "\n",
    "## Quickstart: Use Python to query a database in Azure SQL Database or Azure SQL Managed Instance\n",
    "https://docs.microsoft.com/en-us/azure/azure-sql/database/connect-query-python?tabs=windows\n",
    "\n",
    "Download and intall Microsoft ODBC Driver 17 for SQL Server (x64):\n",
    "https://docs.microsoft.com/en-us/sql/connect/odbc/download-odbc-driver-for-sql-server?view=sql-server-ver15#download-for-windows\n",
    "\n",
    "```\n",
    "\n",
    "conda install -c anaconda pyodbc\n",
    "```\n",
    "\n",
    "* Server: mhknbn2kdz.database.windows.net \n",
    "* Database: AdventureWorks2012\n",
    "* User: sqlfamily\n",
    "* Password: sqlf@m1ly"
   ]
  },
  {
   "cell_type": "code",
   "execution_count": 4,
   "metadata": {},
   "outputs": [
    {
     "name": "stdout",
     "output_type": "stream",
     "text": [
      "master 1\n",
      "AdventureWorks2012 5\n",
      "\n",
      "Abbas Syed\n",
      "Abel Catherine\n",
      "Abercrombie Kim\n",
      "Abercrombie Kim\n",
      "Abercrombie Kim\n",
      "Abolrous Hazem\n",
      "Abolrous Sam\n",
      "Acevedo Humberto\n",
      "Achong Gustavo\n",
      "Ackerman Pilar\n"
     ]
    }
   ],
   "source": [
    "import pyodbc\n",
    "\n",
    "server = 'mhknbn2kdz.database.windows.net'  # sever\n",
    "database = 'AdventureWorks2012'             # database\n",
    "username = 'sqlfamily'                      # username\n",
    "password = 'sqlf@m1ly'                      # password\n",
    "driver= '{ODBC Driver 17 for SQL Server}'\n",
    "cnxn = pyodbc.connect('DRIVER='+driver+';SERVER='+server+';PORT=1433;DATABASE='+database+';UID='+username+';PWD='+ password)\n",
    "cursor = cnxn.cursor()\n",
    "\n",
    "cursor.execute(\"SELECT name, database_id, create_date FROM sys.databases;\")\n",
    "row = cursor.fetchone()\n",
    "while row:\n",
    "    print (str(row[0]) + \" \" + str(row[1]))\n",
    "    row = cursor.fetchone()\n",
    "    \n",
    "print()\n",
    "\n",
    "cursor.execute(\"USE AdventureWorks2012;\")\n",
    "sql = \"SELECT TOP 10 LastName, FirstName FROM Person.Person\"\n",
    "cursor.execute(sql)\n",
    "results = cursor.fetchall()\n",
    "for row in results:\n",
    "    print(row[0], row[1])"
   ]
  },
  {
   "cell_type": "code",
   "execution_count": null,
   "metadata": {},
   "outputs": [],
   "source": []
  }
 ],
 "metadata": {
  "kernelspec": {
   "display_name": "Python 3",
   "language": "python",
   "name": "python3"
  },
  "language_info": {
   "codemirror_mode": {
    "name": "ipython",
    "version": 3
   },
   "file_extension": ".py",
   "mimetype": "text/x-python",
   "name": "python",
   "nbconvert_exporter": "python",
   "pygments_lexer": "ipython3",
   "version": "3.6.8"
  }
 },
 "nbformat": 4,
 "nbformat_minor": 4
}
