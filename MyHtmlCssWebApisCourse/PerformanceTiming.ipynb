{
 "cells": [
  {
   "cell_type": "markdown",
   "metadata": {},
   "source": [
    "# Performance Timing\n",
    "\n",
    "* MDN Performance API: https://developer.mozilla.org/en-US/docs/Web/API/Performance_API\n",
    "* Tutorial: https://blog.logrocket.com/how-to-practically-use-performance-api-to-measure-performance\n",
    "* W3C A Primer for Web Performance Timing: https://w3c.github.io/perf-timing-primer"
   ]
  },
  {
   "cell_type": "code",
   "execution_count": null,
   "metadata": {},
   "outputs": [],
   "source": []
  }
 ],
 "metadata": {
  "kernelspec": {
   "display_name": "Python 3",
   "language": "python",
   "name": "python3"
  },
  "language_info": {
   "codemirror_mode": {
    "name": "ipython",
    "version": 3
   },
   "file_extension": ".py",
   "mimetype": "text/x-python",
   "name": "python",
   "nbconvert_exporter": "python",
   "pygments_lexer": "ipython3",
   "version": "3.7.6"
  }
 },
 "nbformat": 4,
 "nbformat_minor": 4
}
