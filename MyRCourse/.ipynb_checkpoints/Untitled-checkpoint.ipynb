{
 "cells": [
  {
   "cell_type": "code",
   "execution_count": 4,
   "metadata": {},
   "outputs": [
    {
     "name": "stdout",
     "output_type": "stream",
     "text": [
      "[1] \"numeric\" \"numeric\" \"double\"  \"double\" \n",
      "[1] \"character\" \"character\" \"character\" \"character\"\n",
      "[1] \"logical\" \"logical\" \"logical\" \"logical\"\n",
      "[1] \"data.frame\" \"list\"       \"list\"       \"list\"      \n",
      "[1] \"data.frame\" \"list\"       \"list\"       \"list\"      \n",
      "[1] \"numeric\" \"numeric\" \"double\"  \"double\" \n",
      "[1] \"matrix\" \"list\"   \"list\"   \"list\"  \n",
      "[1] \"environment\" \"environment\" \"environment\" \"environment\"\n",
      "[1] \"expression\" \"expression\" \"expression\" \"expression\"\n",
      "[1] \"<-\"       \"call\"     \"language\" \"language\"\n",
      "[1] \"function\" \"function\" \"function\" \"closure\" \n"
     ]
    }
   ],
   "source": [
    "x <- 1\n",
    "print(c(class(x), mode(x), storage.mode(x), typeof(x)))\n",
    "\n",
    "x <- letters\n",
    "print(c(class(x), mode(x), storage.mode(x), typeof(x)))\n",
    "\n",
    "x <- TRUE\n",
    "print(c(class(x), mode(x), storage.mode(x), typeof(x)))\n",
    "\n",
    "x <- cars\n",
    "print(c(class(x), mode(x), storage.mode(x), typeof(x)))\n",
    "\n",
    "x <- cars[1]\n",
    "print(c(class(x), mode(x), storage.mode(x), typeof(x)))\n",
    "\n",
    "x <- cars[[1]]\n",
    "print(c(class(x), mode(x), storage.mode(x), typeof(x)))\n",
    "\n",
    "x <- matrix(cars)\n",
    "print(c(class(x), mode(x), storage.mode(x), typeof(x)))\n",
    "\n",
    "x <- new.env()\n",
    "print(c(class(x), mode(x), storage.mode(x), typeof(x)))\n",
    "\n",
    "x <- expression(1 + 1)\n",
    "print(c(class(x), mode(x), storage.mode(x), typeof(x)))\n",
    "\n",
    "x <- quote(y <- 1 + 1)\n",
    "print(c(class(x), mode(x), storage.mode(x), typeof(x)))\n",
    "\n",
    "x <- ls\n",
    "print(c(class(x), mode(x), storage.mode(x), typeof(x)))"
   ]
  },
  {
   "cell_type": "code",
   "execution_count": null,
   "metadata": {},
   "outputs": [],
   "source": []
  }
 ],
 "metadata": {
  "kernelspec": {
   "display_name": "R",
   "language": "R",
   "name": "ir"
  },
  "language_info": {
   "codemirror_mode": "r",
   "file_extension": ".r",
   "mimetype": "text/x-r-source",
   "name": "R",
   "pygments_lexer": "r",
   "version": "3.4.3"
  }
 },
 "nbformat": 4,
 "nbformat_minor": 2
}
