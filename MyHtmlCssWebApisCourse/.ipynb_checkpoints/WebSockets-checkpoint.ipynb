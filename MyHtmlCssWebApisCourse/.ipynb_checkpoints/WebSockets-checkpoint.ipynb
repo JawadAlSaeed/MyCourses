{
 "cells": [
  {
   "cell_type": "markdown",
   "metadata": {},
   "source": [
    "# Web Sockets\n",
    "\n",
    "* MDN Docs The WebSocket API: https://developer.mozilla.org/en-US/docs/Web/API/WebSockets_API\n",
    "* HTML5 Rocks Introducing WebSockets: https://www.html5rocks.com/en/tutorials/websockets/basics\n",
    "* HTML5 Rocks WebSockets Demos: ttps://www.html5rocks.com/en/features/connectivity\n",
    "* WHATWG Sepecification Web sockets: https://html.spec.whatwg.org/multipage/web-sockets.html"
   ]
  },
  {
   "cell_type": "code",
   "execution_count": null,
   "metadata": {},
   "outputs": [],
   "source": []
  }
 ],
 "metadata": {
  "kernelspec": {
   "display_name": "Python 3",
   "language": "python",
   "name": "python3"
  },
  "language_info": {
   "codemirror_mode": {
    "name": "ipython",
    "version": 3
   },
   "file_extension": ".py",
   "mimetype": "text/x-python",
   "name": "python",
   "nbconvert_exporter": "python",
   "pygments_lexer": "ipython3",
   "version": "3.7.6"
  }
 },
 "nbformat": 4,
 "nbformat_minor": 4
}
