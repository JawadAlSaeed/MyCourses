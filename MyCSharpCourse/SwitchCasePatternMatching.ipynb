{
 "cells": [
  {
   "cell_type": "markdown",
   "metadata": {},
   "source": [
    "# Switch Case with Pattern Matching"
   ]
  },
  {
   "cell_type": "code",
   "execution_count": 3,
   "metadata": {},
   "outputs": [
    {
     "name": "stdout",
     "output_type": "stream",
     "text": [
      "The value was the number 1\n",
      "The value was another number: 42\n",
      "The value was of an unknown type: 3.141592\n",
      "The value was of an unknown type: 3.141592\n",
      "The value was of an unknown type: 3.141592\n",
      "The value was the number 0\n",
      "The value was the following text: hello\n",
      "The value was the number 1\n",
      "The value was of an unknown type: 3.141592\n",
      "The value was the number 1\n",
      "The value was the number 0\n",
      "The value was of an unknown type: 3.141592\n",
      "The value was of an unknown type: 3.141592\n",
      "The value was the number 0\n",
      "The value was the number 1\n",
      "The value was of an unknown type: 3.141592\n",
      "The value was the number 0\n",
      "The value was another number: 42\n",
      "The value was the number 0\n",
      "The value was another number: 42\n"
     ]
    }
   ],
   "source": [
    "using System;\n",
    "class Program\n",
    "{\n",
    "    public static void Main()\n",
    "    {\n",
    "        for (int i = 0; i < 20; i++)\n",
    "        {\n",
    "            object value = GetValueFromSomewhere();\n",
    "            \n",
    "            switch (value)\n",
    "            {\n",
    "                case 0:\n",
    "                    Console.WriteLine(\"The value was the number 0\"); break;\n",
    "                case 1:\n",
    "                    Console.WriteLine(\"The value was the number 1\"); break;\n",
    "                case int number:\n",
    "                    Console.WriteLine(\"The value was another number: \" + number); break;\n",
    "                case string text:\n",
    "                    Console.WriteLine(\"The value was the following text: \" + text); break;\n",
    "                case var unknownType:\n",
    "                    Console.WriteLine(\"The value was of an unknown type: \" + unknownType.ToString()); break;\n",
    "            }\n",
    "        }\n",
    "    }\n",
    "    \n",
    "    static Random random = new Random();\n",
    "    \n",
    "    static object GetValueFromSomewhere()\n",
    "    {\n",
    "        switch (random.Next(0, 5))\n",
    "        {\n",
    "            case 0: return 0;\n",
    "            case 1: return 1;\n",
    "            case 2: return 42;\n",
    "            case 3: return \"hello\";\n",
    "            case 4: return 3.141592;\n",
    "            default: return null;    // never get here but this is required to avoid compiler error\n",
    "        }\n",
    "    }\n",
    "}\n",
    "\n",
    "Program.Main();"
   ]
  },
  {
   "cell_type": "code",
   "execution_count": null,
   "metadata": {},
   "outputs": [],
   "source": []
  }
 ],
 "metadata": {
  "kernelspec": {
   "display_name": ".NET (C#)",
   "language": "C#",
   "name": ".net-csharp"
  },
  "language_info": {
   "file_extension": ".cs",
   "mimetype": "text/x-csharp",
   "name": "C#",
   "pygments_lexer": "csharp",
   "version": "8.0"
  }
 },
 "nbformat": 4,
 "nbformat_minor": 4
}
