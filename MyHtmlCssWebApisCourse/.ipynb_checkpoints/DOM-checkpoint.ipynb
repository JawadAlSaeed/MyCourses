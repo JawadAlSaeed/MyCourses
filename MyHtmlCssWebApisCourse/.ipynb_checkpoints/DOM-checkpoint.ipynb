{
 "cells": [
  {
   "cell_type": "markdown",
   "metadata": {},
   "source": [
    "# DOM\n",
    "\n",
    "The Document Object Model is a hierarchy (tree) of JavaScript node objects that encapsulate HTML elements."
   ]
  },
  {
   "cell_type": "markdown",
   "metadata": {},
   "source": [
    "## Navigator Object Properties\n",
    "\n",
    "* ```appCodeName``` Returns the code name of the browser\n",
    "* ```appName``` Returns the name of the browser\n",
    "* ```appVersion``` Returns the version information of the browser\n",
    "* ```cookieEnabled``` Determines whether cookies are enabled in the browser\n",
    "* ```geolocation``` Returns a Geolocation object that can be used to locate the user's position\n",
    "* ```language``` Returns the language of the browser\n",
    "* ```onLine``` Determines whether the browser is online\n",
    "* ```platform``` Returns for which platform the browser is compiled\n",
    "* ```product``` Returns the engine name of the browser\n",
    "* ```userAgent``` Returns the user-agent header sent by the browser to the server"
   ]
  },
  {
   "cell_type": "code",
   "execution_count": 1,
   "metadata": {},
   "outputs": [
    {
     "data": {
      "text/html": [
       "\n",
       "<ul id=\"navigator_properties\">\n",
       "</ul>\n",
       "\n",
       "<script type=\"text/javascript\">\n",
       "function addListItem(text) {\n",
       "    var list_item = document.createElement(\"li\");\n",
       "    list_item.appendChild(document.createTextNode(text));\n",
       "    document.getElementById(\"navigator_properties\").appendChild(list_item);\n",
       "}\n",
       "addListItem(\"navigator.appCodeName: \" + navigator.appCodeName);\n",
       "addListItem(\"navigator.appName: \" + navigator.appName);\n",
       "addListItem(\"navigator.appVersion: \" + navigator.appVersion);\n",
       "addListItem(\"navigator.cookieEnabled: \" + navigator.cookieEnabled);\n",
       "addListItem(\"navigator.geolocation: \" + navigator.geolocation);\n",
       "addListItem(\"navigator.language: \" + navigator.language);\n",
       "addListItem(\"navigator.onLine: \" + navigator.onLine);\n",
       "addListItem(\"navigator.platform: \" + navigator.platform);\n",
       "addListItem(\"navigator.product: \" + navigator.product);\n",
       "addListItem(\"navigator.userAgent: \" + navigator.userAgent);\n",
       "</script>\n"
      ],
      "text/plain": [
       "<IPython.core.display.HTML object>"
      ]
     },
     "metadata": {},
     "output_type": "display_data"
    }
   ],
   "source": [
    "%%html\n",
    "\n",
    "<ul id=\"navigator_properties\">\n",
    "</ul>\n",
    "\n",
    "<script type=\"text/javascript\">\n",
    "function addListItem(text) {\n",
    "    var list_item = document.createElement(\"li\");\n",
    "    list_item.appendChild(document.createTextNode(text));\n",
    "    document.getElementById(\"navigator_properties\").appendChild(list_item);\n",
    "}\n",
    "addListItem(\"navigator.appCodeName: \" + navigator.appCodeName);\n",
    "addListItem(\"navigator.appName: \" + navigator.appName);\n",
    "addListItem(\"navigator.appVersion: \" + navigator.appVersion);\n",
    "addListItem(\"navigator.cookieEnabled: \" + navigator.cookieEnabled);\n",
    "addListItem(\"navigator.geolocation: \" + navigator.geolocation);\n",
    "addListItem(\"navigator.language: \" + navigator.language);\n",
    "addListItem(\"navigator.onLine: \" + navigator.onLine);\n",
    "addListItem(\"navigator.platform: \" + navigator.platform);\n",
    "addListItem(\"navigator.product: \" + navigator.product);\n",
    "addListItem(\"navigator.userAgent: \" + navigator.userAgent);\n",
    "</script>"
   ]
  },
  {
   "cell_type": "markdown",
   "metadata": {},
   "source": [
    "## Browser APIs\n",
    "\n",
    "* DOM, AJAX, SPA, and CORS\n",
    "* Audio and Video\n",
    "* Cache\n",
    "* Fullscreen\n",
    "* Geolocation\n",
    "* Graphics\n",
    "* Notifications\n",
    "* Pointer Lock\n",
    "* Web Storage \n",
    "* IndexDB"
   ]
  },
  {
   "cell_type": "code",
   "execution_count": 4,
   "metadata": {},
   "outputs": [
    {
     "data": {
      "application/javascript": [
       "\n",
       "var x = prompt(\"Enter any keyboard input then hit enter (see console output)\")\n",
       "console.log(\"You entered: \" + x)\n"
      ],
      "text/plain": [
       "<IPython.core.display.Javascript object>"
      ]
     },
     "metadata": {},
     "output_type": "display_data"
    }
   ],
   "source": [
    "%%javascript\n",
    "\n",
    "var x = prompt(\"Enter any keyboard input then hit enter (see console output)\")\n",
    "console.log(\"You entered: \" + x)"
   ]
  },
  {
   "cell_type": "code",
   "execution_count": 5,
   "metadata": {},
   "outputs": [
    {
     "data": {
      "application/javascript": [
       "\n",
       "var x = confirm(\"Confirm: OK or Cancel (see console output)\");\n",
       "console.log(\"You confirmed: \" + x);\n"
      ],
      "text/plain": [
       "<IPython.core.display.Javascript object>"
      ]
     },
     "metadata": {},
     "output_type": "display_data"
    }
   ],
   "source": [
    "%%javascript\n",
    "\n",
    "var x = confirm(\"Confirm: OK or Cancel (see console output)\");\n",
    "console.log(\"You confirmed: \" + x);"
   ]
  },
  {
   "cell_type": "markdown",
   "metadata": {},
   "source": [
    "* ```Document.getElementById()``` gets element by its id attribute (which should be unique in the document)\n",
    "* ```Element.innerHTML``` provides get/set access to the HTML content in the element"
   ]
  },
  {
   "cell_type": "code",
   "execution_count": 4,
   "metadata": {},
   "outputs": [
    {
     "data": {
      "text/html": [
       "\n",
       "<h1 id=\"div1\" style=\"color:red\">Hello</h1>\n",
       "<script type=\"text/javascript\">\n",
       "    var div1 = document.getElementById(\"div1\");\n",
       "    div1.innerHTML += ' World';\n",
       "</script>\n"
      ],
      "text/plain": [
       "<IPython.core.display.HTML object>"
      ]
     },
     "metadata": {},
     "output_type": "display_data"
    }
   ],
   "source": [
    "%%html\n",
    "\n",
    "<h1 id=\"div1\" style=\"color:red\">Hello</h1>\n",
    "<script type=\"text/javascript\">\n",
    "    var div1 = document.getElementById(\"div1\");\n",
    "    div1.innerHTML += ' World';\n",
    "</script>"
   ]
  },
  {
   "cell_type": "markdown",
   "metadata": {},
   "source": [
    "* ```Document.getElementsByTagName()``` returns an HTMLCollection of descendant elements with the given tag name\n",
    "* ```HTMLCollection``` interface represents a generic array-like collection of elements in document order"
   ]
  },
  {
   "cell_type": "code",
   "execution_count": 5,
   "metadata": {},
   "outputs": [
    {
     "data": {
      "text/html": [
       "\n",
       "<div id='div_getElementsByTagName'>\n",
       "<p>This is a p element</p>\n",
       "<p>This is another p element</p>\n",
       "</div>\n",
       "<input type=\"button\" onclick=\"btnClicked()\" value=\"Click to see alert boxes showing p elements\" />\n",
       "<script type=\"text/javascript\">\n",
       "    function btnClicked() {\n",
       "        var pElements = div_getElementsByTagName.getElementsByTagName(\"p\");\n",
       "        for (let pel of pElements) {\n",
       "            console.log(pel.innerHTML);\n",
       "        }\n",
       "    }\n",
       "</script>\n"
      ],
      "text/plain": [
       "<IPython.core.display.HTML object>"
      ]
     },
     "metadata": {},
     "output_type": "display_data"
    }
   ],
   "source": [
    "%%html\n",
    "\n",
    "<div id='div_getElementsByTagName'>\n",
    "<p>This is a p element</p>\n",
    "<p>This is another p element</p>\n",
    "</div>\n",
    "<input type=\"button\" onclick=\"btnClicked()\" value=\"Click to see alert boxes showing p elements\" />\n",
    "<script type=\"text/javascript\">\n",
    "    function btnClicked() {\n",
    "        var pElements = div_getElementsByTagName.getElementsByTagName(\"p\");\n",
    "        for (let pel of pElements) {\n",
    "            console.log(pel.innerHTML);\n",
    "        }\n",
    "    }\n",
    "</script>"
   ]
  },
  {
   "cell_type": "markdown",
   "metadata": {},
   "source": [
    "## DOM Events"
   ]
  },
  {
   "cell_type": "markdown",
   "metadata": {},
   "source": [
    "* ```EventTarget.addEventListener()``` sets a callback function to be called when the event is delivered to the target\n",
    "* Common targets are ```Element```, ```Document```, and ```Window```\n",
    "* The target can actually be any object that supports events such as XMLHttpRequest."
   ]
  },
  {
   "cell_type": "code",
   "execution_count": 6,
   "metadata": {},
   "outputs": [
    {
     "data": {
      "text/html": [
       "\n",
       "<input type=\"button\" id=\"btnClick\" value=\"Click here\" />\n",
       "<script type=\"text/javascript\">\n",
       "    document.getElementById(\"btnClick\").addEventListener(\"click\", clicked);\n",
       "    function clicked() {\n",
       "        alert(\"You clicked the button\");\n",
       "    }\n",
       "</script>\n"
      ],
      "text/plain": [
       "<IPython.core.display.HTML object>"
      ]
     },
     "metadata": {},
     "output_type": "display_data"
    }
   ],
   "source": [
    "%%html\n",
    "\n",
    "<input type=\"button\" id=\"btnClick\" value=\"Click here\" />\n",
    "<script type=\"text/javascript\">\n",
    "    document.getElementById(\"btnClick\").addEventListener(\"click\", clicked);\n",
    "    function clicked() {\n",
    "        alert(\"You clicked the button\");\n",
    "    }\n",
    "</script>"
   ]
  },
  {
   "cell_type": "markdown",
   "metadata": {},
   "source": [
    "## The setTimeout() Method\n",
    "\n",
    "* The ```setTimeout()``` method is a global function that sets a timer which executes code when the timer expires\n",
    "* The first argument is the function to be executed after the timer expires\n",
    "* The second argument is the optional time delay in milliseconds\n",
    "* Additional optional arguments are passed through to the function specified by the first argument"
   ]
  },
  {
   "cell_type": "code",
   "execution_count": 7,
   "metadata": {},
   "outputs": [
    {
     "data": {
      "text/html": [
       "\n",
       "<button onclick=\"setTimeout(onTimeout, 2000, 'Howdy', 'Sally');\">Set timeout</button>\n",
       "\n",
       "<script>\n",
       "function onTimeout(param1, param2) {\n",
       "  alert(param1 + \" \" + param2);\n",
       "}\n",
       "</script>\n"
      ],
      "text/plain": [
       "<IPython.core.display.HTML object>"
      ]
     },
     "metadata": {},
     "output_type": "display_data"
    }
   ],
   "source": [
    "%%html\n",
    "\n",
    "<button onclick=\"setTimeout(onTimeout, 2000, 'Howdy', 'Sally');\">Set timeout</button>\n",
    "\n",
    "<script>\n",
    "function onTimeout(param1, param2) {\n",
    "  alert(param1 + \" \" + param2);\n",
    "}\n",
    "</script>"
   ]
  },
  {
   "cell_type": "markdown",
   "metadata": {},
   "source": [
    "## The ```setInterval()``` and ```clearInterval()``` Methods\n",
    "\n",
    "* These are methods defined in the Window and Worker interfaces\n",
    "* Repeatedly  executes code with a fixed time interval between successive calls\n",
    "* Returns an interval ID that uniquely identifies the interval used to later remove it with a call to clearInterval()"
   ]
  },
  {
   "cell_type": "code",
   "execution_count": 24,
   "metadata": {},
   "outputs": [
    {
     "data": {
      "text/html": [
       "\n",
       "<button id=\"btnSetInterval\" onclick=\"onClickSetInterval()\">Set interval</button>\n",
       "<button id=\"btnClearInterval\" onclick=\"onClickClearInterval()\" disabled>Clear interval</button>\n",
       "<p>Time: <span id='divTimer'>0</span> seconds</p>\n",
       "<script>\n",
       "    var intervalId;\n",
       "    var counter = 0;\n",
       "    function onClickSetInterval() {\n",
       "        btnSetInterval.disabled = !btnSetInterval.disabled;\n",
       "        btnClearInterval.disabled = !btnClearInterval.disabled;\n",
       "        //console.log('onClickSetInterval');\n",
       "        intervalId = setInterval(() => onIntervalEvent(), 1000);\n",
       "    }\n",
       "    function onClickClearInterval() {\n",
       "        btnSetInterval.disabled = !btnSetInterval.disabled;\n",
       "        btnClearInterval.disabled = !btnClearInterval.disabled;\n",
       "        //console.log('onClickClearInterval');\n",
       "        counter = 0;\n",
       "        divTimer.innerHTML = counter;\n",
       "        clearInterval(intervalId);\n",
       "    }\n",
       "    function onIntervalEvent() {\n",
       "        //console.log('onIntervalEvent');\n",
       "        counter++;\n",
       "        divTimer.innerHTML = counter;\n",
       "    }\n",
       "</script>\n"
      ],
      "text/plain": [
       "<IPython.core.display.HTML object>"
      ]
     },
     "metadata": {},
     "output_type": "display_data"
    }
   ],
   "source": [
    "%%html\n",
    "\n",
    "<button id=\"btnSetInterval\" onclick=\"onClickSetInterval()\">Set interval</button>\n",
    "<button id=\"btnClearInterval\" onclick=\"onClickClearInterval()\" disabled>Clear interval</button>\n",
    "<p>Time: <span id='divTimer'>0</span> seconds</p>\n",
    "<script>\n",
    "    var intervalId;\n",
    "    var counter = 0;\n",
    "    function onClickSetInterval() {\n",
    "        btnSetInterval.disabled = !btnSetInterval.disabled;\n",
    "        btnClearInterval.disabled = !btnClearInterval.disabled;\n",
    "        //console.log('onClickSetInterval');\n",
    "        intervalId = setInterval(() => onIntervalEvent(), 1000);\n",
    "    }\n",
    "    function onClickClearInterval() {\n",
    "        btnSetInterval.disabled = !btnSetInterval.disabled;\n",
    "        btnClearInterval.disabled = !btnClearInterval.disabled;\n",
    "        //console.log('onClickClearInterval');\n",
    "        counter = 0;\n",
    "        divTimer.innerHTML = counter;\n",
    "        clearInterval(intervalId);\n",
    "    }\n",
    "    function onIntervalEvent() {\n",
    "        //console.log('onIntervalEvent');\n",
    "        counter++;\n",
    "        divTimer.innerHTML = counter;\n",
    "    }\n",
    "</script>"
   ]
  },
  {
   "cell_type": "markdown",
   "metadata": {},
   "source": [
    "## Catching ```DOMException``` in the Browser\n",
    "\n",
    "* The ```DOMException``` object encapsulates errors in the browser DOM API\n",
    "* The following demo calls ```Document.createAttribute()``` to create a new attribute node\n",
    "* If you try to create an attribute with an invalid name it throws a ```DOMException``` error\n",
    "* Buttons are provided to create attributes (one with valid namd and one with invalid name)\n",
    "* You can see the success/failure of creating the new attribute in the F12 Dev Tools console\n",
    "* When the attribute is created successfully and applied to the ```div```, it's CSS color change to red\n",
    "* To reset back to the original CSS color of the ```div```, just refrech your browser\n",
    "* Note: The CSS may be nessed up in Jupyter notebook but you could copy/paste into html file and view it directly in your web browser as a stand-alone web page"
   ]
  },
  {
   "cell_type": "code",
   "execution_count": 27,
   "metadata": {},
   "outputs": [
    {
     "data": {
      "text/html": [
       "\n",
       "<html>\n",
       "<head>\n",
       "    <script type=\"text/javascript\">\n",
       "        function mayThrowDOMException (attributeName) {\n",
       "            try {\n",
       "                var node = document.getElementById(\"div1\");\n",
       "                // following throws DOMException error if name of new attribute is invalid\n",
       "                var attrib = document.createAttribute(attributeName);\n",
       "                attrib.value = \"***my cool attribute value***\";\n",
       "                node.setAttributeNode(attrib);\n",
       "                console.log(node.getAttribute(attributeName));\n",
       "            }\n",
       "            catch (e) {\n",
       "                if (e.code == DOMException.INVALID_CHARACTER_ERR) {\n",
       "                    console.log(attributeName, \"Bad: invalid attribute name\");\n",
       "                }\n",
       "                return;\n",
       "            }\n",
       "            // If we get here then there was no error thrown\n",
       "            console.log(attributeName, \"Good: valid attribute name\");\n",
       "        }\n",
       "    </script>\n",
       "    <style>\n",
       "        div[foo123] {color:red;} /* attribute  selector */\n",
       "    </style>\n",
       "</head>\n",
       "<body>\n",
       "    <p>Open browser F12 Dev Tools to see <code>console.log()</code> output</p>\n",
       "    <p>Click \"Throw DOM Exception\" and see console \"123 Bad: invalid attribute name\" (*** div color unchanged)</p>\n",
       "    <p>Click \"Don't Throw DOM Exception\" and see console \"foo123 Good: valid attribute name\" (*** div color should change to red as long as other css ru;es that me be active do not interfere with it)\"</p>\n",
       "    <p>To reset the div red css style back to original black, just refresh your browser</p>\n",
       "    <button onclick=\"mayThrowDOMException ('123')\">Throw DOM Exception</button>\n",
       "    <button onclick=\"mayThrowDOMException ('foo123')\">Don't Throw DOM Exception</button>\n",
       "    <div id=\"div1\">***</div>\n",
       "</body>\n",
       "</html>\n"
      ],
      "text/plain": [
       "<IPython.core.display.HTML object>"
      ]
     },
     "metadata": {},
     "output_type": "display_data"
    }
   ],
   "source": [
    "%%html\n",
    "\n",
    "<html>\n",
    "<head>\n",
    "    <script type=\"text/javascript\">\n",
    "        function mayThrowDOMException (attributeName) {\n",
    "            try {\n",
    "                var node = document.getElementById(\"div1\");\n",
    "                // following throws DOMException error if name of new attribute is invalid\n",
    "                var attrib = document.createAttribute(attributeName);\n",
    "                attrib.value = \"***my cool attribute value***\";\n",
    "                node.setAttributeNode(attrib);\n",
    "                console.log(node.getAttribute(attributeName));\n",
    "            }\n",
    "            catch (e) {\n",
    "                if (e.code == DOMException.INVALID_CHARACTER_ERR) {\n",
    "                    console.log(attributeName, \"Bad: invalid attribute name\");\n",
    "                }\n",
    "                return;\n",
    "            }\n",
    "            // If we get here then there was no error thrown\n",
    "            console.log(attributeName, \"Good: valid attribute name\");\n",
    "        }\n",
    "    </script>\n",
    "    <style>\n",
    "        div[foo123] {color:red;} /* attribute  selector */\n",
    "    </style>\n",
    "</head>\n",
    "<body>\n",
    "    <p>Open browser F12 Dev Tools to see <code>console.log()</code> output</p>\n",
    "    <p>Click \"Throw DOM Exception\" and see console \"123 Bad: invalid attribute name\" (*** div color unchanged)</p>\n",
    "    <p>Click \"Don't Throw DOM Exception\" and see console \"foo123 Good: valid attribute name\" (*** div color should change to red as long as other css ru;es that me be active do not interfere with it)\"</p>\n",
    "    <p>To reset the div red css style back to original black, just refresh your browser</p>\n",
    "    <button onclick=\"mayThrowDOMException ('123')\">Throw DOM Exception</button>\n",
    "    <button onclick=\"mayThrowDOMException ('foo123')\">Don't Throw DOM Exception</button>\n",
    "    <div id=\"div1\">***</div>\n",
    "</body>\n",
    "</html>"
   ]
  },
  {
   "cell_type": "code",
   "execution_count": null,
   "metadata": {},
   "outputs": [],
   "source": []
  }
 ],
 "metadata": {
  "kernelspec": {
   "display_name": "Python 3",
   "language": "python",
   "name": "python3"
  },
  "language_info": {
   "codemirror_mode": {
    "name": "ipython",
    "version": 3
   },
   "file_extension": ".py",
   "mimetype": "text/x-python",
   "name": "python",
   "nbconvert_exporter": "python",
   "pygments_lexer": "ipython3",
   "version": "3.7.6"
  }
 },
 "nbformat": 4,
 "nbformat_minor": 4
}
